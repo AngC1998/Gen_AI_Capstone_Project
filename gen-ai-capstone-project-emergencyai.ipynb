{
 "cells": [
  {
   "cell_type": "markdown",
   "id": "90c9ff93",
   "metadata": {
    "papermill": {
     "duration": 0.005211,
     "end_time": "2025-04-20T00:11:30.782743",
     "exception": false,
     "start_time": "2025-04-20T00:11:30.777532",
     "status": "completed"
    },
    "tags": []
   },
   "source": [
    "# EmergencyZIP AI"
   ]
  },
  {
   "cell_type": "markdown",
   "id": "6f3500a3",
   "metadata": {
    "papermill": {
     "duration": 0.003894,
     "end_time": "2025-04-20T00:11:30.791066",
     "exception": false,
     "start_time": "2025-04-20T00:11:30.787172",
     "status": "completed"
    },
    "tags": []
   },
   "source": [
    "## Intro\n",
    "\n",
    "As a Data Scientist in Healthcare with 2+ years of industry and work experience, one of the valuable pieces of knowledge that I learned on the job is that Zipcode (Postal Code) is indeed an important factor in determining an individual's health status (thus, wherever the individual lives can determine how healthy or unhealthy an individual can be). Also, healthcare, especially the quality of healthcare, is also an important factor in determining the standard of life of an area as well. However, many people may not be familiar with all the medical facilities that their area may provide or may not know the best one to go to based on what illness or medical condition that they may experience now. Thus, I created the EmergencyZIP AI to help individuals determine the best medical facilities to attend based on the symptoms or conditions that they may be experiencing right now, and to take greater consideration of zipcode/postal code as one of the most important factors of an individual's health status. \n",
    "\n",
    "## Use Case and Solution Approach\n",
    "\n",
    "Individuals may want to know or curious about what current illness or medical condition that they may be facing at the moment, and the nearest and most appropriate medical facilities in their area that can best treat their illness or condition. I created EmergencyZip AI to utilize AI capabilities to not only inform the individual of what illness or condition that they may be facing now, but also inform the individual of the nearest appropriate medical facilities that can best treat the patient with great consideration of the zipcode/postal code as one of the most important factors of an individual's health status. \n",
    "\n",
    "## Process\n",
    "\n",
    "The AI utilizes Structured Output/JSON Mode/Controlled Generation, Few-Shot Prompting, and Grounding to operate. First, it uses JSON Mode to process patient demographic information and structures it to a formalized JSON form (just like filling out a patient form to receive medical care except simplier and more abstract). Then it utilizes Few-Shot Prompting and Structured Output/Controlled Generation to create a formalized request for the AI. Then it utilizes grounding to provide the best and most accurate potential diagnosis for the individual based on the current symptoms/conditions that the individual is facing now. Then using the diagnosis and the current zipcode of the individaul (the AI uses Few-Shot Prompting to extract the zipcode of the individual from the JSON form), the AI finds the nearest and best medical facilities that can treat the individual for the diagnosed illness or condition using grounding. The AI also utilizes grounding to inform the individual payment and insurance plan options that the suggested medical facilities can accept as payment for the treatment. \n",
    "\n",
    "## Innovation/Novelty\n",
    "\n",
    "While the internet is a powerful tool to use to research medical facilities available in the area, with so many search results provided, it can be messy and overwhelming at times to find the best medical facility for treatment of illnesses and medical conditions or even know what actual/potential illness or medical condition that the individual may be facing. With EmergencyZIP AI, the responses provided are tailored and focused only on the individual and the potential illness or medical condition that they are facing now. Also while doctors usually do a great job with diagnosing patients, there could be human bias or error that can be involved in the diagnosis process, so the AI takes in consideration of these potential biases (taking in consideration of patient demographic information) and gives the most accurate diagnosis as possible without being biased. "
   ]
  },
  {
   "cell_type": "markdown",
   "id": "27b6b774",
   "metadata": {
    "papermill": {
     "duration": 0.003929,
     "end_time": "2025-04-20T00:11:30.799084",
     "exception": false,
     "start_time": "2025-04-20T00:11:30.795155",
     "status": "completed"
    },
    "tags": []
   },
   "source": [
    "### Importing Relevant Libraries and Technologies \n",
    "\n",
    "I set up Gemini API to implement my AI (the code also retrieves the API Key from Kaggle Secrets to retrieve the Google API that makes it possible for the AI to work) and imported the Pandas and Random libraries (and other unnamed libraries) to do my test run to check if the AI works as intended or not. "
   ]
  },
  {
   "cell_type": "code",
   "execution_count": 1,
   "id": "eb8deb4b",
   "metadata": {
    "_cell_guid": "b1076dfc-b9ad-4769-8c92-a6c4dae69d19",
    "_uuid": "8f2839f25d086af736a60e9eeb907d3b93b6e0e5",
    "execution": {
     "iopub.execute_input": "2025-04-20T00:11:30.808443Z",
     "iopub.status.busy": "2025-04-20T00:11:30.808129Z",
     "iopub.status.idle": "2025-04-20T00:11:31.805214Z",
     "shell.execute_reply": "2025-04-20T00:11:31.803689Z"
    },
    "papermill": {
     "duration": 1.003999,
     "end_time": "2025-04-20T00:11:31.807187",
     "exception": false,
     "start_time": "2025-04-20T00:11:30.803188",
     "status": "completed"
    },
    "tags": []
   },
   "outputs": [
    {
     "name": "stdout",
     "output_type": "stream",
     "text": [
      "/kaggle/input/patient-symptom-dataset/patient_symptom_data.csv\n"
     ]
    }
   ],
   "source": [
    "# This Python 3 environment comes with many helpful analytics libraries installed\n",
    "# It is defined by the kaggle/python Docker image: https://github.com/kaggle/docker-python\n",
    "# For example, here's several helpful packages to load\n",
    "\n",
    "import numpy as np # linear algebra\n",
    "import pandas as pd # data processing, CSV file I/O (e.g. pd.read_csv)\n",
    "import random\n",
    "\n",
    "# Input data files are available in the read-only \"../input/\" directory\n",
    "# For example, running this (by clicking run or pressing Shift+Enter) will list all files under the input directory\n",
    "\n",
    "import os\n",
    "for dirname, _, filenames in os.walk('/kaggle/input'):\n",
    "    for filename in filenames:\n",
    "        print(os.path.join(dirname, filename))\n",
    "\n",
    "# You can write up to 20GB to the current directory (/kaggle/working/) that gets preserved as output when you create a version using \"Save & Run All\" \n",
    "# You can also write temporary files to /kaggle/temp/, but they won't be saved outside of the current session"
   ]
  },
  {
   "cell_type": "markdown",
   "id": "466c6f0d",
   "metadata": {
    "papermill": {
     "duration": 0.004095,
     "end_time": "2025-04-20T00:11:31.816283",
     "exception": false,
     "start_time": "2025-04-20T00:11:31.812188",
     "status": "completed"
    },
    "tags": []
   },
   "source": [
    "The cell below removes any irrelevant libraries that may conflict with the Google Generative AI capabilities and install the Google Gemini Generative AI package"
   ]
  },
  {
   "cell_type": "code",
   "execution_count": 2,
   "id": "20e25bcb",
   "metadata": {
    "execution": {
     "iopub.execute_input": "2025-04-20T00:11:31.826347Z",
     "iopub.status.busy": "2025-04-20T00:11:31.825822Z",
     "iopub.status.idle": "2025-04-20T00:11:39.934002Z",
     "shell.execute_reply": "2025-04-20T00:11:39.932153Z"
    },
    "papermill": {
     "duration": 8.115611,
     "end_time": "2025-04-20T00:11:39.936089",
     "exception": false,
     "start_time": "2025-04-20T00:11:31.820478",
     "status": "completed"
    },
    "tags": []
   },
   "outputs": [
    {
     "name": "stdout",
     "output_type": "stream",
     "text": [
      "\u001b[2K   \u001b[90m━━━━━━━━━━━━━━━━━━━━━━━━━━━━━━━━━━━━━━━━\u001b[0m \u001b[32m144.7/144.7 kB\u001b[0m \u001b[31m3.7 MB/s\u001b[0m eta \u001b[36m0:00:00\u001b[0m\r\n",
      "\u001b[2K   \u001b[90m━━━━━━━━━━━━━━━━━━━━━━━━━━━━━━━━━━━━━━━━\u001b[0m \u001b[32m100.9/100.9 kB\u001b[0m \u001b[31m4.7 MB/s\u001b[0m eta \u001b[36m0:00:00\u001b[0m\r\n",
      "\u001b[?25h"
     ]
    }
   ],
   "source": [
    "!pip uninstall -qqy jupyterlab  # Remove unused packages from Kaggle's base image that conflict\n",
    "!pip install -U -q \"google-genai==1.7.0\""
   ]
  },
  {
   "cell_type": "markdown",
   "id": "23a56be8",
   "metadata": {
    "papermill": {
     "duration": 0.004218,
     "end_time": "2025-04-20T00:11:39.945654",
     "exception": false,
     "start_time": "2025-04-20T00:11:39.941436",
     "status": "completed"
    },
    "tags": []
   },
   "source": [
    "Install all relevant libraries for the Google Generative AI capabilities"
   ]
  },
  {
   "cell_type": "code",
   "execution_count": 3,
   "id": "fe1f6820",
   "metadata": {
    "execution": {
     "iopub.execute_input": "2025-04-20T00:11:39.956033Z",
     "iopub.status.busy": "2025-04-20T00:11:39.955692Z",
     "iopub.status.idle": "2025-04-20T00:11:41.129169Z",
     "shell.execute_reply": "2025-04-20T00:11:41.127833Z"
    },
    "papermill": {
     "duration": 1.180812,
     "end_time": "2025-04-20T00:11:41.130892",
     "exception": false,
     "start_time": "2025-04-20T00:11:39.950080",
     "status": "completed"
    },
    "tags": []
   },
   "outputs": [],
   "source": [
    "from google import genai\n",
    "from google.genai import types\n",
    "\n",
    "from IPython.display import HTML, Markdown, display"
   ]
  },
  {
   "cell_type": "code",
   "execution_count": 4,
   "id": "891ebd61",
   "metadata": {
    "execution": {
     "iopub.execute_input": "2025-04-20T00:11:41.142193Z",
     "iopub.status.busy": "2025-04-20T00:11:41.141491Z",
     "iopub.status.idle": "2025-04-20T00:11:41.427090Z",
     "shell.execute_reply": "2025-04-20T00:11:41.425817Z"
    },
    "papermill": {
     "duration": 0.292845,
     "end_time": "2025-04-20T00:11:41.428841",
     "exception": false,
     "start_time": "2025-04-20T00:11:41.135996",
     "status": "completed"
    },
    "tags": []
   },
   "outputs": [],
   "source": [
    "from google.api_core import retry\n",
    "\n",
    "\n",
    "is_retriable = lambda e: (isinstance(e, genai.errors.APIError) and e.code in {429, 503})\n",
    "\n",
    "genai.models.Models.generate_content = retry.Retry(\n",
    "    predicate=is_retriable)(genai.models.Models.generate_content)"
   ]
  },
  {
   "cell_type": "markdown",
   "id": "c2da3b46",
   "metadata": {
    "papermill": {
     "duration": 0.005262,
     "end_time": "2025-04-20T00:11:41.439148",
     "exception": false,
     "start_time": "2025-04-20T00:11:41.433886",
     "status": "completed"
    },
    "tags": []
   },
   "source": [
    "Retrieve the Google API Key from Kaggle Secrets to make possible for the AI to work in this code."
   ]
  },
  {
   "cell_type": "code",
   "execution_count": 5,
   "id": "f9d0ee2d",
   "metadata": {
    "execution": {
     "iopub.execute_input": "2025-04-20T00:11:41.449884Z",
     "iopub.status.busy": "2025-04-20T00:11:41.449310Z",
     "iopub.status.idle": "2025-04-20T00:11:41.742918Z",
     "shell.execute_reply": "2025-04-20T00:11:41.741460Z"
    },
    "papermill": {
     "duration": 0.301941,
     "end_time": "2025-04-20T00:11:41.745767",
     "exception": false,
     "start_time": "2025-04-20T00:11:41.443826",
     "status": "completed"
    },
    "tags": []
   },
   "outputs": [],
   "source": [
    "from kaggle_secrets import UserSecretsClient\n",
    "\n",
    "GOOGLE_API_KEY = UserSecretsClient().get_secret(\"GOOGLE_API_KEY\")"
   ]
  },
  {
   "cell_type": "code",
   "execution_count": 6,
   "id": "97d68f0b",
   "metadata": {
    "execution": {
     "iopub.execute_input": "2025-04-20T00:11:41.757161Z",
     "iopub.status.busy": "2025-04-20T00:11:41.756790Z",
     "iopub.status.idle": "2025-04-20T00:11:42.069902Z",
     "shell.execute_reply": "2025-04-20T00:11:42.067883Z"
    },
    "papermill": {
     "duration": 0.321116,
     "end_time": "2025-04-20T00:11:42.072343",
     "exception": false,
     "start_time": "2025-04-20T00:11:41.751227",
     "status": "completed"
    },
    "tags": []
   },
   "outputs": [],
   "source": [
    "client = genai.Client(api_key=GOOGLE_API_KEY)"
   ]
  },
  {
   "cell_type": "markdown",
   "id": "f1b58482",
   "metadata": {
    "papermill": {
     "duration": 0.004259,
     "end_time": "2025-04-20T00:11:42.081639",
     "exception": false,
     "start_time": "2025-04-20T00:11:42.077380",
     "status": "completed"
    },
    "tags": []
   },
   "source": [
    "## Generative AI Capabilities Used and Reasoning \n",
    "\n",
    "These are the 3 Generative AI Capabilities Used in this AI and why they are used in this AI: \n",
    "* **Structured Output/JSON Mode/Controlled Generation**: For JSON Mode, I want to somewhat mimic the forms that patients fill out when they are requesting care from a medical facility, but simplier and more abstract. For Structured Output and Controlled Generation, I want my responses to be as accurate and precise as possible where creativity may not be required but accuracy is definitely required to get the best responses as possible.\n",
    "* **Few-Shot Prompting**: First of all, I want to create requests for the AI to know who it is providing information for, but I want the formatting of the requests to be as consistent as possible so that the information does not get muddled up which would make things more difficult for the AI to process and provide information for. Then, I also want to extract the zipcode from the JSON form, but sometimes the AI can hallucinate and return irrelevant or incorrect information, so I want the let the AI know how to return the zipcode correctly.\n",
    "* **Grounding**: This is the central capability of the AI since the AI is responsible for finding all the relevant possible nearest locations to the patient based on postal code/zipcode. Since we are exploring so many zipcodes and it is possible that the AI does not know every zipcode or medical facilities per zipcode, we need to rely on external sources to get the best answers possible. However, since we don't have a document listing out every medical facility per zipcode or all zipcodes, we would need to rely on the internet to give us answers. "
   ]
  },
  {
   "cell_type": "markdown",
   "id": "2a810b95",
   "metadata": {
    "papermill": {
     "duration": 0.004091,
     "end_time": "2025-04-20T00:11:42.090110",
     "exception": false,
     "start_time": "2025-04-20T00:11:42.086019",
     "status": "completed"
    },
    "tags": []
   },
   "source": [
    "### Generative AI Capability #1: Structured Output/JSON Mode/Controlled Generation"
   ]
  },
  {
   "cell_type": "markdown",
   "id": "4fbd4e4f",
   "metadata": {
    "papermill": {
     "duration": 0.004524,
     "end_time": "2025-04-20T00:11:42.099125",
     "exception": false,
     "start_time": "2025-04-20T00:11:42.094601",
     "status": "completed"
    },
    "tags": []
   },
   "source": [
    "#### JSON Mode\n",
    "\n",
    "I created a Python class MedicalPatients to format the JSON form as a simple and abstract patient form, and then I created a get_json_form function that takes in an entry (in this test case, it's a Pandas dataframe entry/row) and structure it to a JSON form as structured in the MedicalPatient class. \n",
    "\n",
    "##### get_json_form function: \n",
    "\n",
    "**Description**: Function takes in an entry (in this case, a Pandas dataframe row) and structures the information provided into a formalized JSON form as structured in the MedicalPatients class. \n",
    "\n",
    "**Input**: ***patient_symptom_entry***: Dataframe Pandas row (for now) of all information needed to be processed as JSON form \n",
    "\n",
    "**Output**: ***json_form***: String of formalized JSON form"
   ]
  },
  {
   "cell_type": "code",
   "execution_count": 7,
   "id": "ae8a5342",
   "metadata": {
    "execution": {
     "iopub.execute_input": "2025-04-20T00:11:42.110851Z",
     "iopub.status.busy": "2025-04-20T00:11:42.110466Z",
     "iopub.status.idle": "2025-04-20T00:11:42.118241Z",
     "shell.execute_reply": "2025-04-20T00:11:42.116076Z"
    },
    "papermill": {
     "duration": 0.015349,
     "end_time": "2025-04-20T00:11:42.120178",
     "exception": false,
     "start_time": "2025-04-20T00:11:42.104829",
     "status": "completed"
    },
    "tags": []
   },
   "outputs": [],
   "source": [
    "import typing_extensions as typing\n",
    "\n",
    "class MedicalPatient(typing.TypedDict): \n",
    "    zipcode: int\n",
    "    age: int\n",
    "    gender: str\n",
    "    symptoms: list[str]\n",
    "\n",
    "def get_json_form(patient_symptom_entry): \n",
    "    entry_str = patient_symptom_entry.to_string()\n",
    "    json_response = client.models.generate_content(\n",
    "        model='gemini-2.0-flash', \n",
    "        config=types.GenerateContentConfig(\n",
    "            temperature=0.1, \n",
    "            response_mime_type=\"application/json\", \n",
    "            response_schema=MedicalPatient\n",
    "        ), \n",
    "        contents=entry_str\n",
    "    )\n",
    "    json_form = json_response.text\n",
    "    return json_form"
   ]
  },
  {
   "cell_type": "markdown",
   "id": "30f535be",
   "metadata": {
    "papermill": {
     "duration": 0.004852,
     "end_time": "2025-04-20T00:11:42.131339",
     "exception": false,
     "start_time": "2025-04-20T00:11:42.126487",
     "status": "completed"
    },
    "tags": []
   },
   "source": [
    "#### Structured Output/Controlled Generation\n",
    "\n",
    "**Description**: I created the get_general_model_config function to return a Gemini-generated output based on the temperature, top_p, and maximum number of tokens to return inputs.\n",
    "\n",
    "**Input**: \n",
    "* ***temperature***: double that reflects the degree of randomness in selecting tokens for output\n",
    "* ***top_p***: double that is the maximum culmulative probability that the model can reach to select tokens as candidates\n",
    "* ***max_output_tokens***: int that indicates the maximum number of tokens that should be provided and included in the input\n",
    "\n",
    "**Output**: ***str_output***: String of Gemini-generated output based on input parameters provided"
   ]
  },
  {
   "cell_type": "code",
   "execution_count": 8,
   "id": "4f47120a",
   "metadata": {
    "execution": {
     "iopub.execute_input": "2025-04-20T00:11:42.143414Z",
     "iopub.status.busy": "2025-04-20T00:11:42.143059Z",
     "iopub.status.idle": "2025-04-20T00:11:42.147607Z",
     "shell.execute_reply": "2025-04-20T00:11:42.146268Z"
    },
    "papermill": {
     "duration": 0.011876,
     "end_time": "2025-04-20T00:11:42.148973",
     "exception": false,
     "start_time": "2025-04-20T00:11:42.137097",
     "status": "completed"
    },
    "tags": []
   },
   "outputs": [],
   "source": [
    "def get_general_model_config(temperature, top_p, max_output_tokens): \n",
    "    str_output = types.GenerateContentConfig(\n",
    "        temperature=temperature, \n",
    "        top_p=top_p, \n",
    "        max_output_tokens=max_output_tokens\n",
    "    )\n",
    "    return str_output"
   ]
  },
  {
   "cell_type": "markdown",
   "id": "10d74ed5",
   "metadata": {
    "papermill": {
     "duration": 0.004256,
     "end_time": "2025-04-20T00:11:42.158043",
     "exception": false,
     "start_time": "2025-04-20T00:11:42.153787",
     "status": "completed"
    },
    "tags": []
   },
   "source": [
    "### Generative AI Capability #2: Few-Shot Prompting\n",
    "\n",
    "**Description**: I created the few_shot_func function to implement the few-shot prompting AI capability as code\n",
    "\n",
    "**Input**: \n",
    "* ***model_input***: String that is the input (e.g. a JSON form) that the model takes in consideration of to provide an output response\n",
    "* ***prompt***: String that is the input prompt to provide to the Gemini model to provide a response for; in few-shot prompting, the input prompt provides a few examples with their expected responses to the Gemini model so that the Gemini models knows what to produce for their output format-wise and what their output should look like\n",
    "* ***config***: Python method that is configuration to be used for the Gemini model to produce output (*refer to get_general_model_config as example of Python method to use as possible parameter value*)\n",
    "\n",
    "**Output**: ***str_output***: String of Gemini-generated output based on input parameters provided"
   ]
  },
  {
   "cell_type": "code",
   "execution_count": 9,
   "id": "4c9f9388",
   "metadata": {
    "execution": {
     "iopub.execute_input": "2025-04-20T00:11:42.167711Z",
     "iopub.status.busy": "2025-04-20T00:11:42.167293Z",
     "iopub.status.idle": "2025-04-20T00:11:42.171394Z",
     "shell.execute_reply": "2025-04-20T00:11:42.170644Z"
    },
    "papermill": {
     "duration": 0.011253,
     "end_time": "2025-04-20T00:11:42.173359",
     "exception": false,
     "start_time": "2025-04-20T00:11:42.162106",
     "status": "completed"
    },
    "tags": []
   },
   "outputs": [],
   "source": [
    "def few_shot_func(model_input, prompt, config): \n",
    "    few_shot_response = client.models.generate_content(\n",
    "        model='gemini-2.0-flash', \n",
    "        config=config,\n",
    "        contents=[prompt, model_input]\n",
    "    )\n",
    "    str_response = few_shot_response.text\n",
    "    return str_response"
   ]
  },
  {
   "cell_type": "markdown",
   "id": "501e3de0",
   "metadata": {
    "papermill": {
     "duration": 0.004533,
     "end_time": "2025-04-20T00:11:42.183588",
     "exception": false,
     "start_time": "2025-04-20T00:11:42.179055",
     "status": "completed"
    },
    "tags": []
   },
   "source": [
    "### Generative AI Capability #3: Grounding\n",
    "\n",
    "**Description**: I created the grounding_func function to implement the grounding AI capability as code\n",
    "\n",
    "**Input**: ***input_prompt***: String that is the input prompt to provide to the Gemini model to provide a response for\n",
    "\n",
    "**Output**: ***str_response***: String that is the output provided by the Gemini model as response to the input prompt"
   ]
  },
  {
   "cell_type": "code",
   "execution_count": 10,
   "id": "df5fac7d",
   "metadata": {
    "execution": {
     "iopub.execute_input": "2025-04-20T00:11:42.194129Z",
     "iopub.status.busy": "2025-04-20T00:11:42.193792Z",
     "iopub.status.idle": "2025-04-20T00:11:42.198859Z",
     "shell.execute_reply": "2025-04-20T00:11:42.197601Z"
    },
    "papermill": {
     "duration": 0.013212,
     "end_time": "2025-04-20T00:11:42.201671",
     "exception": false,
     "start_time": "2025-04-20T00:11:42.188459",
     "status": "completed"
    },
    "tags": []
   },
   "outputs": [],
   "source": [
    "def grounding_func(input_prompt): \n",
    "    config_with_search = types.GenerateContentConfig(\n",
    "        tools=[types.Tool(google_search=types.GoogleSearch())],\n",
    "    )\n",
    "    response = client.models.generate_content(\n",
    "        model='gemini-2.0-flash', \n",
    "        contents=input_prompt, \n",
    "        config=config_with_search,\n",
    "    )\n",
    "    rc = response.candidates[0]\n",
    "    str_response = rc.content.parts[0].text\n",
    "    return str_response"
   ]
  },
  {
   "cell_type": "markdown",
   "id": "4714a8a2",
   "metadata": {
    "papermill": {
     "duration": 0.005528,
     "end_time": "2025-04-20T00:11:42.212531",
     "exception": false,
     "start_time": "2025-04-20T00:11:42.207003",
     "status": "completed"
    },
    "tags": []
   },
   "source": [
    "## EmergencyZIP AI Test Run\n",
    "\n",
    "Kaggle Notebooks seem to not work or do well with Python input, so instead, we generated a dataset of patients with relevant demographic information and their symptoms through ChatGPT (so the dataset below is ChatGPT-generated), and then the code picks a random patient to test run the AI to make sure it actually works as intended. "
   ]
  },
  {
   "cell_type": "code",
   "execution_count": 11,
   "id": "50bdb454",
   "metadata": {
    "execution": {
     "iopub.execute_input": "2025-04-20T00:11:42.223449Z",
     "iopub.status.busy": "2025-04-20T00:11:42.222982Z",
     "iopub.status.idle": "2025-04-20T00:11:42.271964Z",
     "shell.execute_reply": "2025-04-20T00:11:42.270339Z"
    },
    "papermill": {
     "duration": 0.05671,
     "end_time": "2025-04-20T00:11:42.274033",
     "exception": false,
     "start_time": "2025-04-20T00:11:42.217323",
     "status": "completed"
    },
    "tags": []
   },
   "outputs": [
    {
     "data": {
      "text/html": [
       "<div>\n",
       "<style scoped>\n",
       "    .dataframe tbody tr th:only-of-type {\n",
       "        vertical-align: middle;\n",
       "    }\n",
       "\n",
       "    .dataframe tbody tr th {\n",
       "        vertical-align: top;\n",
       "    }\n",
       "\n",
       "    .dataframe thead th {\n",
       "        text-align: right;\n",
       "    }\n",
       "</style>\n",
       "<table border=\"1\" class=\"dataframe\">\n",
       "  <thead>\n",
       "    <tr style=\"text-align: right;\">\n",
       "      <th></th>\n",
       "      <th>PatientID</th>\n",
       "      <th>ZipCode</th>\n",
       "      <th>Age</th>\n",
       "      <th>Gender</th>\n",
       "      <th>Symptoms</th>\n",
       "    </tr>\n",
       "  </thead>\n",
       "  <tbody>\n",
       "    <tr>\n",
       "      <th>0</th>\n",
       "      <td>P001</td>\n",
       "      <td>70112</td>\n",
       "      <td>32</td>\n",
       "      <td>Female</td>\n",
       "      <td>Joint pain;Runny nose;Loss of taste;Sore throat</td>\n",
       "    </tr>\n",
       "    <tr>\n",
       "      <th>1</th>\n",
       "      <td>P002</td>\n",
       "      <td>15213</td>\n",
       "      <td>87</td>\n",
       "      <td>Female</td>\n",
       "      <td>Cough;Fever;Fatigue;Chest pain;Joint pain</td>\n",
       "    </tr>\n",
       "    <tr>\n",
       "      <th>2</th>\n",
       "      <td>P003</td>\n",
       "      <td>46201</td>\n",
       "      <td>21</td>\n",
       "      <td>Non-binary</td>\n",
       "      <td>Swelling;Blurred vision;Rash</td>\n",
       "    </tr>\n",
       "    <tr>\n",
       "      <th>3</th>\n",
       "      <td>P004</td>\n",
       "      <td>20001</td>\n",
       "      <td>46</td>\n",
       "      <td>Male</td>\n",
       "      <td>Chest tightness;Sneezing;Fever;Breathing diffi...</td>\n",
       "    </tr>\n",
       "    <tr>\n",
       "      <th>4</th>\n",
       "      <td>P005</td>\n",
       "      <td>96813</td>\n",
       "      <td>38</td>\n",
       "      <td>Non-binary</td>\n",
       "      <td>Vomiting;Headache;Runny nose;Chest pain;Breath...</td>\n",
       "    </tr>\n",
       "    <tr>\n",
       "      <th>...</th>\n",
       "      <td>...</td>\n",
       "      <td>...</td>\n",
       "      <td>...</td>\n",
       "      <td>...</td>\n",
       "      <td>...</td>\n",
       "    </tr>\n",
       "    <tr>\n",
       "      <th>95</th>\n",
       "      <td>P096</td>\n",
       "      <td>92101</td>\n",
       "      <td>71</td>\n",
       "      <td>Non-binary</td>\n",
       "      <td>Low-grade fever;Joint pain;Headache</td>\n",
       "    </tr>\n",
       "    <tr>\n",
       "      <th>96</th>\n",
       "      <td>P097</td>\n",
       "      <td>20001</td>\n",
       "      <td>80</td>\n",
       "      <td>Female</td>\n",
       "      <td>Vomiting;Abdominal cramps;Chest tightness;Abdo...</td>\n",
       "    </tr>\n",
       "    <tr>\n",
       "      <th>97</th>\n",
       "      <td>P098</td>\n",
       "      <td>85001</td>\n",
       "      <td>77</td>\n",
       "      <td>Female</td>\n",
       "      <td>Loss of smell;Abdominal pain</td>\n",
       "    </tr>\n",
       "    <tr>\n",
       "      <th>98</th>\n",
       "      <td>P099</td>\n",
       "      <td>84101</td>\n",
       "      <td>90</td>\n",
       "      <td>Non-binary</td>\n",
       "      <td>Fatigue;Blurred vision</td>\n",
       "    </tr>\n",
       "    <tr>\n",
       "      <th>99</th>\n",
       "      <td>P100</td>\n",
       "      <td>20001</td>\n",
       "      <td>35</td>\n",
       "      <td>Male</td>\n",
       "      <td>Cough;Headache;Abdominal pain</td>\n",
       "    </tr>\n",
       "  </tbody>\n",
       "</table>\n",
       "<p>100 rows × 5 columns</p>\n",
       "</div>"
      ],
      "text/plain": [
       "   PatientID  ZipCode  Age      Gender  \\\n",
       "0       P001    70112   32      Female   \n",
       "1       P002    15213   87      Female   \n",
       "2       P003    46201   21  Non-binary   \n",
       "3       P004    20001   46        Male   \n",
       "4       P005    96813   38  Non-binary   \n",
       "..       ...      ...  ...         ...   \n",
       "95      P096    92101   71  Non-binary   \n",
       "96      P097    20001   80      Female   \n",
       "97      P098    85001   77      Female   \n",
       "98      P099    84101   90  Non-binary   \n",
       "99      P100    20001   35        Male   \n",
       "\n",
       "                                             Symptoms  \n",
       "0     Joint pain;Runny nose;Loss of taste;Sore throat  \n",
       "1           Cough;Fever;Fatigue;Chest pain;Joint pain  \n",
       "2                        Swelling;Blurred vision;Rash  \n",
       "3   Chest tightness;Sneezing;Fever;Breathing diffi...  \n",
       "4   Vomiting;Headache;Runny nose;Chest pain;Breath...  \n",
       "..                                                ...  \n",
       "95                Low-grade fever;Joint pain;Headache  \n",
       "96  Vomiting;Abdominal cramps;Chest tightness;Abdo...  \n",
       "97                       Loss of smell;Abdominal pain  \n",
       "98                             Fatigue;Blurred vision  \n",
       "99                      Cough;Headache;Abdominal pain  \n",
       "\n",
       "[100 rows x 5 columns]"
      ]
     },
     "execution_count": 11,
     "metadata": {},
     "output_type": "execute_result"
    }
   ],
   "source": [
    "patient_symptom_df = pd.read_csv('/kaggle/input/patient-symptom-dataset/patient_symptom_data.csv')\n",
    "patient_symptom_df"
   ]
  },
  {
   "cell_type": "markdown",
   "id": "af580b02",
   "metadata": {
    "papermill": {
     "duration": 0.004207,
     "end_time": "2025-04-20T00:11:42.283745",
     "exception": false,
     "start_time": "2025-04-20T00:11:42.279538",
     "status": "completed"
    },
    "tags": []
   },
   "source": [
    "We utilize the randint function from the Random library to select a random patient to process information and provide responses for. We then call the get_json_form method to have the AI mimic filling out a patient form in a simple and abstract way. "
   ]
  },
  {
   "cell_type": "code",
   "execution_count": 12,
   "id": "0685c18e",
   "metadata": {
    "execution": {
     "iopub.execute_input": "2025-04-20T00:11:42.295963Z",
     "iopub.status.busy": "2025-04-20T00:11:42.295621Z",
     "iopub.status.idle": "2025-04-20T00:11:43.988490Z",
     "shell.execute_reply": "2025-04-20T00:11:43.986967Z"
    },
    "papermill": {
     "duration": 1.7012,
     "end_time": "2025-04-20T00:11:43.990297",
     "exception": false,
     "start_time": "2025-04-20T00:11:42.289097",
     "status": "completed"
    },
    "tags": []
   },
   "outputs": [
    {
     "name": "stdout",
     "output_type": "stream",
     "text": [
      "{\n",
      "\"zipcode\": 55414,\n",
      "\"age\": 37,\n",
      "\"gender\": \"Non-binary\",\n",
      "\"symptoms\": [\"Palpitations\", \"Wheezing\"]\n",
      "}\n"
     ]
    }
   ],
   "source": [
    "patient_index = random.randint(0, 99)\n",
    "patient_json_form = get_json_form(patient_symptom_df.iloc[patient_index])\n",
    "print(patient_json_form)"
   ]
  },
  {
   "cell_type": "code",
   "execution_count": 13,
   "id": "9a9e4226",
   "metadata": {
    "execution": {
     "iopub.execute_input": "2025-04-20T00:11:44.001733Z",
     "iopub.status.busy": "2025-04-20T00:11:44.001343Z",
     "iopub.status.idle": "2025-04-20T00:11:45.494168Z",
     "shell.execute_reply": "2025-04-20T00:11:45.492979Z"
    },
    "papermill": {
     "duration": 1.50065,
     "end_time": "2025-04-20T00:11:45.496271",
     "exception": false,
     "start_time": "2025-04-20T00:11:43.995621",
     "status": "completed"
    },
    "tags": []
   },
   "outputs": [
    {
     "name": "stdout",
     "output_type": "stream",
     "text": [
      "\"37-year old non-binary patient from zipcode 55414 currently experiencing symptoms of palpitations and wheezing.\"\n",
      "\n"
     ]
    }
   ],
   "source": [
    "model_config = get_general_model_config(0.1, 1, 500)\n",
    "\n",
    "few_shot_prompt = \"\"\"Parse JSON into a string request and only return output: \n",
    "\n",
    "EXAMPLE: \n",
    "{\n",
    "\"zipcode\": 78664, \n",
    "\"age\": 30, \n",
    "\"gender\": \"Female\", \n",
    "\"symptoms\": [\"Cough\", \"Fever\", \"Sore throat\"]\n",
    "}\n",
    "\"30-year old female patient from zipcode 78664 currently experiencing symptoms of cough, fever, and sore throat.\"\n",
    "\n",
    "EXAMPLE: \n",
    "{\n",
    "\"zipcode\": 77055, \n",
    "\"age\": 25, \n",
    "\"gender\": \"Non-binary\", \n",
    "\"symptoms\": [\"Joint pain\", \"Loss of smell\"]\n",
    "}\n",
    "\"25-year old non-binary patient from zipcode 77055 currently experiencing symptoms of joint pain and loss of smell.\"\n",
    "\n",
    "EXAMPLE: \n",
    "{\n",
    "\"zipcode\": 78681, \n",
    "\"age\": 15, \n",
    "\"gender\" \"Male\", \n",
    "\"symptoms\": [\"Fatigue\", \"Loss of Vision\", \"Headache\", \"Joint pain\"]\n",
    "}\n",
    "\"15-year old male patient from zipcode 78681 currently experiencing symptoms of fatigue, loss of vision, headache, and joint pain.\"\n",
    "\"\"\"\n",
    "\n",
    "patient_medical_request = few_shot_func(patient_json_form, few_shot_prompt, model_config)\n",
    "print(patient_medical_request)"
   ]
  },
  {
   "cell_type": "code",
   "execution_count": 14,
   "id": "a64c7e41",
   "metadata": {
    "execution": {
     "iopub.execute_input": "2025-04-20T00:11:45.507383Z",
     "iopub.status.busy": "2025-04-20T00:11:45.507094Z",
     "iopub.status.idle": "2025-04-20T00:11:48.177812Z",
     "shell.execute_reply": "2025-04-20T00:11:48.177077Z"
    },
    "papermill": {
     "duration": 2.677462,
     "end_time": "2025-04-20T00:11:48.179197",
     "exception": false,
     "start_time": "2025-04-20T00:11:45.501735",
     "status": "completed"
    },
    "tags": []
   },
   "outputs": [
    {
     "data": {
      "text/markdown": [
       "Based on the information provided and the search results, the most likely condition this patient is experiencing is **asthma**.\n",
       "\n",
       "Here's why:\n",
       "\n",
       "*   **Common Symptoms:** Palpitations and wheezing are both symptoms associated with asthma.\n",
       "*   **Age:** While asthma can occur at any age, new-onset asthma or changes in asthma symptoms can occur in adults.\n",
       "*   **Other Considerations:** While other conditions can cause these symptoms (anxiety, heart conditions, thyroid issues), asthma is a common respiratory condition that directly explains both palpitations and wheezing.\n",
       "*   **Zip Code:** I checked the zip code 55414 and found that it is located in Minneapolis, MN. No specific conditions are related to this zip code.\n"
      ],
      "text/plain": [
       "<IPython.core.display.Markdown object>"
      ]
     },
     "execution_count": 14,
     "metadata": {},
     "output_type": "execute_result"
    }
   ],
   "source": [
    "diagnosis_prompt = patient_medical_request + \"What disease are they most likely to experience now? Only return the singular most likely disease, please.\"\n",
    "diagnosis = grounding_func(diagnosis_prompt)\n",
    "Markdown(diagnosis)"
   ]
  },
  {
   "cell_type": "code",
   "execution_count": 15,
   "id": "a8390aa7",
   "metadata": {
    "execution": {
     "iopub.execute_input": "2025-04-20T00:11:48.192081Z",
     "iopub.status.busy": "2025-04-20T00:11:48.191738Z",
     "iopub.status.idle": "2025-04-20T00:11:49.246285Z",
     "shell.execute_reply": "2025-04-20T00:11:49.245062Z"
    },
    "papermill": {
     "duration": 1.063651,
     "end_time": "2025-04-20T00:11:49.248152",
     "exception": false,
     "start_time": "2025-04-20T00:11:48.184501",
     "status": "completed"
    },
    "tags": []
   },
   "outputs": [
    {
     "name": "stdout",
     "output_type": "stream",
     "text": [
      "55414\n",
      "\n"
     ]
    }
   ],
   "source": [
    "model_config_two = get_general_model_config(0, 1, 50)\n",
    "\n",
    "few_shot_prompt_two = \"\"\"Parse JSON to return only the Zipcode: \n",
    "\n",
    "EXAMPLE: \n",
    "{\n",
    "\"zipcode\": 78664, \n",
    "\"age\": 30, \n",
    "\"gender\": \"Female\", \n",
    "\"symptoms\": [\"Cough\", \"Fever\", \"Sore throat\"]\n",
    "}\n",
    "78664\n",
    "\n",
    "EXAMPLE: \n",
    "{\n",
    "\"zipcode\": 77055, \n",
    "\"age\": 25, \n",
    "\"gender\": \"Non-binary\", \n",
    "\"symptoms\": [\"Joint pain\", \"Loss of smell\"]\n",
    "}\n",
    "77055\n",
    "\n",
    "EXAMPLE: \n",
    "{\n",
    "\"zipcode\": 78681, \n",
    "\"age\": 15, \n",
    "\"gender\" \"Male\", \n",
    "\"symptoms\": [\"Fatigue\", \"Loss of Vision\", \"Headache\", \"Joint pain\"]\n",
    "}\n",
    "78681\n",
    "\"\"\"\n",
    "\n",
    "patient_zipcode = few_shot_func(patient_json_form, few_shot_prompt_two, model_config_two)\n",
    "print(patient_zipcode)"
   ]
  },
  {
   "cell_type": "code",
   "execution_count": 16,
   "id": "451aebf8",
   "metadata": {
    "execution": {
     "iopub.execute_input": "2025-04-20T00:11:49.259909Z",
     "iopub.status.busy": "2025-04-20T00:11:49.259582Z",
     "iopub.status.idle": "2025-04-20T00:11:52.405994Z",
     "shell.execute_reply": "2025-04-20T00:11:52.404679Z"
    },
    "papermill": {
     "duration": 3.153675,
     "end_time": "2025-04-20T00:11:52.407398",
     "exception": false,
     "start_time": "2025-04-20T00:11:49.253723",
     "status": "completed"
    },
    "tags": []
   },
   "outputs": [
    {
     "data": {
      "text/markdown": [
       "Here are some of the best-rated medical facilities near the 55414 zip code that can treat asthma.\n",
       "\n",
       "*   **Allergy & Asthma Specialists, P.A.**\n",
       "    *   **Address:** 825 Nicollet Mall, Suite 1149, Minneapolis, MN 55402\n",
       "    *   **Phone:** 612-338-3333\n",
       "    *   **Note:** They have another location in St. Louis Park.\n",
       "*   **M Health Fairview Clinics and Surgery Center - Minneapolis**\n",
       "    *   **Address:** 909 Fulton Street South East, Minneapolis, MN\n",
       "    *   **Note:** They have extended hours and multiple specialties.\n",
       "*   **Allergy and Asthma Center of Minnesota**\n",
       "    *   **Address:** Multiple locations in Maplewood, West St. Paul and Woodbury, MN\n",
       "\n",
       "It's important to note that \"best-rated\" can be subjective and depend on the source of the ratings. I recommend checking patient reviews and ratings on multiple platforms to get a comprehensive view. You should also consider factors like insurance coverage, specific needs, and ease of access when making your decision.\n"
      ],
      "text/plain": [
       "<IPython.core.display.Markdown object>"
      ]
     },
     "execution_count": 16,
     "metadata": {},
     "output_type": "execute_result"
    }
   ],
   "source": [
    "recommendations_prompt = diagnosis + 'Can you get me the nearest best-rated medical facilities with their addresses that can treat the disease for zip code ' + str(patient_zipcode) + '?'\n",
    "recommendations = grounding_func(recommendations_prompt)\n",
    "Markdown(recommendations)"
   ]
  },
  {
   "cell_type": "code",
   "execution_count": 17,
   "id": "aeac0d49",
   "metadata": {
    "execution": {
     "iopub.execute_input": "2025-04-20T00:11:52.419241Z",
     "iopub.status.busy": "2025-04-20T00:11:52.418782Z",
     "iopub.status.idle": "2025-04-20T00:11:56.007155Z",
     "shell.execute_reply": "2025-04-20T00:11:56.006318Z"
    },
    "papermill": {
     "duration": 3.596235,
     "end_time": "2025-04-20T00:11:56.009018",
     "exception": false,
     "start_time": "2025-04-20T00:11:52.412783",
     "status": "completed"
    },
    "tags": []
   },
   "outputs": [
    {
     "data": {
      "text/markdown": [
       "It's essential to confirm directly with each clinic for the most up-to-date and accurate information regarding their accepted insurance plans and payment methods. Insurance coverage can vary, and it's always best to verify your specific plan's details. Here's a general overview based on the search results:\n",
       "\n",
       "**1. Allergy & Asthma Specialists, P.A.:**\n",
       "\n",
       "*   **Insurance:** They state that they \"accept nearly all insurance carriers.\" It is recommended to call your insurance to verify if Allergy & Asthma Specialists, part of Family Allergy & Asthma, providers are in-network with your specific plan.\n",
       "*   **Payment:** You should be prepared to pay your co-payment in full at the time of service.\n",
       "\n",
       "**2. M Health Fairview Clinics and Surgery Center - Minneapolis:**\n",
       "\n",
       "*   **Insurance:** M Health Fairview is in-network with many insurance plans, including America's PPO/HealthEZ, Blue Cross Blue Shield of Minnesota, CMS/Medicare, and more. However, it is strongly recommended to contact your insurer to verify that the specific location or provider you plan to visit is included in your network.\n",
       "*   **Important Billing Information:** This location may contain multiple hospital-based clinics, and your insurance may cover a visit differently than a standalone clinic.\n",
       "\n",
       "**3. Allergy and Asthma Center of Minnesota:**\n",
       "\n",
       "*   **Insurance**: They accept Medicare MN MA (MHCP), Metropolitan Health Plan (MHP), Preferred One, HealthPartners, Cigna, Medica Selectcare, United Healthcare, Aetna BCBS of Minnesota, Humana, Tricare Ucare Fairview Physicians Association (FPA).\n",
       "*   **Payment:** Bring your insurance cards. Physician referral forms, if required by insurance.\n",
       "\n"
      ],
      "text/plain": [
       "<IPython.core.display.Markdown object>"
      ]
     },
     "execution_count": 17,
     "metadata": {},
     "output_type": "execute_result"
    }
   ],
   "source": [
    "payments_prompt = \"For each of the locations recommended to me: \" + recommendations + \" what types of payments and insurance plans are accepted for patients coming in for treatment?\"\n",
    "payments = grounding_func(payments_prompt)\n",
    "Markdown(payments)"
   ]
  },
  {
   "cell_type": "markdown",
   "id": "55adc20a",
   "metadata": {
    "papermill": {
     "duration": 0.004958,
     "end_time": "2025-04-20T00:11:56.019677",
     "exception": false,
     "start_time": "2025-04-20T00:11:56.014719",
     "status": "completed"
    },
    "tags": []
   },
   "source": [
    "## Limitations and Possible Next Steps\n",
    "\n",
    "While the AI works as intended, this is a very basic setup/implementation of the AI (to be honest, we were short on time to implement the more advanced features/capabilities to make the AI run more efficiently and impressively). Thus, possible next steps/future directions are as follows: \n",
    "\n",
    "## Potential Impact \n",
    "\n",
    "We intend for the AI to empower individuals to make informed decisions that is best for their health and to know more and better of the variety of medical options provided for them to take care of their health, especially in illness and bad health (thus, we hope that with this AI, individuals take the initiative to become healthier and more health-conscious individuals). We also hope that the AI can help improve health outcomes for every zipcode/postal code as possible. "
   ]
  }
 ],
 "metadata": {
  "kaggle": {
   "accelerator": "none",
   "dataSources": [
    {
     "sourceId": 97258,
     "sourceType": "competition"
    },
    {
     "datasetId": 7088011,
     "sourceId": 11330888,
     "sourceType": "datasetVersion"
    }
   ],
   "dockerImageVersionId": 30918,
   "isGpuEnabled": false,
   "isInternetEnabled": true,
   "language": "python",
   "sourceType": "notebook"
  },
  "kernelspec": {
   "display_name": "Python 3",
   "language": "python",
   "name": "python3"
  },
  "language_info": {
   "codemirror_mode": {
    "name": "ipython",
    "version": 3
   },
   "file_extension": ".py",
   "mimetype": "text/x-python",
   "name": "python",
   "nbconvert_exporter": "python",
   "pygments_lexer": "ipython3",
   "version": "3.10.12"
  },
  "papermill": {
   "default_parameters": {},
   "duration": 29.239304,
   "end_time": "2025-04-20T00:11:56.948094",
   "environment_variables": {},
   "exception": null,
   "input_path": "__notebook__.ipynb",
   "output_path": "__notebook__.ipynb",
   "parameters": {},
   "start_time": "2025-04-20T00:11:27.708790",
   "version": "2.6.0"
  }
 },
 "nbformat": 4,
 "nbformat_minor": 5
}
