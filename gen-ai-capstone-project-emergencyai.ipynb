{
 "cells": [
  {
   "cell_type": "code",
   "execution_count": 1,
   "id": "470672c4",
   "metadata": {
    "_cell_guid": "b1076dfc-b9ad-4769-8c92-a6c4dae69d19",
    "_uuid": "8f2839f25d086af736a60e9eeb907d3b93b6e0e5",
    "execution": {
     "iopub.execute_input": "2025-04-05T21:56:50.958874Z",
     "iopub.status.busy": "2025-04-05T21:56:50.958485Z",
     "iopub.status.idle": "2025-04-05T21:56:51.974720Z",
     "shell.execute_reply": "2025-04-05T21:56:51.973514Z"
    },
    "papermill": {
     "duration": 1.022835,
     "end_time": "2025-04-05T21:56:51.976721",
     "exception": false,
     "start_time": "2025-04-05T21:56:50.953886",
     "status": "completed"
    },
    "tags": []
   },
   "outputs": [],
   "source": [
    "# This Python 3 environment comes with many helpful analytics libraries installed\n",
    "# It is defined by the kaggle/python Docker image: https://github.com/kaggle/docker-python\n",
    "# For example, here's several helpful packages to load\n",
    "\n",
    "import numpy as np # linear algebra\n",
    "import pandas as pd # data processing, CSV file I/O (e.g. pd.read_csv)\n",
    "\n",
    "# Input data files are available in the read-only \"../input/\" directory\n",
    "# For example, running this (by clicking run or pressing Shift+Enter) will list all files under the input directory\n",
    "\n",
    "import os\n",
    "for dirname, _, filenames in os.walk('/kaggle/input'):\n",
    "    for filename in filenames:\n",
    "        print(os.path.join(dirname, filename))\n",
    "\n",
    "# You can write up to 20GB to the current directory (/kaggle/working/) that gets preserved as output when you create a version using \"Save & Run All\" \n",
    "# You can also write temporary files to /kaggle/temp/, but they won't be saved outside of the current session"
   ]
  },
  {
   "cell_type": "code",
   "execution_count": 2,
   "id": "b5d64e0b",
   "metadata": {
    "execution": {
     "iopub.execute_input": "2025-04-05T21:56:51.984294Z",
     "iopub.status.busy": "2025-04-05T21:56:51.983767Z",
     "iopub.status.idle": "2025-04-05T21:57:01.068860Z",
     "shell.execute_reply": "2025-04-05T21:57:01.066960Z"
    },
    "papermill": {
     "duration": 9.091391,
     "end_time": "2025-04-05T21:57:01.071456",
     "exception": false,
     "start_time": "2025-04-05T21:56:51.980065",
     "status": "completed"
    },
    "tags": []
   },
   "outputs": [
    {
     "name": "stdout",
     "output_type": "stream",
     "text": [
      "\u001b[2K   \u001b[90m━━━━━━━━━━━━━━━━━━━━━━━━━━━━━━━━━━━━━━━━\u001b[0m \u001b[32m144.7/144.7 kB\u001b[0m \u001b[31m3.7 MB/s\u001b[0m eta \u001b[36m0:00:00\u001b[0m\r\n",
      "\u001b[2K   \u001b[90m━━━━━━━━━━━━━━━━━━━━━━━━━━━━━━━━━━━━━━━━\u001b[0m \u001b[32m100.9/100.9 kB\u001b[0m \u001b[31m4.1 MB/s\u001b[0m eta \u001b[36m0:00:00\u001b[0m\r\n",
      "\u001b[?25h"
     ]
    }
   ],
   "source": [
    "!pip uninstall -qqy jupyterlab  # Remove unused packages from Kaggle's base image that conflict\n",
    "!pip install -U -q \"google-genai==1.7.0\""
   ]
  },
  {
   "cell_type": "code",
   "execution_count": 3,
   "id": "5384f58f",
   "metadata": {
    "execution": {
     "iopub.execute_input": "2025-04-05T21:57:01.080522Z",
     "iopub.status.busy": "2025-04-05T21:57:01.080096Z",
     "iopub.status.idle": "2025-04-05T21:57:02.456324Z",
     "shell.execute_reply": "2025-04-05T21:57:02.454884Z"
    },
    "papermill": {
     "duration": 1.383807,
     "end_time": "2025-04-05T21:57:02.458636",
     "exception": false,
     "start_time": "2025-04-05T21:57:01.074829",
     "status": "completed"
    },
    "tags": []
   },
   "outputs": [],
   "source": [
    "from google import genai\n",
    "from google.genai import types\n",
    "\n",
    "from IPython.display import HTML, Markdown, display"
   ]
  },
  {
   "cell_type": "code",
   "execution_count": 4,
   "id": "89374207",
   "metadata": {
    "execution": {
     "iopub.execute_input": "2025-04-05T21:57:02.466617Z",
     "iopub.status.busy": "2025-04-05T21:57:02.465988Z",
     "iopub.status.idle": "2025-04-05T21:57:02.718053Z",
     "shell.execute_reply": "2025-04-05T21:57:02.716876Z"
    },
    "papermill": {
     "duration": 0.257995,
     "end_time": "2025-04-05T21:57:02.719933",
     "exception": false,
     "start_time": "2025-04-05T21:57:02.461938",
     "status": "completed"
    },
    "tags": []
   },
   "outputs": [],
   "source": [
    "from google.api_core import retry\n",
    "\n",
    "\n",
    "is_retriable = lambda e: (isinstance(e, genai.errors.APIError) and e.code in {429, 503})\n",
    "\n",
    "genai.models.Models.generate_content = retry.Retry(\n",
    "    predicate=is_retriable)(genai.models.Models.generate_content)"
   ]
  },
  {
   "cell_type": "code",
   "execution_count": 5,
   "id": "2a3b3898",
   "metadata": {
    "execution": {
     "iopub.execute_input": "2025-04-05T21:57:02.727988Z",
     "iopub.status.busy": "2025-04-05T21:57:02.727402Z",
     "iopub.status.idle": "2025-04-05T21:57:02.828376Z",
     "shell.execute_reply": "2025-04-05T21:57:02.827255Z"
    },
    "papermill": {
     "duration": 0.107245,
     "end_time": "2025-04-05T21:57:02.830508",
     "exception": false,
     "start_time": "2025-04-05T21:57:02.723263",
     "status": "completed"
    },
    "tags": []
   },
   "outputs": [],
   "source": [
    "from kaggle_secrets import UserSecretsClient\n",
    "\n",
    "GOOGLE_API_KEY = UserSecretsClient().get_secret(\"GOOGLE_API_KEY\")"
   ]
  },
  {
   "cell_type": "code",
   "execution_count": null,
   "id": "1558b9c1",
   "metadata": {
    "papermill": {
     "duration": 0.002782,
     "end_time": "2025-04-05T21:57:02.836528",
     "exception": false,
     "start_time": "2025-04-05T21:57:02.833746",
     "status": "completed"
    },
    "tags": []
   },
   "outputs": [],
   "source": []
  },
  {
   "cell_type": "code",
   "execution_count": 6,
   "id": "0224e484",
   "metadata": {
    "execution": {
     "iopub.execute_input": "2025-04-05T21:57:02.843952Z",
     "iopub.status.busy": "2025-04-05T21:57:02.843601Z",
     "iopub.status.idle": "2025-04-05T21:57:02.848541Z",
     "shell.execute_reply": "2025-04-05T21:57:02.847484Z"
    },
    "papermill": {
     "duration": 0.010757,
     "end_time": "2025-04-05T21:57:02.850421",
     "exception": false,
     "start_time": "2025-04-05T21:57:02.839664",
     "status": "completed"
    },
    "tags": []
   },
   "outputs": [],
   "source": [
    "import typing_extensions as typing \n",
    "\n",
    "class MedicalHelp(typing.TypedDict): \n",
    "    zipcode: int \n",
    "    medical_reason: str"
   ]
  },
  {
   "cell_type": "code",
   "execution_count": 7,
   "id": "2aa94a61",
   "metadata": {
    "execution": {
     "iopub.execute_input": "2025-04-05T21:57:02.858437Z",
     "iopub.status.busy": "2025-04-05T21:57:02.858043Z",
     "iopub.status.idle": "2025-04-05T21:57:08.455823Z",
     "shell.execute_reply": "2025-04-05T21:57:08.454773Z"
    },
    "papermill": {
     "duration": 5.603885,
     "end_time": "2025-04-05T21:57:08.457671",
     "exception": false,
     "start_time": "2025-04-05T21:57:02.853786",
     "status": "completed"
    },
    "tags": []
   },
   "outputs": [
    {
     "data": {
      "text/markdown": [
       "Here are some medical centers near the 77030-zip code that can treat a broken arm. This information is based on the search results as of April 5, 2025.\n",
       "\n",
       "**Hospitals and Medical Centers:**\n",
       "\n",
       "*   **Texas Orthopedic Hospital:** Located at 7401 Main St., Houston, TX 77030. Phone: (713) 799 - 8600. They treat orthopedic trauma and fractures.\n",
       "*   **HCA Houston Healthcare Medical Center:** Located at 1313 Hermann Dr., Houston, TX 77004. Phone: (713) 527 - 5000. They offer comprehensive orthopedic care, including treatments for broken bones.\n",
       "*   **Ascent Emergency Medical Center:** This is a 24-hour emergency room located in the 77030-zip code area. They can handle emergencies like broken bones.\n",
       "*   **Baylor St. Luke's Medical Center - McNair Campus:** Located at 7200 Cambridge St., Houston, TX 77030. Phone: (713) 986-6016. They offer treatments for broken arms and a variety of orthopedic conditions.\n",
       "*   **Michael E. DeBakey VA Medical Center:** Located at 2002 Holcombe Boulevard, Houston, TX 77030-4211. Main phone: 713-791-1414. They offer primary care and specialty health services, including treatment for spinal cord injuries, and Virtual Urgent Care for non-life-threatening conditions such as sprains, back pain, and joint pain/stiffness..\n",
       "*   **Children's Memorial Hermann Hospital:** Located at 6411 Fannin, Houston, TX 77030. Phone: (713) 486-4880. They have a Fracture Program that provides specialized care for children's fractures.\n",
       "\n",
       "**Urgent Care Centers and Orthopedic Clinics:**\n",
       "\n",
       "*   **Houston Methodist Orthopedics & Sports Medicine:** They have multiple locations across the Greater Houston area. They offer same-day Orthopedic Injury Clinics.\n",
       "*   **AOKC Urgent OrthoCare:** This clinic provides orthopedic care, sports medicine, and treatments for broken bones and sprains.\n",
       "*   **Memorial Primary and Urgent Care:** Located at 14629 Memorial Drive, Houston, TX 77079. They offer fracture treatment and can perform diagnostic tests like X-rays.\n",
       "*   **Barrett S. Brown, MD:** Provides treatments for orthopedic concerns such as a broken proximal humerus. Phone: (346) 247-2531.\n",
       "\n",
       "When dealing with a broken arm, it's important to seek medical attention promptly. Depending on the severity of the break, you may need to go to an emergency room, urgent care center, or an orthopedic specialist.\n"
      ],
      "text/plain": [
       "<IPython.core.display.Markdown object>"
      ]
     },
     "execution_count": 7,
     "metadata": {},
     "output_type": "execute_result"
    }
   ],
   "source": [
    "client = genai.Client(api_key=GOOGLE_API_KEY)\n",
    "\n",
    "config_with_search = types.GenerateContentConfig(\n",
    "    tools=[types.Tool(google_search=types.GoogleSearch())],\n",
    ")\n",
    "\n",
    "response = client.models.generate_content(\n",
    "    model='gemini-2.0-flash', \n",
    "    contents=\"Can you get me the medical centers near zipcode 77030 that can treat broken arm?\", \n",
    "    config=config_with_search,\n",
    ")\n",
    "\n",
    "rc = response.candidates[0]\n",
    "\n",
    "Markdown(rc.content.parts[0].text)"
   ]
  },
  {
   "cell_type": "code",
   "execution_count": 8,
   "id": "44e769f2",
   "metadata": {
    "execution": {
     "iopub.execute_input": "2025-04-05T21:57:08.465616Z",
     "iopub.status.busy": "2025-04-05T21:57:08.465202Z",
     "iopub.status.idle": "2025-04-05T21:57:08.522943Z",
     "shell.execute_reply": "2025-04-05T21:57:08.521208Z"
    },
    "papermill": {
     "duration": 0.064098,
     "end_time": "2025-04-05T21:57:08.525199",
     "exception": false,
     "start_time": "2025-04-05T21:57:08.461101",
     "status": "completed"
    },
    "tags": []
   },
   "outputs": [
    {
     "name": "stdout",
     "output_type": "stream",
     "text": [
      "{'confidence_scores': [0.98075587, 0.97301334, 0.9792986],\n",
      " 'grounding_chunk_indices': [0, 1, 2],\n",
      " 'segment': {'end_index': 268,\n",
      "             'start_index': 189,\n",
      "             'text': '*   **Texas Orthopedic Hospital:** Located at 7401 Main '\n",
      "                     'St., Houston, TX 77030.'}}\n",
      "{'confidence_scores': [0.7494159, 0.75919265],\n",
      " 'grounding_chunk_indices': [1, 0],\n",
      " 'segment': {'end_index': 293,\n",
      "             'start_index': 269,\n",
      "             'text': 'Phone: (713) 799 - 8600.'}}\n",
      "{'confidence_scores': [0.7551733,\n",
      "                       0.70448554,\n",
      "                       0.64827263,\n",
      "                       0.7792259,\n",
      "                       0.6515472,\n",
      "                       0.83221406,\n",
      "                       0.71790147,\n",
      "                       0.8652005],\n",
      " 'grounding_chunk_indices': [1, 3, 2, 4, 0, 5, 6, 7],\n",
      " 'segment': {'end_index': 337,\n",
      "             'start_index': 294,\n",
      "             'text': 'They treat orthopedic trauma and fractures.'}}\n",
      "{'confidence_scores': [0.9710212, 0.93917346],\n",
      " 'grounding_chunk_indices': [0, 1],\n",
      " 'segment': {'end_index': 432,\n",
      "             'start_index': 338,\n",
      "             'text': '*   **HCA Houston Healthcare Medical Center:** Located '\n",
      "                     'at 1313 Hermann Dr., Houston, TX 77004.'}}\n",
      "{'confidence_scores': [0.7065678, 0.7800555],\n",
      " 'grounding_chunk_indices': [1, 0],\n",
      " 'segment': {'end_index': 457,\n",
      "             'start_index': 433,\n",
      "             'text': 'Phone: (713) 527 - 5000.'}}\n",
      "{'confidence_scores': [0.9469976,\n",
      "                       0.9283472,\n",
      "                       0.7461633,\n",
      "                       0.7102379,\n",
      "                       0.7816607,\n",
      "                       0.64811206],\n",
      " 'grounding_chunk_indices': [1, 0, 5, 8, 4, 9],\n",
      " 'segment': {'end_index': 538,\n",
      "             'start_index': 458,\n",
      "             'text': 'They offer comprehensive orthopedic care, including '\n",
      "                     'treatments for broken bones.'}}\n",
      "{'confidence_scores': [0.9839701],\n",
      " 'grounding_chunk_indices': [10],\n",
      " 'segment': {'end_index': 648,\n",
      "             'start_index': 539,\n",
      "             'text': '*   **Ascent Emergency Medical Center:** This is a '\n",
      "                     '24-hour emergency room located in the 77030-zip code '\n",
      "                     'area.'}}\n",
      "{'confidence_scores': [0.64006567, 0.95636094],\n",
      " 'grounding_chunk_indices': [8, 10],\n",
      " 'segment': {'end_index': 695,\n",
      "             'start_index': 649,\n",
      "             'text': 'They can handle emergencies like broken bones.'}}\n",
      "{'confidence_scores': [0.8046795],\n",
      " 'grounding_chunk_indices': [11],\n",
      " 'segment': {'end_index': 803,\n",
      "             'start_index': 696,\n",
      "             'text': \"*   **Baylor St. Luke's Medical Center - McNair \"\n",
      "                     'Campus:** Located at 7200 Cambridge St., Houston, TX '\n",
      "                     '77030.'}}\n",
      "{'confidence_scores': [0.6354696],\n",
      " 'grounding_chunk_indices': [11],\n",
      " 'segment': {'end_index': 826,\n",
      "             'start_index': 804,\n",
      "             'text': 'Phone: (713) 986-6016.'}}\n",
      "{'confidence_scores': [0.77935475,\n",
      "                       0.8012075,\n",
      "                       0.81647086,\n",
      "                       0.7288656,\n",
      "                       0.89022243,\n",
      "                       0.7238711,\n",
      "                       0.6620074],\n",
      " 'grounding_chunk_indices': [8, 12, 4, 3, 2, 13, 5],\n",
      " 'segment': {'end_index': 904,\n",
      "             'start_index': 827,\n",
      "             'text': 'They offer treatments for broken arms and a variety of '\n",
      "                     'orthopedic conditions.'}}\n",
      "{'confidence_scores': [0.9745994],\n",
      " 'grounding_chunk_indices': [14],\n",
      " 'segment': {'end_index': 1010,\n",
      "             'start_index': 905,\n",
      "             'text': '*   **Michael E. DeBakey VA Medical Center:** Located at '\n",
      "                     '2002 Holcombe Boulevard, Houston, TX 77030-4211.'}}\n",
      "{'confidence_scores': [0.97714067],\n",
      " 'grounding_chunk_indices': [14],\n",
      " 'segment': {'end_index': 1036,\n",
      "             'start_index': 1011,\n",
      "             'text': 'Main phone: 713-791-1414.'}}\n",
      "{'confidence_scores': [0.9873395],\n",
      " 'grounding_chunk_indices': [3],\n",
      " 'segment': {'end_index': 1341,\n",
      "             'start_index': 1253,\n",
      "             'text': \"*   **Children's Memorial Hermann Hospital:** Located at \"\n",
      "                     '6411 Fannin, Houston, TX 77030.'}}\n",
      "{'confidence_scores': [0.97121596],\n",
      " 'grounding_chunk_indices': [3],\n",
      " 'segment': {'end_index': 1364,\n",
      "             'start_index': 1342,\n",
      "             'text': 'Phone: (713) 486-4880.'}}\n",
      "{'confidence_scores': [0.97742635],\n",
      " 'grounding_chunk_indices': [4],\n",
      " 'segment': {'end_index': 1450,\n",
      "             'start_index': 1365,\n",
      "             'text': 'They have a Fracture Program that provides specialized '\n",
      "                     \"care for children's fractures.\"}}\n",
      "{'confidence_scores': [0.92514277],\n",
      " 'grounding_chunk_indices': [13],\n",
      " 'segment': {'end_index': 1619,\n",
      "             'start_index': 1501,\n",
      "             'text': '*   **Houston Methodist Orthopedics & Sports Medicine:** '\n",
      "                     'They have multiple locations across the Greater Houston '\n",
      "                     'area.'}}\n",
      "{'confidence_scores': [0.9725682, 0.9468825],\n",
      " 'grounding_chunk_indices': [7, 13],\n",
      " 'segment': {'end_index': 1666,\n",
      "             'start_index': 1620,\n",
      "             'text': 'They offer same-day Orthopedic Injury Clinics.'}}\n",
      "{'confidence_scores': [0.84243536],\n",
      " 'grounding_chunk_indices': [8],\n",
      " 'segment': {'end_index': 1797,\n",
      "             'start_index': 1667,\n",
      "             'text': '*   **AOKC Urgent OrthoCare:** This clinic provides '\n",
      "                     'orthopedic care, sports medicine, and treatments for '\n",
      "                     'broken bones and sprains.'}}\n",
      "{'confidence_scores': [0.9502846],\n",
      " 'grounding_chunk_indices': [9],\n",
      " 'segment': {'end_index': 1891,\n",
      "             'start_index': 1798,\n",
      "             'text': '*   **Memorial Primary and Urgent Care:** Located at '\n",
      "                     '14629 Memorial Drive, Houston, TX 77079.'}}\n",
      "{'confidence_scores': [0.8924347, 0.9704568],\n",
      " 'grounding_chunk_indices': [8, 4],\n",
      " 'segment': {'end_index': 1967,\n",
      "             'start_index': 1892,\n",
      "             'text': 'They offer fracture treatment and can perform diagnostic '\n",
      "                     'tests like X-rays.'}}\n",
      "{'confidence_scores': [0.9872255],\n",
      " 'grounding_chunk_indices': [5],\n",
      " 'segment': {'end_index': 2076,\n",
      "             'start_index': 1968,\n",
      "             'text': '*   **Barrett S. Brown, MD:** Provides treatments for '\n",
      "                     'orthopedic concerns such as a broken proximal humerus.'}}\n"
     ]
    }
   ],
   "source": [
    "from pprint import pprint \n",
    "\n",
    "supports = rc.grounding_metadata.grounding_supports\n",
    "for support in supports: \n",
    "    pprint(support.to_json_dict())"
   ]
  },
  {
   "cell_type": "code",
   "execution_count": null,
   "id": "c4ec4f7d",
   "metadata": {
    "papermill": {
     "duration": 0.003284,
     "end_time": "2025-04-05T21:57:08.532710",
     "exception": false,
     "start_time": "2025-04-05T21:57:08.529426",
     "status": "completed"
    },
    "tags": []
   },
   "outputs": [],
   "source": []
  }
 ],
 "metadata": {
  "kaggle": {
   "accelerator": "none",
   "dataSources": [
    {
     "sourceId": 97258,
     "sourceType": "competition"
    }
   ],
   "dockerImageVersionId": 30918,
   "isGpuEnabled": false,
   "isInternetEnabled": true,
   "language": "python",
   "sourceType": "notebook"
  },
  "kernelspec": {
   "display_name": "Python 3",
   "language": "python",
   "name": "python3"
  },
  "language_info": {
   "codemirror_mode": {
    "name": "ipython",
    "version": 3
   },
   "file_extension": ".py",
   "mimetype": "text/x-python",
   "name": "python",
   "nbconvert_exporter": "python",
   "pygments_lexer": "ipython3",
   "version": "3.10.12"
  },
  "papermill": {
   "default_parameters": {},
   "duration": 21.306868,
   "end_time": "2025-04-05T21:57:09.358551",
   "environment_variables": {},
   "exception": null,
   "input_path": "__notebook__.ipynb",
   "output_path": "__notebook__.ipynb",
   "parameters": {},
   "start_time": "2025-04-05T21:56:48.051683",
   "version": "2.6.0"
  }
 },
 "nbformat": 4,
 "nbformat_minor": 5
}
