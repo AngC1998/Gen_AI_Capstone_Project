{
 "cells": [
  {
   "cell_type": "markdown",
   "id": "155a88ff",
   "metadata": {
    "papermill": {
     "duration": 0.004976,
     "end_time": "2025-04-19T21:26:09.876419",
     "exception": false,
     "start_time": "2025-04-19T21:26:09.871443",
     "status": "completed"
    },
    "tags": []
   },
   "source": [
    "# EmergencyZIP AI"
   ]
  },
  {
   "cell_type": "code",
   "execution_count": 1,
   "id": "29564f1c",
   "metadata": {
    "_cell_guid": "b1076dfc-b9ad-4769-8c92-a6c4dae69d19",
    "_uuid": "8f2839f25d086af736a60e9eeb907d3b93b6e0e5",
    "execution": {
     "iopub.execute_input": "2025-04-19T21:26:09.887877Z",
     "iopub.status.busy": "2025-04-19T21:26:09.887334Z",
     "iopub.status.idle": "2025-04-19T21:26:10.970391Z",
     "shell.execute_reply": "2025-04-19T21:26:10.969095Z"
    },
    "papermill": {
     "duration": 1.090845,
     "end_time": "2025-04-19T21:26:10.972555",
     "exception": false,
     "start_time": "2025-04-19T21:26:09.881710",
     "status": "completed"
    },
    "tags": []
   },
   "outputs": [
    {
     "name": "stdout",
     "output_type": "stream",
     "text": [
      "/kaggle/input/patient-symptom-dataset/patient_symptom_data.csv\n"
     ]
    }
   ],
   "source": [
    "# This Python 3 environment comes with many helpful analytics libraries installed\n",
    "# It is defined by the kaggle/python Docker image: https://github.com/kaggle/docker-python\n",
    "# For example, here's several helpful packages to load\n",
    "\n",
    "import numpy as np # linear algebra\n",
    "import pandas as pd # data processing, CSV file I/O (e.g. pd.read_csv)\n",
    "import random\n",
    "\n",
    "# Input data files are available in the read-only \"../input/\" directory\n",
    "# For example, running this (by clicking run or pressing Shift+Enter) will list all files under the input directory\n",
    "\n",
    "import os\n",
    "for dirname, _, filenames in os.walk('/kaggle/input'):\n",
    "    for filename in filenames:\n",
    "        print(os.path.join(dirname, filename))\n",
    "\n",
    "# You can write up to 20GB to the current directory (/kaggle/working/) that gets preserved as output when you create a version using \"Save & Run All\" \n",
    "# You can also write temporary files to /kaggle/temp/, but they won't be saved outside of the current session"
   ]
  },
  {
   "cell_type": "code",
   "execution_count": 2,
   "id": "8d21a78b",
   "metadata": {
    "execution": {
     "iopub.execute_input": "2025-04-19T21:26:10.983114Z",
     "iopub.status.busy": "2025-04-19T21:26:10.982588Z",
     "iopub.status.idle": "2025-04-19T21:26:20.281938Z",
     "shell.execute_reply": "2025-04-19T21:26:20.280431Z"
    },
    "papermill": {
     "duration": 9.3066,
     "end_time": "2025-04-19T21:26:20.283951",
     "exception": false,
     "start_time": "2025-04-19T21:26:10.977351",
     "status": "completed"
    },
    "tags": []
   },
   "outputs": [
    {
     "name": "stdout",
     "output_type": "stream",
     "text": [
      "\u001b[2K   \u001b[90m━━━━━━━━━━━━━━━━━━━━━━━━━━━━━━━━━━━━━━━━\u001b[0m \u001b[32m144.7/144.7 kB\u001b[0m \u001b[31m4.3 MB/s\u001b[0m eta \u001b[36m0:00:00\u001b[0m\r\n",
      "\u001b[2K   \u001b[90m━━━━━━━━━━━━━━━━━━━━━━━━━━━━━━━━━━━━━━━━\u001b[0m \u001b[32m100.9/100.9 kB\u001b[0m \u001b[31m4.7 MB/s\u001b[0m eta \u001b[36m0:00:00\u001b[0m\r\n",
      "\u001b[?25h"
     ]
    }
   ],
   "source": [
    "!pip uninstall -qqy jupyterlab  # Remove unused packages from Kaggle's base image that conflict\n",
    "!pip install -U -q \"google-genai==1.7.0\""
   ]
  },
  {
   "cell_type": "code",
   "execution_count": 3,
   "id": "a198b823",
   "metadata": {
    "execution": {
     "iopub.execute_input": "2025-04-19T21:26:20.294628Z",
     "iopub.status.busy": "2025-04-19T21:26:20.294193Z",
     "iopub.status.idle": "2025-04-19T21:26:21.718210Z",
     "shell.execute_reply": "2025-04-19T21:26:21.716747Z"
    },
    "papermill": {
     "duration": 1.43172,
     "end_time": "2025-04-19T21:26:21.720387",
     "exception": false,
     "start_time": "2025-04-19T21:26:20.288667",
     "status": "completed"
    },
    "tags": []
   },
   "outputs": [],
   "source": [
    "from google import genai\n",
    "from google.genai import types\n",
    "\n",
    "from IPython.display import HTML, Markdown, display"
   ]
  },
  {
   "cell_type": "code",
   "execution_count": 4,
   "id": "3de9584f",
   "metadata": {
    "execution": {
     "iopub.execute_input": "2025-04-19T21:26:21.731377Z",
     "iopub.status.busy": "2025-04-19T21:26:21.730721Z",
     "iopub.status.idle": "2025-04-19T21:26:21.991637Z",
     "shell.execute_reply": "2025-04-19T21:26:21.990543Z"
    },
    "papermill": {
     "duration": 0.268292,
     "end_time": "2025-04-19T21:26:21.993523",
     "exception": false,
     "start_time": "2025-04-19T21:26:21.725231",
     "status": "completed"
    },
    "tags": []
   },
   "outputs": [],
   "source": [
    "from google.api_core import retry\n",
    "\n",
    "\n",
    "is_retriable = lambda e: (isinstance(e, genai.errors.APIError) and e.code in {429, 503})\n",
    "\n",
    "genai.models.Models.generate_content = retry.Retry(\n",
    "    predicate=is_retriable)(genai.models.Models.generate_content)"
   ]
  },
  {
   "cell_type": "code",
   "execution_count": 5,
   "id": "707daea5",
   "metadata": {
    "execution": {
     "iopub.execute_input": "2025-04-19T21:26:22.004100Z",
     "iopub.status.busy": "2025-04-19T21:26:22.003546Z",
     "iopub.status.idle": "2025-04-19T21:26:22.096911Z",
     "shell.execute_reply": "2025-04-19T21:26:22.095716Z"
    },
    "papermill": {
     "duration": 0.101068,
     "end_time": "2025-04-19T21:26:22.099059",
     "exception": false,
     "start_time": "2025-04-19T21:26:21.997991",
     "status": "completed"
    },
    "tags": []
   },
   "outputs": [],
   "source": [
    "from kaggle_secrets import UserSecretsClient\n",
    "\n",
    "GOOGLE_API_KEY = UserSecretsClient().get_secret(\"GOOGLE_API_KEY\")"
   ]
  },
  {
   "cell_type": "code",
   "execution_count": 6,
   "id": "d341a634",
   "metadata": {
    "execution": {
     "iopub.execute_input": "2025-04-19T21:26:22.109426Z",
     "iopub.status.busy": "2025-04-19T21:26:22.109066Z",
     "iopub.status.idle": "2025-04-19T21:26:22.533250Z",
     "shell.execute_reply": "2025-04-19T21:26:22.531955Z"
    },
    "papermill": {
     "duration": 0.431828,
     "end_time": "2025-04-19T21:26:22.535525",
     "exception": false,
     "start_time": "2025-04-19T21:26:22.103697",
     "status": "completed"
    },
    "tags": []
   },
   "outputs": [],
   "source": [
    "client = genai.Client(api_key=GOOGLE_API_KEY)"
   ]
  },
  {
   "cell_type": "code",
   "execution_count": 7,
   "id": "1217d726",
   "metadata": {
    "execution": {
     "iopub.execute_input": "2025-04-19T21:26:22.547313Z",
     "iopub.status.busy": "2025-04-19T21:26:22.546924Z",
     "iopub.status.idle": "2025-04-19T21:26:22.553189Z",
     "shell.execute_reply": "2025-04-19T21:26:22.551998Z"
    },
    "papermill": {
     "duration": 0.014391,
     "end_time": "2025-04-19T21:26:22.555061",
     "exception": false,
     "start_time": "2025-04-19T21:26:22.540670",
     "status": "completed"
    },
    "tags": []
   },
   "outputs": [],
   "source": [
    "import typing_extensions as typing\n",
    "\n",
    "class MedicalPatient(typing.TypedDict): \n",
    "    zipcode: int\n",
    "    age: int\n",
    "    gender: str\n",
    "    symptoms: list[str]\n",
    "\n",
    "def get_json_form(patient_symptom_entry): \n",
    "    entry_str = patient_symptom_entry.to_string()\n",
    "    json_response = client.models.generate_content(\n",
    "        model='gemini-2.0-flash', \n",
    "        config=types.GenerateContentConfig(\n",
    "            temperature=0.1, \n",
    "            response_mime_type=\"application/json\", \n",
    "            response_schema=MedicalPatient\n",
    "        ), \n",
    "        contents=entry_str\n",
    "    )\n",
    "    json_form = json_response.text\n",
    "    return json_form"
   ]
  },
  {
   "cell_type": "code",
   "execution_count": 8,
   "id": "c24c3b3d",
   "metadata": {
    "execution": {
     "iopub.execute_input": "2025-04-19T21:26:22.565447Z",
     "iopub.status.busy": "2025-04-19T21:26:22.565088Z",
     "iopub.status.idle": "2025-04-19T21:26:22.573706Z",
     "shell.execute_reply": "2025-04-19T21:26:22.568799Z"
    },
    "papermill": {
     "duration": 0.016006,
     "end_time": "2025-04-19T21:26:22.575747",
     "exception": false,
     "start_time": "2025-04-19T21:26:22.559741",
     "status": "completed"
    },
    "tags": []
   },
   "outputs": [],
   "source": [
    "def get_general_model_config(temperature, top_p, max_output_tokens): \n",
    "    return types.GenerateContentConfig(\n",
    "        temperature=temperature, \n",
    "        top_p=top_p, \n",
    "        max_output_tokens=max_output_tokens\n",
    "    )"
   ]
  },
  {
   "cell_type": "code",
   "execution_count": 9,
   "id": "5e2707cd",
   "metadata": {
    "execution": {
     "iopub.execute_input": "2025-04-19T21:26:22.587669Z",
     "iopub.status.busy": "2025-04-19T21:26:22.587231Z",
     "iopub.status.idle": "2025-04-19T21:26:22.592363Z",
     "shell.execute_reply": "2025-04-19T21:26:22.591282Z"
    },
    "papermill": {
     "duration": 0.013031,
     "end_time": "2025-04-19T21:26:22.594180",
     "exception": false,
     "start_time": "2025-04-19T21:26:22.581149",
     "status": "completed"
    },
    "tags": []
   },
   "outputs": [],
   "source": [
    "def few_shot_func(model_input, prompt, config): \n",
    "    few_shot_response = client.models.generate_content(\n",
    "        model='gemini-2.0-flash', \n",
    "        config=config,\n",
    "        contents=[prompt, model_input]\n",
    "    )\n",
    "    str_response = few_shot_response.text\n",
    "    return str_response"
   ]
  },
  {
   "cell_type": "code",
   "execution_count": 10,
   "id": "375dc194",
   "metadata": {
    "execution": {
     "iopub.execute_input": "2025-04-19T21:26:22.605294Z",
     "iopub.status.busy": "2025-04-19T21:26:22.604920Z",
     "iopub.status.idle": "2025-04-19T21:26:22.611418Z",
     "shell.execute_reply": "2025-04-19T21:26:22.610210Z"
    },
    "papermill": {
     "duration": 0.01401,
     "end_time": "2025-04-19T21:26:22.613216",
     "exception": false,
     "start_time": "2025-04-19T21:26:22.599206",
     "status": "completed"
    },
    "tags": []
   },
   "outputs": [],
   "source": [
    "def grounding_func(input_prompt): \n",
    "    config_with_search = types.GenerateContentConfig(\n",
    "        tools=[types.Tool(google_search=types.GoogleSearch())],\n",
    "    )\n",
    "    response = client.models.generate_content(\n",
    "        model='gemini-2.0-flash', \n",
    "        contents=input_prompt, \n",
    "        config=config_with_search,\n",
    "    )\n",
    "    rc = response.candidates[0]\n",
    "    return rc.content.parts[0].text"
   ]
  },
  {
   "cell_type": "code",
   "execution_count": 11,
   "id": "5419685f",
   "metadata": {
    "execution": {
     "iopub.execute_input": "2025-04-19T21:26:22.624048Z",
     "iopub.status.busy": "2025-04-19T21:26:22.623688Z",
     "iopub.status.idle": "2025-04-19T21:26:22.674364Z",
     "shell.execute_reply": "2025-04-19T21:26:22.673200Z"
    },
    "papermill": {
     "duration": 0.058138,
     "end_time": "2025-04-19T21:26:22.676378",
     "exception": false,
     "start_time": "2025-04-19T21:26:22.618240",
     "status": "completed"
    },
    "tags": []
   },
   "outputs": [
    {
     "data": {
      "text/html": [
       "<div>\n",
       "<style scoped>\n",
       "    .dataframe tbody tr th:only-of-type {\n",
       "        vertical-align: middle;\n",
       "    }\n",
       "\n",
       "    .dataframe tbody tr th {\n",
       "        vertical-align: top;\n",
       "    }\n",
       "\n",
       "    .dataframe thead th {\n",
       "        text-align: right;\n",
       "    }\n",
       "</style>\n",
       "<table border=\"1\" class=\"dataframe\">\n",
       "  <thead>\n",
       "    <tr style=\"text-align: right;\">\n",
       "      <th></th>\n",
       "      <th>PatientID</th>\n",
       "      <th>ZipCode</th>\n",
       "      <th>Age</th>\n",
       "      <th>Gender</th>\n",
       "      <th>Symptoms</th>\n",
       "    </tr>\n",
       "  </thead>\n",
       "  <tbody>\n",
       "    <tr>\n",
       "      <th>0</th>\n",
       "      <td>P001</td>\n",
       "      <td>70112</td>\n",
       "      <td>32</td>\n",
       "      <td>Female</td>\n",
       "      <td>Joint pain;Runny nose;Loss of taste;Sore throat</td>\n",
       "    </tr>\n",
       "    <tr>\n",
       "      <th>1</th>\n",
       "      <td>P002</td>\n",
       "      <td>15213</td>\n",
       "      <td>87</td>\n",
       "      <td>Female</td>\n",
       "      <td>Cough;Fever;Fatigue;Chest pain;Joint pain</td>\n",
       "    </tr>\n",
       "    <tr>\n",
       "      <th>2</th>\n",
       "      <td>P003</td>\n",
       "      <td>46201</td>\n",
       "      <td>21</td>\n",
       "      <td>Non-binary</td>\n",
       "      <td>Swelling;Blurred vision;Rash</td>\n",
       "    </tr>\n",
       "    <tr>\n",
       "      <th>3</th>\n",
       "      <td>P004</td>\n",
       "      <td>20001</td>\n",
       "      <td>46</td>\n",
       "      <td>Male</td>\n",
       "      <td>Chest tightness;Sneezing;Fever;Breathing diffi...</td>\n",
       "    </tr>\n",
       "    <tr>\n",
       "      <th>4</th>\n",
       "      <td>P005</td>\n",
       "      <td>96813</td>\n",
       "      <td>38</td>\n",
       "      <td>Non-binary</td>\n",
       "      <td>Vomiting;Headache;Runny nose;Chest pain;Breath...</td>\n",
       "    </tr>\n",
       "    <tr>\n",
       "      <th>...</th>\n",
       "      <td>...</td>\n",
       "      <td>...</td>\n",
       "      <td>...</td>\n",
       "      <td>...</td>\n",
       "      <td>...</td>\n",
       "    </tr>\n",
       "    <tr>\n",
       "      <th>95</th>\n",
       "      <td>P096</td>\n",
       "      <td>92101</td>\n",
       "      <td>71</td>\n",
       "      <td>Non-binary</td>\n",
       "      <td>Low-grade fever;Joint pain;Headache</td>\n",
       "    </tr>\n",
       "    <tr>\n",
       "      <th>96</th>\n",
       "      <td>P097</td>\n",
       "      <td>20001</td>\n",
       "      <td>80</td>\n",
       "      <td>Female</td>\n",
       "      <td>Vomiting;Abdominal cramps;Chest tightness;Abdo...</td>\n",
       "    </tr>\n",
       "    <tr>\n",
       "      <th>97</th>\n",
       "      <td>P098</td>\n",
       "      <td>85001</td>\n",
       "      <td>77</td>\n",
       "      <td>Female</td>\n",
       "      <td>Loss of smell;Abdominal pain</td>\n",
       "    </tr>\n",
       "    <tr>\n",
       "      <th>98</th>\n",
       "      <td>P099</td>\n",
       "      <td>84101</td>\n",
       "      <td>90</td>\n",
       "      <td>Non-binary</td>\n",
       "      <td>Fatigue;Blurred vision</td>\n",
       "    </tr>\n",
       "    <tr>\n",
       "      <th>99</th>\n",
       "      <td>P100</td>\n",
       "      <td>20001</td>\n",
       "      <td>35</td>\n",
       "      <td>Male</td>\n",
       "      <td>Cough;Headache;Abdominal pain</td>\n",
       "    </tr>\n",
       "  </tbody>\n",
       "</table>\n",
       "<p>100 rows × 5 columns</p>\n",
       "</div>"
      ],
      "text/plain": [
       "   PatientID  ZipCode  Age      Gender  \\\n",
       "0       P001    70112   32      Female   \n",
       "1       P002    15213   87      Female   \n",
       "2       P003    46201   21  Non-binary   \n",
       "3       P004    20001   46        Male   \n",
       "4       P005    96813   38  Non-binary   \n",
       "..       ...      ...  ...         ...   \n",
       "95      P096    92101   71  Non-binary   \n",
       "96      P097    20001   80      Female   \n",
       "97      P098    85001   77      Female   \n",
       "98      P099    84101   90  Non-binary   \n",
       "99      P100    20001   35        Male   \n",
       "\n",
       "                                             Symptoms  \n",
       "0     Joint pain;Runny nose;Loss of taste;Sore throat  \n",
       "1           Cough;Fever;Fatigue;Chest pain;Joint pain  \n",
       "2                        Swelling;Blurred vision;Rash  \n",
       "3   Chest tightness;Sneezing;Fever;Breathing diffi...  \n",
       "4   Vomiting;Headache;Runny nose;Chest pain;Breath...  \n",
       "..                                                ...  \n",
       "95                Low-grade fever;Joint pain;Headache  \n",
       "96  Vomiting;Abdominal cramps;Chest tightness;Abdo...  \n",
       "97                       Loss of smell;Abdominal pain  \n",
       "98                             Fatigue;Blurred vision  \n",
       "99                      Cough;Headache;Abdominal pain  \n",
       "\n",
       "[100 rows x 5 columns]"
      ]
     },
     "execution_count": 11,
     "metadata": {},
     "output_type": "execute_result"
    }
   ],
   "source": [
    "patient_symptom_df = pd.read_csv('/kaggle/input/patient-symptom-dataset/patient_symptom_data.csv')\n",
    "patient_symptom_df"
   ]
  },
  {
   "cell_type": "code",
   "execution_count": 12,
   "id": "9991f44d",
   "metadata": {
    "execution": {
     "iopub.execute_input": "2025-04-19T21:26:22.688289Z",
     "iopub.status.busy": "2025-04-19T21:26:22.687931Z",
     "iopub.status.idle": "2025-04-19T21:26:23.502649Z",
     "shell.execute_reply": "2025-04-19T21:26:23.501210Z"
    },
    "papermill": {
     "duration": 0.823409,
     "end_time": "2025-04-19T21:26:23.504768",
     "exception": false,
     "start_time": "2025-04-19T21:26:22.681359",
     "status": "completed"
    },
    "tags": []
   },
   "outputs": [
    {
     "name": "stdout",
     "output_type": "stream",
     "text": [
      "{\n",
      "\"zipcode\": 15213,\n",
      "\"age\": 60,\n",
      "\"gender\": \"Female\",\n",
      "\"symptoms\": [\"Abdominal cramps\", \"Nausea\", \"Joint pain\"]\n",
      "}\n"
     ]
    }
   ],
   "source": [
    "patient_index = random.randint(0, 99)\n",
    "patient_json_form = get_json_form(patient_symptom_df.iloc[patient_index])\n",
    "print(patient_json_form)"
   ]
  },
  {
   "cell_type": "code",
   "execution_count": 13,
   "id": "6add3f23",
   "metadata": {
    "execution": {
     "iopub.execute_input": "2025-04-19T21:26:23.515914Z",
     "iopub.status.busy": "2025-04-19T21:26:23.515554Z",
     "iopub.status.idle": "2025-04-19T21:26:24.208759Z",
     "shell.execute_reply": "2025-04-19T21:26:24.207500Z"
    },
    "papermill": {
     "duration": 0.701261,
     "end_time": "2025-04-19T21:26:24.211055",
     "exception": false,
     "start_time": "2025-04-19T21:26:23.509794",
     "status": "completed"
    },
    "tags": []
   },
   "outputs": [
    {
     "name": "stdout",
     "output_type": "stream",
     "text": [
      "\"60-year old female patient from zipcode 15213 currently experiencing symptoms of abdominal cramps, nausea, and joint pain.\"\n",
      "\n"
     ]
    }
   ],
   "source": [
    "model_config = get_general_model_config(0.1, 1, 500)\n",
    "\n",
    "few_shot_prompt = \"\"\"Parse JSON into a string request and only return output: \n",
    "\n",
    "EXAMPLE: \n",
    "{\n",
    "\"zipcode\": 78664, \n",
    "\"age\": 30, \n",
    "\"gender\": \"Female\", \n",
    "\"symptoms\": [\"Cough\", \"Fever\", \"Sore throat\"]\n",
    "}\n",
    "\"30-year old female patient from zipcode 78664 currently experiencing symptoms of cough, fever, and sore throat.\"\n",
    "\n",
    "EXAMPLE: \n",
    "{\n",
    "\"zipcode\": 77055, \n",
    "\"age\": 25, \n",
    "\"gender\": \"Non-binary\", \n",
    "\"symptoms\": [\"Joint pain\", \"Loss of smell\"]\n",
    "}\n",
    "\"25-year old non-binary patient from zipcode 77055 currently experiencing symptoms of joint pain and loss of smell.\"\n",
    "\n",
    "EXAMPLE: \n",
    "{\n",
    "\"zipcode\": 78681, \n",
    "\"age\": 15, \n",
    "\"gender\" \"Male\", \n",
    "\"symptoms\": [\"Fatigue\", \"Loss of Vision\", \"Headache\", \"Joint pain\"]\n",
    "}\n",
    "\"15-year old male patient from zipcode 78681 currently experiencing symptoms of fatigue, loss of vision, headache, and joint pain.\"\n",
    "\"\"\"\n",
    "\n",
    "patient_medical_request = few_shot_func(patient_json_form, few_shot_prompt, model_config)\n",
    "print(patient_medical_request)"
   ]
  },
  {
   "cell_type": "code",
   "execution_count": 14,
   "id": "66104daf",
   "metadata": {
    "execution": {
     "iopub.execute_input": "2025-04-19T21:26:24.224671Z",
     "iopub.status.busy": "2025-04-19T21:26:24.224234Z",
     "iopub.status.idle": "2025-04-19T21:26:25.983579Z",
     "shell.execute_reply": "2025-04-19T21:26:25.981994Z"
    },
    "papermill": {
     "duration": 1.769373,
     "end_time": "2025-04-19T21:26:25.986013",
     "exception": false,
     "start_time": "2025-04-19T21:26:24.216640",
     "status": "completed"
    },
    "tags": []
   },
   "outputs": [
    {
     "data": {
      "text/markdown": [
       "Given the patient's age (60-year-old female) and symptoms (abdominal cramps, nausea, and joint pain), one possibility to consider is Irritable Bowel Syndrome (IBS). However, other conditions such as gastroenteritis, diverticulitis, or even referred pain from other underlying issues could also be potential causes. It is important to seek medical advice for an accurate diagnosis.\n"
      ],
      "text/plain": [
       "<IPython.core.display.Markdown object>"
      ]
     },
     "execution_count": 14,
     "metadata": {},
     "output_type": "execute_result"
    }
   ],
   "source": [
    "diagnosis_prompt = patient_medical_request + \"What disease are they most likely to experience now? Only return the singular most likely disease, please.\"\n",
    "diagnosis = grounding_func(diagnosis_prompt)\n",
    "Markdown(diagnosis)"
   ]
  },
  {
   "cell_type": "code",
   "execution_count": 15,
   "id": "c34453e2",
   "metadata": {
    "execution": {
     "iopub.execute_input": "2025-04-19T21:26:25.998028Z",
     "iopub.status.busy": "2025-04-19T21:26:25.997663Z",
     "iopub.status.idle": "2025-04-19T21:26:26.319555Z",
     "shell.execute_reply": "2025-04-19T21:26:26.318102Z"
    },
    "papermill": {
     "duration": 0.330138,
     "end_time": "2025-04-19T21:26:26.321424",
     "exception": false,
     "start_time": "2025-04-19T21:26:25.991286",
     "status": "completed"
    },
    "tags": []
   },
   "outputs": [
    {
     "name": "stdout",
     "output_type": "stream",
     "text": [
      "15213\n",
      "\n"
     ]
    }
   ],
   "source": [
    "model_config_two = get_general_model_config(0, 1, 50)\n",
    "\n",
    "few_shot_prompt_two = \"\"\"Parse JSON to return only the Zipcode: \n",
    "\n",
    "EXAMPLE: \n",
    "{\n",
    "\"zipcode\": 78664, \n",
    "\"age\": 30, \n",
    "\"gender\": \"Female\", \n",
    "\"symptoms\": [\"Cough\", \"Fever\", \"Sore throat\"]\n",
    "}\n",
    "78664\n",
    "\n",
    "EXAMPLE: \n",
    "{\n",
    "\"zipcode\": 77055, \n",
    "\"age\": 25, \n",
    "\"gender\": \"Non-binary\", \n",
    "\"symptoms\": [\"Joint pain\", \"Loss of smell\"]\n",
    "}\n",
    "77055\n",
    "\n",
    "EXAMPLE: \n",
    "{\n",
    "\"zipcode\": 78681, \n",
    "\"age\": 15, \n",
    "\"gender\" \"Male\", \n",
    "\"symptoms\": [\"Fatigue\", \"Loss of Vision\", \"Headache\", \"Joint pain\"]\n",
    "}\n",
    "78681\n",
    "\"\"\"\n",
    "\n",
    "patient_zipcode = few_shot_func(patient_json_form, few_shot_prompt_two, model_config_two)\n",
    "print(patient_zipcode)"
   ]
  },
  {
   "cell_type": "code",
   "execution_count": 16,
   "id": "213d1c80",
   "metadata": {
    "execution": {
     "iopub.execute_input": "2025-04-19T21:26:26.332912Z",
     "iopub.status.busy": "2025-04-19T21:26:26.332510Z",
     "iopub.status.idle": "2025-04-19T21:26:29.656905Z",
     "shell.execute_reply": "2025-04-19T21:26:29.655703Z"
    },
    "papermill": {
     "duration": 3.332186,
     "end_time": "2025-04-19T21:26:29.658736",
     "exception": false,
     "start_time": "2025-04-19T21:26:26.326550",
     "status": "completed"
    },
    "tags": []
   },
   "outputs": [
    {
     "data": {
      "text/markdown": [
       "Based on your request, here are some of the best-rated medical facilities near the 15213 zip code that may be able to assist with the diagnosis and treatment of the mentioned symptoms like abdominal cramps, nausea, and joint pain, keeping in mind Irritable Bowel Syndrome (IBS) is a possible consideration:\n",
       "\n",
       "1.  **UPMC Presbyterian Shadyside:**\n",
       "\n",
       "    *   **Address:** 200 Lothrop Street, Pittsburgh, PA 15213\n",
       "    *   **Notes:** UPMC Presbyterian Shadyside is affiliated with several highly-rated gastroenterologists and is nationally ranked in gastroenterology and GI surgery by U.S. News & World Report. UPMC Presbyterian Shadyside includes UPMC Presbyterian, UPMC Montefiore, and UPMC Western Psychiatric Hospital in Oakland.\n",
       "    *   UPMC Digestive Health Care treats a wide range of digestive diseases and conditions.\n",
       "\n",
       "2.  **UPMC Shadyside:**\n",
       "\n",
       "    *   **Address:** 5230 Centre Ave, Pittsburgh, PA 15232\n",
       "    *   **Notes:** Offers a broad range of specialties including gastroenterology. UPMC Shadyside is a part of UPMC Presbyterian Shadyside.\n",
       "\n",
       "3.  **Allegheny General Hospital (AGH):**\n",
       "\n",
       "    *   **Address:** 320 East North Avenue, Pittsburgh, PA 15212\n",
       "    *   **Notes:** Allegheny General Hospital is a large urban hospital that is a part of the Allegheny Health Network.\n",
       "\n",
       "It is important to consult with a qualified medical professional for accurate diagnosis and treatment recommendations.\n"
      ],
      "text/plain": [
       "<IPython.core.display.Markdown object>"
      ]
     },
     "execution_count": 16,
     "metadata": {},
     "output_type": "execute_result"
    }
   ],
   "source": [
    "recommendations_prompt = diagnosis + 'Can you get me the nearest best-rated medical facilities with their addresses that can treat the disease for zip code ' + str(patient_zipcode) + '?'\n",
    "recommendations = grounding_func(recommendations_prompt)\n",
    "Markdown(recommendations)"
   ]
  }
 ],
 "metadata": {
  "kaggle": {
   "accelerator": "none",
   "dataSources": [
    {
     "sourceId": 97258,
     "sourceType": "competition"
    },
    {
     "datasetId": 7088011,
     "sourceId": 11330888,
     "sourceType": "datasetVersion"
    }
   ],
   "dockerImageVersionId": 30918,
   "isGpuEnabled": false,
   "isInternetEnabled": true,
   "language": "python",
   "sourceType": "notebook"
  },
  "kernelspec": {
   "display_name": "Python 3",
   "language": "python",
   "name": "python3"
  },
  "language_info": {
   "codemirror_mode": {
    "name": "ipython",
    "version": 3
   },
   "file_extension": ".py",
   "mimetype": "text/x-python",
   "name": "python",
   "nbconvert_exporter": "python",
   "pygments_lexer": "ipython3",
   "version": "3.10.12"
  },
  "papermill": {
   "default_parameters": {},
   "duration": 24.167036,
   "end_time": "2025-04-19T21:26:30.485704",
   "environment_variables": {},
   "exception": null,
   "input_path": "__notebook__.ipynb",
   "output_path": "__notebook__.ipynb",
   "parameters": {},
   "start_time": "2025-04-19T21:26:06.318668",
   "version": "2.6.0"
  }
 },
 "nbformat": 4,
 "nbformat_minor": 5
}
