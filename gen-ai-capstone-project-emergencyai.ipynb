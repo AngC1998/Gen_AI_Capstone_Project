{
 "cells": [
  {
   "cell_type": "markdown",
   "id": "70d8d76b",
   "metadata": {
    "papermill": {
     "duration": 0.0052,
     "end_time": "2025-04-11T23:27:10.777110",
     "exception": false,
     "start_time": "2025-04-11T23:27:10.771910",
     "status": "completed"
    },
    "tags": []
   },
   "source": [
    "# EmergencyZIP AI"
   ]
  },
  {
   "cell_type": "code",
   "execution_count": 1,
   "id": "bdad01be",
   "metadata": {
    "_cell_guid": "b1076dfc-b9ad-4769-8c92-a6c4dae69d19",
    "_uuid": "8f2839f25d086af736a60e9eeb907d3b93b6e0e5",
    "execution": {
     "iopub.execute_input": "2025-04-11T23:27:10.786982Z",
     "iopub.status.busy": "2025-04-11T23:27:10.786577Z",
     "iopub.status.idle": "2025-04-11T23:27:11.921337Z",
     "shell.execute_reply": "2025-04-11T23:27:11.920284Z"
    },
    "papermill": {
     "duration": 1.141567,
     "end_time": "2025-04-11T23:27:11.923213",
     "exception": false,
     "start_time": "2025-04-11T23:27:10.781646",
     "status": "completed"
    },
    "tags": []
   },
   "outputs": [
    {
     "name": "stdout",
     "output_type": "stream",
     "text": [
      "/kaggle/input/patient-symptom-dataset/patient_symptom_data.csv\n"
     ]
    }
   ],
   "source": [
    "# This Python 3 environment comes with many helpful analytics libraries installed\n",
    "# It is defined by the kaggle/python Docker image: https://github.com/kaggle/docker-python\n",
    "# For example, here's several helpful packages to load\n",
    "\n",
    "import numpy as np # linear algebra\n",
    "import pandas as pd # data processing, CSV file I/O (e.g. pd.read_csv)\n",
    "\n",
    "# Input data files are available in the read-only \"../input/\" directory\n",
    "# For example, running this (by clicking run or pressing Shift+Enter) will list all files under the input directory\n",
    "\n",
    "import os\n",
    "for dirname, _, filenames in os.walk('/kaggle/input'):\n",
    "    for filename in filenames:\n",
    "        print(os.path.join(dirname, filename))\n",
    "\n",
    "# You can write up to 20GB to the current directory (/kaggle/working/) that gets preserved as output when you create a version using \"Save & Run All\" \n",
    "# You can also write temporary files to /kaggle/temp/, but they won't be saved outside of the current session"
   ]
  },
  {
   "cell_type": "code",
   "execution_count": 2,
   "id": "a21bbdd2",
   "metadata": {
    "execution": {
     "iopub.execute_input": "2025-04-11T23:27:11.933533Z",
     "iopub.status.busy": "2025-04-11T23:27:11.933035Z",
     "iopub.status.idle": "2025-04-11T23:27:21.007110Z",
     "shell.execute_reply": "2025-04-11T23:27:21.005560Z"
    },
    "papermill": {
     "duration": 9.081558,
     "end_time": "2025-04-11T23:27:21.009283",
     "exception": false,
     "start_time": "2025-04-11T23:27:11.927725",
     "status": "completed"
    },
    "tags": []
   },
   "outputs": [
    {
     "name": "stdout",
     "output_type": "stream",
     "text": [
      "\u001b[2K   \u001b[90m━━━━━━━━━━━━━━━━━━━━━━━━━━━━━━━━━━━━━━━━\u001b[0m \u001b[32m144.7/144.7 kB\u001b[0m \u001b[31m4.3 MB/s\u001b[0m eta \u001b[36m0:00:00\u001b[0m\r\n",
      "\u001b[2K   \u001b[90m━━━━━━━━━━━━━━━━━━━━━━━━━━━━━━━━━━━━━━━━\u001b[0m \u001b[32m100.9/100.9 kB\u001b[0m \u001b[31m4.0 MB/s\u001b[0m eta \u001b[36m0:00:00\u001b[0m\r\n",
      "\u001b[?25h"
     ]
    }
   ],
   "source": [
    "!pip uninstall -qqy jupyterlab  # Remove unused packages from Kaggle's base image that conflict\n",
    "!pip install -U -q \"google-genai==1.7.0\""
   ]
  },
  {
   "cell_type": "code",
   "execution_count": 3,
   "id": "c81fc0b4",
   "metadata": {
    "execution": {
     "iopub.execute_input": "2025-04-11T23:27:21.019804Z",
     "iopub.status.busy": "2025-04-11T23:27:21.019448Z",
     "iopub.status.idle": "2025-04-11T23:27:22.388100Z",
     "shell.execute_reply": "2025-04-11T23:27:22.386755Z"
    },
    "papermill": {
     "duration": 1.376626,
     "end_time": "2025-04-11T23:27:22.390471",
     "exception": false,
     "start_time": "2025-04-11T23:27:21.013845",
     "status": "completed"
    },
    "tags": []
   },
   "outputs": [],
   "source": [
    "from google import genai\n",
    "from google.genai import types\n",
    "\n",
    "from IPython.display import HTML, Markdown, display"
   ]
  },
  {
   "cell_type": "code",
   "execution_count": 4,
   "id": "f7384472",
   "metadata": {
    "execution": {
     "iopub.execute_input": "2025-04-11T23:27:22.401886Z",
     "iopub.status.busy": "2025-04-11T23:27:22.401366Z",
     "iopub.status.idle": "2025-04-11T23:27:22.679222Z",
     "shell.execute_reply": "2025-04-11T23:27:22.678330Z"
    },
    "papermill": {
     "duration": 0.285035,
     "end_time": "2025-04-11T23:27:22.680903",
     "exception": false,
     "start_time": "2025-04-11T23:27:22.395868",
     "status": "completed"
    },
    "tags": []
   },
   "outputs": [],
   "source": [
    "from google.api_core import retry\n",
    "\n",
    "\n",
    "is_retriable = lambda e: (isinstance(e, genai.errors.APIError) and e.code in {429, 503})\n",
    "\n",
    "genai.models.Models.generate_content = retry.Retry(\n",
    "    predicate=is_retriable)(genai.models.Models.generate_content)"
   ]
  },
  {
   "cell_type": "code",
   "execution_count": 5,
   "id": "d3aeb8d7",
   "metadata": {
    "execution": {
     "iopub.execute_input": "2025-04-11T23:27:22.691046Z",
     "iopub.status.busy": "2025-04-11T23:27:22.690481Z",
     "iopub.status.idle": "2025-04-11T23:27:22.873987Z",
     "shell.execute_reply": "2025-04-11T23:27:22.872823Z"
    },
    "papermill": {
     "duration": 0.190622,
     "end_time": "2025-04-11T23:27:22.875922",
     "exception": false,
     "start_time": "2025-04-11T23:27:22.685300",
     "status": "completed"
    },
    "tags": []
   },
   "outputs": [],
   "source": [
    "from kaggle_secrets import UserSecretsClient\n",
    "\n",
    "GOOGLE_API_KEY = UserSecretsClient().get_secret(\"GOOGLE_API_KEY\")"
   ]
  },
  {
   "cell_type": "code",
   "execution_count": 6,
   "id": "a07b823d",
   "metadata": {
    "execution": {
     "iopub.execute_input": "2025-04-11T23:27:22.885866Z",
     "iopub.status.busy": "2025-04-11T23:27:22.885528Z",
     "iopub.status.idle": "2025-04-11T23:27:23.257225Z",
     "shell.execute_reply": "2025-04-11T23:27:23.255578Z"
    },
    "papermill": {
     "duration": 0.378712,
     "end_time": "2025-04-11T23:27:23.259212",
     "exception": false,
     "start_time": "2025-04-11T23:27:22.880500",
     "status": "completed"
    },
    "tags": []
   },
   "outputs": [],
   "source": [
    "client = genai.Client(api_key=GOOGLE_API_KEY)"
   ]
  },
  {
   "cell_type": "code",
   "execution_count": 7,
   "id": "64abf0d6",
   "metadata": {
    "execution": {
     "iopub.execute_input": "2025-04-11T23:27:23.269285Z",
     "iopub.status.busy": "2025-04-11T23:27:23.268887Z",
     "iopub.status.idle": "2025-04-11T23:27:23.275012Z",
     "shell.execute_reply": "2025-04-11T23:27:23.274023Z"
    },
    "papermill": {
     "duration": 0.013113,
     "end_time": "2025-04-11T23:27:23.276784",
     "exception": false,
     "start_time": "2025-04-11T23:27:23.263671",
     "status": "completed"
    },
    "tags": []
   },
   "outputs": [],
   "source": [
    "import typing_extensions as typing\n",
    "\n",
    "class MedicalPatient(typing.TypedDict): \n",
    "    zipcode: int\n",
    "    age: int\n",
    "    gender: str\n",
    "    symptoms: list[str]\n",
    "\n",
    "def get_json_form(patient_symptom_entry): \n",
    "    entry_str = patient_symptom_entry.to_string()\n",
    "    json_response = client.models.generate_content(\n",
    "        model='gemini-2.0-flash', \n",
    "        config=types.GenerateContentConfig(\n",
    "            temperature=0.1, \n",
    "            response_mime_type=\"application/json\", \n",
    "            response_schema=MedicalPatient\n",
    "        ), \n",
    "        contents=entry_str\n",
    "    )\n",
    "    json_form = json_response.text\n",
    "    return json_form"
   ]
  },
  {
   "cell_type": "code",
   "execution_count": 8,
   "id": "b7f27efd",
   "metadata": {
    "execution": {
     "iopub.execute_input": "2025-04-11T23:27:23.286801Z",
     "iopub.status.busy": "2025-04-11T23:27:23.286459Z",
     "iopub.status.idle": "2025-04-11T23:27:23.290656Z",
     "shell.execute_reply": "2025-04-11T23:27:23.289795Z"
    },
    "papermill": {
     "duration": 0.01101,
     "end_time": "2025-04-11T23:27:23.292261",
     "exception": false,
     "start_time": "2025-04-11T23:27:23.281251",
     "status": "completed"
    },
    "tags": []
   },
   "outputs": [],
   "source": [
    "def get_general_model_config(temperature, top_p, max_output_tokens): \n",
    "    return types.GenerateContentConfig(\n",
    "        temperature=temperature, \n",
    "        top_p=top_p, \n",
    "        max_output_tokens=max_output_tokens\n",
    "    )"
   ]
  },
  {
   "cell_type": "code",
   "execution_count": 9,
   "id": "c1861999",
   "metadata": {
    "execution": {
     "iopub.execute_input": "2025-04-11T23:27:23.302272Z",
     "iopub.status.busy": "2025-04-11T23:27:23.301880Z",
     "iopub.status.idle": "2025-04-11T23:27:23.306681Z",
     "shell.execute_reply": "2025-04-11T23:27:23.305708Z"
    },
    "papermill": {
     "duration": 0.011649,
     "end_time": "2025-04-11T23:27:23.308255",
     "exception": false,
     "start_time": "2025-04-11T23:27:23.296606",
     "status": "completed"
    },
    "tags": []
   },
   "outputs": [],
   "source": [
    "def few_shot_func(model_input, prompt, config): \n",
    "    few_shot_response = client.models.generate_content(\n",
    "        model='gemini-2.0-flash', \n",
    "        config=config,\n",
    "        contents=[prompt, model_input]\n",
    "    )\n",
    "    str_response = few_shot_response.text\n",
    "    return str_response"
   ]
  },
  {
   "cell_type": "code",
   "execution_count": 10,
   "id": "a0c64121",
   "metadata": {
    "execution": {
     "iopub.execute_input": "2025-04-11T23:27:23.318082Z",
     "iopub.status.busy": "2025-04-11T23:27:23.317729Z",
     "iopub.status.idle": "2025-04-11T23:27:23.322581Z",
     "shell.execute_reply": "2025-04-11T23:27:23.321661Z"
    },
    "papermill": {
     "duration": 0.011558,
     "end_time": "2025-04-11T23:27:23.324244",
     "exception": false,
     "start_time": "2025-04-11T23:27:23.312686",
     "status": "completed"
    },
    "tags": []
   },
   "outputs": [],
   "source": [
    "def grounding_func(input_prompt): \n",
    "    config_with_search = types.GenerateContentConfig(\n",
    "        tools=[types.Tool(google_search=types.GoogleSearch())],\n",
    "    )\n",
    "    response = client.models.generate_content(\n",
    "        model='gemini-2.0-flash', \n",
    "        contents=input_prompt, \n",
    "        config=config_with_search,\n",
    "    )\n",
    "    rc = response.candidates[0]\n",
    "    return rc.content.parts[0].text"
   ]
  },
  {
   "cell_type": "code",
   "execution_count": 11,
   "id": "d34c2bbe",
   "metadata": {
    "execution": {
     "iopub.execute_input": "2025-04-11T23:27:23.334089Z",
     "iopub.status.busy": "2025-04-11T23:27:23.333758Z",
     "iopub.status.idle": "2025-04-11T23:27:23.383783Z",
     "shell.execute_reply": "2025-04-11T23:27:23.382607Z"
    },
    "papermill": {
     "duration": 0.056887,
     "end_time": "2025-04-11T23:27:23.385427",
     "exception": false,
     "start_time": "2025-04-11T23:27:23.328540",
     "status": "completed"
    },
    "tags": []
   },
   "outputs": [
    {
     "data": {
      "text/html": [
       "<div>\n",
       "<style scoped>\n",
       "    .dataframe tbody tr th:only-of-type {\n",
       "        vertical-align: middle;\n",
       "    }\n",
       "\n",
       "    .dataframe tbody tr th {\n",
       "        vertical-align: top;\n",
       "    }\n",
       "\n",
       "    .dataframe thead th {\n",
       "        text-align: right;\n",
       "    }\n",
       "</style>\n",
       "<table border=\"1\" class=\"dataframe\">\n",
       "  <thead>\n",
       "    <tr style=\"text-align: right;\">\n",
       "      <th></th>\n",
       "      <th>PatientID</th>\n",
       "      <th>ZipCode</th>\n",
       "      <th>Age</th>\n",
       "      <th>Gender</th>\n",
       "      <th>Symptoms</th>\n",
       "    </tr>\n",
       "  </thead>\n",
       "  <tbody>\n",
       "    <tr>\n",
       "      <th>0</th>\n",
       "      <td>P001</td>\n",
       "      <td>70112</td>\n",
       "      <td>32</td>\n",
       "      <td>Female</td>\n",
       "      <td>Joint pain;Runny nose;Loss of taste;Sore throat</td>\n",
       "    </tr>\n",
       "    <tr>\n",
       "      <th>1</th>\n",
       "      <td>P002</td>\n",
       "      <td>15213</td>\n",
       "      <td>87</td>\n",
       "      <td>Female</td>\n",
       "      <td>Cough;Fever;Fatigue;Chest pain;Joint pain</td>\n",
       "    </tr>\n",
       "    <tr>\n",
       "      <th>2</th>\n",
       "      <td>P003</td>\n",
       "      <td>46201</td>\n",
       "      <td>21</td>\n",
       "      <td>Non-binary</td>\n",
       "      <td>Swelling;Blurred vision;Rash</td>\n",
       "    </tr>\n",
       "    <tr>\n",
       "      <th>3</th>\n",
       "      <td>P004</td>\n",
       "      <td>20001</td>\n",
       "      <td>46</td>\n",
       "      <td>Male</td>\n",
       "      <td>Chest tightness;Sneezing;Fever;Breathing diffi...</td>\n",
       "    </tr>\n",
       "    <tr>\n",
       "      <th>4</th>\n",
       "      <td>P005</td>\n",
       "      <td>96813</td>\n",
       "      <td>38</td>\n",
       "      <td>Non-binary</td>\n",
       "      <td>Vomiting;Headache;Runny nose;Chest pain;Breath...</td>\n",
       "    </tr>\n",
       "    <tr>\n",
       "      <th>...</th>\n",
       "      <td>...</td>\n",
       "      <td>...</td>\n",
       "      <td>...</td>\n",
       "      <td>...</td>\n",
       "      <td>...</td>\n",
       "    </tr>\n",
       "    <tr>\n",
       "      <th>95</th>\n",
       "      <td>P096</td>\n",
       "      <td>92101</td>\n",
       "      <td>71</td>\n",
       "      <td>Non-binary</td>\n",
       "      <td>Low-grade fever;Joint pain;Headache</td>\n",
       "    </tr>\n",
       "    <tr>\n",
       "      <th>96</th>\n",
       "      <td>P097</td>\n",
       "      <td>20001</td>\n",
       "      <td>80</td>\n",
       "      <td>Female</td>\n",
       "      <td>Vomiting;Abdominal cramps;Chest tightness;Abdo...</td>\n",
       "    </tr>\n",
       "    <tr>\n",
       "      <th>97</th>\n",
       "      <td>P098</td>\n",
       "      <td>85001</td>\n",
       "      <td>77</td>\n",
       "      <td>Female</td>\n",
       "      <td>Loss of smell;Abdominal pain</td>\n",
       "    </tr>\n",
       "    <tr>\n",
       "      <th>98</th>\n",
       "      <td>P099</td>\n",
       "      <td>84101</td>\n",
       "      <td>90</td>\n",
       "      <td>Non-binary</td>\n",
       "      <td>Fatigue;Blurred vision</td>\n",
       "    </tr>\n",
       "    <tr>\n",
       "      <th>99</th>\n",
       "      <td>P100</td>\n",
       "      <td>20001</td>\n",
       "      <td>35</td>\n",
       "      <td>Male</td>\n",
       "      <td>Cough;Headache;Abdominal pain</td>\n",
       "    </tr>\n",
       "  </tbody>\n",
       "</table>\n",
       "<p>100 rows × 5 columns</p>\n",
       "</div>"
      ],
      "text/plain": [
       "   PatientID  ZipCode  Age      Gender  \\\n",
       "0       P001    70112   32      Female   \n",
       "1       P002    15213   87      Female   \n",
       "2       P003    46201   21  Non-binary   \n",
       "3       P004    20001   46        Male   \n",
       "4       P005    96813   38  Non-binary   \n",
       "..       ...      ...  ...         ...   \n",
       "95      P096    92101   71  Non-binary   \n",
       "96      P097    20001   80      Female   \n",
       "97      P098    85001   77      Female   \n",
       "98      P099    84101   90  Non-binary   \n",
       "99      P100    20001   35        Male   \n",
       "\n",
       "                                             Symptoms  \n",
       "0     Joint pain;Runny nose;Loss of taste;Sore throat  \n",
       "1           Cough;Fever;Fatigue;Chest pain;Joint pain  \n",
       "2                        Swelling;Blurred vision;Rash  \n",
       "3   Chest tightness;Sneezing;Fever;Breathing diffi...  \n",
       "4   Vomiting;Headache;Runny nose;Chest pain;Breath...  \n",
       "..                                                ...  \n",
       "95                Low-grade fever;Joint pain;Headache  \n",
       "96  Vomiting;Abdominal cramps;Chest tightness;Abdo...  \n",
       "97                       Loss of smell;Abdominal pain  \n",
       "98                             Fatigue;Blurred vision  \n",
       "99                      Cough;Headache;Abdominal pain  \n",
       "\n",
       "[100 rows x 5 columns]"
      ]
     },
     "execution_count": 11,
     "metadata": {},
     "output_type": "execute_result"
    }
   ],
   "source": [
    "patient_symptom_df = pd.read_csv('/kaggle/input/patient-symptom-dataset/patient_symptom_data.csv')\n",
    "patient_symptom_df"
   ]
  },
  {
   "cell_type": "code",
   "execution_count": 12,
   "id": "755903c3",
   "metadata": {
    "execution": {
     "iopub.execute_input": "2025-04-11T23:27:23.396200Z",
     "iopub.status.busy": "2025-04-11T23:27:23.395830Z",
     "iopub.status.idle": "2025-04-11T23:27:24.390946Z",
     "shell.execute_reply": "2025-04-11T23:27:24.389616Z"
    },
    "papermill": {
     "duration": 1.002626,
     "end_time": "2025-04-11T23:27:24.392807",
     "exception": false,
     "start_time": "2025-04-11T23:27:23.390181",
     "status": "completed"
    },
    "tags": []
   },
   "outputs": [
    {
     "name": "stdout",
     "output_type": "stream",
     "text": [
      "{\n",
      "  \"zipcode\": 70112,\n",
      "  \"age\": 32,\n",
      "  \"gender\": \"Female\",\n",
      "  \"symptoms\": [\n",
      "    \"Joint pain\",\n",
      "    \"Runny nose\",\n",
      "    \"Loss of taste\",\n",
      "    \"Sore throat\"\n",
      "  ]\n",
      "}\n"
     ]
    }
   ],
   "source": [
    "patient_json_form = get_json_form(patient_symptom_df.iloc[0])\n",
    "print(patient_json_form)"
   ]
  },
  {
   "cell_type": "code",
   "execution_count": 13,
   "id": "12d8a631",
   "metadata": {
    "execution": {
     "iopub.execute_input": "2025-04-11T23:27:24.403577Z",
     "iopub.status.busy": "2025-04-11T23:27:24.403218Z",
     "iopub.status.idle": "2025-04-11T23:27:24.856237Z",
     "shell.execute_reply": "2025-04-11T23:27:24.854900Z"
    },
    "papermill": {
     "duration": 0.460397,
     "end_time": "2025-04-11T23:27:24.858027",
     "exception": false,
     "start_time": "2025-04-11T23:27:24.397630",
     "status": "completed"
    },
    "tags": []
   },
   "outputs": [
    {
     "name": "stdout",
     "output_type": "stream",
     "text": [
      "\"32-year old female patient from zipcode 70112 currently experiencing symptoms of joint pain, runny nose, loss of taste, and sore throat.\"\n",
      "\n"
     ]
    }
   ],
   "source": [
    "model_config = get_general_model_config(0.1, 1, 500)\n",
    "\n",
    "few_shot_prompt = \"\"\"Parse JSON into a string request and only return output: \n",
    "\n",
    "EXAMPLE: \n",
    "{\n",
    "\"zipcode\": 78664, \n",
    "\"age\": 30, \n",
    "\"gender\": \"Female\", \n",
    "\"symptoms\": [\"Cough\", \"Fever\", \"Sore throat\"]\n",
    "}\n",
    "\"30-year old female patient from zipcode 78664 currently experiencing symptoms of cough, fever, and sore throat.\"\n",
    "\n",
    "EXAMPLE: \n",
    "{\n",
    "\"zipcode\": 77055, \n",
    "\"age\": 25, \n",
    "\"gender\": \"Non-binary\", \n",
    "\"symptoms\": [\"Joint pain\", \"Loss of smell\"]\n",
    "}\n",
    "\"25-year old non-binary patient from zipcode 77055 currently experiencing symptoms of joint pain and loss of smell.\"\n",
    "\n",
    "EXAMPLE: \n",
    "{\n",
    "\"zipcode\": 78681, \n",
    "\"age\": 15, \n",
    "\"gender\" \"Male\", \n",
    "\"symptoms\": [\"Fatigue\", \"Loss of Vision\", \"Headache\", \"Joint pain\"]\n",
    "}\n",
    "\"15-year old male patient from zipcode 78681 currently experiencing symptoms of fatigue, loss of vision, headache, and joint pain.\"\n",
    "\"\"\"\n",
    "\n",
    "patient_medical_request = few_shot_func(patient_json_form, few_shot_prompt, model_config)\n",
    "print(patient_medical_request)"
   ]
  },
  {
   "cell_type": "code",
   "execution_count": 14,
   "id": "db5e58f2",
   "metadata": {
    "execution": {
     "iopub.execute_input": "2025-04-11T23:27:24.869101Z",
     "iopub.status.busy": "2025-04-11T23:27:24.868700Z",
     "iopub.status.idle": "2025-04-11T23:27:27.279253Z",
     "shell.execute_reply": "2025-04-11T23:27:27.278034Z"
    },
    "papermill": {
     "duration": 2.418047,
     "end_time": "2025-04-11T23:27:27.280966",
     "exception": false,
     "start_time": "2025-04-11T23:27:24.862919",
     "status": "completed"
    },
    "tags": []
   },
   "outputs": [
    {
     "data": {
      "text/markdown": [
       "Based on the symptoms of joint pain, runny nose, loss of taste, and sore throat, the most likely disease the 32-year-old female patient is currently experiencing is **COVID-19**.\n",
       "\n",
       "While other conditions like the common cold and flu share some of these symptoms, the loss of taste is a more distinctive symptom of COVID-19. Joint pain can also be associated with COVID-19.\n"
      ],
      "text/plain": [
       "<IPython.core.display.Markdown object>"
      ]
     },
     "execution_count": 14,
     "metadata": {},
     "output_type": "execute_result"
    }
   ],
   "source": [
    "prompt_one = patient_medical_request + \"What disease are they most likely to experience now? Only return the singular most likely disease, please.\"\n",
    "prompt_one_result = grounding_func(prompt_one)\n",
    "Markdown(prompt_one_result)"
   ]
  },
  {
   "cell_type": "code",
   "execution_count": 15,
   "id": "cdbfbcae",
   "metadata": {
    "execution": {
     "iopub.execute_input": "2025-04-11T23:27:27.292892Z",
     "iopub.status.busy": "2025-04-11T23:27:27.292559Z",
     "iopub.status.idle": "2025-04-11T23:27:27.615586Z",
     "shell.execute_reply": "2025-04-11T23:27:27.614269Z"
    },
    "papermill": {
     "duration": 0.331426,
     "end_time": "2025-04-11T23:27:27.617740",
     "exception": false,
     "start_time": "2025-04-11T23:27:27.286314",
     "status": "completed"
    },
    "tags": []
   },
   "outputs": [
    {
     "name": "stdout",
     "output_type": "stream",
     "text": [
      "70112\n",
      "\n"
     ]
    }
   ],
   "source": [
    "model_config_two = get_general_model_config(0, 1, 50)\n",
    "\n",
    "few_shot_prompt_two = \"\"\"Parse JSON to return only the Zipcode: \n",
    "\n",
    "EXAMPLE: \n",
    "{\n",
    "\"zipcode\": 78664, \n",
    "\"age\": 30, \n",
    "\"gender\": \"Female\", \n",
    "\"symptoms\": [\"Cough\", \"Fever\", \"Sore throat\"]\n",
    "}\n",
    "78664\n",
    "\n",
    "EXAMPLE: \n",
    "{\n",
    "\"zipcode\": 77055, \n",
    "\"age\": 25, \n",
    "\"gender\": \"Non-binary\", \n",
    "\"symptoms\": [\"Joint pain\", \"Loss of smell\"]\n",
    "}\n",
    "77055\n",
    "\n",
    "EXAMPLE: \n",
    "{\n",
    "\"zipcode\": 78681, \n",
    "\"age\": 15, \n",
    "\"gender\" \"Male\", \n",
    "\"symptoms\": [\"Fatigue\", \"Loss of Vision\", \"Headache\", \"Joint pain\"]\n",
    "}\n",
    "78681\n",
    "\"\"\"\n",
    "\n",
    "patient_zipcode = few_shot_func(patient_json_form, few_shot_prompt_two, model_config_two)\n",
    "print(patient_zipcode)"
   ]
  },
  {
   "cell_type": "code",
   "execution_count": 16,
   "id": "81bd6dac",
   "metadata": {
    "execution": {
     "iopub.execute_input": "2025-04-11T23:27:27.629296Z",
     "iopub.status.busy": "2025-04-11T23:27:27.628909Z",
     "iopub.status.idle": "2025-04-11T23:27:31.524830Z",
     "shell.execute_reply": "2025-04-11T23:27:31.523752Z"
    },
    "papermill": {
     "duration": 3.904244,
     "end_time": "2025-04-11T23:27:31.526963",
     "exception": false,
     "start_time": "2025-04-11T23:27:27.622719",
     "status": "completed"
    },
    "tags": []
   },
   "outputs": [
    {
     "data": {
      "text/markdown": [
       "Based on the search results, here are some of the nearest medical facilities that may be able to assist with COVID-19 treatment in the 70112 zip code:\n",
       "\n",
       "*   **Concentra Downtown New Orleans**\n",
       "    *   Address: 318 Baronne Street, New Orleans, LA 70112\n",
       "    *   Phone: 504.561.1051\n",
       "    *   Hours: Monday - Friday 8 a.m. - 5 p.m.\n",
       "    *   Offers urgent care services and treats illnesses like coughs, colds, and flu.\n",
       "*   **University Medical Center New Orleans**\n",
       "    *   Address: 2000 Canal Street, New Orleans, LA 70112\n",
       "    *   Phone: (504) 702-3000\n",
       "    *   An acute care hospital providing a wide range of services, including emergency care and infectious disease care.\n",
       "*   **Access Health Louisiana Primary Care at the Pythian**\n",
       "    *   Address: 234 Loyola Avenue, Suite 300B, New Orleans, LA 70112\n",
       "    *   Phone: (504) 226-2976\n",
       "    *   Offers adult primary care, behavioral health, and infectious disease care.\n",
       "*   **Ochsner Medical Center – New Orleans**\n",
       "    *   Address: (Not specified in the search results, but it's a major medical center in New Orleans)\n",
       "    *   Offers a wide range of services and specialized programs.\n",
       "\n",
       "It's important to note that while I've provided potential options, contacting these facilities directly to confirm their current COVID-19 treatment protocols, availability, and specific services is essential. You can also inquire about their safety measures and any specific instructions for patients with potential COVID-19 symptoms.\n"
      ],
      "text/plain": [
       "<IPython.core.display.Markdown object>"
      ]
     },
     "execution_count": 16,
     "metadata": {},
     "output_type": "execute_result"
    }
   ],
   "source": [
    "prompt_two = prompt_one_result + 'Can you get me the nearest best-rated medical facilities with their addresses that can treat the disease for zip code ' + str(patient_zipcode) + '?'\n",
    "prompt_two_result = grounding_func(prompt_two)\n",
    "Markdown(prompt_two_result)"
   ]
  }
 ],
 "metadata": {
  "kaggle": {
   "accelerator": "none",
   "dataSources": [
    {
     "sourceId": 97258,
     "sourceType": "competition"
    },
    {
     "datasetId": 7088011,
     "sourceId": 11330888,
     "sourceType": "datasetVersion"
    }
   ],
   "dockerImageVersionId": 30918,
   "isGpuEnabled": false,
   "isInternetEnabled": true,
   "language": "python",
   "sourceType": "notebook"
  },
  "kernelspec": {
   "display_name": "Python 3",
   "language": "python",
   "name": "python3"
  },
  "language_info": {
   "codemirror_mode": {
    "name": "ipython",
    "version": 3
   },
   "file_extension": ".py",
   "mimetype": "text/x-python",
   "name": "python",
   "nbconvert_exporter": "python",
   "pygments_lexer": "ipython3",
   "version": "3.10.12"
  },
  "papermill": {
   "default_parameters": {},
   "duration": 25.253604,
   "end_time": "2025-04-11T23:27:32.354500",
   "environment_variables": {},
   "exception": null,
   "input_path": "__notebook__.ipynb",
   "output_path": "__notebook__.ipynb",
   "parameters": {},
   "start_time": "2025-04-11T23:27:07.100896",
   "version": "2.6.0"
  }
 },
 "nbformat": 4,
 "nbformat_minor": 5
}
