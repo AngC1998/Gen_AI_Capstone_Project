{
 "cells": [
  {
   "cell_type": "markdown",
   "id": "41b78995",
   "metadata": {
    "papermill": {
     "duration": 0.00774,
     "end_time": "2025-04-20T22:25:34.971910",
     "exception": false,
     "start_time": "2025-04-20T22:25:34.964170",
     "status": "completed"
    },
    "tags": []
   },
   "source": [
    "# EmergencyZIP AI"
   ]
  },
  {
   "cell_type": "markdown",
   "id": "f011abc8",
   "metadata": {
    "papermill": {
     "duration": 0.006646,
     "end_time": "2025-04-20T22:25:34.985698",
     "exception": false,
     "start_time": "2025-04-20T22:25:34.979052",
     "status": "completed"
    },
    "tags": []
   },
   "source": [
    "[Medium Blog](https://medium.com/@angela.cao.98/emergencyzip-ai-00b11d711e26)\n",
    "[YouTube Video](https://youtu.be/aYR06Dws1Xc)"
   ]
  },
  {
   "cell_type": "markdown",
   "id": "4572fb57",
   "metadata": {
    "papermill": {
     "duration": 0.007117,
     "end_time": "2025-04-20T22:25:34.999698",
     "exception": false,
     "start_time": "2025-04-20T22:25:34.992581",
     "status": "completed"
    },
    "tags": []
   },
   "source": [
    "## Intro\n",
    "\n",
    "As a Data Scientist in Healthcare with over two years of industry experience, I’ve learned that a person’s zip code (postal code) plays a crucial role in determining their health status. Where an individual lives can significantly impact their overall health, as local healthcare quality varies across regions. Unfortunately, many people are unaware of the healthcare facilities available in their area or may not know which one is best suited for their specific medical needs. To address this, I developed EmergencyZIP AI, a tool designed to help individuals identify the best medical facilities based on their symptoms or conditions, while considering their zip code as a critical factor in their health status.\n",
    "\n",
    "## Use Case and Solution Approach\n",
    "\n",
    "Individuals often seek clarity about the illness or medical condition they may be experiencing and want to know which nearby healthcare facilities can provide the best treatment. EmergencyZIP AI utilizes advanced AI to not only help individuals identify the potential illness or condition they’re facing but also guide them to the most appropriate medical facilities nearby based on zip code.\n",
    "\n",
    "The system takes zip codes into account, recognizing the importance of location in determining healthcare accessibility and quality.\n",
    "\n",
    "## Innovation/Novelty\n",
    "\n",
    "Although the internet provides many resources for finding local healthcare facilities, searching through numerous results can be overwhelming. Moreover, it’s difficult for individuals to accurately diagnose their condition without medical expertise. EmergencyZIP AI solves this by offering personalized and tailored responses, focusing specifically on the individual’s symptoms and their location.\n",
    "\n",
    "While human doctors are skilled at diagnosing, they may still be influenced by biases or errors. AI, on the other hand, minimizes these biases by considering the patient’s demographic information. However, I acknowledge that human doctors can recognize nuances that AI may miss, as AI is typically trained on generalized data. The goal of EmergencyZIP AI is to make medical information more accessible and less overwhelming for users, while providing individualized insights.\n",
    "\n",
    "## Process\n",
    "\n",
    "EmergencyZIP AI operates using Structured Output/JSON Mode/Controlled Generation, Few-Shot Prompting, and Grounding techniques. Here’s how it works:\n",
    "\n",
    "1. JSON Mode: The AI processes the patient’s demographic information and current symptoms, converting it into a structured JSON format, similar to a simplified patient intake form.\n",
    "2. Few-Shot Prompting: The AI generates a request based on the information provided by the JSON form using a few provided examples to maintain consistency and accuracy which is then included in a prompt for the AI asking for the most relevant data to help diagnose the condition. The AI also extracts zipcode from the JSON form using a few provided examples to maintain accuracy to be used to find nearby locations.\n",
    "3. Grounding: Using the provided information, the AI offers the most accurate potential diagnosis for the individual’s symptoms. Then, it uses the zip code to find the nearest and most appropriate medical facilities for treatment. Then, the AI provides payment and insurance plan information for each recommended location.\n",
    "4. Controlled Generation: As the AI is responsible for providing the most accurate and thorough information as possible, we try to keep the temperature (degree of randomness of output) parameter as low as possible while the top-p (the maximum cumulative probability that the model can reach to select tokens as candidates) parameter as high as possible."
   ]
  },
  {
   "cell_type": "markdown",
   "id": "7334bbe7",
   "metadata": {
    "papermill": {
     "duration": 0.006609,
     "end_time": "2025-04-20T22:25:35.013277",
     "exception": false,
     "start_time": "2025-04-20T22:25:35.006668",
     "status": "completed"
    },
    "tags": []
   },
   "source": [
    "### Importing Relevant Libraries and Technologies \n",
    "\n",
    "I set up Gemini API to implement my AI (the code also retrieves the API Key from Kaggle Secrets to retrieve the Google API that makes it possible for the AI to work) and imported the Pandas and Random libraries (and other unnamed libraries) to do my test run to check if the AI works as intended or not. "
   ]
  },
  {
   "cell_type": "code",
   "execution_count": 1,
   "id": "3e5677d2",
   "metadata": {
    "_cell_guid": "b1076dfc-b9ad-4769-8c92-a6c4dae69d19",
    "_uuid": "8f2839f25d086af736a60e9eeb907d3b93b6e0e5",
    "execution": {
     "iopub.execute_input": "2025-04-20T22:25:35.028590Z",
     "iopub.status.busy": "2025-04-20T22:25:35.028138Z",
     "iopub.status.idle": "2025-04-20T22:25:36.103796Z",
     "shell.execute_reply": "2025-04-20T22:25:36.102305Z"
    },
    "papermill": {
     "duration": 1.085724,
     "end_time": "2025-04-20T22:25:36.105878",
     "exception": false,
     "start_time": "2025-04-20T22:25:35.020154",
     "status": "completed"
    },
    "tags": []
   },
   "outputs": [
    {
     "name": "stdout",
     "output_type": "stream",
     "text": [
      "/kaggle/input/patient-symptom-dataset/patient_symptom_data_with_demographics_imperial.csv\n"
     ]
    }
   ],
   "source": [
    "# This Python 3 environment comes with many helpful analytics libraries installed\n",
    "# It is defined by the kaggle/python Docker image: https://github.com/kaggle/docker-python\n",
    "# For example, here's several helpful packages to load\n",
    "\n",
    "import numpy as np # linear algebra\n",
    "import pandas as pd # data processing, CSV file I/O (e.g. pd.read_csv)\n",
    "import random\n",
    "\n",
    "# Input data files are available in the read-only \"../input/\" directory\n",
    "# For example, running this (by clicking run or pressing Shift+Enter) will list all files under the input directory\n",
    "\n",
    "import os\n",
    "for dirname, _, filenames in os.walk('/kaggle/input'):\n",
    "    for filename in filenames:\n",
    "        print(os.path.join(dirname, filename))\n",
    "\n",
    "# You can write up to 20GB to the current directory (/kaggle/working/) that gets preserved as output when you create a version using \"Save & Run All\" \n",
    "# You can also write temporary files to /kaggle/temp/, but they won't be saved outside of the current session"
   ]
  },
  {
   "cell_type": "markdown",
   "id": "870b11a5",
   "metadata": {
    "papermill": {
     "duration": 0.00671,
     "end_time": "2025-04-20T22:25:36.119948",
     "exception": false,
     "start_time": "2025-04-20T22:25:36.113238",
     "status": "completed"
    },
    "tags": []
   },
   "source": [
    "The cell below removes any irrelevant libraries that may conflict with the Google Generative AI capabilities and install the Google Gemini Generative AI package"
   ]
  },
  {
   "cell_type": "code",
   "execution_count": 2,
   "id": "ee2a05c4",
   "metadata": {
    "execution": {
     "iopub.execute_input": "2025-04-20T22:25:36.138044Z",
     "iopub.status.busy": "2025-04-20T22:25:36.137526Z",
     "iopub.status.idle": "2025-04-20T22:25:45.651307Z",
     "shell.execute_reply": "2025-04-20T22:25:45.649589Z"
    },
    "papermill": {
     "duration": 9.526953,
     "end_time": "2025-04-20T22:25:45.654095",
     "exception": false,
     "start_time": "2025-04-20T22:25:36.127142",
     "status": "completed"
    },
    "tags": []
   },
   "outputs": [
    {
     "name": "stdout",
     "output_type": "stream",
     "text": [
      "\u001b[2K   \u001b[90m━━━━━━━━━━━━━━━━━━━━━━━━━━━━━━━━━━━━━━━━\u001b[0m \u001b[32m144.7/144.7 kB\u001b[0m \u001b[31m3.7 MB/s\u001b[0m eta \u001b[36m0:00:00\u001b[0m\r\n",
      "\u001b[2K   \u001b[90m━━━━━━━━━━━━━━━━━━━━━━━━━━━━━━━━━━━━━━━━\u001b[0m \u001b[32m100.9/100.9 kB\u001b[0m \u001b[31m3.5 MB/s\u001b[0m eta \u001b[36m0:00:00\u001b[0m\r\n",
      "\u001b[?25h"
     ]
    }
   ],
   "source": [
    "!pip uninstall -qqy jupyterlab  # Remove unused packages from Kaggle's base image that conflict\n",
    "!pip install -U -q \"google-genai==1.7.0\""
   ]
  },
  {
   "cell_type": "markdown",
   "id": "491ed3c8",
   "metadata": {
    "papermill": {
     "duration": 0.00697,
     "end_time": "2025-04-20T22:25:45.669159",
     "exception": false,
     "start_time": "2025-04-20T22:25:45.662189",
     "status": "completed"
    },
    "tags": []
   },
   "source": [
    "Install all relevant libraries for the Google Generative AI capabilities"
   ]
  },
  {
   "cell_type": "code",
   "execution_count": 3,
   "id": "424d1b5f",
   "metadata": {
    "execution": {
     "iopub.execute_input": "2025-04-20T22:25:45.685210Z",
     "iopub.status.busy": "2025-04-20T22:25:45.684857Z",
     "iopub.status.idle": "2025-04-20T22:25:47.067849Z",
     "shell.execute_reply": "2025-04-20T22:25:47.066820Z"
    },
    "papermill": {
     "duration": 1.393427,
     "end_time": "2025-04-20T22:25:47.069756",
     "exception": false,
     "start_time": "2025-04-20T22:25:45.676329",
     "status": "completed"
    },
    "tags": []
   },
   "outputs": [],
   "source": [
    "from google import genai\n",
    "from google.genai import types\n",
    "\n",
    "from IPython.display import HTML, Markdown, display"
   ]
  },
  {
   "cell_type": "code",
   "execution_count": 4,
   "id": "08f05c35",
   "metadata": {
    "execution": {
     "iopub.execute_input": "2025-04-20T22:25:47.085745Z",
     "iopub.status.busy": "2025-04-20T22:25:47.085098Z",
     "iopub.status.idle": "2025-04-20T22:25:47.328031Z",
     "shell.execute_reply": "2025-04-20T22:25:47.326998Z"
    },
    "papermill": {
     "duration": 0.253088,
     "end_time": "2025-04-20T22:25:47.330170",
     "exception": false,
     "start_time": "2025-04-20T22:25:47.077082",
     "status": "completed"
    },
    "tags": []
   },
   "outputs": [],
   "source": [
    "from google.api_core import retry\n",
    "\n",
    "\n",
    "is_retriable = lambda e: (isinstance(e, genai.errors.APIError) and e.code in {429, 503})\n",
    "\n",
    "genai.models.Models.generate_content = retry.Retry(\n",
    "    predicate=is_retriable)(genai.models.Models.generate_content)"
   ]
  },
  {
   "cell_type": "markdown",
   "id": "22ea157b",
   "metadata": {
    "papermill": {
     "duration": 0.0069,
     "end_time": "2025-04-20T22:25:47.344538",
     "exception": false,
     "start_time": "2025-04-20T22:25:47.337638",
     "status": "completed"
    },
    "tags": []
   },
   "source": [
    "Retrieve the Google API Key from Kaggle Secrets to make possible for the AI to work in this code."
   ]
  },
  {
   "cell_type": "code",
   "execution_count": 5,
   "id": "e78f1369",
   "metadata": {
    "execution": {
     "iopub.execute_input": "2025-04-20T22:25:47.360649Z",
     "iopub.status.busy": "2025-04-20T22:25:47.360021Z",
     "iopub.status.idle": "2025-04-20T22:25:47.432161Z",
     "shell.execute_reply": "2025-04-20T22:25:47.430922Z"
    },
    "papermill": {
     "duration": 0.082414,
     "end_time": "2025-04-20T22:25:47.434254",
     "exception": false,
     "start_time": "2025-04-20T22:25:47.351840",
     "status": "completed"
    },
    "tags": []
   },
   "outputs": [],
   "source": [
    "from kaggle_secrets import UserSecretsClient\n",
    "\n",
    "GOOGLE_API_KEY = UserSecretsClient().get_secret(\"GOOGLE_API_KEY\")"
   ]
  },
  {
   "cell_type": "code",
   "execution_count": 6,
   "id": "be8e09df",
   "metadata": {
    "execution": {
     "iopub.execute_input": "2025-04-20T22:25:47.450220Z",
     "iopub.status.busy": "2025-04-20T22:25:47.449887Z",
     "iopub.status.idle": "2025-04-20T22:25:47.836509Z",
     "shell.execute_reply": "2025-04-20T22:25:47.835280Z"
    },
    "papermill": {
     "duration": 0.396912,
     "end_time": "2025-04-20T22:25:47.838591",
     "exception": false,
     "start_time": "2025-04-20T22:25:47.441679",
     "status": "completed"
    },
    "tags": []
   },
   "outputs": [],
   "source": [
    "client = genai.Client(api_key=GOOGLE_API_KEY)"
   ]
  },
  {
   "cell_type": "markdown",
   "id": "80896bbc",
   "metadata": {
    "papermill": {
     "duration": 0.00696,
     "end_time": "2025-04-20T22:25:47.853519",
     "exception": false,
     "start_time": "2025-04-20T22:25:47.846559",
     "status": "completed"
    },
    "tags": []
   },
   "source": [
    "## Generative AI Capabilities Used and Reasoning \n",
    "\n",
    "These are the 3 Generative AI Capabilities Used in this AI and why they are used in this AI: \n",
    "* **Structured Output/JSON Mode/Controlled Generation**: For JSON Mode, I want to somewhat mimic the forms that patients fill out when they are requesting care from a medical facility, but simplier and more abstract. For Structured Output and Controlled Generation, I want my responses to be as accurate and precise as possible where creativity may not be required but accuracy is definitely required to get the best responses as possible.\n",
    "* **Few-Shot Prompting**: First of all, I want to create requests for the AI to know who it is providing information for, but I want the formatting of the requests to be as consistent as possible so that the information does not get muddled up which would make things more difficult for the AI to process and provide information for. Then, I also want to extract the zipcode from the JSON form, but sometimes the AI can hallucinate and return irrelevant or incorrect information, so I want the let the AI know how to return the zipcode correctly.\n",
    "* **Grounding**: This is the central capability of the AI since the AI is responsible for finding all the relevant possible nearest locations to the patient based on postal code/zipcode. Since we are exploring so many zipcodes and it is possible that the AI does not know every zipcode or medical facilities per zipcode, we need to rely on external sources to get the best answers possible. However, since we don't have a document listing out every medical facility per zipcode or all zipcodes, we would need to rely on the internet to give us answers. "
   ]
  },
  {
   "cell_type": "markdown",
   "id": "af0d3893",
   "metadata": {
    "papermill": {
     "duration": 0.006877,
     "end_time": "2025-04-20T22:25:47.867458",
     "exception": false,
     "start_time": "2025-04-20T22:25:47.860581",
     "status": "completed"
    },
    "tags": []
   },
   "source": [
    "### Generative AI Capability #1: Structured Output/JSON Mode/Controlled Generation"
   ]
  },
  {
   "cell_type": "markdown",
   "id": "e544c3fa",
   "metadata": {
    "papermill": {
     "duration": 0.006696,
     "end_time": "2025-04-20T22:25:47.881320",
     "exception": false,
     "start_time": "2025-04-20T22:25:47.874624",
     "status": "completed"
    },
    "tags": []
   },
   "source": [
    "#### JSON Mode\n",
    "\n",
    "I created a Python class, MedicalPatient, to format a simple and abstract patient form in JSON. Then, I developed a get_json_form function that takes an entry (in the test run that I did to test my AI, a row from a Pandas DataFrame) and structures it into the JSON format defined in the MedicalPatient class.\n",
    "\n",
    "##### get_json_form function: \n",
    "\n",
    "**Description**: Function takes in an entry (in this case, a Pandas dataframe row) and structures the information provided into a formalized JSON form as structured in the MedicalPatients class. \n",
    "\n",
    "**Input**: ***patient_symptom_entry***: Dataframe Pandas row (for now) of all information needed to be processed as JSON form \n",
    "\n",
    "**Output**: ***json_form***: String of formalized JSON form"
   ]
  },
  {
   "cell_type": "code",
   "execution_count": 7,
   "id": "976400fa",
   "metadata": {
    "execution": {
     "iopub.execute_input": "2025-04-20T22:25:47.896931Z",
     "iopub.status.busy": "2025-04-20T22:25:47.896591Z",
     "iopub.status.idle": "2025-04-20T22:25:47.902498Z",
     "shell.execute_reply": "2025-04-20T22:25:47.901460Z"
    },
    "papermill": {
     "duration": 0.015686,
     "end_time": "2025-04-20T22:25:47.904210",
     "exception": false,
     "start_time": "2025-04-20T22:25:47.888524",
     "status": "completed"
    },
    "tags": []
   },
   "outputs": [],
   "source": [
    "import typing_extensions as typing\n",
    "\n",
    "class MedicalPatient(typing.TypedDict): \n",
    "    zipcode: int\n",
    "    age: int\n",
    "    gender: str\n",
    "    race: str\n",
    "    ethnicity: str\n",
    "    height: float\n",
    "    weight: float\n",
    "    symptoms: list[str]\n",
    "\n",
    "def get_json_form(patient_symptom_entry): \n",
    "    entry_str = patient_symptom_entry.to_string()\n",
    "    json_response = client.models.generate_content(\n",
    "        model='gemini-2.0-flash', \n",
    "        config=types.GenerateContentConfig(\n",
    "            temperature=0.1, \n",
    "            response_mime_type=\"application/json\", \n",
    "            response_schema=MedicalPatient\n",
    "        ), \n",
    "        contents=entry_str\n",
    "    )\n",
    "    json_form = json_response.text\n",
    "    return json_form"
   ]
  },
  {
   "cell_type": "markdown",
   "id": "83372c4e",
   "metadata": {
    "papermill": {
     "duration": 0.006891,
     "end_time": "2025-04-20T22:25:47.918501",
     "exception": false,
     "start_time": "2025-04-20T22:25:47.911610",
     "status": "completed"
    },
    "tags": []
   },
   "source": [
    "#### Structured Output/Controlled Generation\n",
    "\n",
    "**Description**: I created the get_general_model_config function to return a Gemini-generated output based on the temperature, top_p, and maximum number of tokens to return inputs.\n",
    "\n",
    "**Input**: \n",
    "* ***temperature***: double that reflects the degree of randomness in selecting tokens for output\n",
    "* ***top_p***: double that is the maximum culmulative probability that the model can reach to select tokens as candidates\n",
    "* ***max_output_tokens***: int that indicates the maximum number of tokens that should be provided and included in the input\n",
    "\n",
    "**Output**: ***str_output***: String of Gemini-generated output based on input parameters provided"
   ]
  },
  {
   "cell_type": "code",
   "execution_count": 8,
   "id": "4582f2e5",
   "metadata": {
    "execution": {
     "iopub.execute_input": "2025-04-20T22:25:47.934157Z",
     "iopub.status.busy": "2025-04-20T22:25:47.933829Z",
     "iopub.status.idle": "2025-04-20T22:25:47.938916Z",
     "shell.execute_reply": "2025-04-20T22:25:47.937354Z"
    },
    "papermill": {
     "duration": 0.015143,
     "end_time": "2025-04-20T22:25:47.940771",
     "exception": false,
     "start_time": "2025-04-20T22:25:47.925628",
     "status": "completed"
    },
    "tags": []
   },
   "outputs": [],
   "source": [
    "def get_general_model_config(temperature, top_p, max_output_tokens): \n",
    "    str_output = types.GenerateContentConfig(\n",
    "        temperature=temperature, \n",
    "        top_p=top_p, \n",
    "        max_output_tokens=max_output_tokens\n",
    "    )\n",
    "    return str_output"
   ]
  },
  {
   "cell_type": "markdown",
   "id": "89ca5b05",
   "metadata": {
    "papermill": {
     "duration": 0.00707,
     "end_time": "2025-04-20T22:25:47.955306",
     "exception": false,
     "start_time": "2025-04-20T22:25:47.948236",
     "status": "completed"
    },
    "tags": []
   },
   "source": [
    "### Generative AI Capability #2: Few-Shot Prompting\n",
    "\n",
    "**Description**: I created the few_shot_func function to implement the few-shot prompting AI capability as code\n",
    "\n",
    "**Input**: \n",
    "* ***model_input***: String that is the input (e.g. a JSON form) that the model takes in consideration of to provide an output response\n",
    "* ***prompt***: String that is the input prompt to provide to the Gemini model to provide a response for; in few-shot prompting, the input prompt provides a few examples with their expected responses to the Gemini model so that the Gemini models knows what to produce for their output format-wise and what their output should look like\n",
    "* ***config***: Python method that is configuration to be used for the Gemini model to produce output (*refer to get_general_model_config as example of Python method to use as possible parameter value*)\n",
    "\n",
    "**Output**: ***str_output***: String of Gemini-generated output based on input parameters provided"
   ]
  },
  {
   "cell_type": "code",
   "execution_count": 9,
   "id": "84b7ced0",
   "metadata": {
    "execution": {
     "iopub.execute_input": "2025-04-20T22:25:47.970934Z",
     "iopub.status.busy": "2025-04-20T22:25:47.970532Z",
     "iopub.status.idle": "2025-04-20T22:25:47.975090Z",
     "shell.execute_reply": "2025-04-20T22:25:47.974233Z"
    },
    "papermill": {
     "duration": 0.014198,
     "end_time": "2025-04-20T22:25:47.976645",
     "exception": false,
     "start_time": "2025-04-20T22:25:47.962447",
     "status": "completed"
    },
    "tags": []
   },
   "outputs": [],
   "source": [
    "def few_shot_func(model_input, prompt, config): \n",
    "    few_shot_response = client.models.generate_content(\n",
    "        model='gemini-2.0-flash', \n",
    "        config=config,\n",
    "        contents=[prompt, model_input]\n",
    "    )\n",
    "    str_response = few_shot_response.text\n",
    "    return str_response"
   ]
  },
  {
   "cell_type": "markdown",
   "id": "0d67671e",
   "metadata": {
    "papermill": {
     "duration": 0.007191,
     "end_time": "2025-04-20T22:25:47.991056",
     "exception": false,
     "start_time": "2025-04-20T22:25:47.983865",
     "status": "completed"
    },
    "tags": []
   },
   "source": [
    "### Generative AI Capability #3: Grounding\n",
    "\n",
    "**Description**: I created the grounding_func function to implement the grounding AI capability as code\n",
    "\n",
    "**Input**: ***input_prompt***: String that is the input prompt to provide to the Gemini model to provide a response for\n",
    "\n",
    "**Output**: ***str_response***: String that is the output provided by the Gemini model as response to the input prompt"
   ]
  },
  {
   "cell_type": "code",
   "execution_count": 10,
   "id": "8ae87f12",
   "metadata": {
    "execution": {
     "iopub.execute_input": "2025-04-20T22:25:48.006681Z",
     "iopub.status.busy": "2025-04-20T22:25:48.006278Z",
     "iopub.status.idle": "2025-04-20T22:25:48.011737Z",
     "shell.execute_reply": "2025-04-20T22:25:48.010540Z"
    },
    "papermill": {
     "duration": 0.015207,
     "end_time": "2025-04-20T22:25:48.013484",
     "exception": false,
     "start_time": "2025-04-20T22:25:47.998277",
     "status": "completed"
    },
    "tags": []
   },
   "outputs": [],
   "source": [
    "def grounding_func(input_prompt): \n",
    "    config_with_search = types.GenerateContentConfig(\n",
    "        tools=[types.Tool(google_search=types.GoogleSearch())],\n",
    "    )\n",
    "    response = client.models.generate_content(\n",
    "        model='gemini-2.0-flash', \n",
    "        contents=input_prompt, \n",
    "        config=config_with_search,\n",
    "    )\n",
    "    rc = response.candidates[0]\n",
    "    str_response = rc.content.parts[0].text\n",
    "    return str_response"
   ]
  },
  {
   "cell_type": "markdown",
   "id": "72e818a9",
   "metadata": {
    "papermill": {
     "duration": 0.006961,
     "end_time": "2025-04-20T22:25:48.028309",
     "exception": false,
     "start_time": "2025-04-20T22:25:48.021348",
     "status": "completed"
    },
    "tags": []
   },
   "source": [
    "## EmergencyZIP AI Test Run\n",
    "\n",
    "Kaggle Notebooks seem to not work or do well with Python input, so instead, we generated a dataset of patients with relevant demographic information and their symptoms through ChatGPT (so the dataset below is ChatGPT-generated), and then the code picks a random patient to test run the AI to make sure it actually works as intended. "
   ]
  },
  {
   "cell_type": "code",
   "execution_count": 11,
   "id": "d4ac2b03",
   "metadata": {
    "execution": {
     "iopub.execute_input": "2025-04-20T22:25:48.044018Z",
     "iopub.status.busy": "2025-04-20T22:25:48.043679Z",
     "iopub.status.idle": "2025-04-20T22:25:48.098699Z",
     "shell.execute_reply": "2025-04-20T22:25:48.097482Z"
    },
    "papermill": {
     "duration": 0.065023,
     "end_time": "2025-04-20T22:25:48.100588",
     "exception": false,
     "start_time": "2025-04-20T22:25:48.035565",
     "status": "completed"
    },
    "tags": []
   },
   "outputs": [
    {
     "data": {
      "text/html": [
       "<div>\n",
       "<style scoped>\n",
       "    .dataframe tbody tr th:only-of-type {\n",
       "        vertical-align: middle;\n",
       "    }\n",
       "\n",
       "    .dataframe tbody tr th {\n",
       "        vertical-align: top;\n",
       "    }\n",
       "\n",
       "    .dataframe thead th {\n",
       "        text-align: right;\n",
       "    }\n",
       "</style>\n",
       "<table border=\"1\" class=\"dataframe\">\n",
       "  <thead>\n",
       "    <tr style=\"text-align: right;\">\n",
       "      <th></th>\n",
       "      <th>PatientID</th>\n",
       "      <th>ZipCode</th>\n",
       "      <th>Age</th>\n",
       "      <th>Gender</th>\n",
       "      <th>Symptoms</th>\n",
       "      <th>Race</th>\n",
       "      <th>Ethnicity</th>\n",
       "      <th>Height_in</th>\n",
       "      <th>Weight_lb</th>\n",
       "    </tr>\n",
       "  </thead>\n",
       "  <tbody>\n",
       "    <tr>\n",
       "      <th>0</th>\n",
       "      <td>P001</td>\n",
       "      <td>70112</td>\n",
       "      <td>32</td>\n",
       "      <td>Female</td>\n",
       "      <td>Joint pain;Runny nose;Loss of taste;Sore throat</td>\n",
       "      <td>Other</td>\n",
       "      <td>Hispanic or Latino</td>\n",
       "      <td>73.6</td>\n",
       "      <td>229.3</td>\n",
       "    </tr>\n",
       "    <tr>\n",
       "      <th>1</th>\n",
       "      <td>P002</td>\n",
       "      <td>90002</td>\n",
       "      <td>21</td>\n",
       "      <td>Female</td>\n",
       "      <td>Joint pain;Muscle ache;Dry cough</td>\n",
       "      <td>White</td>\n",
       "      <td>Hispanic or Latino</td>\n",
       "      <td>76.8</td>\n",
       "      <td>262.3</td>\n",
       "    </tr>\n",
       "    <tr>\n",
       "      <th>2</th>\n",
       "      <td>P003</td>\n",
       "      <td>20001</td>\n",
       "      <td>46</td>\n",
       "      <td>Male</td>\n",
       "      <td>Chest tightness;Sneezing;Fever;Breathing diffi...</td>\n",
       "      <td>Black or African American</td>\n",
       "      <td>Not Hispanic or Latino</td>\n",
       "      <td>67.3</td>\n",
       "      <td>187.4</td>\n",
       "    </tr>\n",
       "    <tr>\n",
       "      <th>3</th>\n",
       "      <td>P004</td>\n",
       "      <td>73301</td>\n",
       "      <td>45</td>\n",
       "      <td>Male</td>\n",
       "      <td>Fatigue;Abdominal pain</td>\n",
       "      <td>White</td>\n",
       "      <td>Not Hispanic or Latino</td>\n",
       "      <td>67.7</td>\n",
       "      <td>183.0</td>\n",
       "    </tr>\n",
       "    <tr>\n",
       "      <th>4</th>\n",
       "      <td>P005</td>\n",
       "      <td>96813</td>\n",
       "      <td>23</td>\n",
       "      <td>Non-binary</td>\n",
       "      <td>Rash;Sore throat;Loss of smell;Abdominal pain;...</td>\n",
       "      <td>Pacific Islander</td>\n",
       "      <td>Not Hispanic or Latino</td>\n",
       "      <td>74.8</td>\n",
       "      <td>211.6</td>\n",
       "    </tr>\n",
       "    <tr>\n",
       "      <th>...</th>\n",
       "      <td>...</td>\n",
       "      <td>...</td>\n",
       "      <td>...</td>\n",
       "      <td>...</td>\n",
       "      <td>...</td>\n",
       "      <td>...</td>\n",
       "      <td>...</td>\n",
       "      <td>...</td>\n",
       "      <td>...</td>\n",
       "    </tr>\n",
       "    <tr>\n",
       "      <th>95</th>\n",
       "      <td>P096</td>\n",
       "      <td>55414</td>\n",
       "      <td>80</td>\n",
       "      <td>Female</td>\n",
       "      <td>Blurred vision;Dry cough</td>\n",
       "      <td>Black or African American</td>\n",
       "      <td>Hispanic or Latino</td>\n",
       "      <td>66.5</td>\n",
       "      <td>264.6</td>\n",
       "    </tr>\n",
       "    <tr>\n",
       "      <th>96</th>\n",
       "      <td>P097</td>\n",
       "      <td>10001</td>\n",
       "      <td>88</td>\n",
       "      <td>Male</td>\n",
       "      <td>Joint pain;Palpitations</td>\n",
       "      <td>White</td>\n",
       "      <td>Not Hispanic or Latino</td>\n",
       "      <td>61.8</td>\n",
       "      <td>152.1</td>\n",
       "    </tr>\n",
       "    <tr>\n",
       "      <th>97</th>\n",
       "      <td>P098</td>\n",
       "      <td>55401</td>\n",
       "      <td>55</td>\n",
       "      <td>Non-binary</td>\n",
       "      <td>Diarrhea;Palpitations;Low-grade fever;Joint pain</td>\n",
       "      <td>Native American</td>\n",
       "      <td>Hispanic or Latino</td>\n",
       "      <td>68.5</td>\n",
       "      <td>163.1</td>\n",
       "    </tr>\n",
       "    <tr>\n",
       "      <th>98</th>\n",
       "      <td>P099</td>\n",
       "      <td>68102</td>\n",
       "      <td>83</td>\n",
       "      <td>Non-binary</td>\n",
       "      <td>Sneezing;Fatigue;Headache</td>\n",
       "      <td>Native American</td>\n",
       "      <td>Not Hispanic or Latino</td>\n",
       "      <td>78.7</td>\n",
       "      <td>251.3</td>\n",
       "    </tr>\n",
       "    <tr>\n",
       "      <th>99</th>\n",
       "      <td>P100</td>\n",
       "      <td>10011</td>\n",
       "      <td>18</td>\n",
       "      <td>Male</td>\n",
       "      <td>Palpitations;Itching;Abdominal cramps;Low-grad...</td>\n",
       "      <td>Black or African American</td>\n",
       "      <td>Not Hispanic or Latino</td>\n",
       "      <td>72.4</td>\n",
       "      <td>244.7</td>\n",
       "    </tr>\n",
       "  </tbody>\n",
       "</table>\n",
       "<p>100 rows × 9 columns</p>\n",
       "</div>"
      ],
      "text/plain": [
       "   PatientID  ZipCode  Age      Gender  \\\n",
       "0       P001    70112   32      Female   \n",
       "1       P002    90002   21      Female   \n",
       "2       P003    20001   46        Male   \n",
       "3       P004    73301   45        Male   \n",
       "4       P005    96813   23  Non-binary   \n",
       "..       ...      ...  ...         ...   \n",
       "95      P096    55414   80      Female   \n",
       "96      P097    10001   88        Male   \n",
       "97      P098    55401   55  Non-binary   \n",
       "98      P099    68102   83  Non-binary   \n",
       "99      P100    10011   18        Male   \n",
       "\n",
       "                                             Symptoms  \\\n",
       "0     Joint pain;Runny nose;Loss of taste;Sore throat   \n",
       "1                    Joint pain;Muscle ache;Dry cough   \n",
       "2   Chest tightness;Sneezing;Fever;Breathing diffi...   \n",
       "3                              Fatigue;Abdominal pain   \n",
       "4   Rash;Sore throat;Loss of smell;Abdominal pain;...   \n",
       "..                                                ...   \n",
       "95                           Blurred vision;Dry cough   \n",
       "96                            Joint pain;Palpitations   \n",
       "97   Diarrhea;Palpitations;Low-grade fever;Joint pain   \n",
       "98                          Sneezing;Fatigue;Headache   \n",
       "99  Palpitations;Itching;Abdominal cramps;Low-grad...   \n",
       "\n",
       "                         Race               Ethnicity  Height_in  Weight_lb  \n",
       "0                       Other      Hispanic or Latino       73.6      229.3  \n",
       "1                       White      Hispanic or Latino       76.8      262.3  \n",
       "2   Black or African American  Not Hispanic or Latino       67.3      187.4  \n",
       "3                       White  Not Hispanic or Latino       67.7      183.0  \n",
       "4            Pacific Islander  Not Hispanic or Latino       74.8      211.6  \n",
       "..                        ...                     ...        ...        ...  \n",
       "95  Black or African American      Hispanic or Latino       66.5      264.6  \n",
       "96                      White  Not Hispanic or Latino       61.8      152.1  \n",
       "97            Native American      Hispanic or Latino       68.5      163.1  \n",
       "98            Native American  Not Hispanic or Latino       78.7      251.3  \n",
       "99  Black or African American  Not Hispanic or Latino       72.4      244.7  \n",
       "\n",
       "[100 rows x 9 columns]"
      ]
     },
     "execution_count": 11,
     "metadata": {},
     "output_type": "execute_result"
    }
   ],
   "source": [
    "patient_symptom_df = pd.read_csv('/kaggle/input/patient-symptom-dataset/patient_symptom_data_with_demographics_imperial.csv')\n",
    "patient_symptom_df"
   ]
  },
  {
   "cell_type": "markdown",
   "id": "dd33723b",
   "metadata": {
    "papermill": {
     "duration": 0.00716,
     "end_time": "2025-04-20T22:25:48.115422",
     "exception": false,
     "start_time": "2025-04-20T22:25:48.108262",
     "status": "completed"
    },
    "tags": []
   },
   "source": [
    "### Patient Input and JSON Patient Form\n",
    "\n",
    "I utilized the randint function from the Random library to select a random patient to process information and provide responses for. Then, I utilized JSON Mode through calling the get_json_form method to have the AI mimic filling out a patient form in a simple and abstract way, and to also have the patient/individual demographic information structured in a formalized way. "
   ]
  },
  {
   "cell_type": "code",
   "execution_count": 12,
   "id": "dbc0f2c3",
   "metadata": {
    "execution": {
     "iopub.execute_input": "2025-04-20T22:25:48.131729Z",
     "iopub.status.busy": "2025-04-20T22:25:48.131196Z",
     "iopub.status.idle": "2025-04-20T22:25:49.007728Z",
     "shell.execute_reply": "2025-04-20T22:25:49.006512Z"
    },
    "papermill": {
     "duration": 0.886679,
     "end_time": "2025-04-20T22:25:49.009617",
     "exception": false,
     "start_time": "2025-04-20T22:25:48.122938",
     "status": "completed"
    },
    "tags": []
   },
   "outputs": [
    {
     "name": "stdout",
     "output_type": "stream",
     "text": [
      "{\n",
      "\"zipcode\": 37203,\n",
      "\"age\": 23,\n",
      "\"gender\": \"Female\",\n",
      "\"race\": \"Pacific Islander\",\n",
      "\"ethnicity\": \"Hispanic or Latino\",\n",
      "\"height\": 65.0,\n",
      "\"weight\": 145.5,\n",
      "\"symptoms\": [\"Chest pain\", \"Palpitations\", \"Fever\"]\n",
      "}\n"
     ]
    }
   ],
   "source": [
    "patient_index = random.randint(0, 99)\n",
    "patient_json_form = get_json_form(patient_symptom_df.iloc[patient_index])\n",
    "print(patient_json_form)"
   ]
  },
  {
   "cell_type": "markdown",
   "id": "c43a30c2",
   "metadata": {
    "papermill": {
     "duration": 0.007968,
     "end_time": "2025-04-20T22:25:49.025894",
     "exception": false,
     "start_time": "2025-04-20T22:25:49.017926",
     "status": "completed"
    },
    "tags": []
   },
   "source": [
    "### AI Request\n",
    "\n",
    "In this first round of few-shot prompting, I utilized few-shot prompting to create a formalized request for the AI model to know what type of patient or individual that the model will be retrieving information for. Few-shot prompting is also used to ensure accuracy and consistency of the format of the request (the model is always clear on what information to extract from the patient and how to process that information into a formalized request). We also used structured output/controlled generation to ensure that the model is consistent in generating the output response as possible. "
   ]
  },
  {
   "cell_type": "code",
   "execution_count": 13,
   "id": "fc4129a2",
   "metadata": {
    "execution": {
     "iopub.execute_input": "2025-04-20T22:25:49.042628Z",
     "iopub.status.busy": "2025-04-20T22:25:49.042225Z",
     "iopub.status.idle": "2025-04-20T22:25:49.542946Z",
     "shell.execute_reply": "2025-04-20T22:25:49.541556Z"
    },
    "papermill": {
     "duration": 0.511226,
     "end_time": "2025-04-20T22:25:49.544857",
     "exception": false,
     "start_time": "2025-04-20T22:25:49.033631",
     "status": "completed"
    },
    "tags": []
   },
   "outputs": [
    {
     "name": "stdout",
     "output_type": "stream",
     "text": [
      "\"23-year old Hispanic or Latino Pacific Islander female patient with height of 65.0 inches and weight of 145.5 pounds from zipcode 37203 currently experiencing symptoms of chest pain, palpitations, and fever.\"\n",
      "\n"
     ]
    }
   ],
   "source": [
    "model_config = get_general_model_config(0.1, 1, 500)\n",
    "\n",
    "few_shot_prompt = \"\"\"Parse JSON into a string request and only return output: \n",
    "\n",
    "EXAMPLE: \n",
    "{\n",
    "\"zipcode\": 78664, \n",
    "\"age\": 30, \n",
    "\"gender\": \"Female\", \n",
    "\"race\": \"White\", \n",
    "\"ethnicity\": \"Not Hispanic or Latino\", \n",
    "\"height\": 64.6, \n",
    "\"weight\": 130.5, \n",
    "\"symptoms\": [\"Cough\", \"Fever\", \"Sore throat\"]\n",
    "}\n",
    "\"30-year old Not Hispanic or Latino White female patient with height of 64.6 inches and weight of 130.5 pounds from zipcode 78664 currently experiencing symptoms of cough, fever, and sore throat.\"\n",
    "\n",
    "EXAMPLE: \n",
    "{\n",
    "\"zipcode\": 77055, \n",
    "\"age\": 25, \n",
    "\"gender\": \"Non-binary\", \n",
    "\"race\": \"Asian\", \n",
    "\"ethnicity\": \"Not Hispanic or Latino\", \n",
    "\"height\": 60.5, \n",
    "\"weight\": 100.2, \n",
    "\"symptoms\": [\"Joint pain\", \"Loss of smell\"]\n",
    "}\n",
    "\"25-year old Not Hispanic or Latino Asian non-binary patient with height of 60.5 inches and weight of 100.2 pounds from zipcode 77055 currently experiencing symptoms of joint pain and loss of smell.\"\n",
    "\n",
    "EXAMPLE: \n",
    "{\n",
    "\"zipcode\": 78681, \n",
    "\"age\": 15, \n",
    "\"gender\" \"Male\", \n",
    "\"race\": \"Black\", \n",
    "\"ethnicity\": \"Hispanic or Latino\", \n",
    "\"height\": 74.6, \n",
    "\"weight\": 180.5, \n",
    "\"symptoms\": [\"Fatigue\", \"Loss of Vision\", \"Headache\", \"Joint pain\"]\n",
    "}\n",
    "\"15-year old Hispanic or Latino Black male patient with height of 74.6 inches and weight of 180.5 pounds from zipcode 78681 currently experiencing symptoms of fatigue, loss of vision, headache, and joint pain.\"\n",
    "\"\"\"\n",
    "\n",
    "patient_medical_request = few_shot_func(patient_json_form, few_shot_prompt, model_config)\n",
    "print(patient_medical_request)"
   ]
  },
  {
   "cell_type": "markdown",
   "id": "0b5d789d",
   "metadata": {
    "papermill": {
     "duration": 0.007294,
     "end_time": "2025-04-20T22:25:49.560045",
     "exception": false,
     "start_time": "2025-04-20T22:25:49.552751",
     "status": "completed"
    },
    "tags": []
   },
   "source": [
    "### Potential Diagnosis\n",
    "\n",
    "In this first round of grounding, I utilized grounding to provide a potential but precise diagnosis based on the symptoms and other relevant demographic information, especially zipcode, provided. I am not only utilizing the data that the AI has already been provided to conduct the diagnosis, but also other sources, like the internet as well. "
   ]
  },
  {
   "cell_type": "code",
   "execution_count": 14,
   "id": "eaafbb78",
   "metadata": {
    "execution": {
     "iopub.execute_input": "2025-04-20T22:25:49.577048Z",
     "iopub.status.busy": "2025-04-20T22:25:49.576689Z",
     "iopub.status.idle": "2025-04-20T22:25:52.953825Z",
     "shell.execute_reply": "2025-04-20T22:25:52.952605Z"
    },
    "papermill": {
     "duration": 3.387596,
     "end_time": "2025-04-20T22:25:52.955520",
     "exception": false,
     "start_time": "2025-04-20T22:25:49.567924",
     "status": "completed"
    },
    "tags": []
   },
   "outputs": [
    {
     "data": {
      "text/markdown": [
       "Based on the provided information, the patient's symptoms of chest pain, palpitations, and fever could indicate several possible conditions. Given her age (23), sex, and symptoms, some likely possibilities include:\n",
       "\n",
       "*   **Infections:**\n",
       "\n",
       "    *   **Flu (Influenza):** The flu can cause fever, chest pain, and other symptoms like cough, muscle aches, and fatigue.\n",
       "    *   **Pneumonia:** This lung infection can cause fever, chest pain (often worsening with deep breaths), cough, and shortness of breath.\n",
       "    *   **Bronchitis:** Inflammation of the bronchial tubes can lead to cough, mucus production, chest discomfort, and fever.\n",
       "*   **Heart-related Conditions:**\n",
       "\n",
       "    *   **Myocarditis:** This is an inflammation of the heart muscle, often caused by a viral infection. Symptoms can include chest pain, fatigue, fever, palpitations, and shortness of breath.\n",
       "    *   **Pericarditis:** This involves inflammation of the sac surrounding the heart. It typically causes chest pain (which may be sharp or dull), fever, palpitations, and can be associated with viral infections.\n",
       "\n",
       "Given the overlapping symptoms and the need for accurate diagnosis, it's important for the patient to seek immediate medical evaluation. A healthcare professional can perform necessary examinations and tests to determine the specific cause of her symptoms and provide appropriate treatment.\n"
      ],
      "text/plain": [
       "<IPython.core.display.Markdown object>"
      ]
     },
     "execution_count": 14,
     "metadata": {},
     "output_type": "execute_result"
    }
   ],
   "source": [
    "diagnosis_prompt = patient_medical_request + \"What disease are they most likely to experience now? Only return the singular most likely disease, please.\"\n",
    "diagnosis = grounding_func(diagnosis_prompt)\n",
    "Markdown(diagnosis)"
   ]
  },
  {
   "cell_type": "markdown",
   "id": "22249af1",
   "metadata": {
    "papermill": {
     "duration": 0.007785,
     "end_time": "2025-04-20T22:25:52.971657",
     "exception": false,
     "start_time": "2025-04-20T22:25:52.963872",
     "status": "completed"
    },
    "tags": []
   },
   "source": [
    "*I had to run the grounding process again since after the notebook restarts, the response can be hit-or-miss in terms of accuracy or helpfulness*"
   ]
  },
  {
   "cell_type": "code",
   "execution_count": 15,
   "id": "cb344bfa",
   "metadata": {
    "execution": {
     "iopub.execute_input": "2025-04-20T22:25:52.988807Z",
     "iopub.status.busy": "2025-04-20T22:25:52.988428Z",
     "iopub.status.idle": "2025-04-20T22:25:56.441770Z",
     "shell.execute_reply": "2025-04-20T22:25:56.440563Z"
    },
    "papermill": {
     "duration": 3.464526,
     "end_time": "2025-04-20T22:25:56.444152",
     "exception": false,
     "start_time": "2025-04-20T22:25:52.979626",
     "status": "completed"
    },
    "tags": []
   },
   "outputs": [
    {
     "data": {
      "text/markdown": [
       "Based on the information provided and the search results, several possibilities exist. Given the patient's age, sex, ethnicity, location, and symptoms, here's a breakdown of the most likely possibilities:\n",
       "\n",
       "Several conditions could be considered:\n",
       "\n",
       "*   **Myocarditis/Pericarditis:** Given the chest pain, palpitations, and fever, inflammation of the heart muscle (myocarditis) or the sac surrounding the heart (pericarditis) are possibilities. Viral infections are common causes of myocarditis.\n",
       "\n",
       "*   **Infection (Flu, Pneumonia, Bronchitis):** The combination of fever, chest pain, and palpitations can occur with respiratory infections like influenza (flu), bronchitis, or pneumonia.\n",
       "\n",
       "*   **Anxiety/Panic Disorder:** While less likely to be the *single* cause, anxiety or a panic attack can manifest with chest pain, palpitations, and sometimes even a feverish sensation due to stress response.\n",
       "\n",
       "*   **Arrhythmia:** The palpitations suggest a possible heart rhythm problem. Fever can also sometimes trigger arrhythmias.\n",
       "\n",
       "Considering all factors and aiming for the single *most likely* diagnosis:\n",
       "\n",
       "**Myocarditis** is a strong possibility given the combination of symptoms. It is an inflammation of the heart muscle that can be caused by viral infections and present with chest pain, palpitations, and fever.\n"
      ],
      "text/plain": [
       "<IPython.core.display.Markdown object>"
      ]
     },
     "execution_count": 15,
     "metadata": {},
     "output_type": "execute_result"
    }
   ],
   "source": [
    "diagnosis_prompt = patient_medical_request + \"What disease are they most likely to experience now? Only return the singular most likely disease, please.\"\n",
    "diagnosis = grounding_func(diagnosis_prompt)\n",
    "Markdown(diagnosis)"
   ]
  },
  {
   "cell_type": "markdown",
   "id": "59e3c5be",
   "metadata": {
    "papermill": {
     "duration": 0.007741,
     "end_time": "2025-04-20T22:25:56.460264",
     "exception": false,
     "start_time": "2025-04-20T22:25:56.452523",
     "status": "completed"
    },
    "tags": []
   },
   "source": [
    "### Patient Zipcode \n",
    "\n",
    "In this second round of few-shot prompting, I utilized few-shot prompting to extract the zipcode of the patient from the JSON form (since at this point, we are using the JSON form to get our data information). Few-shot prompting is utilized to ensure accuracy of the output based on the current format of the JSON form (in this case, a simplified and abstract version of a patient form). "
   ]
  },
  {
   "cell_type": "code",
   "execution_count": 16,
   "id": "3c1cb005",
   "metadata": {
    "execution": {
     "iopub.execute_input": "2025-04-20T22:25:56.477882Z",
     "iopub.status.busy": "2025-04-20T22:25:56.477525Z",
     "iopub.status.idle": "2025-04-20T22:25:56.834296Z",
     "shell.execute_reply": "2025-04-20T22:25:56.832864Z"
    },
    "papermill": {
     "duration": 0.36814,
     "end_time": "2025-04-20T22:25:56.836347",
     "exception": false,
     "start_time": "2025-04-20T22:25:56.468207",
     "status": "completed"
    },
    "tags": []
   },
   "outputs": [
    {
     "name": "stdout",
     "output_type": "stream",
     "text": [
      "37203\n",
      "\n"
     ]
    }
   ],
   "source": [
    "model_config_two = get_general_model_config(0, 1, 50)\n",
    "\n",
    "few_shot_prompt_two = \"\"\"Parse JSON to return only the Zipcode: \n",
    "\n",
    "EXAMPLE: \n",
    "{\n",
    "\"zipcode\": 78664, \n",
    "\"age\": 30, \n",
    "\"gender\": \"Female\", \n",
    "\"race\": \"White\", \n",
    "\"ethnicity\": \"Not Hispanic or Latino\", \n",
    "\"height\": 64.6, \n",
    "\"weight\": 130.5, \n",
    "\"symptoms\": [\"Cough\", \"Fever\", \"Sore throat\"]\n",
    "}\n",
    "78664\n",
    "\n",
    "EXAMPLE: \n",
    "{\n",
    "\"zipcode\": 77055, \n",
    "\"age\": 25, \n",
    "\"gender\": \"Non-binary\", \n",
    "\"race\": \"Asian\", \n",
    "\"ethnicity\": \"Not Hispanic or Latino\", \n",
    "\"height\": 60.5, \n",
    "\"weight\": 100.2, \n",
    "\"symptoms\": [\"Joint pain\", \"Loss of smell\"]\n",
    "}\n",
    "77055\n",
    "\n",
    "EXAMPLE: \n",
    "{\n",
    "\"zipcode\": 78681, \n",
    "\"age\": 15, \n",
    "\"gender\" \"Male\", \n",
    "\"race\": \"Black\", \n",
    "\"ethnicity\": \"Hispanic or Latino\", \n",
    "\"height\": 74.6, \n",
    "\"weight\": 180.5, \n",
    "\"symptoms\": [\"Fatigue\", \"Loss of Vision\", \"Headache\", \"Joint pain\"]\n",
    "}\n",
    "78681\n",
    "\"\"\"\n",
    "\n",
    "patient_zipcode = few_shot_func(patient_json_form, few_shot_prompt_two, model_config_two)\n",
    "print(patient_zipcode)"
   ]
  },
  {
   "cell_type": "markdown",
   "id": "a9700490",
   "metadata": {
    "papermill": {
     "duration": 0.007603,
     "end_time": "2025-04-20T22:25:56.852339",
     "exception": false,
     "start_time": "2025-04-20T22:25:56.844736",
     "status": "completed"
    },
    "tags": []
   },
   "source": [
    "### Nearest Medical Facilities\n",
    "\n",
    "In this second round of grounding, I utilized grounding to provide the nearest appropriate medical facilities for the individual to go to for treatment based on zipcode. We are not only utilizing the data that the AI has already been provided to find the nearest location, but also other sources, like the internet as well. \n",
    "\n",
    "*Note: Would not recommend to run the cell below more than once to get helpful and accurate information*"
   ]
  },
  {
   "cell_type": "code",
   "execution_count": 17,
   "id": "f51c076d",
   "metadata": {
    "execution": {
     "iopub.execute_input": "2025-04-20T22:25:56.869853Z",
     "iopub.status.busy": "2025-04-20T22:25:56.869378Z",
     "iopub.status.idle": "2025-04-20T22:26:00.457366Z",
     "shell.execute_reply": "2025-04-20T22:26:00.456170Z"
    },
    "papermill": {
     "duration": 3.598928,
     "end_time": "2025-04-20T22:26:00.459292",
     "exception": false,
     "start_time": "2025-04-20T22:25:56.860364",
     "status": "completed"
    },
    "tags": []
   },
   "outputs": [
    {
     "data": {
      "text/markdown": [
       "Based on the search results, here are some of the best-rated medical facilities near the 37203 zip code that can treat conditions like myocarditis, pericarditis, and related cardiac issues:\n",
       "\n",
       "*   **TriStar Centennial Medical Center:** Located at 2300 Patterson St, Nashville, TN 37203, this hospital has received recognition as one of \"America's 250 Best Hospitals\" and has received a four-star rating from The Tennessean.\n",
       "*   **Ascension Saint Thomas Hospital Midtown:** Situated at 2000 Church St, Nashville, TN 37203, Ascension Saint Thomas Midtown is recognized as \"High Performing\" in several areas, including heart attack and heart failure treatment. It also has a four-star rating from The Tennessean.\n",
       "*   **Vanderbilt Heart and Vascular Institute/Vanderbilt University Medical Center:** While the main address is 1215 21st Avenue South, Nashville, TN, this facility is highly ranked in Tennessee and nationally for heart programs. They have specialists in various heart conditions and offer advanced treatments, including heart transplants. Vanderbilt is recognized as one of the best heart programs in the nation.\n",
       "*   **Nashville General Hospital:** With a main campus at 1810 Albion Street, Nashville, TN 37208 and a Midtown location at 1919 Charlotte Ave, Nashville, TN 37203, Nashville General Hospital is another option. They offer a range of services, including heart and vascular care.\n",
       "\n",
       "It's important to note that \"best-rated\" can be subjective and depend on the criteria used (patient reviews, specific condition expertise, etc.).\n"
      ],
      "text/plain": [
       "<IPython.core.display.Markdown object>"
      ]
     },
     "execution_count": 17,
     "metadata": {},
     "output_type": "execute_result"
    }
   ],
   "source": [
    "recommendations_prompt = diagnosis + 'Can you get me the nearest best-rated medical facilities with their addresses that can treat the disease for zip code ' + str(patient_zipcode) + '?'\n",
    "recommendations = grounding_func(recommendations_prompt)\n",
    "Markdown(recommendations)"
   ]
  },
  {
   "cell_type": "markdown",
   "id": "e989ef24",
   "metadata": {
    "papermill": {
     "duration": 0.007893,
     "end_time": "2025-04-20T22:26:00.476067",
     "exception": false,
     "start_time": "2025-04-20T22:26:00.468174",
     "status": "completed"
    },
    "tags": []
   },
   "source": [
    "### Payment and Insurance Plan Information\n",
    "\n",
    "In this third round of grounding, I utilized grounding to provide payment and insurance plan information for each of the location recommended for treatment. We are not only utilizing the data that the AI has already been provided to retrieve the information, but also other sources, like the internet as well. \n",
    "\n",
    "*Note: Would not recommend to run the cell below more than once to get helpful and accurate information*"
   ]
  },
  {
   "cell_type": "code",
   "execution_count": 18,
   "id": "ca5543fd",
   "metadata": {
    "execution": {
     "iopub.execute_input": "2025-04-20T22:26:00.494038Z",
     "iopub.status.busy": "2025-04-20T22:26:00.493593Z",
     "iopub.status.idle": "2025-04-20T22:26:06.005816Z",
     "shell.execute_reply": "2025-04-20T22:26:06.004444Z"
    },
    "papermill": {
     "duration": 5.523874,
     "end_time": "2025-04-20T22:26:06.008171",
     "exception": false,
     "start_time": "2025-04-20T22:26:00.484297",
     "status": "completed"
    },
    "tags": []
   },
   "outputs": [
    {
     "data": {
      "text/markdown": [
       "It's important to contact each facility directly or check their website for the most up-to-date and accurate information on accepted insurance plans and payment options. Here's a general overview based on the search results:\n",
       "\n",
       "**1. TriStar Centennial Medical Center**\n",
       "\n",
       "*   **Insurance:** TriStar Health accepts all forms of government insurance from the U.S., Canada, and other countries. They also accept Medicare, Medicaid, and CHAMPUS. They also work with most commercial HMO/PPO plans.\n",
       "*   **Specific Plans:**\n",
       "    *   Aetna (all commercial plans).\n",
       "    *   Amerigroup (TennCare, Amerivantage).\n",
       "    *   BlueCross BlueShield of Tennessee (various plans, including Network P and TennCare Select).\n",
       "    *   Cigna (various HMO, PPO, and Open Access plans).\n",
       "    *   Humana/ChoiceCare Network (all commercial HMO/PPO/POS plans).\n",
       "    *   United Healthcare (various plans).\n",
       "    *   Medicare Advantage plans.\n",
       "*   **Payment Options:** They likely accept standard payment methods like credit cards and cash, but it's best to confirm directly.\n",
       "\n",
       "**2. Ascension Saint Thomas Hospital Midtown**\n",
       "\n",
       "*   **Insurance:** They generally accept most insurance plans, TRICARE, VA, Medicare, and Medicaid.\n",
       "*   **Specific Plans:**\n",
       "    *   Blue Cross Blue Shield of Tennessee.\n",
       "    *   BlueCare.\n",
       "    *   Medicare.\n",
       "*   **Payment Options:**  Cash and credit cards are accepted. They also may offer flexible payment plans and assistance in exploring financing options.\n",
       "\n",
       "**3. Vanderbilt Heart and Vascular Institute/Vanderbilt University Medical Center**\n",
       "\n",
       "*   **Insurance:** Vanderbilt is in-network with many local and national health insurance plans. However, they may not participate in all products offered by an insurance carrier, so verification is important.\n",
       "*   **Specific Plans:**\n",
       "    *   Aetna.\n",
       "    *   Ambetter of Tennessee (Commercial Exchange only).\n",
       "    *   BlueCross BlueShield (excluding some Medicare Advantage plans and exchange plans).\n",
       "    *   Cigna Health Plans (including Cigna Connect Plans).\n",
       "    *   Humana.\n",
       "*   **Payment Options:** Contact them directly to confirm specific payment options.\n",
       "\n",
       "**4. Nashville General Hospital**\n",
       "\n",
       "*   **Insurance:** Nashville General Hospital accepts patients with most commercial health insurance plans (HMO/POS/PPO), Medicare, Medicaid, worker's compensation, auto insurance, and indemnity insurance.\n",
       "*   **Specific Plans:** They are in-network for all AMBETTER plans except AMBETTER SELECT.\n",
       "*   **Payment Options:** They offer financial assistance, and a healthcare incentive program may be available for Metro employees, pensioners, and their dependents.\n",
       "\n",
       "**Important Considerations:**\n",
       "\n",
       "*   **Always Verify:** It is crucial to contact the specific facility or your insurance provider to confirm that the hospital or clinic and your specific treatment are covered under your plan. Provider networks and plan designs can vary.\n",
       "*   **Financial Assistance:** If you do not have insurance, inquire about financial assistance programs or sliding scale fees, which may be available.\n",
       "*   **Payment Options:** Confirm the accepted methods of payment (cash, credit card, etc.) when you contact the facility.\n"
      ],
      "text/plain": [
       "<IPython.core.display.Markdown object>"
      ]
     },
     "execution_count": 18,
     "metadata": {},
     "output_type": "execute_result"
    }
   ],
   "source": [
    "payments_prompt = \"For each of the locations recommended to me: \" + recommendations + \" what types of payments and insurance plans are accepted for patients coming in for treatment?\"\n",
    "payments = grounding_func(payments_prompt)\n",
    "Markdown(payments)"
   ]
  },
  {
   "cell_type": "markdown",
   "id": "edaea275",
   "metadata": {
    "papermill": {
     "duration": 0.008821,
     "end_time": "2025-04-20T22:26:06.025819",
     "exception": false,
     "start_time": "2025-04-20T22:26:06.016998",
     "status": "completed"
    },
    "tags": []
   },
   "source": [
    "## Limitations and Possible Next Steps\n",
    "\n",
    "While EmergencyZIP AI functions as intended, it is a basic implementation due to time constraints. Some advanced features were not included due to limitations in the development process (e.g., Python input errors). Additionally, grounding-based responses can sometimes be inaccurate, so the AI should not be considered a replacement for professional medical advice. It provides potential diagnoses and recommendations that should be treated as informational rather than authoritative.\n",
    "\n",
    "Future improvements include:\n",
    "\n",
    "* Transitioning the AI into an AI Agent using LangGraph.\n",
    "* Implementing an interactive feature where users input their information, and the AI processes and responds with relevant recommendations.\n",
    "* Developing a UX/UI interface for a more user-friendly experience.\n",
    "* Expanding the JSON form to capture additional information, such as address, health history, sexuality, and income.\n",
    "\n",
    "## Conclusion and Potential Impact \n",
    "I created EmergencyZIP AI to provide individuals with a more individualized and accessible way to understand their symptoms, find appropriate treatment options, and consider the crucial role of zip codes in determining their health. While the current version is basic due to time constraints, it functions as intended, helping users make informed decisions about their healthcare.\n",
    "\n",
    "The goal of this AI is to empower individuals to take charge of their health by providing them with easy access to healthcare resources. Ultimately, I hope EmergencyZIP AI will contribute to improving health outcomes in various regions, one zip code at a time. By helping individuals become more health-conscious and informed, this tool has the potential to make a significant impact on healthcare access and overall well-being."
   ]
  }
 ],
 "metadata": {
  "kaggle": {
   "accelerator": "none",
   "dataSources": [
    {
     "datasetId": 7088011,
     "sourceId": 11479823,
     "sourceType": "datasetVersion"
    }
   ],
   "dockerImageVersionId": 30918,
   "isGpuEnabled": false,
   "isInternetEnabled": true,
   "language": "python",
   "sourceType": "notebook"
  },
  "kernelspec": {
   "display_name": "Python 3",
   "language": "python",
   "name": "python3"
  },
  "language_info": {
   "codemirror_mode": {
    "name": "ipython",
    "version": 3
   },
   "file_extension": ".py",
   "mimetype": "text/x-python",
   "name": "python",
   "nbconvert_exporter": "python",
   "pygments_lexer": "ipython3",
   "version": "3.10.12"
  },
  "papermill": {
   "default_parameters": {},
   "duration": 35.717805,
   "end_time": "2025-04-20T22:26:06.857268",
   "environment_variables": {},
   "exception": null,
   "input_path": "__notebook__.ipynb",
   "output_path": "__notebook__.ipynb",
   "parameters": {},
   "start_time": "2025-04-20T22:25:31.139463",
   "version": "2.6.0"
  }
 },
 "nbformat": 4,
 "nbformat_minor": 5
}
