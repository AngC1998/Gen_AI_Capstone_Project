{
 "cells": [
  {
   "cell_type": "markdown",
   "id": "155f2cea",
   "metadata": {
    "papermill": {
     "duration": 0.007332,
     "end_time": "2025-04-20T05:42:41.829146",
     "exception": false,
     "start_time": "2025-04-20T05:42:41.821814",
     "status": "completed"
    },
    "tags": []
   },
   "source": [
    "# EmergencyZIP AI"
   ]
  },
  {
   "cell_type": "markdown",
   "id": "86cd95f7",
   "metadata": {
    "papermill": {
     "duration": 0.006375,
     "end_time": "2025-04-20T05:42:41.842916",
     "exception": false,
     "start_time": "2025-04-20T05:42:41.836541",
     "status": "completed"
    },
    "tags": []
   },
   "source": [
    "## Intro\n",
    "\n",
    "As a Data Scientist in Healthcare with over two years of industry experience, I’ve learned that a person’s zip code (postal code) plays a crucial role in determining their health status. Where an individual lives can significantly impact their overall health, as local healthcare quality varies across regions. Unfortunately, many people are unaware of the healthcare facilities available in their area or may not know which one is best suited for their specific medical needs. To address this, I developed EmergencyZIP AI, a tool designed to help individuals identify the best medical facilities based on their symptoms or conditions, while considering their zip code as a critical factor in their health status.\n",
    "\n",
    "## Use Case and Solution Approach\n",
    "\n",
    "Individuals often seek clarity about the illness or medical condition they may be experiencing and want to know which nearby healthcare facilities can provide the best treatment. EmergencyZIP AI utilizes advanced AI to not only help individuals identify the potential illness or condition they’re facing but also guide them to the most appropriate medical facilities nearby based on zip code.\n",
    "\n",
    "The system takes zip codes into account, recognizing the importance of location in determining healthcare accessibility and quality.\n",
    "\n",
    "## Innovation/Novelty\n",
    "\n",
    "Although the internet provides many resources for finding local healthcare facilities, searching through numerous results can be overwhelming. Moreover, it’s difficult for individuals to accurately diagnose their condition without medical expertise. EmergencyZIP AI solves this by offering personalized and tailored responses, focusing specifically on the individual’s symptoms and their location.\n",
    "\n",
    "While human doctors are skilled at diagnosing, they may still be influenced by biases or errors. AI, on the other hand, minimizes these biases by considering the patient’s demographic information. However, I acknowledge that human doctors can recognize nuances that AI may miss, as AI is typically trained on generalized data. The goal of EmergencyZIP AI is to make medical information more accessible and less overwhelming for users, while providing individualized insights.\n",
    "\n",
    "## Process\n",
    "\n",
    "EmergencyZIP AI operates using Structured Output/JSON Mode/Controlled Generation, Few-Shot Prompting, and Grounding techniques. Here’s how it works:\n",
    "\n",
    "1. JSON Mode: The AI processes the patient’s demographic information and current symptoms, converting it into a structured JSON format, similar to a simplified patient intake form.\n",
    "2. Few-Shot Prompting: The AI generates a request based on the information provided by the JSON form using a few provided examples to maintain consistency and accuracy which is then included in a prompt for the AI asking for the most relevant data to help diagnose the condition. The AI also extracts zipcode from the JSON form using a few provided examples to maintain accuracy to be used to find nearby locations.\n",
    "3. Grounding: Using the provided information, the AI offers the most accurate potential diagnosis for the individual’s symptoms. Then, it uses the zip code to find the nearest and most appropriate medical facilities for treatment. Then, the AI provides payment and insurance plan information for each recommended location."
   ]
  },
  {
   "cell_type": "markdown",
   "id": "e21709cd",
   "metadata": {
    "papermill": {
     "duration": 0.006408,
     "end_time": "2025-04-20T05:42:41.856299",
     "exception": false,
     "start_time": "2025-04-20T05:42:41.849891",
     "status": "completed"
    },
    "tags": []
   },
   "source": [
    "### Importing Relevant Libraries and Technologies \n",
    "\n",
    "I set up Gemini API to implement my AI (the code also retrieves the API Key from Kaggle Secrets to retrieve the Google API that makes it possible for the AI to work) and imported the Pandas and Random libraries (and other unnamed libraries) to do my test run to check if the AI works as intended or not. "
   ]
  },
  {
   "cell_type": "code",
   "execution_count": 1,
   "id": "d0a1c490",
   "metadata": {
    "_cell_guid": "b1076dfc-b9ad-4769-8c92-a6c4dae69d19",
    "_uuid": "8f2839f25d086af736a60e9eeb907d3b93b6e0e5",
    "execution": {
     "iopub.execute_input": "2025-04-20T05:42:41.871614Z",
     "iopub.status.busy": "2025-04-20T05:42:41.871194Z",
     "iopub.status.idle": "2025-04-20T05:42:42.781590Z",
     "shell.execute_reply": "2025-04-20T05:42:42.780089Z"
    },
    "papermill": {
     "duration": 0.919862,
     "end_time": "2025-04-20T05:42:42.783352",
     "exception": false,
     "start_time": "2025-04-20T05:42:41.863490",
     "status": "completed"
    },
    "tags": []
   },
   "outputs": [
    {
     "name": "stdout",
     "output_type": "stream",
     "text": [
      "/kaggle/input/patient-symptom-dataset/patient_symptom_data_with_demographics_imperial.csv\n"
     ]
    }
   ],
   "source": [
    "# This Python 3 environment comes with many helpful analytics libraries installed\n",
    "# It is defined by the kaggle/python Docker image: https://github.com/kaggle/docker-python\n",
    "# For example, here's several helpful packages to load\n",
    "\n",
    "import numpy as np # linear algebra\n",
    "import pandas as pd # data processing, CSV file I/O (e.g. pd.read_csv)\n",
    "import random\n",
    "\n",
    "# Input data files are available in the read-only \"../input/\" directory\n",
    "# For example, running this (by clicking run or pressing Shift+Enter) will list all files under the input directory\n",
    "\n",
    "import os\n",
    "for dirname, _, filenames in os.walk('/kaggle/input'):\n",
    "    for filename in filenames:\n",
    "        print(os.path.join(dirname, filename))\n",
    "\n",
    "# You can write up to 20GB to the current directory (/kaggle/working/) that gets preserved as output when you create a version using \"Save & Run All\" \n",
    "# You can also write temporary files to /kaggle/temp/, but they won't be saved outside of the current session"
   ]
  },
  {
   "cell_type": "markdown",
   "id": "e0badd95",
   "metadata": {
    "papermill": {
     "duration": 0.00715,
     "end_time": "2025-04-20T05:42:42.797571",
     "exception": false,
     "start_time": "2025-04-20T05:42:42.790421",
     "status": "completed"
    },
    "tags": []
   },
   "source": [
    "The cell below removes any irrelevant libraries that may conflict with the Google Generative AI capabilities and install the Google Gemini Generative AI package"
   ]
  },
  {
   "cell_type": "code",
   "execution_count": 2,
   "id": "cf9a5bdb",
   "metadata": {
    "execution": {
     "iopub.execute_input": "2025-04-20T05:42:42.812995Z",
     "iopub.status.busy": "2025-04-20T05:42:42.812481Z",
     "iopub.status.idle": "2025-04-20T05:42:51.150465Z",
     "shell.execute_reply": "2025-04-20T05:42:51.148942Z"
    },
    "papermill": {
     "duration": 8.347787,
     "end_time": "2025-04-20T05:42:51.152518",
     "exception": false,
     "start_time": "2025-04-20T05:42:42.804731",
     "status": "completed"
    },
    "tags": []
   },
   "outputs": [
    {
     "name": "stdout",
     "output_type": "stream",
     "text": [
      "\u001b[2K   \u001b[90m━━━━━━━━━━━━━━━━━━━━━━━━━━━━━━━━━━━━━━━━\u001b[0m \u001b[32m144.7/144.7 kB\u001b[0m \u001b[31m4.5 MB/s\u001b[0m eta \u001b[36m0:00:00\u001b[0m\r\n",
      "\u001b[2K   \u001b[90m━━━━━━━━━━━━━━━━━━━━━━━━━━━━━━━━━━━━━━━━\u001b[0m \u001b[32m100.9/100.9 kB\u001b[0m \u001b[31m5.9 MB/s\u001b[0m eta \u001b[36m0:00:00\u001b[0m\r\n",
      "\u001b[?25h"
     ]
    }
   ],
   "source": [
    "!pip uninstall -qqy jupyterlab  # Remove unused packages from Kaggle's base image that conflict\n",
    "!pip install -U -q \"google-genai==1.7.0\""
   ]
  },
  {
   "cell_type": "markdown",
   "id": "5ad23cbb",
   "metadata": {
    "papermill": {
     "duration": 0.006831,
     "end_time": "2025-04-20T05:42:51.166675",
     "exception": false,
     "start_time": "2025-04-20T05:42:51.159844",
     "status": "completed"
    },
    "tags": []
   },
   "source": [
    "Install all relevant libraries for the Google Generative AI capabilities"
   ]
  },
  {
   "cell_type": "code",
   "execution_count": 3,
   "id": "7f0185dc",
   "metadata": {
    "execution": {
     "iopub.execute_input": "2025-04-20T05:42:51.182453Z",
     "iopub.status.busy": "2025-04-20T05:42:51.182067Z",
     "iopub.status.idle": "2025-04-20T05:42:52.456234Z",
     "shell.execute_reply": "2025-04-20T05:42:52.455300Z"
    },
    "papermill": {
     "duration": 1.28439,
     "end_time": "2025-04-20T05:42:52.458185",
     "exception": false,
     "start_time": "2025-04-20T05:42:51.173795",
     "status": "completed"
    },
    "tags": []
   },
   "outputs": [],
   "source": [
    "from google import genai\n",
    "from google.genai import types\n",
    "\n",
    "from IPython.display import HTML, Markdown, display"
   ]
  },
  {
   "cell_type": "code",
   "execution_count": 4,
   "id": "537d7728",
   "metadata": {
    "execution": {
     "iopub.execute_input": "2025-04-20T05:42:52.473921Z",
     "iopub.status.busy": "2025-04-20T05:42:52.473372Z",
     "iopub.status.idle": "2025-04-20T05:42:52.695885Z",
     "shell.execute_reply": "2025-04-20T05:42:52.694921Z"
    },
    "papermill": {
     "duration": 0.232428,
     "end_time": "2025-04-20T05:42:52.697881",
     "exception": false,
     "start_time": "2025-04-20T05:42:52.465453",
     "status": "completed"
    },
    "tags": []
   },
   "outputs": [],
   "source": [
    "from google.api_core import retry\n",
    "\n",
    "\n",
    "is_retriable = lambda e: (isinstance(e, genai.errors.APIError) and e.code in {429, 503})\n",
    "\n",
    "genai.models.Models.generate_content = retry.Retry(\n",
    "    predicate=is_retriable)(genai.models.Models.generate_content)"
   ]
  },
  {
   "cell_type": "markdown",
   "id": "face1cc0",
   "metadata": {
    "papermill": {
     "duration": 0.006684,
     "end_time": "2025-04-20T05:42:52.711733",
     "exception": false,
     "start_time": "2025-04-20T05:42:52.705049",
     "status": "completed"
    },
    "tags": []
   },
   "source": [
    "Retrieve the Google API Key from Kaggle Secrets to make possible for the AI to work in this code."
   ]
  },
  {
   "cell_type": "code",
   "execution_count": 5,
   "id": "9be1d1d3",
   "metadata": {
    "execution": {
     "iopub.execute_input": "2025-04-20T05:42:52.726910Z",
     "iopub.status.busy": "2025-04-20T05:42:52.726369Z",
     "iopub.status.idle": "2025-04-20T05:42:52.791826Z",
     "shell.execute_reply": "2025-04-20T05:42:52.790958Z"
    },
    "papermill": {
     "duration": 0.074951,
     "end_time": "2025-04-20T05:42:52.793623",
     "exception": false,
     "start_time": "2025-04-20T05:42:52.718672",
     "status": "completed"
    },
    "tags": []
   },
   "outputs": [],
   "source": [
    "from kaggle_secrets import UserSecretsClient\n",
    "\n",
    "GOOGLE_API_KEY = UserSecretsClient().get_secret(\"GOOGLE_API_KEY\")"
   ]
  },
  {
   "cell_type": "code",
   "execution_count": 6,
   "id": "eb0038ea",
   "metadata": {
    "execution": {
     "iopub.execute_input": "2025-04-20T05:42:52.808881Z",
     "iopub.status.busy": "2025-04-20T05:42:52.808327Z",
     "iopub.status.idle": "2025-04-20T05:42:53.162896Z",
     "shell.execute_reply": "2025-04-20T05:42:53.161900Z"
    },
    "papermill": {
     "duration": 0.364238,
     "end_time": "2025-04-20T05:42:53.164857",
     "exception": false,
     "start_time": "2025-04-20T05:42:52.800619",
     "status": "completed"
    },
    "tags": []
   },
   "outputs": [],
   "source": [
    "client = genai.Client(api_key=GOOGLE_API_KEY)"
   ]
  },
  {
   "cell_type": "markdown",
   "id": "7ac6dec1",
   "metadata": {
    "papermill": {
     "duration": 0.006469,
     "end_time": "2025-04-20T05:42:53.178886",
     "exception": false,
     "start_time": "2025-04-20T05:42:53.172417",
     "status": "completed"
    },
    "tags": []
   },
   "source": [
    "## Generative AI Capabilities Used and Reasoning \n",
    "\n",
    "These are the 3 Generative AI Capabilities Used in this AI and why they are used in this AI: \n",
    "* **Structured Output/JSON Mode/Controlled Generation**: For JSON Mode, I want to somewhat mimic the forms that patients fill out when they are requesting care from a medical facility, but simplier and more abstract. For Structured Output and Controlled Generation, I want my responses to be as accurate and precise as possible where creativity may not be required but accuracy is definitely required to get the best responses as possible.\n",
    "* **Few-Shot Prompting**: First of all, I want to create requests for the AI to know who it is providing information for, but I want the formatting of the requests to be as consistent as possible so that the information does not get muddled up which would make things more difficult for the AI to process and provide information for. Then, I also want to extract the zipcode from the JSON form, but sometimes the AI can hallucinate and return irrelevant or incorrect information, so I want the let the AI know how to return the zipcode correctly.\n",
    "* **Grounding**: This is the central capability of the AI since the AI is responsible for finding all the relevant possible nearest locations to the patient based on postal code/zipcode. Since we are exploring so many zipcodes and it is possible that the AI does not know every zipcode or medical facilities per zipcode, we need to rely on external sources to get the best answers possible. However, since we don't have a document listing out every medical facility per zipcode or all zipcodes, we would need to rely on the internet to give us answers. "
   ]
  },
  {
   "cell_type": "markdown",
   "id": "5b1bd460",
   "metadata": {
    "papermill": {
     "duration": 0.00649,
     "end_time": "2025-04-20T05:42:53.192409",
     "exception": false,
     "start_time": "2025-04-20T05:42:53.185919",
     "status": "completed"
    },
    "tags": []
   },
   "source": [
    "### Generative AI Capability #1: Structured Output/JSON Mode/Controlled Generation"
   ]
  },
  {
   "cell_type": "markdown",
   "id": "8188af3d",
   "metadata": {
    "papermill": {
     "duration": 0.006528,
     "end_time": "2025-04-20T05:42:53.205688",
     "exception": false,
     "start_time": "2025-04-20T05:42:53.199160",
     "status": "completed"
    },
    "tags": []
   },
   "source": [
    "#### JSON Mode\n",
    "\n",
    "I created a Python class, MedicalPatient, to format a simple and abstract patient form in JSON. Then, I developed a get_json_form function that takes an entry (in the test run that I did to test my AI, a row from a Pandas DataFrame) and structures it into the JSON format defined in the MedicalPatient class.\n",
    "\n",
    "##### get_json_form function: \n",
    "\n",
    "**Description**: Function takes in an entry (in this case, a Pandas dataframe row) and structures the information provided into a formalized JSON form as structured in the MedicalPatients class. \n",
    "\n",
    "**Input**: ***patient_symptom_entry***: Dataframe Pandas row (for now) of all information needed to be processed as JSON form \n",
    "\n",
    "**Output**: ***json_form***: String of formalized JSON form"
   ]
  },
  {
   "cell_type": "code",
   "execution_count": 7,
   "id": "8a4722ef",
   "metadata": {
    "execution": {
     "iopub.execute_input": "2025-04-20T05:42:53.220412Z",
     "iopub.status.busy": "2025-04-20T05:42:53.220041Z",
     "iopub.status.idle": "2025-04-20T05:42:53.225999Z",
     "shell.execute_reply": "2025-04-20T05:42:53.224815Z"
    },
    "papermill": {
     "duration": 0.015522,
     "end_time": "2025-04-20T05:42:53.227835",
     "exception": false,
     "start_time": "2025-04-20T05:42:53.212313",
     "status": "completed"
    },
    "tags": []
   },
   "outputs": [],
   "source": [
    "import typing_extensions as typing\n",
    "\n",
    "class MedicalPatient(typing.TypedDict): \n",
    "    zipcode: int\n",
    "    age: int\n",
    "    gender: str\n",
    "    race: str\n",
    "    ethnicity: str\n",
    "    height: float\n",
    "    weight: float\n",
    "    symptoms: list[str]\n",
    "\n",
    "def get_json_form(patient_symptom_entry): \n",
    "    entry_str = patient_symptom_entry.to_string()\n",
    "    json_response = client.models.generate_content(\n",
    "        model='gemini-2.0-flash', \n",
    "        config=types.GenerateContentConfig(\n",
    "            temperature=0.1, \n",
    "            response_mime_type=\"application/json\", \n",
    "            response_schema=MedicalPatient\n",
    "        ), \n",
    "        contents=entry_str\n",
    "    )\n",
    "    json_form = json_response.text\n",
    "    return json_form"
   ]
  },
  {
   "cell_type": "markdown",
   "id": "96e7658e",
   "metadata": {
    "papermill": {
     "duration": 0.006846,
     "end_time": "2025-04-20T05:42:53.241929",
     "exception": false,
     "start_time": "2025-04-20T05:42:53.235083",
     "status": "completed"
    },
    "tags": []
   },
   "source": [
    "#### Structured Output/Controlled Generation\n",
    "\n",
    "**Description**: I created the get_general_model_config function to return a Gemini-generated output based on the temperature, top_p, and maximum number of tokens to return inputs.\n",
    "\n",
    "**Input**: \n",
    "* ***temperature***: double that reflects the degree of randomness in selecting tokens for output\n",
    "* ***top_p***: double that is the maximum culmulative probability that the model can reach to select tokens as candidates\n",
    "* ***max_output_tokens***: int that indicates the maximum number of tokens that should be provided and included in the input\n",
    "\n",
    "**Output**: ***str_output***: String of Gemini-generated output based on input parameters provided"
   ]
  },
  {
   "cell_type": "code",
   "execution_count": 8,
   "id": "8d29e559",
   "metadata": {
    "execution": {
     "iopub.execute_input": "2025-04-20T05:42:53.256793Z",
     "iopub.status.busy": "2025-04-20T05:42:53.256437Z",
     "iopub.status.idle": "2025-04-20T05:42:53.260645Z",
     "shell.execute_reply": "2025-04-20T05:42:53.259742Z"
    },
    "papermill": {
     "duration": 0.013452,
     "end_time": "2025-04-20T05:42:53.262187",
     "exception": false,
     "start_time": "2025-04-20T05:42:53.248735",
     "status": "completed"
    },
    "tags": []
   },
   "outputs": [],
   "source": [
    "def get_general_model_config(temperature, top_p, max_output_tokens): \n",
    "    str_output = types.GenerateContentConfig(\n",
    "        temperature=temperature, \n",
    "        top_p=top_p, \n",
    "        max_output_tokens=max_output_tokens\n",
    "    )\n",
    "    return str_output"
   ]
  },
  {
   "cell_type": "markdown",
   "id": "006b25ae",
   "metadata": {
    "papermill": {
     "duration": 0.006459,
     "end_time": "2025-04-20T05:42:53.275932",
     "exception": false,
     "start_time": "2025-04-20T05:42:53.269473",
     "status": "completed"
    },
    "tags": []
   },
   "source": [
    "### Generative AI Capability #2: Few-Shot Prompting\n",
    "\n",
    "**Description**: I created the few_shot_func function to implement the few-shot prompting AI capability as code\n",
    "\n",
    "**Input**: \n",
    "* ***model_input***: String that is the input (e.g. a JSON form) that the model takes in consideration of to provide an output response\n",
    "* ***prompt***: String that is the input prompt to provide to the Gemini model to provide a response for; in few-shot prompting, the input prompt provides a few examples with their expected responses to the Gemini model so that the Gemini models knows what to produce for their output format-wise and what their output should look like\n",
    "* ***config***: Python method that is configuration to be used for the Gemini model to produce output (*refer to get_general_model_config as example of Python method to use as possible parameter value*)\n",
    "\n",
    "**Output**: ***str_output***: String of Gemini-generated output based on input parameters provided"
   ]
  },
  {
   "cell_type": "code",
   "execution_count": 9,
   "id": "012ed5e7",
   "metadata": {
    "execution": {
     "iopub.execute_input": "2025-04-20T05:42:53.292936Z",
     "iopub.status.busy": "2025-04-20T05:42:53.292603Z",
     "iopub.status.idle": "2025-04-20T05:42:53.297721Z",
     "shell.execute_reply": "2025-04-20T05:42:53.296710Z"
    },
    "papermill": {
     "duration": 0.016118,
     "end_time": "2025-04-20T05:42:53.299533",
     "exception": false,
     "start_time": "2025-04-20T05:42:53.283415",
     "status": "completed"
    },
    "tags": []
   },
   "outputs": [],
   "source": [
    "def few_shot_func(model_input, prompt, config): \n",
    "    few_shot_response = client.models.generate_content(\n",
    "        model='gemini-2.0-flash', \n",
    "        config=config,\n",
    "        contents=[prompt, model_input]\n",
    "    )\n",
    "    str_response = few_shot_response.text\n",
    "    return str_response"
   ]
  },
  {
   "cell_type": "markdown",
   "id": "9aad1b7e",
   "metadata": {
    "papermill": {
     "duration": 0.006602,
     "end_time": "2025-04-20T05:42:53.313084",
     "exception": false,
     "start_time": "2025-04-20T05:42:53.306482",
     "status": "completed"
    },
    "tags": []
   },
   "source": [
    "### Generative AI Capability #3: Grounding\n",
    "\n",
    "**Description**: I created the grounding_func function to implement the grounding AI capability as code\n",
    "\n",
    "**Input**: ***input_prompt***: String that is the input prompt to provide to the Gemini model to provide a response for\n",
    "\n",
    "**Output**: ***str_response***: String that is the output provided by the Gemini model as response to the input prompt"
   ]
  },
  {
   "cell_type": "code",
   "execution_count": 10,
   "id": "511a46e4",
   "metadata": {
    "execution": {
     "iopub.execute_input": "2025-04-20T05:42:53.328094Z",
     "iopub.status.busy": "2025-04-20T05:42:53.327731Z",
     "iopub.status.idle": "2025-04-20T05:42:53.332640Z",
     "shell.execute_reply": "2025-04-20T05:42:53.331577Z"
    },
    "papermill": {
     "duration": 0.014065,
     "end_time": "2025-04-20T05:42:53.334182",
     "exception": false,
     "start_time": "2025-04-20T05:42:53.320117",
     "status": "completed"
    },
    "tags": []
   },
   "outputs": [],
   "source": [
    "def grounding_func(input_prompt): \n",
    "    config_with_search = types.GenerateContentConfig(\n",
    "        tools=[types.Tool(google_search=types.GoogleSearch())],\n",
    "    )\n",
    "    response = client.models.generate_content(\n",
    "        model='gemini-2.0-flash', \n",
    "        contents=input_prompt, \n",
    "        config=config_with_search,\n",
    "    )\n",
    "    rc = response.candidates[0]\n",
    "    str_response = rc.content.parts[0].text\n",
    "    return str_response"
   ]
  },
  {
   "cell_type": "markdown",
   "id": "65e5e23f",
   "metadata": {
    "papermill": {
     "duration": 0.007456,
     "end_time": "2025-04-20T05:42:53.349462",
     "exception": false,
     "start_time": "2025-04-20T05:42:53.342006",
     "status": "completed"
    },
    "tags": []
   },
   "source": [
    "## EmergencyZIP AI Test Run\n",
    "\n",
    "Kaggle Notebooks seem to not work or do well with Python input, so instead, we generated a dataset of patients with relevant demographic information and their symptoms through ChatGPT (so the dataset below is ChatGPT-generated), and then the code picks a random patient to test run the AI to make sure it actually works as intended. "
   ]
  },
  {
   "cell_type": "code",
   "execution_count": 11,
   "id": "7863267a",
   "metadata": {
    "execution": {
     "iopub.execute_input": "2025-04-20T05:42:53.364533Z",
     "iopub.status.busy": "2025-04-20T05:42:53.364162Z",
     "iopub.status.idle": "2025-04-20T05:42:53.411700Z",
     "shell.execute_reply": "2025-04-20T05:42:53.410645Z"
    },
    "papermill": {
     "duration": 0.056842,
     "end_time": "2025-04-20T05:42:53.413274",
     "exception": false,
     "start_time": "2025-04-20T05:42:53.356432",
     "status": "completed"
    },
    "tags": []
   },
   "outputs": [
    {
     "data": {
      "text/html": [
       "<div>\n",
       "<style scoped>\n",
       "    .dataframe tbody tr th:only-of-type {\n",
       "        vertical-align: middle;\n",
       "    }\n",
       "\n",
       "    .dataframe tbody tr th {\n",
       "        vertical-align: top;\n",
       "    }\n",
       "\n",
       "    .dataframe thead th {\n",
       "        text-align: right;\n",
       "    }\n",
       "</style>\n",
       "<table border=\"1\" class=\"dataframe\">\n",
       "  <thead>\n",
       "    <tr style=\"text-align: right;\">\n",
       "      <th></th>\n",
       "      <th>PatientID</th>\n",
       "      <th>ZipCode</th>\n",
       "      <th>Age</th>\n",
       "      <th>Gender</th>\n",
       "      <th>Symptoms</th>\n",
       "      <th>Race</th>\n",
       "      <th>Ethnicity</th>\n",
       "      <th>Height_in</th>\n",
       "      <th>Weight_lb</th>\n",
       "    </tr>\n",
       "  </thead>\n",
       "  <tbody>\n",
       "    <tr>\n",
       "      <th>0</th>\n",
       "      <td>P001</td>\n",
       "      <td>70112</td>\n",
       "      <td>32</td>\n",
       "      <td>Female</td>\n",
       "      <td>Joint pain;Runny nose;Loss of taste;Sore throat</td>\n",
       "      <td>Other</td>\n",
       "      <td>Hispanic or Latino</td>\n",
       "      <td>73.6</td>\n",
       "      <td>229.3</td>\n",
       "    </tr>\n",
       "    <tr>\n",
       "      <th>1</th>\n",
       "      <td>P002</td>\n",
       "      <td>90002</td>\n",
       "      <td>21</td>\n",
       "      <td>Female</td>\n",
       "      <td>Joint pain;Muscle ache;Dry cough</td>\n",
       "      <td>White</td>\n",
       "      <td>Hispanic or Latino</td>\n",
       "      <td>76.8</td>\n",
       "      <td>262.3</td>\n",
       "    </tr>\n",
       "    <tr>\n",
       "      <th>2</th>\n",
       "      <td>P003</td>\n",
       "      <td>20001</td>\n",
       "      <td>46</td>\n",
       "      <td>Male</td>\n",
       "      <td>Chest tightness;Sneezing;Fever;Breathing diffi...</td>\n",
       "      <td>Black or African American</td>\n",
       "      <td>Not Hispanic or Latino</td>\n",
       "      <td>67.3</td>\n",
       "      <td>187.4</td>\n",
       "    </tr>\n",
       "    <tr>\n",
       "      <th>3</th>\n",
       "      <td>P004</td>\n",
       "      <td>73301</td>\n",
       "      <td>45</td>\n",
       "      <td>Male</td>\n",
       "      <td>Fatigue;Abdominal pain</td>\n",
       "      <td>White</td>\n",
       "      <td>Not Hispanic or Latino</td>\n",
       "      <td>67.7</td>\n",
       "      <td>183.0</td>\n",
       "    </tr>\n",
       "    <tr>\n",
       "      <th>4</th>\n",
       "      <td>P005</td>\n",
       "      <td>96813</td>\n",
       "      <td>23</td>\n",
       "      <td>Non-binary</td>\n",
       "      <td>Rash;Sore throat;Loss of smell;Abdominal pain;...</td>\n",
       "      <td>Pacific Islander</td>\n",
       "      <td>Not Hispanic or Latino</td>\n",
       "      <td>74.8</td>\n",
       "      <td>211.6</td>\n",
       "    </tr>\n",
       "    <tr>\n",
       "      <th>...</th>\n",
       "      <td>...</td>\n",
       "      <td>...</td>\n",
       "      <td>...</td>\n",
       "      <td>...</td>\n",
       "      <td>...</td>\n",
       "      <td>...</td>\n",
       "      <td>...</td>\n",
       "      <td>...</td>\n",
       "      <td>...</td>\n",
       "    </tr>\n",
       "    <tr>\n",
       "      <th>95</th>\n",
       "      <td>P096</td>\n",
       "      <td>55414</td>\n",
       "      <td>80</td>\n",
       "      <td>Female</td>\n",
       "      <td>Blurred vision;Dry cough</td>\n",
       "      <td>Black or African American</td>\n",
       "      <td>Hispanic or Latino</td>\n",
       "      <td>66.5</td>\n",
       "      <td>264.6</td>\n",
       "    </tr>\n",
       "    <tr>\n",
       "      <th>96</th>\n",
       "      <td>P097</td>\n",
       "      <td>10001</td>\n",
       "      <td>88</td>\n",
       "      <td>Male</td>\n",
       "      <td>Joint pain;Palpitations</td>\n",
       "      <td>White</td>\n",
       "      <td>Not Hispanic or Latino</td>\n",
       "      <td>61.8</td>\n",
       "      <td>152.1</td>\n",
       "    </tr>\n",
       "    <tr>\n",
       "      <th>97</th>\n",
       "      <td>P098</td>\n",
       "      <td>55401</td>\n",
       "      <td>55</td>\n",
       "      <td>Non-binary</td>\n",
       "      <td>Diarrhea;Palpitations;Low-grade fever;Joint pain</td>\n",
       "      <td>Native American</td>\n",
       "      <td>Hispanic or Latino</td>\n",
       "      <td>68.5</td>\n",
       "      <td>163.1</td>\n",
       "    </tr>\n",
       "    <tr>\n",
       "      <th>98</th>\n",
       "      <td>P099</td>\n",
       "      <td>68102</td>\n",
       "      <td>83</td>\n",
       "      <td>Non-binary</td>\n",
       "      <td>Sneezing;Fatigue;Headache</td>\n",
       "      <td>Native American</td>\n",
       "      <td>Not Hispanic or Latino</td>\n",
       "      <td>78.7</td>\n",
       "      <td>251.3</td>\n",
       "    </tr>\n",
       "    <tr>\n",
       "      <th>99</th>\n",
       "      <td>P100</td>\n",
       "      <td>10011</td>\n",
       "      <td>18</td>\n",
       "      <td>Male</td>\n",
       "      <td>Palpitations;Itching;Abdominal cramps;Low-grad...</td>\n",
       "      <td>Black or African American</td>\n",
       "      <td>Not Hispanic or Latino</td>\n",
       "      <td>72.4</td>\n",
       "      <td>244.7</td>\n",
       "    </tr>\n",
       "  </tbody>\n",
       "</table>\n",
       "<p>100 rows × 9 columns</p>\n",
       "</div>"
      ],
      "text/plain": [
       "   PatientID  ZipCode  Age      Gender  \\\n",
       "0       P001    70112   32      Female   \n",
       "1       P002    90002   21      Female   \n",
       "2       P003    20001   46        Male   \n",
       "3       P004    73301   45        Male   \n",
       "4       P005    96813   23  Non-binary   \n",
       "..       ...      ...  ...         ...   \n",
       "95      P096    55414   80      Female   \n",
       "96      P097    10001   88        Male   \n",
       "97      P098    55401   55  Non-binary   \n",
       "98      P099    68102   83  Non-binary   \n",
       "99      P100    10011   18        Male   \n",
       "\n",
       "                                             Symptoms  \\\n",
       "0     Joint pain;Runny nose;Loss of taste;Sore throat   \n",
       "1                    Joint pain;Muscle ache;Dry cough   \n",
       "2   Chest tightness;Sneezing;Fever;Breathing diffi...   \n",
       "3                              Fatigue;Abdominal pain   \n",
       "4   Rash;Sore throat;Loss of smell;Abdominal pain;...   \n",
       "..                                                ...   \n",
       "95                           Blurred vision;Dry cough   \n",
       "96                            Joint pain;Palpitations   \n",
       "97   Diarrhea;Palpitations;Low-grade fever;Joint pain   \n",
       "98                          Sneezing;Fatigue;Headache   \n",
       "99  Palpitations;Itching;Abdominal cramps;Low-grad...   \n",
       "\n",
       "                         Race               Ethnicity  Height_in  Weight_lb  \n",
       "0                       Other      Hispanic or Latino       73.6      229.3  \n",
       "1                       White      Hispanic or Latino       76.8      262.3  \n",
       "2   Black or African American  Not Hispanic or Latino       67.3      187.4  \n",
       "3                       White  Not Hispanic or Latino       67.7      183.0  \n",
       "4            Pacific Islander  Not Hispanic or Latino       74.8      211.6  \n",
       "..                        ...                     ...        ...        ...  \n",
       "95  Black or African American      Hispanic or Latino       66.5      264.6  \n",
       "96                      White  Not Hispanic or Latino       61.8      152.1  \n",
       "97            Native American      Hispanic or Latino       68.5      163.1  \n",
       "98            Native American  Not Hispanic or Latino       78.7      251.3  \n",
       "99  Black or African American  Not Hispanic or Latino       72.4      244.7  \n",
       "\n",
       "[100 rows x 9 columns]"
      ]
     },
     "execution_count": 11,
     "metadata": {},
     "output_type": "execute_result"
    }
   ],
   "source": [
    "patient_symptom_df = pd.read_csv('/kaggle/input/patient-symptom-dataset/patient_symptom_data_with_demographics_imperial.csv')\n",
    "patient_symptom_df"
   ]
  },
  {
   "cell_type": "markdown",
   "id": "3bdf6a4a",
   "metadata": {
    "papermill": {
     "duration": 0.011897,
     "end_time": "2025-04-20T05:42:53.433670",
     "exception": false,
     "start_time": "2025-04-20T05:42:53.421773",
     "status": "completed"
    },
    "tags": []
   },
   "source": [
    "### Patient Input and JSON Patient Form\n",
    "\n",
    "I utilized the randint function from the Random library to select a random patient to process information and provide responses for. Then, I utilized JSON Mode through calling the get_json_form method to have the AI mimic filling out a patient form in a simple and abstract way, and to also have the patient/individual demographic information structured in a formalized way. "
   ]
  },
  {
   "cell_type": "code",
   "execution_count": 12,
   "id": "4fbd1687",
   "metadata": {
    "execution": {
     "iopub.execute_input": "2025-04-20T05:42:53.452066Z",
     "iopub.status.busy": "2025-04-20T05:42:53.451583Z",
     "iopub.status.idle": "2025-04-20T05:42:54.448240Z",
     "shell.execute_reply": "2025-04-20T05:42:54.447098Z"
    },
    "papermill": {
     "duration": 1.008029,
     "end_time": "2025-04-20T05:42:54.449986",
     "exception": false,
     "start_time": "2025-04-20T05:42:53.441957",
     "status": "completed"
    },
    "tags": []
   },
   "outputs": [
    {
     "name": "stdout",
     "output_type": "stream",
     "text": [
      "{\n",
      "  \"zipcode\": 90002,\n",
      "  \"age\": 24,\n",
      "  \"gender\": \"Non-binary\",\n",
      "  \"race\": \"Pacific Islander\",\n",
      "  \"ethnicity\": \"Hispanic or Latino\",\n",
      "  \"height\": 63.4,\n",
      "  \"weight\": 127.9,\n",
      "  \"symptoms\": [\n",
      "    \"Muscle ache\",\n",
      "    \"Loss of smell\",\n",
      "    \"Sneezing\",\n",
      "    \"Shortness of breath\"\n",
      "  ]\n",
      "}\n"
     ]
    }
   ],
   "source": [
    "patient_index = random.randint(0, 99)\n",
    "patient_json_form = get_json_form(patient_symptom_df.iloc[patient_index])\n",
    "print(patient_json_form)"
   ]
  },
  {
   "cell_type": "markdown",
   "id": "44c6d23f",
   "metadata": {
    "papermill": {
     "duration": 0.007072,
     "end_time": "2025-04-20T05:42:54.464727",
     "exception": false,
     "start_time": "2025-04-20T05:42:54.457655",
     "status": "completed"
    },
    "tags": []
   },
   "source": [
    "### AI Request\n",
    "\n",
    "In this first round of few-shot prompting, I utilized few-shot prompting to create a formalized request for the AI model to know what type of patient or individual that the model will be retrieving information for. Few-shot prompting is also used to ensure accuracy and consistency of the format of the request (the model is always clear on what information to extract from the patient and how to process that information into a formalized request). We also used structured output/controlled generation to ensure that the model is consistent in generating the output response as possible. "
   ]
  },
  {
   "cell_type": "code",
   "execution_count": 13,
   "id": "0bfbbe2d",
   "metadata": {
    "execution": {
     "iopub.execute_input": "2025-04-20T05:42:54.480502Z",
     "iopub.status.busy": "2025-04-20T05:42:54.480129Z",
     "iopub.status.idle": "2025-04-20T05:42:55.047209Z",
     "shell.execute_reply": "2025-04-20T05:42:55.045946Z"
    },
    "papermill": {
     "duration": 0.577074,
     "end_time": "2025-04-20T05:42:55.049020",
     "exception": false,
     "start_time": "2025-04-20T05:42:54.471946",
     "status": "completed"
    },
    "tags": []
   },
   "outputs": [
    {
     "name": "stdout",
     "output_type": "stream",
     "text": [
      "\"24-year old Hispanic or Latino Pacific Islander non-binary patient with height of 63.4 inches and weight of 127.9 pounds from zipcode 90002 currently experiencing symptoms of muscle ache, loss of smell, sneezing, and shortness of breath.\"\n",
      "\n"
     ]
    }
   ],
   "source": [
    "model_config = get_general_model_config(0.1, 1, 500)\n",
    "\n",
    "few_shot_prompt = \"\"\"Parse JSON into a string request and only return output: \n",
    "\n",
    "EXAMPLE: \n",
    "{\n",
    "\"zipcode\": 78664, \n",
    "\"age\": 30, \n",
    "\"gender\": \"Female\", \n",
    "\"race\": \"White\", \n",
    "\"ethnicity\": \"Not Hispanic or Latino\", \n",
    "\"height\": 64.6, \n",
    "\"weight\": 130.5, \n",
    "\"symptoms\": [\"Cough\", \"Fever\", \"Sore throat\"]\n",
    "}\n",
    "\"30-year old Not Hispanic or Latino White female patient with height of 64.6 inches and weight of 130.5 pounds from zipcode 78664 currently experiencing symptoms of cough, fever, and sore throat.\"\n",
    "\n",
    "EXAMPLE: \n",
    "{\n",
    "\"zipcode\": 77055, \n",
    "\"age\": 25, \n",
    "\"gender\": \"Non-binary\", \n",
    "\"race\": \"Asian\", \n",
    "\"ethnicity\": \"Not Hispanic or Latino\", \n",
    "\"height\": 60.5, \n",
    "\"weight\": 100.2, \n",
    "\"symptoms\": [\"Joint pain\", \"Loss of smell\"]\n",
    "}\n",
    "\"25-year old Not Hispanic or Latino Asian non-binary patient with height of 60.5 inches and weight of 100.2 pounds from zipcode 77055 currently experiencing symptoms of joint pain and loss of smell.\"\n",
    "\n",
    "EXAMPLE: \n",
    "{\n",
    "\"zipcode\": 78681, \n",
    "\"age\": 15, \n",
    "\"gender\" \"Male\", \n",
    "\"race\": \"Black\", \n",
    "\"ethnicity\": \"Hispanic or Latino\", \n",
    "\"height\": 74.6, \n",
    "\"weight\": 180.5, \n",
    "\"symptoms\": [\"Fatigue\", \"Loss of Vision\", \"Headache\", \"Joint pain\"]\n",
    "}\n",
    "\"15-year old Hispanic or Latino Black male patient with height of 74.6 inches and weight of 180.5 pounds from zipcode 78681 currently experiencing symptoms of fatigue, loss of vision, headache, and joint pain.\"\n",
    "\"\"\"\n",
    "\n",
    "patient_medical_request = few_shot_func(patient_json_form, few_shot_prompt, model_config)\n",
    "print(patient_medical_request)"
   ]
  },
  {
   "cell_type": "markdown",
   "id": "cf7b52cb",
   "metadata": {
    "papermill": {
     "duration": 0.006962,
     "end_time": "2025-04-20T05:42:55.063507",
     "exception": false,
     "start_time": "2025-04-20T05:42:55.056545",
     "status": "completed"
    },
    "tags": []
   },
   "source": [
    "### Potential Diagnosis\n",
    "\n",
    "In this first round of grounding, I utilized grounding to provide a potential but precise diagnosis based on the symptoms and other relevant demographic information, especially zipcode, provided. I am not only utilizing the data that the AI has already been provided to conduct the diagnosis, but also other sources, like the internet as well. "
   ]
  },
  {
   "cell_type": "code",
   "execution_count": 14,
   "id": "d3ec8fbe",
   "metadata": {
    "execution": {
     "iopub.execute_input": "2025-04-20T05:42:55.078928Z",
     "iopub.status.busy": "2025-04-20T05:42:55.078593Z",
     "iopub.status.idle": "2025-04-20T05:42:56.487941Z",
     "shell.execute_reply": "2025-04-20T05:42:56.486939Z"
    },
    "papermill": {
     "duration": 1.419187,
     "end_time": "2025-04-20T05:42:56.489830",
     "exception": false,
     "start_time": "2025-04-20T05:42:55.070643",
     "status": "completed"
    },
    "tags": []
   },
   "outputs": [
    {
     "data": {
      "text/markdown": [
       "Based on the symptoms of muscle ache, loss of smell, sneezing, and shortness of breath, the most likely disease they are experiencing is COVID-19.\n"
      ],
      "text/plain": [
       "<IPython.core.display.Markdown object>"
      ]
     },
     "execution_count": 14,
     "metadata": {},
     "output_type": "execute_result"
    }
   ],
   "source": [
    "diagnosis_prompt = patient_medical_request + \"What disease are they most likely to experience now? Only return the singular most likely disease, please.\"\n",
    "diagnosis = grounding_func(diagnosis_prompt)\n",
    "Markdown(diagnosis)"
   ]
  },
  {
   "cell_type": "markdown",
   "id": "25573ff5",
   "metadata": {
    "papermill": {
     "duration": 0.008486,
     "end_time": "2025-04-20T05:42:56.506182",
     "exception": false,
     "start_time": "2025-04-20T05:42:56.497696",
     "status": "completed"
    },
    "tags": []
   },
   "source": [
    "*I had to run the grounding process again since after the notebook restarts, the response can be hit-or-miss in terms of accuracy or helpfulness*"
   ]
  },
  {
   "cell_type": "code",
   "execution_count": 15,
   "id": "e5cf13ce",
   "metadata": {
    "execution": {
     "iopub.execute_input": "2025-04-20T05:42:56.522677Z",
     "iopub.status.busy": "2025-04-20T05:42:56.522261Z",
     "iopub.status.idle": "2025-04-20T05:42:58.921668Z",
     "shell.execute_reply": "2025-04-20T05:42:58.920633Z"
    },
    "papermill": {
     "duration": 2.409516,
     "end_time": "2025-04-20T05:42:58.923358",
     "exception": false,
     "start_time": "2025-04-20T05:42:56.513842",
     "status": "completed"
    },
    "tags": []
   },
   "outputs": [
    {
     "data": {
      "text/markdown": [
       "To determine the most likely disease, I need to consider the patient's symptoms, age, ethnicity, and other provided information. Given the symptoms of muscle ache, loss of smell, sneezing, and shortness of breath, I'll research possible conditions presenting with these symptoms, especially considering current common illnesses.\n",
       "\n"
      ],
      "text/plain": [
       "<IPython.core.display.Markdown object>"
      ]
     },
     "execution_count": 15,
     "metadata": {},
     "output_type": "execute_result"
    }
   ],
   "source": [
    "diagnosis_prompt = patient_medical_request + \"What disease are they most likely to experience now? Only return the singular most likely disease, please.\"\n",
    "diagnosis = grounding_func(diagnosis_prompt)\n",
    "Markdown(diagnosis)"
   ]
  },
  {
   "cell_type": "markdown",
   "id": "93a4bdf5",
   "metadata": {
    "papermill": {
     "duration": 0.007304,
     "end_time": "2025-04-20T05:42:58.938802",
     "exception": false,
     "start_time": "2025-04-20T05:42:58.931498",
     "status": "completed"
    },
    "tags": []
   },
   "source": [
    "### Patient Zipcode \n",
    "\n",
    "In this second round of few-shot prompting, I utilized few-shot prompting to extract the zipcode of the patient from the JSON form (since at this point, we are using the JSON form to get our data information). Few-shot prompting is utilized to ensure accuracy of the output based on the current format of the JSON form (in this case, a simplified and abstract version of a patient form). "
   ]
  },
  {
   "cell_type": "code",
   "execution_count": 16,
   "id": "bc26cff7",
   "metadata": {
    "execution": {
     "iopub.execute_input": "2025-04-20T05:42:58.955277Z",
     "iopub.status.busy": "2025-04-20T05:42:58.954949Z",
     "iopub.status.idle": "2025-04-20T05:42:59.299726Z",
     "shell.execute_reply": "2025-04-20T05:42:59.298368Z"
    },
    "papermill": {
     "duration": 0.355,
     "end_time": "2025-04-20T05:42:59.301490",
     "exception": false,
     "start_time": "2025-04-20T05:42:58.946490",
     "status": "completed"
    },
    "tags": []
   },
   "outputs": [
    {
     "name": "stdout",
     "output_type": "stream",
     "text": [
      "90002\n",
      "\n"
     ]
    }
   ],
   "source": [
    "model_config_two = get_general_model_config(0, 1, 50)\n",
    "\n",
    "few_shot_prompt_two = \"\"\"Parse JSON to return only the Zipcode: \n",
    "\n",
    "EXAMPLE: \n",
    "{\n",
    "\"zipcode\": 78664, \n",
    "\"age\": 30, \n",
    "\"gender\": \"Female\", \n",
    "\"race\": \"White\", \n",
    "\"ethnicity\": \"Not Hispanic or Latino\", \n",
    "\"height\": 64.6, \n",
    "\"weight\": 130.5, \n",
    "\"symptoms\": [\"Cough\", \"Fever\", \"Sore throat\"]\n",
    "}\n",
    "78664\n",
    "\n",
    "EXAMPLE: \n",
    "{\n",
    "\"zipcode\": 77055, \n",
    "\"age\": 25, \n",
    "\"gender\": \"Non-binary\", \n",
    "\"race\": \"Asian\", \n",
    "\"ethnicity\": \"Not Hispanic or Latino\", \n",
    "\"height\": 60.5, \n",
    "\"weight\": 100.2, \n",
    "\"symptoms\": [\"Joint pain\", \"Loss of smell\"]\n",
    "}\n",
    "77055\n",
    "\n",
    "EXAMPLE: \n",
    "{\n",
    "\"zipcode\": 78681, \n",
    "\"age\": 15, \n",
    "\"gender\" \"Male\", \n",
    "\"race\": \"Black\", \n",
    "\"ethnicity\": \"Hispanic or Latino\", \n",
    "\"height\": 74.6, \n",
    "\"weight\": 180.5, \n",
    "\"symptoms\": [\"Fatigue\", \"Loss of Vision\", \"Headache\", \"Joint pain\"]\n",
    "}\n",
    "78681\n",
    "\"\"\"\n",
    "\n",
    "patient_zipcode = few_shot_func(patient_json_form, few_shot_prompt_two, model_config_two)\n",
    "print(patient_zipcode)"
   ]
  },
  {
   "cell_type": "markdown",
   "id": "6b5b394b",
   "metadata": {
    "papermill": {
     "duration": 0.007262,
     "end_time": "2025-04-20T05:42:59.316552",
     "exception": false,
     "start_time": "2025-04-20T05:42:59.309290",
     "status": "completed"
    },
    "tags": []
   },
   "source": [
    "### Nearest Medical Facilities\n",
    "\n",
    "In this second round of grounding, I utilized grounding to provide the nearest appropriate medical facilities for the individual to go to for treatment based on zipcode. We are not only utilizing the data that the AI has already been provided to find the nearest location, but also other sources, like the internet as well. \n",
    "\n",
    "*Note: Would not recommend to run the cell below more than once to get helpful and accurate information*"
   ]
  },
  {
   "cell_type": "code",
   "execution_count": 17,
   "id": "b4799735",
   "metadata": {
    "execution": {
     "iopub.execute_input": "2025-04-20T05:42:59.333006Z",
     "iopub.status.busy": "2025-04-20T05:42:59.332614Z",
     "iopub.status.idle": "2025-04-20T05:43:02.727694Z",
     "shell.execute_reply": "2025-04-20T05:43:02.726624Z"
    },
    "papermill": {
     "duration": 3.405087,
     "end_time": "2025-04-20T05:43:02.729282",
     "exception": false,
     "start_time": "2025-04-20T05:42:59.324195",
     "status": "completed"
    },
    "tags": []
   },
   "outputs": [
    {
     "data": {
      "text/markdown": [
       "Based on the symptoms you described—muscle ache, loss of smell, sneezing, and shortness of breath—it's important to consider conditions like COVID-19, the flu, or a common cold, as these share overlapping symptoms. Loss of smell is particularly associated with COVID-19, but it can also occur with a cold or sinus infection. Shortness of breath is more indicative of COVID-19 or the flu, but it's important to get a diagnosis from a medical professional.\n",
       "\n",
       "Given your location (zip code 90002), here are some of the nearest medical facilities with potentially good ratings:\n",
       "\n",
       "*   **Watts Healthcare Corporation**\n",
       "\n",
       "    *   **Watts Health Center:** 10300 Compton Ave Los Angeles, CA 90002. Phone: (323) 564-4331\n",
       "    *   **Watts Healthcare – Jordan Wellness Center:** 10110 Juniper St Los Angeles, CA 90002. Phone: (323) 564-4331\n",
       "*   **Family & Community Medical Clinic:** 9901 S. Compton Avenue Los Angeles CA 90002. Phone: (323) 835-\n",
       "\n",
       "It's important to note that \"best-rated\" can be subjective and may depend on the specific criteria used for evaluation.\n"
      ],
      "text/plain": [
       "<IPython.core.display.Markdown object>"
      ]
     },
     "execution_count": 17,
     "metadata": {},
     "output_type": "execute_result"
    }
   ],
   "source": [
    "recommendations_prompt = diagnosis + 'Can you get me the nearest best-rated medical facilities with their addresses that can treat the disease for zip code ' + str(patient_zipcode) + '?'\n",
    "recommendations = grounding_func(recommendations_prompt)\n",
    "Markdown(recommendations)"
   ]
  },
  {
   "cell_type": "markdown",
   "id": "79287c1f",
   "metadata": {
    "papermill": {
     "duration": 0.007393,
     "end_time": "2025-04-20T05:43:02.744620",
     "exception": false,
     "start_time": "2025-04-20T05:43:02.737227",
     "status": "completed"
    },
    "tags": []
   },
   "source": [
    "### Payment and Insurance Plan Information\n",
    "\n",
    "In this third round of grounding, I utilized grounding to provide payment and insurance plan information for each of the location recommended for treatment. We are not only utilizing the data that the AI has already been provided to retrieve the information, but also other sources, like the internet as well. \n",
    "\n",
    "*Note: Would not recommend to run the cell below more than once to get helpful and accurate information*"
   ]
  },
  {
   "cell_type": "code",
   "execution_count": 18,
   "id": "5d9245c3",
   "metadata": {
    "execution": {
     "iopub.execute_input": "2025-04-20T05:43:02.761067Z",
     "iopub.status.busy": "2025-04-20T05:43:02.760747Z",
     "iopub.status.idle": "2025-04-20T05:43:06.813567Z",
     "shell.execute_reply": "2025-04-20T05:43:06.812459Z"
    },
    "papermill": {
     "duration": 4.062904,
     "end_time": "2025-04-20T05:43:06.815176",
     "exception": false,
     "start_time": "2025-04-20T05:43:02.752272",
     "status": "completed"
    },
    "tags": []
   },
   "outputs": [
    {
     "data": {
      "text/markdown": [
       "It's crucial to confirm the most up-to-date information directly with each facility, as insurance plans and payment policies can change. Here's a breakdown based on the available information:\n",
       "\n",
       "**1. Watts Healthcare Corporation & Watts Healthcare - Jordan Wellness Center (Phone: (323) 564-4331):**\n",
       "\n",
       "*   **Insurance:** Watts Healthcare accepts \"most insurance plans including Medi-Cal Managed Care options, California Health and Wellness and Anthem Blue Cross Partnership Plans, Medicare\". They also have contracts with various healthcare coverage programs.\n",
       "*   **Specific Plans Mentioned:**\n",
       "    *   Anthem Blue Cross\n",
       "    *   Blue Shield of CA Promise Health Plan\n",
       "    *   Health Net\n",
       "    *   LA Care\n",
       "    *   Molina\n",
       "    *   Medicare Advantage HMO plans like Alignment, Brand New Day, Central Health Plan\n",
       "*   **Payment Options:**\n",
       "    *   Private Pay\n",
       "    *   Sliding Fee Discount Program: Watts Healthcare Corporation is committed to providing a sliding fee discount to persons who have healthcare needs and are uninsured, underinsured, ineligible for a government program, or otherwise unable to pay.\n",
       "    *   They can assist with applying for Medicaid, Medicare, or insurance plans through California's marketplace.\n",
       "*   **Other Important Information:**\n",
       "    *   They offer a sliding fee scale for those without insurance, but you must bring proof of residence (light or water utility bill), ID, and two recent pay stubs.\n",
       "\n",
       "**2. Family & Community Medical Clinic (Phone: (323) 835-):**\n",
       "\n",
       "*   I am unable to find specific information about the Family & Community Medical Clinic's accepted insurance plans and payment options. It is best to contact them directly.\n",
       "\n"
      ],
      "text/plain": [
       "<IPython.core.display.Markdown object>"
      ]
     },
     "execution_count": 18,
     "metadata": {},
     "output_type": "execute_result"
    }
   ],
   "source": [
    "payments_prompt = \"For each of the locations recommended to me: \" + recommendations + \" what types of payments and insurance plans are accepted for patients coming in for treatment?\"\n",
    "payments = grounding_func(payments_prompt)\n",
    "Markdown(payments)"
   ]
  },
  {
   "cell_type": "markdown",
   "id": "a8748610",
   "metadata": {
    "papermill": {
     "duration": 0.008149,
     "end_time": "2025-04-20T05:43:06.831385",
     "exception": false,
     "start_time": "2025-04-20T05:43:06.823236",
     "status": "completed"
    },
    "tags": []
   },
   "source": [
    "## Limitations and Possible Next Steps\n",
    "\n",
    "While EmergencyZIP AI functions as intended, it is a basic implementation due to time constraints. Some advanced features were not included due to limitations in the development process (e.g., Python input errors). Additionally, grounding-based responses can sometimes be inaccurate, so the AI should not be considered a replacement for professional medical advice. It provides potential diagnoses and recommendations that should be treated as informational rather than authoritative.\n",
    "\n",
    "Future improvements include:\n",
    "\n",
    "* Transitioning the AI into an AI Agent using LangGraph.\n",
    "* Implementing an interactive feature where users input their information, and the AI processes and responds with relevant recommendations.\n",
    "* Developing a UX/UI interface for a more user-friendly experience.\n",
    "* Expanding the JSON form to capture additional information, such as address, health history, and income.\n",
    "\n",
    "## Conclusion and Potential Impact \n",
    "I created EmergencyZIP AI to provide individuals with a more individualized and accessible way to understand their symptoms, find appropriate treatment options, and consider the crucial role of zip codes in determining their health. While the current version is basic due to time constraints, it functions as intended, helping users make informed decisions about their healthcare.\n",
    "\n",
    "The goal of this AI is to empower individuals to take charge of their health by providing them with easy access to healthcare resources. Ultimately, I hope EmergencyZIP AI will contribute to improving health outcomes in various regions, one zip code at a time. By helping individuals become more health-conscious and informed, this tool has the potential to make a significant impact on healthcare access and overall well-being."
   ]
  }
 ],
 "metadata": {
  "kaggle": {
   "accelerator": "none",
   "dataSources": [
    {
     "datasetId": 7088011,
     "sourceId": 11479823,
     "sourceType": "datasetVersion"
    }
   ],
   "dockerImageVersionId": 30918,
   "isGpuEnabled": false,
   "isInternetEnabled": true,
   "language": "python",
   "sourceType": "notebook"
  },
  "kernelspec": {
   "display_name": "Python 3",
   "language": "python",
   "name": "python3"
  },
  "language_info": {
   "codemirror_mode": {
    "name": "ipython",
    "version": 3
   },
   "file_extension": ".py",
   "mimetype": "text/x-python",
   "name": "python",
   "nbconvert_exporter": "python",
   "pygments_lexer": "ipython3",
   "version": "3.10.12"
  },
  "papermill": {
   "default_parameters": {},
   "duration": 29.165355,
   "end_time": "2025-04-20T05:43:07.659643",
   "environment_variables": {},
   "exception": null,
   "input_path": "__notebook__.ipynb",
   "output_path": "__notebook__.ipynb",
   "parameters": {},
   "start_time": "2025-04-20T05:42:38.494288",
   "version": "2.6.0"
  }
 },
 "nbformat": 4,
 "nbformat_minor": 5
}
