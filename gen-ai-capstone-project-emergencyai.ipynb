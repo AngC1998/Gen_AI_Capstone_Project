{
 "cells": [
  {
   "cell_type": "code",
   "execution_count": 1,
   "id": "f29d2586",
   "metadata": {
    "_cell_guid": "b1076dfc-b9ad-4769-8c92-a6c4dae69d19",
    "_uuid": "8f2839f25d086af736a60e9eeb907d3b93b6e0e5",
    "execution": {
     "iopub.execute_input": "2025-04-05T23:51:26.380081Z",
     "iopub.status.busy": "2025-04-05T23:51:26.379674Z",
     "iopub.status.idle": "2025-04-05T23:51:27.416480Z",
     "shell.execute_reply": "2025-04-05T23:51:27.415466Z"
    },
    "papermill": {
     "duration": 1.04395,
     "end_time": "2025-04-05T23:51:27.418574",
     "exception": false,
     "start_time": "2025-04-05T23:51:26.374624",
     "status": "completed"
    },
    "tags": []
   },
   "outputs": [],
   "source": [
    "# This Python 3 environment comes with many helpful analytics libraries installed\n",
    "# It is defined by the kaggle/python Docker image: https://github.com/kaggle/docker-python\n",
    "# For example, here's several helpful packages to load\n",
    "\n",
    "import numpy as np # linear algebra\n",
    "import pandas as pd # data processing, CSV file I/O (e.g. pd.read_csv)\n",
    "\n",
    "# Input data files are available in the read-only \"../input/\" directory\n",
    "# For example, running this (by clicking run or pressing Shift+Enter) will list all files under the input directory\n",
    "\n",
    "import os\n",
    "for dirname, _, filenames in os.walk('/kaggle/input'):\n",
    "    for filename in filenames:\n",
    "        print(os.path.join(dirname, filename))\n",
    "\n",
    "# You can write up to 20GB to the current directory (/kaggle/working/) that gets preserved as output when you create a version using \"Save & Run All\" \n",
    "# You can also write temporary files to /kaggle/temp/, but they won't be saved outside of the current session"
   ]
  },
  {
   "cell_type": "code",
   "execution_count": 2,
   "id": "1613de24",
   "metadata": {
    "execution": {
     "iopub.execute_input": "2025-04-05T23:51:27.427261Z",
     "iopub.status.busy": "2025-04-05T23:51:27.426718Z",
     "iopub.status.idle": "2025-04-05T23:51:36.577423Z",
     "shell.execute_reply": "2025-04-05T23:51:36.576197Z"
    },
    "papermill": {
     "duration": 9.15703,
     "end_time": "2025-04-05T23:51:36.579557",
     "exception": false,
     "start_time": "2025-04-05T23:51:27.422527",
     "status": "completed"
    },
    "tags": []
   },
   "outputs": [
    {
     "name": "stdout",
     "output_type": "stream",
     "text": [
      "\u001b[2K   \u001b[90m━━━━━━━━━━━━━━━━━━━━━━━━━━━━━━━━━━━━━━━━\u001b[0m \u001b[32m144.7/144.7 kB\u001b[0m \u001b[31m5.8 MB/s\u001b[0m eta \u001b[36m0:00:00\u001b[0m\r\n",
      "\u001b[2K   \u001b[90m━━━━━━━━━━━━━━━━━━━━━━━━━━━━━━━━━━━━━━━━\u001b[0m \u001b[32m100.9/100.9 kB\u001b[0m \u001b[31m4.7 MB/s\u001b[0m eta \u001b[36m0:00:00\u001b[0m\r\n",
      "\u001b[?25h"
     ]
    }
   ],
   "source": [
    "!pip uninstall -qqy jupyterlab  # Remove unused packages from Kaggle's base image that conflict\n",
    "!pip install -U -q \"google-genai==1.7.0\""
   ]
  },
  {
   "cell_type": "code",
   "execution_count": 3,
   "id": "deb475ca",
   "metadata": {
    "execution": {
     "iopub.execute_input": "2025-04-05T23:51:36.588934Z",
     "iopub.status.busy": "2025-04-05T23:51:36.588562Z",
     "iopub.status.idle": "2025-04-05T23:51:37.944582Z",
     "shell.execute_reply": "2025-04-05T23:51:37.943454Z"
    },
    "papermill": {
     "duration": 1.362826,
     "end_time": "2025-04-05T23:51:37.946432",
     "exception": false,
     "start_time": "2025-04-05T23:51:36.583606",
     "status": "completed"
    },
    "tags": []
   },
   "outputs": [],
   "source": [
    "from google import genai\n",
    "from google.genai import types\n",
    "\n",
    "from IPython.display import HTML, Markdown, display"
   ]
  },
  {
   "cell_type": "code",
   "execution_count": 4,
   "id": "cb4a4240",
   "metadata": {
    "execution": {
     "iopub.execute_input": "2025-04-05T23:51:37.955757Z",
     "iopub.status.busy": "2025-04-05T23:51:37.955213Z",
     "iopub.status.idle": "2025-04-05T23:51:38.262929Z",
     "shell.execute_reply": "2025-04-05T23:51:38.261966Z"
    },
    "papermill": {
     "duration": 0.314517,
     "end_time": "2025-04-05T23:51:38.264811",
     "exception": false,
     "start_time": "2025-04-05T23:51:37.950294",
     "status": "completed"
    },
    "tags": []
   },
   "outputs": [],
   "source": [
    "from google.api_core import retry\n",
    "\n",
    "\n",
    "is_retriable = lambda e: (isinstance(e, genai.errors.APIError) and e.code in {429, 503})\n",
    "\n",
    "genai.models.Models.generate_content = retry.Retry(\n",
    "    predicate=is_retriable)(genai.models.Models.generate_content)"
   ]
  },
  {
   "cell_type": "code",
   "execution_count": 5,
   "id": "fcc4769c",
   "metadata": {
    "execution": {
     "iopub.execute_input": "2025-04-05T23:51:38.273628Z",
     "iopub.status.busy": "2025-04-05T23:51:38.273123Z",
     "iopub.status.idle": "2025-04-05T23:51:38.460633Z",
     "shell.execute_reply": "2025-04-05T23:51:38.459698Z"
    },
    "papermill": {
     "duration": 0.193928,
     "end_time": "2025-04-05T23:51:38.462594",
     "exception": false,
     "start_time": "2025-04-05T23:51:38.268666",
     "status": "completed"
    },
    "tags": []
   },
   "outputs": [],
   "source": [
    "from kaggle_secrets import UserSecretsClient\n",
    "\n",
    "GOOGLE_API_KEY = UserSecretsClient().get_secret(\"GOOGLE_API_KEY\")"
   ]
  },
  {
   "cell_type": "code",
   "execution_count": 6,
   "id": "fdcc6f6b",
   "metadata": {
    "execution": {
     "iopub.execute_input": "2025-04-05T23:51:38.471218Z",
     "iopub.status.busy": "2025-04-05T23:51:38.470878Z",
     "iopub.status.idle": "2025-04-05T23:51:38.890536Z",
     "shell.execute_reply": "2025-04-05T23:51:38.889479Z"
    },
    "papermill": {
     "duration": 0.425913,
     "end_time": "2025-04-05T23:51:38.892454",
     "exception": false,
     "start_time": "2025-04-05T23:51:38.466541",
     "status": "completed"
    },
    "tags": []
   },
   "outputs": [],
   "source": [
    "client = genai.Client(api_key=GOOGLE_API_KEY)"
   ]
  },
  {
   "cell_type": "code",
   "execution_count": 7,
   "id": "9c6b577e",
   "metadata": {
    "execution": {
     "iopub.execute_input": "2025-04-05T23:51:38.900981Z",
     "iopub.status.busy": "2025-04-05T23:51:38.900606Z",
     "iopub.status.idle": "2025-04-05T23:51:38.908210Z",
     "shell.execute_reply": "2025-04-05T23:51:38.907238Z"
    },
    "papermill": {
     "duration": 0.01351,
     "end_time": "2025-04-05T23:51:38.909786",
     "exception": false,
     "start_time": "2025-04-05T23:51:38.896276",
     "status": "completed"
    },
    "tags": []
   },
   "outputs": [
    {
     "data": {
      "text/plain": [
       "\"{'Zipcode': 77035, 'Medical Emergency': 'broken arm'}\""
      ]
     },
     "execution_count": 7,
     "metadata": {},
     "output_type": "execute_result"
    }
   ],
   "source": [
    "# When using as interactive AI, uncomment this whole section\n",
    "\"\"\"\n",
    "medical_emergency = input(\"Hello, what medical emergency are you dealing with?\")\n",
    "zipcode = int(input(\"What zipcode are you currently living now?\"))\n",
    "\n",
    "medical_request = {\n",
    "    'Zipcode': zipcode, \n",
    "    'Medical Emergency': medical_emergency\n",
    "}\n",
    "medical_request_str = str(medical_request)\n",
    "medical_request_str\n",
    "\"\"\"\n",
    "\n",
    "# When saving to GitHub, uncomment this whole section \n",
    "medical_emergency = 'broken arm'\n",
    "zipcode = 77035\n",
    "\n",
    "medical_request = {\n",
    "    'Zipcode': zipcode, \n",
    "    'Medical Emergency': medical_emergency\n",
    "}\n",
    "medical_request_str = str(medical_request)\n",
    "medical_request_str"
   ]
  },
  {
   "cell_type": "code",
   "execution_count": 8,
   "id": "3c191b73",
   "metadata": {
    "execution": {
     "iopub.execute_input": "2025-04-05T23:51:38.918747Z",
     "iopub.status.busy": "2025-04-05T23:51:38.918380Z",
     "iopub.status.idle": "2025-04-05T23:51:39.763691Z",
     "shell.execute_reply": "2025-04-05T23:51:39.762615Z"
    },
    "papermill": {
     "duration": 0.851937,
     "end_time": "2025-04-05T23:51:39.765549",
     "exception": false,
     "start_time": "2025-04-05T23:51:38.913612",
     "status": "completed"
    },
    "tags": []
   },
   "outputs": [
    {
     "name": "stdout",
     "output_type": "stream",
     "text": [
      "{\n",
      "  \"zipcode\": 77035,\n",
      "  \"medical_emergency\": \"broken arm\"\n",
      "}\n"
     ]
    }
   ],
   "source": [
    "import typing_extensions as typing\n",
    "\n",
    "class MedicalRequest(typing.TypedDict): \n",
    "    zipcode: int\n",
    "    medical_emergency: str\n",
    "\n",
    "response = client.models.generate_content(\n",
    "    model='gemini-2.0-flash', \n",
    "    config=types.GenerateContentConfig(\n",
    "        temperature=0.1, \n",
    "        response_mime_type=\"application/json\", \n",
    "        response_schema=MedicalRequest\n",
    "    ), \n",
    "    contents=medical_request_str\n",
    ")\n",
    "\n",
    "json_form = response.text\n",
    "\n",
    "print(json_form)"
   ]
  },
  {
   "cell_type": "code",
   "execution_count": 9,
   "id": "f366d354",
   "metadata": {
    "execution": {
     "iopub.execute_input": "2025-04-05T23:51:39.774397Z",
     "iopub.status.busy": "2025-04-05T23:51:39.774057Z",
     "iopub.status.idle": "2025-04-05T23:51:40.230900Z",
     "shell.execute_reply": "2025-04-05T23:51:40.229589Z"
    },
    "papermill": {
     "duration": 0.463566,
     "end_time": "2025-04-05T23:51:40.233050",
     "exception": false,
     "start_time": "2025-04-05T23:51:39.769484",
     "status": "completed"
    },
    "tags": []
   },
   "outputs": [
    {
     "name": "stdout",
     "output_type": "stream",
     "text": [
      "\"Patient currently living in zipcode 77035 wants to seek medical attention for broken arm.\"\n",
      "\n"
     ]
    }
   ],
   "source": [
    "few_shot_prompt = \"\"\"Parse JSON into a string request and only return output: \n",
    "\n",
    "EXAMPLE: \n",
    "{\n",
    "\"zipcode\": 78664, \n",
    "\"medical_emergency\": \"heart attack\" \n",
    "}\n",
    "\"Patient currently living in zipcode 78664 wants to seek medical attention for heart attack.\"\n",
    "\n",
    "EXAMPLE: \n",
    "{\n",
    "\"zipcode\": 77055, \n",
    "\"medical_emergency\": \"broken leg\" \n",
    "}\n",
    "\"Patient currently living in zipcode 77055 wants to seek medical attention for broken leg.\"\n",
    "\n",
    "EXAMPLE: \n",
    "{\n",
    "\"zipcode\": 78681, \n",
    "\"medical_emergency\": \"dog bite\" \n",
    "}\n",
    "\"Patient currently living in zipcode 78681 wants to seek medical attention for dog bite.\"\n",
    "\"\"\"\n",
    "\n",
    "model_config = types.GenerateContentConfig(\n",
    "    temperature=0.1, \n",
    "    top_p=1, \n",
    "    max_output_tokens=500\n",
    ")\n",
    "\n",
    "response = client.models.generate_content(\n",
    "    model='gemini-2.0-flash', \n",
    "    config=model_config,\n",
    "    contents=[few_shot_prompt, json_form]\n",
    ")\n",
    "\n",
    "str_request = response.text\n",
    "print(str_request)"
   ]
  },
  {
   "cell_type": "code",
   "execution_count": 10,
   "id": "801e9450",
   "metadata": {
    "execution": {
     "iopub.execute_input": "2025-04-05T23:51:40.242207Z",
     "iopub.status.busy": "2025-04-05T23:51:40.241812Z",
     "iopub.status.idle": "2025-04-05T23:51:41.363569Z",
     "shell.execute_reply": "2025-04-05T23:51:41.362394Z"
    },
    "papermill": {
     "duration": 1.128358,
     "end_time": "2025-04-05T23:51:41.365450",
     "exception": false,
     "start_time": "2025-04-05T23:51:40.237092",
     "status": "completed"
    },
    "tags": []
   },
   "outputs": [
    {
     "name": "stdout",
     "output_type": "stream",
     "text": [
      "Find the nearest medical centers, including urgent care facilities and hospitals, to the patient's location in zip code 77035 that are equipped to diagnose and treat a broken arm. Please provide the name, address, phone number, and estimated distance from the center of zip code 77035 for each location. Prioritize facilities with shorter wait times and positive patient reviews, if available.\n",
      "\n"
     ]
    }
   ],
   "source": [
    "prompt_config = types.GenerateContentConfig(\n",
    "    temperature=0.1, \n",
    "    top_p=1.0, \n",
    "    max_output_tokens=250\n",
    ")\n",
    "\n",
    "generate_prompt_prompt = \"Generate precise prompt that asks for nearest medical centers for this request: \" + str_request\n",
    "\n",
    "response = client.models.generate_content(\n",
    "    model='gemini-2.0-flash', \n",
    "    config=prompt_config, \n",
    "    contents= generate_prompt_prompt\n",
    ")\n",
    "\n",
    "prompt = response.text\n",
    "print(prompt)"
   ]
  },
  {
   "cell_type": "code",
   "execution_count": 11,
   "id": "2009c21f",
   "metadata": {
    "execution": {
     "iopub.execute_input": "2025-04-05T23:51:41.375631Z",
     "iopub.status.busy": "2025-04-05T23:51:41.375303Z",
     "iopub.status.idle": "2025-04-05T23:51:48.912116Z",
     "shell.execute_reply": "2025-04-05T23:51:48.911133Z"
    },
    "papermill": {
     "duration": 7.543361,
     "end_time": "2025-04-05T23:51:48.913735",
     "exception": false,
     "start_time": "2025-04-05T23:51:41.370374",
     "status": "completed"
    },
    "tags": []
   },
   "outputs": [
    {
     "data": {
      "text/markdown": [
       "Okay, I will provide you with a list of medical facilities near the 77035 zip code that can diagnose and treat a broken arm. I will prioritize facilities with shorter wait times and positive patient reviews where possible, and include the name, address, phone number, and estimated distance from the center of 77035.\n",
       "\n",
       "**Please note:** Wait times can fluctuate significantly and the below information may not reflect real-time availability. Always call ahead to confirm hours, services, and current wait times. Also, distances are approximate and calculated from the center of zip code 77035.\n",
       "\n",
       "Here's what I've found, combining urgent care centers and hospitals:\n",
       "\n",
       "**Hospitals**\n",
       "\n",
       "*   **HCA Houston Healthcare Medical Center**\n",
       "\n",
       "    *   Address: 1313 Hermann Dr. Houston, TX 77004\n",
       "    *   Phone: (713) 527 - 5000\n",
       "    *   Distance: Approximately 3.7 miles\n",
       "    *   Notes: This hospital offers comprehensive orthopedic care for a wide range of injuries and conditions, including broken bones. They provide advanced pain management, rehabilitation services, and minimally invasive surgical procedures. HCA Houston Healthcare facilities strive to minimize ER wait times.\n",
       "*   **Memorial Hermann-Texas Medical Center**\n",
       "\n",
       "    *   Address: 6411 Fannin St, Houston, TX 77030\n",
       "    *   Phone: (713) 704-4000\n",
       "    *   Distance: Approximately 4.5 miles\n",
       "    *   Notes: This is a large teaching hospital with a wide range of medical experts, including orthopedic specialists.\n",
       "*   **Ben Taub Hospital**\n",
       "\n",
       "    *   Address: Not specified in search results, but located in Houston, TX.\n",
       "    *   Notes: This hospital has been recognized for awards in clinical quality and patient safety.\n",
       "\n",
       "**Urgent Care Centers**\n",
       "\n",
       "*   **Memorial Primary and Urgent Care**\n",
       "\n",
       "    *   Address: 14629 Memorial Drive, Houston, TX 77079\n",
       "    *   Phone: (281) 589-8500\n",
       "    *   Notes: This facility diagnoses and treats fractures, offering X-ray and other diagnostic services. Patient reviews highlight the professionalism and efficiency of the staff.\n",
       "*   **Lifeline Urgent Care**\n",
       "\n",
       "    *   Address: (Location in Houston, TX - specific address needed for distance)\n",
       "    *   Phone: 281-771-1144\n",
       "    *   Notes: Lifeline Urgent Care provides walk-in bone fracture treatment with X-ray capabilities and splinting. They can also refer to orthopedic specialists. They advertise lower rates and shorter wait times compared to emergency rooms.\n",
       "*   **AFC Urgent Care Memorial City TX**\n",
       "\n",
       "    *   Address: (Specific address needed for distance from 77035)\n",
       "    *   Phone: (346) 385-5989\n",
       "    *   Notes: They offer urgent care for patients of all ages and have X-Ray services on-site. They advertise shorter wait times than emergency rooms.\n",
       "*   **Next Level Urgent Care**\n",
       "\n",
       "    *   Address: (Multiple locations, check website for the nearest to 77035)\n",
       "    *   Notes: Known for prompt service and friendly staff, Next Level Urgent Care offers immediate care for non-life-threatening injuries.\n",
       "*   **Insight Urgent Care**\n",
       "\n",
       "    *   Address: (Multiple locations, check website for the nearest to 77035)\n",
       "    *   Notes: Patients have reported quick service and expert treatment at Insight Urgent Care. They offer X-rays for minor injuries.\n",
       "\n",
       "**Important Considerations:**\n",
       "\n",
       "*   **Severity of the Break:** For severe breaks, especially compound fractures (where the bone breaks the skin), an emergency room is the most appropriate choice. They have the resources for immediate surgery and to prevent infection.\n",
       "*   **Wait Times:** Call the facility to ask about current wait times. Urgent care centers generally have shorter wait times than hospital ERs, but this can vary. Some hospitals and urgent care centers may offer online check-in or wait time information.\n",
       "*   **Insurance:** Verify that the facility accepts your insurance.\n",
       "*   **Pediatric Care:** If the patient is a child, consider facilities specializing in pediatric orthopedics.\n",
       "*   **Orthopedic Specialists:** Confirm that the facility has orthopedic specialists available or can provide a referral if needed.\n",
       "\n",
       "I hope this information is helpful. Remember to call the facilities directly to confirm details and make the best choice for the patient's specific needs.\n"
      ],
      "text/plain": [
       "<IPython.core.display.Markdown object>"
      ]
     },
     "execution_count": 11,
     "metadata": {},
     "output_type": "execute_result"
    }
   ],
   "source": [
    "config_with_search = types.GenerateContentConfig(\n",
    "    tools=[types.Tool(google_search=types.GoogleSearch())],\n",
    ")\n",
    "\n",
    "response = client.models.generate_content(\n",
    "    model='gemini-2.0-flash', \n",
    "    contents=prompt, \n",
    "    config=config_with_search,\n",
    ")\n",
    "\n",
    "rc = response.candidates[0]\n",
    "\n",
    "Markdown(rc.content.parts[0].text)"
   ]
  },
  {
   "cell_type": "code",
   "execution_count": null,
   "id": "3f25606c",
   "metadata": {
    "papermill": {
     "duration": 0.003877,
     "end_time": "2025-04-05T23:51:48.921925",
     "exception": false,
     "start_time": "2025-04-05T23:51:48.918048",
     "status": "completed"
    },
    "tags": []
   },
   "outputs": [],
   "source": []
  }
 ],
 "metadata": {
  "kaggle": {
   "accelerator": "none",
   "dataSources": [
    {
     "sourceId": 97258,
     "sourceType": "competition"
    }
   ],
   "dockerImageVersionId": 30918,
   "isGpuEnabled": false,
   "isInternetEnabled": true,
   "language": "python",
   "sourceType": "notebook"
  },
  "kernelspec": {
   "display_name": "Python 3",
   "language": "python",
   "name": "python3"
  },
  "language_info": {
   "codemirror_mode": {
    "name": "ipython",
    "version": 3
   },
   "file_extension": ".py",
   "mimetype": "text/x-python",
   "name": "python",
   "nbconvert_exporter": "python",
   "pygments_lexer": "ipython3",
   "version": "3.10.12"
  },
  "papermill": {
   "default_parameters": {},
   "duration": 26.220299,
   "end_time": "2025-04-05T23:51:49.645483",
   "environment_variables": {},
   "exception": null,
   "input_path": "__notebook__.ipynb",
   "output_path": "__notebook__.ipynb",
   "parameters": {},
   "start_time": "2025-04-05T23:51:23.425184",
   "version": "2.6.0"
  }
 },
 "nbformat": 4,
 "nbformat_minor": 5
}
