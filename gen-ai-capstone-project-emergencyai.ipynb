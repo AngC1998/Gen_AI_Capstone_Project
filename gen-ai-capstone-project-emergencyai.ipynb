{
 "cells": [
  {
   "cell_type": "markdown",
   "id": "2d35af0a",
   "metadata": {
    "papermill": {
     "duration": 0.010288,
     "end_time": "2025-04-19T22:48:38.047871",
     "exception": false,
     "start_time": "2025-04-19T22:48:38.037583",
     "status": "completed"
    },
    "tags": []
   },
   "source": [
    "# EmergencyZIP AI"
   ]
  },
  {
   "cell_type": "markdown",
   "id": "833c09ea",
   "metadata": {
    "papermill": {
     "duration": 0.009938,
     "end_time": "2025-04-19T22:48:38.065657",
     "exception": false,
     "start_time": "2025-04-19T22:48:38.055719",
     "status": "completed"
    },
    "tags": []
   },
   "source": [
    "## Intro\n",
    "\n",
    "As a Data Scientist in Healthcare with 2+ years of industry and work experience, one of the valuable pieces of knowledge that I learned on the job is that Zipcode (Postal Code) is indeed an important factor in determining an individual's health status (thus, wherever the individual lives can determine how healthy or unhealthy an individual can be). Also, healthcare, especially the quality of healthcare, is also an important factor in determining the standard of life of an area as well. However, many people may not be familiar with all the medical facilities that their area may provide or may not know the best one to go to based on what illness or medical condition that they may experience now. Thus, I created the EmergencyZIP AI to help individuals determine the best medical facilities to attend based on the symptoms or conditions that they may be experiencing right now, and to take greater consideration of zipcode/postal code as one of the most important factors of an individual's health status. \n",
    "\n",
    "## Process\n",
    "\n",
    "The AI utilizes Structured Output/JSON Mode/Controlled Generation, Few-Shot Prompting, and Grounding to operate. First, it uses JSON Mode to process patient demographic information and structures it to a formalized JSON form (just like filling out a patient form to receive medical care except simplier and more abstract). Then it utilizes Few-Shot Prompting and Structured Output/Controlled Generation to create a request for the AI. Then it utilizes grounding to find the best and most accurate diagnosis for the patient based on the current symptoms/conditions that the patient is facing now. Then using the diagnosis and the current zipcode of the patient (the AI uses Few-Shot Prompting to extract the zipcode of the patient from the JSON form), the AI finds the nearest and best medical facilities that can treat the patient. The AI also uses grounding to inform the patient payment and insurance plan options that the suggested medical facilities can accept as payment for the treatment. "
   ]
  },
  {
   "cell_type": "code",
   "execution_count": 1,
   "id": "7761e806",
   "metadata": {
    "_cell_guid": "b1076dfc-b9ad-4769-8c92-a6c4dae69d19",
    "_uuid": "8f2839f25d086af736a60e9eeb907d3b93b6e0e5",
    "execution": {
     "iopub.execute_input": "2025-04-19T22:48:38.085992Z",
     "iopub.status.busy": "2025-04-19T22:48:38.085500Z",
     "iopub.status.idle": "2025-04-19T22:48:39.277981Z",
     "shell.execute_reply": "2025-04-19T22:48:39.276831Z"
    },
    "papermill": {
     "duration": 1.204553,
     "end_time": "2025-04-19T22:48:39.279907",
     "exception": false,
     "start_time": "2025-04-19T22:48:38.075354",
     "status": "completed"
    },
    "tags": []
   },
   "outputs": [
    {
     "name": "stdout",
     "output_type": "stream",
     "text": [
      "/kaggle/input/patient-symptom-dataset/patient_symptom_data.csv\n"
     ]
    }
   ],
   "source": [
    "# This Python 3 environment comes with many helpful analytics libraries installed\n",
    "# It is defined by the kaggle/python Docker image: https://github.com/kaggle/docker-python\n",
    "# For example, here's several helpful packages to load\n",
    "\n",
    "import numpy as np # linear algebra\n",
    "import pandas as pd # data processing, CSV file I/O (e.g. pd.read_csv)\n",
    "import random\n",
    "\n",
    "# Input data files are available in the read-only \"../input/\" directory\n",
    "# For example, running this (by clicking run or pressing Shift+Enter) will list all files under the input directory\n",
    "\n",
    "import os\n",
    "for dirname, _, filenames in os.walk('/kaggle/input'):\n",
    "    for filename in filenames:\n",
    "        print(os.path.join(dirname, filename))\n",
    "\n",
    "# You can write up to 20GB to the current directory (/kaggle/working/) that gets preserved as output when you create a version using \"Save & Run All\" \n",
    "# You can also write temporary files to /kaggle/temp/, but they won't be saved outside of the current session"
   ]
  },
  {
   "cell_type": "code",
   "execution_count": 2,
   "id": "36badb17",
   "metadata": {
    "execution": {
     "iopub.execute_input": "2025-04-19T22:48:39.293034Z",
     "iopub.status.busy": "2025-04-19T22:48:39.292368Z",
     "iopub.status.idle": "2025-04-19T22:48:48.512699Z",
     "shell.execute_reply": "2025-04-19T22:48:48.511429Z"
    },
    "papermill": {
     "duration": 9.22891,
     "end_time": "2025-04-19T22:48:48.514634",
     "exception": false,
     "start_time": "2025-04-19T22:48:39.285724",
     "status": "completed"
    },
    "tags": []
   },
   "outputs": [
    {
     "name": "stdout",
     "output_type": "stream",
     "text": [
      "\u001b[2K   \u001b[90m━━━━━━━━━━━━━━━━━━━━━━━━━━━━━━━━━━━━━━━━\u001b[0m \u001b[32m144.7/144.7 kB\u001b[0m \u001b[31m4.2 MB/s\u001b[0m eta \u001b[36m0:00:00\u001b[0m\r\n",
      "\u001b[2K   \u001b[90m━━━━━━━━━━━━━━━━━━━━━━━━━━━━━━━━━━━━━━━━\u001b[0m \u001b[32m100.9/100.9 kB\u001b[0m \u001b[31m4.3 MB/s\u001b[0m eta \u001b[36m0:00:00\u001b[0m\r\n",
      "\u001b[?25h"
     ]
    }
   ],
   "source": [
    "!pip uninstall -qqy jupyterlab  # Remove unused packages from Kaggle's base image that conflict\n",
    "!pip install -U -q \"google-genai==1.7.0\""
   ]
  },
  {
   "cell_type": "code",
   "execution_count": 3,
   "id": "1456aee6",
   "metadata": {
    "execution": {
     "iopub.execute_input": "2025-04-19T22:48:48.527854Z",
     "iopub.status.busy": "2025-04-19T22:48:48.527502Z",
     "iopub.status.idle": "2025-04-19T22:48:49.908510Z",
     "shell.execute_reply": "2025-04-19T22:48:49.907453Z"
    },
    "papermill": {
     "duration": 1.389647,
     "end_time": "2025-04-19T22:48:49.910493",
     "exception": false,
     "start_time": "2025-04-19T22:48:48.520846",
     "status": "completed"
    },
    "tags": []
   },
   "outputs": [],
   "source": [
    "from google import genai\n",
    "from google.genai import types\n",
    "\n",
    "from IPython.display import HTML, Markdown, display"
   ]
  },
  {
   "cell_type": "code",
   "execution_count": 4,
   "id": "fe2a150d",
   "metadata": {
    "execution": {
     "iopub.execute_input": "2025-04-19T22:48:49.923139Z",
     "iopub.status.busy": "2025-04-19T22:48:49.922611Z",
     "iopub.status.idle": "2025-04-19T22:48:50.201938Z",
     "shell.execute_reply": "2025-04-19T22:48:50.200933Z"
    },
    "papermill": {
     "duration": 0.287808,
     "end_time": "2025-04-19T22:48:50.203971",
     "exception": false,
     "start_time": "2025-04-19T22:48:49.916163",
     "status": "completed"
    },
    "tags": []
   },
   "outputs": [],
   "source": [
    "from google.api_core import retry\n",
    "\n",
    "\n",
    "is_retriable = lambda e: (isinstance(e, genai.errors.APIError) and e.code in {429, 503})\n",
    "\n",
    "genai.models.Models.generate_content = retry.Retry(\n",
    "    predicate=is_retriable)(genai.models.Models.generate_content)"
   ]
  },
  {
   "cell_type": "code",
   "execution_count": 5,
   "id": "e8f95e79",
   "metadata": {
    "execution": {
     "iopub.execute_input": "2025-04-19T22:48:50.217004Z",
     "iopub.status.busy": "2025-04-19T22:48:50.216468Z",
     "iopub.status.idle": "2025-04-19T22:48:50.287224Z",
     "shell.execute_reply": "2025-04-19T22:48:50.286224Z"
    },
    "papermill": {
     "duration": 0.079412,
     "end_time": "2025-04-19T22:48:50.289251",
     "exception": false,
     "start_time": "2025-04-19T22:48:50.209839",
     "status": "completed"
    },
    "tags": []
   },
   "outputs": [],
   "source": [
    "from kaggle_secrets import UserSecretsClient\n",
    "\n",
    "GOOGLE_API_KEY = UserSecretsClient().get_secret(\"GOOGLE_API_KEY\")"
   ]
  },
  {
   "cell_type": "code",
   "execution_count": 6,
   "id": "01285d98",
   "metadata": {
    "execution": {
     "iopub.execute_input": "2025-04-19T22:48:50.302075Z",
     "iopub.status.busy": "2025-04-19T22:48:50.301733Z",
     "iopub.status.idle": "2025-04-19T22:48:50.687630Z",
     "shell.execute_reply": "2025-04-19T22:48:50.686405Z"
    },
    "papermill": {
     "duration": 0.394433,
     "end_time": "2025-04-19T22:48:50.689744",
     "exception": false,
     "start_time": "2025-04-19T22:48:50.295311",
     "status": "completed"
    },
    "tags": []
   },
   "outputs": [],
   "source": [
    "client = genai.Client(api_key=GOOGLE_API_KEY)"
   ]
  },
  {
   "cell_type": "markdown",
   "id": "c855c3ca",
   "metadata": {
    "papermill": {
     "duration": 0.005368,
     "end_time": "2025-04-19T22:48:50.700964",
     "exception": false,
     "start_time": "2025-04-19T22:48:50.695596",
     "status": "completed"
    },
    "tags": []
   },
   "source": [
    "## Generative AI Capabilities Used and Reasoning \n",
    "\n",
    "These are the 3 Generative AI Capabilities Used in this AI and why they are used in this AI: \n",
    "* **Structured Output/JSON Mode/Controlled Generation**: For JSON Mode, I want to somewhat mimic the forms that patients fill out when they are requesting care from a medical facility, but simplier and more abstract. For Structured Output and Controlled Generation, I want my responses to be as accurate and precise as possible where creativity may not be required but accuracy is definitely required to get the best responses as possible.\n",
    "* **Few-Shot Prompting**: First of all, I want to create requests for the AI to know who it is providing information for, but I want the formatting of the requests to be as consistent as possible so that the information does not get muddled up which would make things more difficult for the AI to process and provide information for. Then, I also want to extract the zipcode from the JSON form, but sometimes the AI can hallucinate and return irrelevant or incorrect information, so I want the let the AI know how to return the zipcode correctly.\n",
    "* **Grounding**: This is the central capability of the AI since the AI is responsible for finding all the relevant possible nearest locations to the patient based on postal code/zipcode. Since we are exploring so many zipcodes and it is possible that the AI does not know every zipcode or medical facilities per zipcode, we need to rely on external sources to get the best answers possible. However, since we don't have a document listing out every medical facility per zipcode or all zipcodes, we would need to rely on the internet to give us answers. "
   ]
  },
  {
   "cell_type": "markdown",
   "id": "f4429c82",
   "metadata": {
    "papermill": {
     "duration": 0.005176,
     "end_time": "2025-04-19T22:48:50.712112",
     "exception": false,
     "start_time": "2025-04-19T22:48:50.706936",
     "status": "completed"
    },
    "tags": []
   },
   "source": [
    "### Generative AI Capability #1: Structured Output/JSON Mode/Controlled Generation"
   ]
  },
  {
   "cell_type": "markdown",
   "id": "99e5c3b0",
   "metadata": {
    "papermill": {
     "duration": 0.005116,
     "end_time": "2025-04-19T22:48:50.722672",
     "exception": false,
     "start_time": "2025-04-19T22:48:50.717556",
     "status": "completed"
    },
    "tags": []
   },
   "source": [
    "#### JSON Mode"
   ]
  },
  {
   "cell_type": "code",
   "execution_count": 7,
   "id": "81e417fa",
   "metadata": {
    "execution": {
     "iopub.execute_input": "2025-04-19T22:48:50.734807Z",
     "iopub.status.busy": "2025-04-19T22:48:50.734382Z",
     "iopub.status.idle": "2025-04-19T22:48:50.739991Z",
     "shell.execute_reply": "2025-04-19T22:48:50.738932Z"
    },
    "papermill": {
     "duration": 0.013594,
     "end_time": "2025-04-19T22:48:50.741614",
     "exception": false,
     "start_time": "2025-04-19T22:48:50.728020",
     "status": "completed"
    },
    "tags": []
   },
   "outputs": [],
   "source": [
    "import typing_extensions as typing\n",
    "\n",
    "class MedicalPatient(typing.TypedDict): \n",
    "    zipcode: int\n",
    "    age: int\n",
    "    gender: str\n",
    "    symptoms: list[str]\n",
    "\n",
    "def get_json_form(patient_symptom_entry): \n",
    "    entry_str = patient_symptom_entry.to_string()\n",
    "    json_response = client.models.generate_content(\n",
    "        model='gemini-2.0-flash', \n",
    "        config=types.GenerateContentConfig(\n",
    "            temperature=0.1, \n",
    "            response_mime_type=\"application/json\", \n",
    "            response_schema=MedicalPatient\n",
    "        ), \n",
    "        contents=entry_str\n",
    "    )\n",
    "    json_form = json_response.text\n",
    "    return json_form"
   ]
  },
  {
   "cell_type": "markdown",
   "id": "1cc2764e",
   "metadata": {
    "papermill": {
     "duration": 0.005156,
     "end_time": "2025-04-19T22:48:50.752589",
     "exception": false,
     "start_time": "2025-04-19T22:48:50.747433",
     "status": "completed"
    },
    "tags": []
   },
   "source": [
    "#### Structured Output/Controlled Generation"
   ]
  },
  {
   "cell_type": "code",
   "execution_count": 8,
   "id": "71599a2b",
   "metadata": {
    "execution": {
     "iopub.execute_input": "2025-04-19T22:48:50.764435Z",
     "iopub.status.busy": "2025-04-19T22:48:50.764048Z",
     "iopub.status.idle": "2025-04-19T22:48:50.768549Z",
     "shell.execute_reply": "2025-04-19T22:48:50.767480Z"
    },
    "papermill": {
     "duration": 0.012215,
     "end_time": "2025-04-19T22:48:50.770098",
     "exception": false,
     "start_time": "2025-04-19T22:48:50.757883",
     "status": "completed"
    },
    "tags": []
   },
   "outputs": [],
   "source": [
    "def get_general_model_config(temperature, top_p, max_output_tokens): \n",
    "    return types.GenerateContentConfig(\n",
    "        temperature=temperature, \n",
    "        top_p=top_p, \n",
    "        max_output_tokens=max_output_tokens\n",
    "    )"
   ]
  },
  {
   "cell_type": "markdown",
   "id": "167794f8",
   "metadata": {
    "papermill": {
     "duration": 0.005219,
     "end_time": "2025-04-19T22:48:50.780948",
     "exception": false,
     "start_time": "2025-04-19T22:48:50.775729",
     "status": "completed"
    },
    "tags": []
   },
   "source": [
    "### Generative AI Capability #2: Few-Shot Prompting"
   ]
  },
  {
   "cell_type": "code",
   "execution_count": 9,
   "id": "8ccda868",
   "metadata": {
    "execution": {
     "iopub.execute_input": "2025-04-19T22:48:50.793027Z",
     "iopub.status.busy": "2025-04-19T22:48:50.792675Z",
     "iopub.status.idle": "2025-04-19T22:48:50.797131Z",
     "shell.execute_reply": "2025-04-19T22:48:50.796073Z"
    },
    "papermill": {
     "duration": 0.012679,
     "end_time": "2025-04-19T22:48:50.799034",
     "exception": false,
     "start_time": "2025-04-19T22:48:50.786355",
     "status": "completed"
    },
    "tags": []
   },
   "outputs": [],
   "source": [
    "def few_shot_func(model_input, prompt, config): \n",
    "    few_shot_response = client.models.generate_content(\n",
    "        model='gemini-2.0-flash', \n",
    "        config=config,\n",
    "        contents=[prompt, model_input]\n",
    "    )\n",
    "    str_response = few_shot_response.text\n",
    "    return str_response"
   ]
  },
  {
   "cell_type": "markdown",
   "id": "c143981b",
   "metadata": {
    "papermill": {
     "duration": 0.005412,
     "end_time": "2025-04-19T22:48:50.810404",
     "exception": false,
     "start_time": "2025-04-19T22:48:50.804992",
     "status": "completed"
    },
    "tags": []
   },
   "source": [
    "### Generative AI Capability #3: Grounding"
   ]
  },
  {
   "cell_type": "code",
   "execution_count": 10,
   "id": "3869c341",
   "metadata": {
    "execution": {
     "iopub.execute_input": "2025-04-19T22:48:50.823170Z",
     "iopub.status.busy": "2025-04-19T22:48:50.822841Z",
     "iopub.status.idle": "2025-04-19T22:48:50.827745Z",
     "shell.execute_reply": "2025-04-19T22:48:50.826669Z"
    },
    "papermill": {
     "duration": 0.01336,
     "end_time": "2025-04-19T22:48:50.829540",
     "exception": false,
     "start_time": "2025-04-19T22:48:50.816180",
     "status": "completed"
    },
    "tags": []
   },
   "outputs": [],
   "source": [
    "def grounding_func(input_prompt): \n",
    "    config_with_search = types.GenerateContentConfig(\n",
    "        tools=[types.Tool(google_search=types.GoogleSearch())],\n",
    "    )\n",
    "    response = client.models.generate_content(\n",
    "        model='gemini-2.0-flash', \n",
    "        contents=input_prompt, \n",
    "        config=config_with_search,\n",
    "    )\n",
    "    rc = response.candidates[0]\n",
    "    return rc.content.parts[0].text"
   ]
  },
  {
   "cell_type": "markdown",
   "id": "f00c89d6",
   "metadata": {
    "papermill": {
     "duration": 0.005481,
     "end_time": "2025-04-19T22:48:50.840761",
     "exception": false,
     "start_time": "2025-04-19T22:48:50.835280",
     "status": "completed"
    },
    "tags": []
   },
   "source": [
    "## EmergencyZIP AI Test Run\n",
    "\n",
    "Kaggle Notebooks seem to not work or do well with Python input, so instead, we generated a dataset of patients with relevant demographic information and their symptoms through ChatGPT (so the dataset below is ChatGPT-generated), and then the code picks a random patient to test run the AI to make sure it actually works as intended. "
   ]
  },
  {
   "cell_type": "code",
   "execution_count": 11,
   "id": "713bbd29",
   "metadata": {
    "execution": {
     "iopub.execute_input": "2025-04-19T22:48:50.852922Z",
     "iopub.status.busy": "2025-04-19T22:48:50.852607Z",
     "iopub.status.idle": "2025-04-19T22:48:50.904095Z",
     "shell.execute_reply": "2025-04-19T22:48:50.902930Z"
    },
    "papermill": {
     "duration": 0.059645,
     "end_time": "2025-04-19T22:48:50.905933",
     "exception": false,
     "start_time": "2025-04-19T22:48:50.846288",
     "status": "completed"
    },
    "tags": []
   },
   "outputs": [
    {
     "data": {
      "text/html": [
       "<div>\n",
       "<style scoped>\n",
       "    .dataframe tbody tr th:only-of-type {\n",
       "        vertical-align: middle;\n",
       "    }\n",
       "\n",
       "    .dataframe tbody tr th {\n",
       "        vertical-align: top;\n",
       "    }\n",
       "\n",
       "    .dataframe thead th {\n",
       "        text-align: right;\n",
       "    }\n",
       "</style>\n",
       "<table border=\"1\" class=\"dataframe\">\n",
       "  <thead>\n",
       "    <tr style=\"text-align: right;\">\n",
       "      <th></th>\n",
       "      <th>PatientID</th>\n",
       "      <th>ZipCode</th>\n",
       "      <th>Age</th>\n",
       "      <th>Gender</th>\n",
       "      <th>Symptoms</th>\n",
       "    </tr>\n",
       "  </thead>\n",
       "  <tbody>\n",
       "    <tr>\n",
       "      <th>0</th>\n",
       "      <td>P001</td>\n",
       "      <td>70112</td>\n",
       "      <td>32</td>\n",
       "      <td>Female</td>\n",
       "      <td>Joint pain;Runny nose;Loss of taste;Sore throat</td>\n",
       "    </tr>\n",
       "    <tr>\n",
       "      <th>1</th>\n",
       "      <td>P002</td>\n",
       "      <td>15213</td>\n",
       "      <td>87</td>\n",
       "      <td>Female</td>\n",
       "      <td>Cough;Fever;Fatigue;Chest pain;Joint pain</td>\n",
       "    </tr>\n",
       "    <tr>\n",
       "      <th>2</th>\n",
       "      <td>P003</td>\n",
       "      <td>46201</td>\n",
       "      <td>21</td>\n",
       "      <td>Non-binary</td>\n",
       "      <td>Swelling;Blurred vision;Rash</td>\n",
       "    </tr>\n",
       "    <tr>\n",
       "      <th>3</th>\n",
       "      <td>P004</td>\n",
       "      <td>20001</td>\n",
       "      <td>46</td>\n",
       "      <td>Male</td>\n",
       "      <td>Chest tightness;Sneezing;Fever;Breathing diffi...</td>\n",
       "    </tr>\n",
       "    <tr>\n",
       "      <th>4</th>\n",
       "      <td>P005</td>\n",
       "      <td>96813</td>\n",
       "      <td>38</td>\n",
       "      <td>Non-binary</td>\n",
       "      <td>Vomiting;Headache;Runny nose;Chest pain;Breath...</td>\n",
       "    </tr>\n",
       "    <tr>\n",
       "      <th>...</th>\n",
       "      <td>...</td>\n",
       "      <td>...</td>\n",
       "      <td>...</td>\n",
       "      <td>...</td>\n",
       "      <td>...</td>\n",
       "    </tr>\n",
       "    <tr>\n",
       "      <th>95</th>\n",
       "      <td>P096</td>\n",
       "      <td>92101</td>\n",
       "      <td>71</td>\n",
       "      <td>Non-binary</td>\n",
       "      <td>Low-grade fever;Joint pain;Headache</td>\n",
       "    </tr>\n",
       "    <tr>\n",
       "      <th>96</th>\n",
       "      <td>P097</td>\n",
       "      <td>20001</td>\n",
       "      <td>80</td>\n",
       "      <td>Female</td>\n",
       "      <td>Vomiting;Abdominal cramps;Chest tightness;Abdo...</td>\n",
       "    </tr>\n",
       "    <tr>\n",
       "      <th>97</th>\n",
       "      <td>P098</td>\n",
       "      <td>85001</td>\n",
       "      <td>77</td>\n",
       "      <td>Female</td>\n",
       "      <td>Loss of smell;Abdominal pain</td>\n",
       "    </tr>\n",
       "    <tr>\n",
       "      <th>98</th>\n",
       "      <td>P099</td>\n",
       "      <td>84101</td>\n",
       "      <td>90</td>\n",
       "      <td>Non-binary</td>\n",
       "      <td>Fatigue;Blurred vision</td>\n",
       "    </tr>\n",
       "    <tr>\n",
       "      <th>99</th>\n",
       "      <td>P100</td>\n",
       "      <td>20001</td>\n",
       "      <td>35</td>\n",
       "      <td>Male</td>\n",
       "      <td>Cough;Headache;Abdominal pain</td>\n",
       "    </tr>\n",
       "  </tbody>\n",
       "</table>\n",
       "<p>100 rows × 5 columns</p>\n",
       "</div>"
      ],
      "text/plain": [
       "   PatientID  ZipCode  Age      Gender  \\\n",
       "0       P001    70112   32      Female   \n",
       "1       P002    15213   87      Female   \n",
       "2       P003    46201   21  Non-binary   \n",
       "3       P004    20001   46        Male   \n",
       "4       P005    96813   38  Non-binary   \n",
       "..       ...      ...  ...         ...   \n",
       "95      P096    92101   71  Non-binary   \n",
       "96      P097    20001   80      Female   \n",
       "97      P098    85001   77      Female   \n",
       "98      P099    84101   90  Non-binary   \n",
       "99      P100    20001   35        Male   \n",
       "\n",
       "                                             Symptoms  \n",
       "0     Joint pain;Runny nose;Loss of taste;Sore throat  \n",
       "1           Cough;Fever;Fatigue;Chest pain;Joint pain  \n",
       "2                        Swelling;Blurred vision;Rash  \n",
       "3   Chest tightness;Sneezing;Fever;Breathing diffi...  \n",
       "4   Vomiting;Headache;Runny nose;Chest pain;Breath...  \n",
       "..                                                ...  \n",
       "95                Low-grade fever;Joint pain;Headache  \n",
       "96  Vomiting;Abdominal cramps;Chest tightness;Abdo...  \n",
       "97                       Loss of smell;Abdominal pain  \n",
       "98                             Fatigue;Blurred vision  \n",
       "99                      Cough;Headache;Abdominal pain  \n",
       "\n",
       "[100 rows x 5 columns]"
      ]
     },
     "execution_count": 11,
     "metadata": {},
     "output_type": "execute_result"
    }
   ],
   "source": [
    "patient_symptom_df = pd.read_csv('/kaggle/input/patient-symptom-dataset/patient_symptom_data.csv')\n",
    "patient_symptom_df"
   ]
  },
  {
   "cell_type": "code",
   "execution_count": 12,
   "id": "5bfc6d48",
   "metadata": {
    "execution": {
     "iopub.execute_input": "2025-04-19T22:48:50.919087Z",
     "iopub.status.busy": "2025-04-19T22:48:50.918753Z",
     "iopub.status.idle": "2025-04-19T22:48:51.598042Z",
     "shell.execute_reply": "2025-04-19T22:48:51.596878Z"
    },
    "papermill": {
     "duration": 0.687961,
     "end_time": "2025-04-19T22:48:51.599758",
     "exception": false,
     "start_time": "2025-04-19T22:48:50.911797",
     "status": "completed"
    },
    "tags": []
   },
   "outputs": [
    {
     "name": "stdout",
     "output_type": "stream",
     "text": [
      "{\n",
      "\"zipcode\": 64106,\n",
      "\"age\": 31,\n",
      "\"gender\": \"Male\",\n",
      "\"symptoms\": [\"Sneezing\", \"Low-grade fever\"]\n",
      "}\n"
     ]
    }
   ],
   "source": [
    "patient_index = random.randint(0, 99)\n",
    "patient_json_form = get_json_form(patient_symptom_df.iloc[patient_index])\n",
    "print(patient_json_form)"
   ]
  },
  {
   "cell_type": "code",
   "execution_count": 13,
   "id": "24e24ae8",
   "metadata": {
    "execution": {
     "iopub.execute_input": "2025-04-19T22:48:51.613507Z",
     "iopub.status.busy": "2025-04-19T22:48:51.613089Z",
     "iopub.status.idle": "2025-04-19T22:48:52.092869Z",
     "shell.execute_reply": "2025-04-19T22:48:52.091721Z"
    },
    "papermill": {
     "duration": 0.488499,
     "end_time": "2025-04-19T22:48:52.094602",
     "exception": false,
     "start_time": "2025-04-19T22:48:51.606103",
     "status": "completed"
    },
    "tags": []
   },
   "outputs": [
    {
     "name": "stdout",
     "output_type": "stream",
     "text": [
      "\"31-year old male patient from zipcode 64106 currently experiencing symptoms of sneezing and low-grade fever.\"\n",
      "\n"
     ]
    }
   ],
   "source": [
    "model_config = get_general_model_config(0.1, 1, 500)\n",
    "\n",
    "few_shot_prompt = \"\"\"Parse JSON into a string request and only return output: \n",
    "\n",
    "EXAMPLE: \n",
    "{\n",
    "\"zipcode\": 78664, \n",
    "\"age\": 30, \n",
    "\"gender\": \"Female\", \n",
    "\"symptoms\": [\"Cough\", \"Fever\", \"Sore throat\"]\n",
    "}\n",
    "\"30-year old female patient from zipcode 78664 currently experiencing symptoms of cough, fever, and sore throat.\"\n",
    "\n",
    "EXAMPLE: \n",
    "{\n",
    "\"zipcode\": 77055, \n",
    "\"age\": 25, \n",
    "\"gender\": \"Non-binary\", \n",
    "\"symptoms\": [\"Joint pain\", \"Loss of smell\"]\n",
    "}\n",
    "\"25-year old non-binary patient from zipcode 77055 currently experiencing symptoms of joint pain and loss of smell.\"\n",
    "\n",
    "EXAMPLE: \n",
    "{\n",
    "\"zipcode\": 78681, \n",
    "\"age\": 15, \n",
    "\"gender\" \"Male\", \n",
    "\"symptoms\": [\"Fatigue\", \"Loss of Vision\", \"Headache\", \"Joint pain\"]\n",
    "}\n",
    "\"15-year old male patient from zipcode 78681 currently experiencing symptoms of fatigue, loss of vision, headache, and joint pain.\"\n",
    "\"\"\"\n",
    "\n",
    "patient_medical_request = few_shot_func(patient_json_form, few_shot_prompt, model_config)\n",
    "print(patient_medical_request)"
   ]
  },
  {
   "cell_type": "code",
   "execution_count": 14,
   "id": "ca16e74b",
   "metadata": {
    "execution": {
     "iopub.execute_input": "2025-04-19T22:48:52.107793Z",
     "iopub.status.busy": "2025-04-19T22:48:52.107410Z",
     "iopub.status.idle": "2025-04-19T22:48:53.582891Z",
     "shell.execute_reply": "2025-04-19T22:48:53.581852Z"
    },
    "papermill": {
     "duration": 1.484283,
     "end_time": "2025-04-19T22:48:53.584807",
     "exception": false,
     "start_time": "2025-04-19T22:48:52.100524",
     "status": "completed"
    },
    "tags": []
   },
   "outputs": [
    {
     "data": {
      "text/markdown": [
       "Given the symptoms of sneezing and a low-grade fever, the most likely disease the 31-year-old male patient is experiencing is the **common cold**.\n"
      ],
      "text/plain": [
       "<IPython.core.display.Markdown object>"
      ]
     },
     "execution_count": 14,
     "metadata": {},
     "output_type": "execute_result"
    }
   ],
   "source": [
    "diagnosis_prompt = patient_medical_request + \"What disease are they most likely to experience now? Only return the singular most likely disease, please.\"\n",
    "diagnosis = grounding_func(diagnosis_prompt)\n",
    "Markdown(diagnosis)"
   ]
  },
  {
   "cell_type": "code",
   "execution_count": 15,
   "id": "cd82710f",
   "metadata": {
    "execution": {
     "iopub.execute_input": "2025-04-19T22:48:53.599799Z",
     "iopub.status.busy": "2025-04-19T22:48:53.599460Z",
     "iopub.status.idle": "2025-04-19T22:48:53.945702Z",
     "shell.execute_reply": "2025-04-19T22:48:53.944480Z"
    },
    "papermill": {
     "duration": 0.355755,
     "end_time": "2025-04-19T22:48:53.947877",
     "exception": false,
     "start_time": "2025-04-19T22:48:53.592122",
     "status": "completed"
    },
    "tags": []
   },
   "outputs": [
    {
     "name": "stdout",
     "output_type": "stream",
     "text": [
      "64106\n",
      "\n"
     ]
    }
   ],
   "source": [
    "model_config_two = get_general_model_config(0, 1, 50)\n",
    "\n",
    "few_shot_prompt_two = \"\"\"Parse JSON to return only the Zipcode: \n",
    "\n",
    "EXAMPLE: \n",
    "{\n",
    "\"zipcode\": 78664, \n",
    "\"age\": 30, \n",
    "\"gender\": \"Female\", \n",
    "\"symptoms\": [\"Cough\", \"Fever\", \"Sore throat\"]\n",
    "}\n",
    "78664\n",
    "\n",
    "EXAMPLE: \n",
    "{\n",
    "\"zipcode\": 77055, \n",
    "\"age\": 25, \n",
    "\"gender\": \"Non-binary\", \n",
    "\"symptoms\": [\"Joint pain\", \"Loss of smell\"]\n",
    "}\n",
    "77055\n",
    "\n",
    "EXAMPLE: \n",
    "{\n",
    "\"zipcode\": 78681, \n",
    "\"age\": 15, \n",
    "\"gender\" \"Male\", \n",
    "\"symptoms\": [\"Fatigue\", \"Loss of Vision\", \"Headache\", \"Joint pain\"]\n",
    "}\n",
    "78681\n",
    "\"\"\"\n",
    "\n",
    "patient_zipcode = few_shot_func(patient_json_form, few_shot_prompt_two, model_config_two)\n",
    "print(patient_zipcode)"
   ]
  },
  {
   "cell_type": "code",
   "execution_count": 16,
   "id": "a77df9ec",
   "metadata": {
    "execution": {
     "iopub.execute_input": "2025-04-19T22:48:53.961991Z",
     "iopub.status.busy": "2025-04-19T22:48:53.961594Z",
     "iopub.status.idle": "2025-04-19T22:48:59.991072Z",
     "shell.execute_reply": "2025-04-19T22:48:59.989955Z"
    },
    "papermill": {
     "duration": 6.038525,
     "end_time": "2025-04-19T22:48:59.992930",
     "exception": false,
     "start_time": "2025-04-19T22:48:53.954405",
     "status": "completed"
    },
    "tags": []
   },
   "outputs": [
    {
     "data": {
      "text/markdown": [
       "Okay, I can help you find some medical facilities near the 64106 zip code that can treat a common cold. Since you're looking for the \"nearest best-rated,\" I'll provide a few options from the search results, including urgent care centers and primary care physicians, as these are typically the most appropriate for cold symptoms. Note that \"best-rated\" is subjective, so I'm including facilities that are well-known and have good reputations based on the search results.\n",
       "\n",
       "Here are some options:\n",
       "\n",
       "**Urgent Care Centers:**\n",
       "\n",
       "*   **T-Mobile Center Urgent Care (The University of Kansas Health System):** Located at 1403 Grand Blvd, Kansas City, MO 64106. This is within the 64106 zip code. It's part of a larger health system, which could be beneficial. Hours are Mon-Fri 8:30 AM - 5 PM.\n",
       "*   **Concentra Crossroads:** Located at 200 Southwest Boulevard, Kansas City, MO 64108. This is very close to the 64106 zip code. They offer urgent care services and treat colds and flu. Hours are Mon-Fri, 8 AM - 5 PM.\n",
       "*   **Saint Luke's Urgent Care:** While not directly in the 64106 zip code, they have a location at 8880 NE 82nd Ter Kansas City, MO 64158 which may be convenient. They treat fever, flu, cough, and sore throats. Hours are Mon-Fri: 7 a.m. – 7 p.m.; Saturday and Sunday: 8 a.m. – 5 p.m.\n",
       "*   **NextCare Urgent Care: Ambassador:** Located at 10015 N Ambassador Dr Ste. 100, Kansas City, MO 64153. Hours are Mon-Fri 8:00 AM - 8:00 PM, Sat 8:00 AM - 6:00 PM, and Sun 8:00 AM - 6:00 PM.\n",
       "\n",
       "**Primary Care Physicians:**\n",
       "\n",
       "*   **University Health Primary Care:** They have multiple locations.\n",
       "    *   John W. Bluford Medical Pavilion (downtown Kansas City): They have family physicians who treat patients of all ages. Call 816-404-3855 to make an appointment.\n",
       "    *   2211 Charlotte Street Kansas City, MO 64108, call 816.404.7030\n",
       "*   **Ascension Medical Group:** Jessica L Brunkhorst, MD (Pediatrics), located at 2401 Gillham Rd Kansas City, MO 64108.\n",
       "\n",
       "**Important Considerations:**\n",
       "\n",
       "*   **Check Hours and Availability:** It's always a good idea to call before you go, to confirm their hours of operation and ensure they are accepting new patients or walk-ins.\n",
       "*   **Insurance:** Verify that the facility accepts your insurance.\n",
       "*   **Severity of Symptoms:** Since you mentioned the patient has a low-grade fever, it's likely a common cold. However, if symptoms worsen or are accompanied by difficulty breathing or other serious concerns, seek emergency care.\n",
       "*   **Virtual Care:** Some facilities offer virtual visits, which could be a convenient option.\n",
       "\n",
       "I hope this helps you find the best medical care for the patient!\n"
      ],
      "text/plain": [
       "<IPython.core.display.Markdown object>"
      ]
     },
     "execution_count": 16,
     "metadata": {},
     "output_type": "execute_result"
    }
   ],
   "source": [
    "recommendations_prompt = diagnosis + 'Can you get me the nearest best-rated medical facilities with their addresses that can treat the disease for zip code ' + str(patient_zipcode) + '?'\n",
    "recommendations = grounding_func(recommendations_prompt)\n",
    "Markdown(recommendations)"
   ]
  },
  {
   "cell_type": "code",
   "execution_count": 17,
   "id": "3415870f",
   "metadata": {
    "execution": {
     "iopub.execute_input": "2025-04-19T22:49:00.007680Z",
     "iopub.status.busy": "2025-04-19T22:49:00.007334Z",
     "iopub.status.idle": "2025-04-19T22:49:07.209045Z",
     "shell.execute_reply": "2025-04-19T22:49:07.207777Z"
    },
    "papermill": {
     "duration": 7.211354,
     "end_time": "2025-04-19T22:49:07.210888",
     "exception": false,
     "start_time": "2025-04-19T22:48:59.999534",
     "status": "completed"
    },
    "tags": []
   },
   "outputs": [
    {
     "data": {
      "text/markdown": [
       "Okay, I can research the payment types and insurance plans accepted at the medical facilities I previously recommended. Since I don't have real-time access to each facility's specific accepted plans, I'll provide general information and steps you can take to verify the specifics:\n",
       "\n"
      ],
      "text/plain": [
       "<IPython.core.display.Markdown object>"
      ]
     },
     "execution_count": 17,
     "metadata": {},
     "output_type": "execute_result"
    }
   ],
   "source": [
    "payments_prompt = \"For each of the locations recommended to me: \" + recommendations + \" what types of payments and insurance plans are accepted for patients coming in for treatment?\"\n",
    "payments = grounding_func(payments_prompt)\n",
    "Markdown(payments)"
   ]
  },
  {
   "cell_type": "markdown",
   "id": "657d72d1",
   "metadata": {
    "papermill": {
     "duration": 0.006089,
     "end_time": "2025-04-19T22:49:07.224062",
     "exception": false,
     "start_time": "2025-04-19T22:49:07.217973",
     "status": "completed"
    },
    "tags": []
   },
   "source": [
    "## Possible Next Steps"
   ]
  }
 ],
 "metadata": {
  "kaggle": {
   "accelerator": "none",
   "dataSources": [
    {
     "sourceId": 97258,
     "sourceType": "competition"
    },
    {
     "datasetId": 7088011,
     "sourceId": 11330888,
     "sourceType": "datasetVersion"
    }
   ],
   "dockerImageVersionId": 30918,
   "isGpuEnabled": false,
   "isInternetEnabled": true,
   "language": "python",
   "sourceType": "notebook"
  },
  "kernelspec": {
   "display_name": "Python 3",
   "language": "python",
   "name": "python3"
  },
  "language_info": {
   "codemirror_mode": {
    "name": "ipython",
    "version": 3
   },
   "file_extension": ".py",
   "mimetype": "text/x-python",
   "name": "python",
   "nbconvert_exporter": "python",
   "pygments_lexer": "ipython3",
   "version": "3.10.12"
  },
  "papermill": {
   "default_parameters": {},
   "duration": 33.701118,
   "end_time": "2025-04-19T22:49:08.052218",
   "environment_variables": {},
   "exception": null,
   "input_path": "__notebook__.ipynb",
   "output_path": "__notebook__.ipynb",
   "parameters": {},
   "start_time": "2025-04-19T22:48:34.351100",
   "version": "2.6.0"
  }
 },
 "nbformat": 4,
 "nbformat_minor": 5
}
