{
 "cells": [
  {
   "cell_type": "code",
   "execution_count": 1,
   "id": "278609d3",
   "metadata": {
    "_cell_guid": "b1076dfc-b9ad-4769-8c92-a6c4dae69d19",
    "_uuid": "8f2839f25d086af736a60e9eeb907d3b93b6e0e5",
    "execution": {
     "iopub.execute_input": "2025-04-05T22:35:27.812649Z",
     "iopub.status.busy": "2025-04-05T22:35:27.812312Z",
     "iopub.status.idle": "2025-04-05T22:35:28.592620Z",
     "shell.execute_reply": "2025-04-05T22:35:28.591851Z"
    },
    "papermill": {
     "duration": 0.785737,
     "end_time": "2025-04-05T22:35:28.594203",
     "exception": false,
     "start_time": "2025-04-05T22:35:27.808466",
     "status": "completed"
    },
    "tags": []
   },
   "outputs": [],
   "source": [
    "# This Python 3 environment comes with many helpful analytics libraries installed\n",
    "# It is defined by the kaggle/python Docker image: https://github.com/kaggle/docker-python\n",
    "# For example, here's several helpful packages to load\n",
    "\n",
    "import numpy as np # linear algebra\n",
    "import pandas as pd # data processing, CSV file I/O (e.g. pd.read_csv)\n",
    "\n",
    "# Input data files are available in the read-only \"../input/\" directory\n",
    "# For example, running this (by clicking run or pressing Shift+Enter) will list all files under the input directory\n",
    "\n",
    "import os\n",
    "for dirname, _, filenames in os.walk('/kaggle/input'):\n",
    "    for filename in filenames:\n",
    "        print(os.path.join(dirname, filename))\n",
    "\n",
    "# You can write up to 20GB to the current directory (/kaggle/working/) that gets preserved as output when you create a version using \"Save & Run All\" \n",
    "# You can also write temporary files to /kaggle/temp/, but they won't be saved outside of the current session"
   ]
  },
  {
   "cell_type": "code",
   "execution_count": 2,
   "id": "a8f2dd77",
   "metadata": {
    "execution": {
     "iopub.execute_input": "2025-04-05T22:35:28.599786Z",
     "iopub.status.busy": "2025-04-05T22:35:28.599304Z",
     "iopub.status.idle": "2025-04-05T22:35:35.190147Z",
     "shell.execute_reply": "2025-04-05T22:35:35.189244Z"
    },
    "papermill": {
     "duration": 6.594872,
     "end_time": "2025-04-05T22:35:35.191676",
     "exception": false,
     "start_time": "2025-04-05T22:35:28.596804",
     "status": "completed"
    },
    "tags": []
   },
   "outputs": [
    {
     "name": "stdout",
     "output_type": "stream",
     "text": [
      "\u001b[2K   \u001b[90m━━━━━━━━━━━━━━━━━━━━━━━━━━━━━━━━━━━━━━━━\u001b[0m \u001b[32m144.7/144.7 kB\u001b[0m \u001b[31m6.9 MB/s\u001b[0m eta \u001b[36m0:00:00\u001b[0m\r\n",
      "\u001b[2K   \u001b[90m━━━━━━━━━━━━━━━━━━━━━━━━━━━━━━━━━━━━━━━━\u001b[0m \u001b[32m100.9/100.9 kB\u001b[0m \u001b[31m6.4 MB/s\u001b[0m eta \u001b[36m0:00:00\u001b[0m\r\n",
      "\u001b[?25h"
     ]
    }
   ],
   "source": [
    "!pip uninstall -qqy jupyterlab  # Remove unused packages from Kaggle's base image that conflict\n",
    "!pip install -U -q \"google-genai==1.7.0\""
   ]
  },
  {
   "cell_type": "code",
   "execution_count": 3,
   "id": "edbd18f7",
   "metadata": {
    "execution": {
     "iopub.execute_input": "2025-04-05T22:35:35.197026Z",
     "iopub.status.busy": "2025-04-05T22:35:35.196715Z",
     "iopub.status.idle": "2025-04-05T22:35:36.169037Z",
     "shell.execute_reply": "2025-04-05T22:35:36.168316Z"
    },
    "papermill": {
     "duration": 0.976712,
     "end_time": "2025-04-05T22:35:36.170791",
     "exception": false,
     "start_time": "2025-04-05T22:35:35.194079",
     "status": "completed"
    },
    "tags": []
   },
   "outputs": [],
   "source": [
    "from google import genai\n",
    "from google.genai import types\n",
    "\n",
    "from IPython.display import HTML, Markdown, display"
   ]
  },
  {
   "cell_type": "code",
   "execution_count": 4,
   "id": "8706495f",
   "metadata": {
    "execution": {
     "iopub.execute_input": "2025-04-05T22:35:36.176606Z",
     "iopub.status.busy": "2025-04-05T22:35:36.176152Z",
     "iopub.status.idle": "2025-04-05T22:35:36.357135Z",
     "shell.execute_reply": "2025-04-05T22:35:36.356323Z"
    },
    "papermill": {
     "duration": 0.185213,
     "end_time": "2025-04-05T22:35:36.358580",
     "exception": false,
     "start_time": "2025-04-05T22:35:36.173367",
     "status": "completed"
    },
    "tags": []
   },
   "outputs": [],
   "source": [
    "from google.api_core import retry\n",
    "\n",
    "\n",
    "is_retriable = lambda e: (isinstance(e, genai.errors.APIError) and e.code in {429, 503})\n",
    "\n",
    "genai.models.Models.generate_content = retry.Retry(\n",
    "    predicate=is_retriable)(genai.models.Models.generate_content)"
   ]
  },
  {
   "cell_type": "code",
   "execution_count": 5,
   "id": "cbefa8bb",
   "metadata": {
    "execution": {
     "iopub.execute_input": "2025-04-05T22:35:36.363650Z",
     "iopub.status.busy": "2025-04-05T22:35:36.363274Z",
     "iopub.status.idle": "2025-04-05T22:35:36.568848Z",
     "shell.execute_reply": "2025-04-05T22:35:36.568038Z"
    },
    "papermill": {
     "duration": 0.209413,
     "end_time": "2025-04-05T22:35:36.570278",
     "exception": false,
     "start_time": "2025-04-05T22:35:36.360865",
     "status": "completed"
    },
    "tags": []
   },
   "outputs": [],
   "source": [
    "from kaggle_secrets import UserSecretsClient\n",
    "\n",
    "GOOGLE_API_KEY = UserSecretsClient().get_secret(\"GOOGLE_API_KEY\")"
   ]
  },
  {
   "cell_type": "code",
   "execution_count": 6,
   "id": "d5f3be19",
   "metadata": {
    "execution": {
     "iopub.execute_input": "2025-04-05T22:35:36.575408Z",
     "iopub.status.busy": "2025-04-05T22:35:36.575188Z",
     "iopub.status.idle": "2025-04-05T22:35:36.801368Z",
     "shell.execute_reply": "2025-04-05T22:35:36.800586Z"
    },
    "papermill": {
     "duration": 0.230145,
     "end_time": "2025-04-05T22:35:36.802730",
     "exception": false,
     "start_time": "2025-04-05T22:35:36.572585",
     "status": "completed"
    },
    "tags": []
   },
   "outputs": [],
   "source": [
    "client = genai.Client(api_key=GOOGLE_API_KEY)"
   ]
  },
  {
   "cell_type": "code",
   "execution_count": 7,
   "id": "c1b4aed4",
   "metadata": {
    "execution": {
     "iopub.execute_input": "2025-04-05T22:35:36.808108Z",
     "iopub.status.busy": "2025-04-05T22:35:36.807878Z",
     "iopub.status.idle": "2025-04-05T22:35:45.173811Z",
     "shell.execute_reply": "2025-04-05T22:35:45.172697Z"
    },
    "papermill": {
     "duration": 8.370026,
     "end_time": "2025-04-05T22:35:45.175180",
     "exception": false,
     "start_time": "2025-04-05T22:35:36.805154",
     "status": "completed"
    },
    "tags": []
   },
   "outputs": [
    {
     "data": {
      "text/markdown": [
       "Okay, let's delve into the health conditions and population characteristics of the 77030 zip code.  It's important to remember that this information is based on publicly available data and may have some limitations.  I'll be drawing from sources like the U.S. Census Bureau, the CDC, and other health-related databases.\n",
       "\n",
       "**General Overview of Zip Code 77030**\n",
       "\n",
       "Zip code 77030 is located in Houston, Texas, within Harris County. It's situated in the Texas Medical Center area, which is a major hub for healthcare, research, and education. This location significantly influences the demographic and health profile of the area.\n",
       "\n",
       "**Population Demographics**\n",
       "\n",
       "*   **Population Size:** The population of 77030 is relatively small compared to other zip codes in Houston, primarily due to the high concentration of medical facilities and limited residential areas.  Exact numbers fluctuate, but it's typically in the range of a few thousand residents.\n",
       "*   **Age Distribution:** The age distribution is likely skewed towards younger adults (20s-40s) due to the presence of students, medical residents, and healthcare professionals working in the Texas Medical Center. There may also be a significant population of older adults seeking specialized medical care.\n",
       "*   **Race and Ethnicity:** The racial and ethnic composition is diverse, reflecting the overall demographics of Houston. Expect a mix of White, Black or African American, Asian, and Hispanic or Latino populations. The specific percentages will vary depending on the data source and year.\n",
       "*   **Socioeconomic Status:** Income levels can vary significantly within 77030. While some residents may have high incomes due to their professions in the medical field, there may also be lower-income individuals working in support roles or patients and their families who are temporarily residing in the area.\n",
       "*   **Housing:** Housing options are diverse, ranging from apartments and condos to single-family homes. There's likely a higher proportion of rental units due to the transient nature of some residents (e.g., students, medical residents, patients).\n",
       "\n",
       "**Health Conditions and Risk Factors**\n",
       "\n",
       "Given the location within the Texas Medical Center, it's crucial to consider the unique health-related factors that influence this zip code:\n",
       "\n",
       "1.  **Prevalence of Chronic Diseases:**\n",
       "\n",
       "    *   **Cancer:** Due to the presence of major cancer treatment centers, there is likely a higher prevalence of cancer patients residing in or frequently visiting the area. This includes various types of cancer, such as breast cancer, lung cancer, prostate cancer, and leukemia.\n",
       "    *   **Cardiovascular Diseases:** Heart disease and stroke are common health concerns in the US, and 77030 is no exception. Risk factors such as high blood pressure, high cholesterol, and smoking may contribute to the prevalence of these conditions.\n",
       "    *   **Diabetes:** Diabetes is another significant health issue in Houston and Harris County. Factors such as obesity, sedentary lifestyles, and genetics can contribute to the prevalence of diabetes in 77030.\n",
       "    *   **Respiratory Diseases:** Asthma and chronic obstructive pulmonary disease (COPD) may be prevalent, particularly among individuals with a history of smoking or exposure to air pollution.\n",
       "2.  **Mental Health:**\n",
       "\n",
       "    *   **Stress and Anxiety:** The high-pressure environment of the Texas Medical Center can contribute to stress and anxiety among healthcare professionals, students, and patients.\n",
       "    *   **Depression:** Depression may be prevalent, particularly among individuals dealing with chronic illnesses, cancer, or other serious health conditions.\n",
       "3.  **Infectious Diseases:**\n",
       "\n",
       "    *   **Influenza and Pneumonia:** Due to the high concentration of people in medical facilities, there is a risk of increased transmission of respiratory infections such as influenza and pneumonia.\n",
       "    *   **Healthcare-Associated Infections (HAIs):** HAIs are a concern in any hospital setting. Strict infection control measures are essential to minimize the risk of HAIs in the Texas Medical Center.\n",
       "4.  **Access to Healthcare:**\n",
       "\n",
       "    *   **High Access:** Residents of 77030 generally have excellent access to healthcare services due to the presence of numerous hospitals, clinics, and specialists within the Texas Medical Center.\n",
       "    *   **Insurance Coverage:** Insurance coverage rates may vary depending on the population. Healthcare professionals and students are likely to have good insurance coverage, while lower-income individuals may face challenges in accessing affordable healthcare.\n",
       "5.  **Environmental Factors:**\n",
       "\n",
       "    *   **Air Quality:** Houston is known for its air pollution, which can exacerbate respiratory conditions.\n",
       "    *   **Green Spaces:** Access to green spaces and parks may be limited in some parts of 77030, which can impact physical activity and mental well-being.\n",
       "6.  **Other Considerations:**\n",
       "\n",
       "    *   **Healthcare Disparities:** It's important to consider potential healthcare disparities based on race, ethnicity, and socioeconomic status.\n",
       "    *   **Preventive Care:** Promoting preventive care services such as vaccinations, screenings, and health education is crucial for improving the health outcomes of the population.\n",
       "\n",
       "**Data Sources and Limitations**\n",
       "\n",
       "*   **U.S. Census Bureau:** Provides demographic data, including population size, age distribution, race and ethnicity, income levels, and housing characteristics.\n",
       "*   **Centers for Disease Control and Prevention (CDC):** Offers data on health conditions, risk factors, and mortality rates.\n",
       "*   **County Health Rankings & Roadmaps:** Provides county-level data on various health outcomes and determinants of health.\n",
       "*   **Texas Department of State Health Services (DSHS):** Offers state-level data on health conditions and public health initiatives.\n",
       "*   **Local Hospitals and Healthcare Systems:** May provide data on patient demographics, common health conditions, and healthcare utilization patterns.\n",
       "\n",
       "**Limitations:**\n",
       "\n",
       "*   **Zip Code Level Data:** Health data is often collected and reported at the county level, which may not accurately reflect the specific health conditions in 77030.\n",
       "*   **Data Availability:** Some health data may not be publicly available or may be outdated.\n",
       "*   **Privacy Concerns:** Detailed health information about individuals is protected by privacy regulations.\n",
       "\n",
       "**In Conclusion**\n",
       "\n",
       "Zip code 77030 is a unique area within Houston, characterized by its location in the Texas Medical Center. The population is diverse and includes healthcare professionals, students, patients, and residents. Health conditions are influenced by the presence of major medical facilities, with a higher prevalence of chronic diseases, mental health concerns, and infectious diseases. Access to healthcare is generally excellent, but healthcare disparities may exist. Addressing environmental factors and promoting preventive care are important for improving the health outcomes of the population in 77030.\n",
       "\n",
       "To get the most up-to-date and precise information, it's recommended to consult the data sources mentioned above and consider contacting local health organizations or researchers who may have more specific data on the health conditions and population of 77030.\n"
      ],
      "text/plain": [
       "<IPython.core.display.Markdown object>"
      ]
     },
     "execution_count": 7,
     "metadata": {},
     "output_type": "execute_result"
    }
   ],
   "source": [
    "from google.genai import types \n",
    "\n",
    "low_temp_config = types.GenerateContentConfig(temperature=0.0)\n",
    "\n",
    "response = client.models.generate_content(\n",
    "    model='gemini-2.0-flash', \n",
    "    config=low_temp_config, \n",
    "    contents='Write an in-depth and accurate summary on the health conditions and population of zipcode 77030'\n",
    ")\n",
    "\n",
    "Markdown(response.text)"
   ]
  },
  {
   "cell_type": "code",
   "execution_count": 8,
   "id": "6762f03b",
   "metadata": {
    "execution": {
     "iopub.execute_input": "2025-04-05T22:35:45.180817Z",
     "iopub.status.busy": "2025-04-05T22:35:45.180526Z",
     "iopub.status.idle": "2025-04-05T22:35:48.646118Z",
     "shell.execute_reply": "2025-04-05T22:35:48.645212Z"
    },
    "papermill": {
     "duration": 3.469656,
     "end_time": "2025-04-05T22:35:48.647360",
     "exception": false,
     "start_time": "2025-04-05T22:35:45.177704",
     "status": "completed"
    },
    "tags": []
   },
   "outputs": [
    {
     "data": {
      "text/markdown": [
       "Here are some medical centers near the 77030-zip code that can treat a broken arm:\n",
       "\n",
       "*   **Ascent Emergency Medical Center**\n",
       "\n",
       "    *   Located in the 77030-zip code.\n",
       "    *   It is a freestanding emergency room.\n",
       "    *   Open 24/7.\n",
       "*   **Baylor St. Luke's Medical Center - McNair Campus**\n",
       "\n",
       "    *   Located at 7200 Cambridge St, Houston, TX 77030.\n",
       "    *   Offers a wide range of orthopedic services, including treatment for broken arms.\n",
       "*   **Texas Orthopedic Hospital**\n",
       "\n",
       "    *   Located at 7401 Main St, Houston, TX 77030.\n",
       "*   **Houston Methodist Orthopedics & Sports Medicine**\n",
       "\n",
       "    *   Located at 6560 Fannin St.Suite 410Houston, TX 77030.\n",
       "*   **Southwest Orthopedic Group, LLP**\n",
       "\n",
       "    *   Located at Texas Medical Center (Houston) 6560 Fannin St. Suite 1016. Houston, TX 77030.\n",
       "\n",
       "It's always a good idea to call ahead to confirm that they can treat your specific injury and to check their hours and availability.\n"
      ],
      "text/plain": [
       "<IPython.core.display.Markdown object>"
      ]
     },
     "execution_count": 8,
     "metadata": {},
     "output_type": "execute_result"
    }
   ],
   "source": [
    "config_with_search = types.GenerateContentConfig(\n",
    "    tools=[types.Tool(google_search=types.GoogleSearch())],\n",
    ")\n",
    "\n",
    "response = client.models.generate_content(\n",
    "    model='gemini-2.0-flash', \n",
    "    contents=\"Can you get me the medical centers near zipcode 77030 that can treat broken arm?\", \n",
    "    config=config_with_search,\n",
    ")\n",
    "\n",
    "rc = response.candidates[0]\n",
    "\n",
    "Markdown(rc.content.parts[0].text)"
   ]
  },
  {
   "cell_type": "code",
   "execution_count": 9,
   "id": "4ae3d972",
   "metadata": {
    "execution": {
     "iopub.execute_input": "2025-04-05T22:35:48.653460Z",
     "iopub.status.busy": "2025-04-05T22:35:48.653155Z",
     "iopub.status.idle": "2025-04-05T22:35:48.678125Z",
     "shell.execute_reply": "2025-04-05T22:35:48.677171Z"
    },
    "papermill": {
     "duration": 0.029561,
     "end_time": "2025-04-05T22:35:48.679563",
     "exception": false,
     "start_time": "2025-04-05T22:35:48.650002",
     "status": "completed"
    },
    "tags": []
   },
   "outputs": [
    {
     "name": "stdout",
     "output_type": "stream",
     "text": [
      "{'confidence_scores': [0.6365249, 0.9713572, 0.69742554],\n",
      " 'grounding_chunk_indices': [0, 1, 2],\n",
      " 'segment': {'end_index': 163,\n",
      "             'start_index': 129,\n",
      "             'text': '*   Located in the 77030-zip code.'}}\n",
      "{'confidence_scores': [0.94678706],\n",
      " 'grounding_chunk_indices': [1],\n",
      " 'segment': {'end_index': 208,\n",
      "             'start_index': 168,\n",
      "             'text': '*   It is a freestanding emergency room.'}}\n",
      "{'confidence_scores': [0.96596867],\n",
      " 'grounding_chunk_indices': [1],\n",
      " 'segment': {'end_index': 227, 'start_index': 213, 'text': '*   Open 24/7.'}}\n",
      "{'confidence_scores': [0.7679407],\n",
      " 'grounding_chunk_indices': [3],\n",
      " 'segment': {'end_index': 284,\n",
      "             'start_index': 228,\n",
      "             'text': \"*   **Baylor St. Luke's Medical Center - McNair \"\n",
      "                     'Campus**'}}\n",
      "{'confidence_scores': [0.9097117],\n",
      " 'grounding_chunk_indices': [3],\n",
      " 'segment': {'end_index': 342,\n",
      "             'start_index': 290,\n",
      "             'text': '*   Located at 7200 Cambridge St, Houston, TX 77030.'}}\n",
      "{'confidence_scores': [0.90321565, 0.8710835, 0.9440069],\n",
      " 'grounding_chunk_indices': [4, 5, 2],\n",
      " 'segment': {'end_index': 518,\n",
      "             'start_index': 471,\n",
      "             'text': '*   Located at 7401 Main St, Houston, TX 77030.'}}\n",
      "{'confidence_scores': [0.8683052],\n",
      " 'grounding_chunk_indices': [6],\n",
      " 'segment': {'end_index': 574,\n",
      "             'start_index': 519,\n",
      "             'text': '*   **Houston Methodist Orthopedics & Sports Medicine**'}}\n",
      "{'confidence_scores': [0.89051884],\n",
      " 'grounding_chunk_indices': [6],\n",
      " 'segment': {'end_index': 637,\n",
      "             'start_index': 580,\n",
      "             'text': '*   Located at 6560 Fannin St.Suite 410Houston, TX '\n",
      "                     '77030.'}}\n",
      "{'confidence_scores': [0.85538715],\n",
      " 'grounding_chunk_indices': [7],\n",
      " 'segment': {'end_index': 677,\n",
      "             'start_index': 638,\n",
      "             'text': '*   **Southwest Orthopedic Group, LLP**'}}\n",
      "{'confidence_scores': [0.9527671],\n",
      " 'grounding_chunk_indices': [7],\n",
      " 'segment': {'end_index': 756,\n",
      "             'start_index': 683,\n",
      "             'text': '*   Located at Texas Medical Center (Houston) 6560 '\n",
      "                     'Fannin St. Suite 1016.'}}\n",
      "{'confidence_scores': [0.8904031,\n",
      "                       0.9707342,\n",
      "                       0.8895871,\n",
      "                       0.78635377,\n",
      "                       0.7886262,\n",
      "                       0.9287816,\n",
      "                       0.9407646,\n",
      "                       0.9336445,\n",
      "                       0.94071925],\n",
      " 'grounding_chunk_indices': [8, 7, 1, 4, 5, 9, 6, 0, 2],\n",
      " 'segment': {'end_index': 775,\n",
      "             'start_index': 757,\n",
      "             'text': 'Houston, TX 77030.'}}\n"
     ]
    }
   ],
   "source": [
    "from pprint import pprint \n",
    "\n",
    "supports = rc.grounding_metadata.grounding_supports\n",
    "for support in supports: \n",
    "    pprint(support.to_json_dict())"
   ]
  },
  {
   "cell_type": "code",
   "execution_count": null,
   "id": "4bc8bff4",
   "metadata": {
    "papermill": {
     "duration": 0.002254,
     "end_time": "2025-04-05T22:35:48.684521",
     "exception": false,
     "start_time": "2025-04-05T22:35:48.682267",
     "status": "completed"
    },
    "tags": []
   },
   "outputs": [],
   "source": []
  }
 ],
 "metadata": {
  "kaggle": {
   "accelerator": "none",
   "dataSources": [
    {
     "sourceId": 97258,
     "sourceType": "competition"
    }
   ],
   "dockerImageVersionId": 30918,
   "isGpuEnabled": false,
   "isInternetEnabled": true,
   "language": "python",
   "sourceType": "notebook"
  },
  "kernelspec": {
   "display_name": "Python 3",
   "language": "python",
   "name": "python3"
  },
  "language_info": {
   "codemirror_mode": {
    "name": "ipython",
    "version": 3
   },
   "file_extension": ".py",
   "mimetype": "text/x-python",
   "name": "python",
   "nbconvert_exporter": "python",
   "pygments_lexer": "ipython3",
   "version": "3.10.12"
  },
  "papermill": {
   "default_parameters": {},
   "duration": 23.572093,
   "end_time": "2025-04-05T22:35:49.306062",
   "environment_variables": {},
   "exception": null,
   "input_path": "__notebook__.ipynb",
   "output_path": "__notebook__.ipynb",
   "parameters": {},
   "start_time": "2025-04-05T22:35:25.733969",
   "version": "2.6.0"
  }
 },
 "nbformat": 4,
 "nbformat_minor": 5
}
