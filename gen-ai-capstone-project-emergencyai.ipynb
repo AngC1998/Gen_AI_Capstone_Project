{
 "cells": [
  {
   "cell_type": "markdown",
   "id": "dc80b131",
   "metadata": {
    "papermill": {
     "duration": 0.00722,
     "end_time": "2025-04-20T01:51:39.199187",
     "exception": false,
     "start_time": "2025-04-20T01:51:39.191967",
     "status": "completed"
    },
    "tags": []
   },
   "source": [
    "# EmergencyZIP AI"
   ]
  },
  {
   "cell_type": "markdown",
   "id": "ef5e48db",
   "metadata": {
    "papermill": {
     "duration": 0.006301,
     "end_time": "2025-04-20T01:51:39.212325",
     "exception": false,
     "start_time": "2025-04-20T01:51:39.206024",
     "status": "completed"
    },
    "tags": []
   },
   "source": [
    "## Intro\n",
    "\n",
    "As a Data Scientist in Healthcare with 2+ years of industry and work experience, one of the valuable pieces of knowledge that I learned on the job is that Zipcode (Postal Code) is indeed an important factor in determining an individual's health status (thus, wherever the individual lives can determine how healthy or unhealthy an individual can be). Also, healthcare, especially the quality of healthcare, is also an important factor in determining the standard of life of an area as well. However, many people may not be familiar with all the medical facilities that their area may provide or may not know the best one to go to based on what illness or medical condition that they may experience now. Thus, I created the EmergencyZIP AI to help individuals determine the best medical facilities to attend based on the symptoms or conditions that they may be experiencing right now, and to take greater consideration of zipcode/postal code as one of the most important factors of an individual's health status. \n",
    "\n",
    "## Use Case and Solution Approach\n",
    "\n",
    "Individuals may want to know or curious about what current illness or medical condition that they may be facing at the moment, and the nearest and most appropriate medical facilities in their area that can best treat their illness or condition. I created EmergencyZip AI to utilize AI capabilities to not only inform the individual of what illness or condition that they may be facing now, but also inform the individual of the nearest appropriate medical facilities that can best treat the patient with great consideration of the zipcode/postal code as one of the most important factors of an individual's health status. \n",
    "\n",
    "## Innovation/Novelty\n",
    "\n",
    "While the internet is a powerful tool to use to research medical facilities available in the area, with so many search results provided, it can be messy and overwhelming at times to find the best medical facility for treatment of illnesses and medical conditions or even know what actual/potential illness or medical condition that the individual may be facing. With EmergencyZIP AI, the responses provided are tailored and focused only on the individual and the potential illness or medical condition that they are facing now. Also while doctors usually do a great job with diagnosing patients, there could be human bias or error that can be involved in the diagnosis process, so the AI takes in consideration of these potential biases (taking in consideration of patient demographic information) and gives the potentially most accurate diagnosis as possible without being biased (though one thing I can concede is that human doctors can recognize the nuances that AI can not do yet since data, especially that of the model has been trained on, is usually generalized). The AI is created to make information less overwhelming and more accessible and individualized for the user. \n",
    "\n",
    "## Process\n",
    "\n",
    "The AI utilizes Structured Output/JSON Mode/Controlled Generation, Few-Shot Prompting, and Grounding to operate. First, it uses JSON Mode to process patient demographic information and structures it to a formalized JSON form (just like filling out a patient form to receive medical care except simplier and more abstract). Then it utilizes Few-Shot Prompting and Structured Output/Controlled Generation to create a formalized request for the AI. Then it utilizes grounding to provide the best and most accurate potential diagnosis for the individual based on the current symptoms/conditions that the individual is facing now. Then using the diagnosis and the current zipcode of the individaul (the AI uses Few-Shot Prompting to extract the zipcode of the individual from the JSON form), the AI finds the nearest and best medical facilities that can treat the individual for the diagnosed illness or condition using grounding. The AI also utilizes grounding to inform the individual payment and insurance plan options that the suggested medical facilities can accept as payment for the treatment. "
   ]
  },
  {
   "cell_type": "markdown",
   "id": "22e4909d",
   "metadata": {
    "papermill": {
     "duration": 0.006094,
     "end_time": "2025-04-20T01:51:39.224877",
     "exception": false,
     "start_time": "2025-04-20T01:51:39.218783",
     "status": "completed"
    },
    "tags": []
   },
   "source": [
    "### Importing Relevant Libraries and Technologies \n",
    "\n",
    "I set up Gemini API to implement my AI (the code also retrieves the API Key from Kaggle Secrets to retrieve the Google API that makes it possible for the AI to work) and imported the Pandas and Random libraries (and other unnamed libraries) to do my test run to check if the AI works as intended or not. "
   ]
  },
  {
   "cell_type": "code",
   "execution_count": 1,
   "id": "c4d94570",
   "metadata": {
    "_cell_guid": "b1076dfc-b9ad-4769-8c92-a6c4dae69d19",
    "_uuid": "8f2839f25d086af736a60e9eeb907d3b93b6e0e5",
    "execution": {
     "iopub.execute_input": "2025-04-20T01:51:39.239249Z",
     "iopub.status.busy": "2025-04-20T01:51:39.238753Z",
     "iopub.status.idle": "2025-04-20T01:51:40.106808Z",
     "shell.execute_reply": "2025-04-20T01:51:40.105550Z"
    },
    "papermill": {
     "duration": 0.877234,
     "end_time": "2025-04-20T01:51:40.108609",
     "exception": false,
     "start_time": "2025-04-20T01:51:39.231375",
     "status": "completed"
    },
    "tags": []
   },
   "outputs": [
    {
     "name": "stdout",
     "output_type": "stream",
     "text": [
      "/kaggle/input/patient-symptom-dataset/patient_symptom_data_with_demographics_imperial.csv\n"
     ]
    }
   ],
   "source": [
    "# This Python 3 environment comes with many helpful analytics libraries installed\n",
    "# It is defined by the kaggle/python Docker image: https://github.com/kaggle/docker-python\n",
    "# For example, here's several helpful packages to load\n",
    "\n",
    "import numpy as np # linear algebra\n",
    "import pandas as pd # data processing, CSV file I/O (e.g. pd.read_csv)\n",
    "import random\n",
    "\n",
    "# Input data files are available in the read-only \"../input/\" directory\n",
    "# For example, running this (by clicking run or pressing Shift+Enter) will list all files under the input directory\n",
    "\n",
    "import os\n",
    "for dirname, _, filenames in os.walk('/kaggle/input'):\n",
    "    for filename in filenames:\n",
    "        print(os.path.join(dirname, filename))\n",
    "\n",
    "# You can write up to 20GB to the current directory (/kaggle/working/) that gets preserved as output when you create a version using \"Save & Run All\" \n",
    "# You can also write temporary files to /kaggle/temp/, but they won't be saved outside of the current session"
   ]
  },
  {
   "cell_type": "markdown",
   "id": "56a84c91",
   "metadata": {
    "papermill": {
     "duration": 0.006861,
     "end_time": "2025-04-20T01:51:40.122535",
     "exception": false,
     "start_time": "2025-04-20T01:51:40.115674",
     "status": "completed"
    },
    "tags": []
   },
   "source": [
    "The cell below removes any irrelevant libraries that may conflict with the Google Generative AI capabilities and install the Google Gemini Generative AI package"
   ]
  },
  {
   "cell_type": "code",
   "execution_count": 2,
   "id": "729a6561",
   "metadata": {
    "execution": {
     "iopub.execute_input": "2025-04-20T01:51:40.137993Z",
     "iopub.status.busy": "2025-04-20T01:51:40.137468Z",
     "iopub.status.idle": "2025-04-20T01:51:48.308891Z",
     "shell.execute_reply": "2025-04-20T01:51:48.307830Z"
    },
    "papermill": {
     "duration": 8.181031,
     "end_time": "2025-04-20T01:51:48.310784",
     "exception": false,
     "start_time": "2025-04-20T01:51:40.129753",
     "status": "completed"
    },
    "tags": []
   },
   "outputs": [
    {
     "name": "stdout",
     "output_type": "stream",
     "text": [
      "\u001b[2K   \u001b[90m━━━━━━━━━━━━━━━━━━━━━━━━━━━━━━━━━━━━━━━━\u001b[0m \u001b[32m144.7/144.7 kB\u001b[0m \u001b[31m5.3 MB/s\u001b[0m eta \u001b[36m0:00:00\u001b[0m\r\n",
      "\u001b[2K   \u001b[90m━━━━━━━━━━━━━━━━━━━━━━━━━━━━━━━━━━━━━━━━\u001b[0m \u001b[32m100.9/100.9 kB\u001b[0m \u001b[31m5.6 MB/s\u001b[0m eta \u001b[36m0:00:00\u001b[0m\r\n",
      "\u001b[?25h"
     ]
    }
   ],
   "source": [
    "!pip uninstall -qqy jupyterlab  # Remove unused packages from Kaggle's base image that conflict\n",
    "!pip install -U -q \"google-genai==1.7.0\""
   ]
  },
  {
   "cell_type": "markdown",
   "id": "b3714fd5",
   "metadata": {
    "papermill": {
     "duration": 0.006481,
     "end_time": "2025-04-20T01:51:48.324455",
     "exception": false,
     "start_time": "2025-04-20T01:51:48.317974",
     "status": "completed"
    },
    "tags": []
   },
   "source": [
    "Install all relevant libraries for the Google Generative AI capabilities"
   ]
  },
  {
   "cell_type": "code",
   "execution_count": 3,
   "id": "3cba37ac",
   "metadata": {
    "execution": {
     "iopub.execute_input": "2025-04-20T01:51:48.339499Z",
     "iopub.status.busy": "2025-04-20T01:51:48.339175Z",
     "iopub.status.idle": "2025-04-20T01:51:49.560046Z",
     "shell.execute_reply": "2025-04-20T01:51:49.558927Z"
    },
    "papermill": {
     "duration": 1.231039,
     "end_time": "2025-04-20T01:51:49.562248",
     "exception": false,
     "start_time": "2025-04-20T01:51:48.331209",
     "status": "completed"
    },
    "tags": []
   },
   "outputs": [],
   "source": [
    "from google import genai\n",
    "from google.genai import types\n",
    "\n",
    "from IPython.display import HTML, Markdown, display"
   ]
  },
  {
   "cell_type": "code",
   "execution_count": 4,
   "id": "354a7d4c",
   "metadata": {
    "execution": {
     "iopub.execute_input": "2025-04-20T01:51:49.578745Z",
     "iopub.status.busy": "2025-04-20T01:51:49.578209Z",
     "iopub.status.idle": "2025-04-20T01:51:49.795528Z",
     "shell.execute_reply": "2025-04-20T01:51:49.794406Z"
    },
    "papermill": {
     "duration": 0.22729,
     "end_time": "2025-04-20T01:51:49.797441",
     "exception": false,
     "start_time": "2025-04-20T01:51:49.570151",
     "status": "completed"
    },
    "tags": []
   },
   "outputs": [],
   "source": [
    "from google.api_core import retry\n",
    "\n",
    "\n",
    "is_retriable = lambda e: (isinstance(e, genai.errors.APIError) and e.code in {429, 503})\n",
    "\n",
    "genai.models.Models.generate_content = retry.Retry(\n",
    "    predicate=is_retriable)(genai.models.Models.generate_content)"
   ]
  },
  {
   "cell_type": "markdown",
   "id": "70dd7713",
   "metadata": {
    "papermill": {
     "duration": 0.006664,
     "end_time": "2025-04-20T01:51:49.811151",
     "exception": false,
     "start_time": "2025-04-20T01:51:49.804487",
     "status": "completed"
    },
    "tags": []
   },
   "source": [
    "Retrieve the Google API Key from Kaggle Secrets to make possible for the AI to work in this code."
   ]
  },
  {
   "cell_type": "code",
   "execution_count": 5,
   "id": "ef32768a",
   "metadata": {
    "execution": {
     "iopub.execute_input": "2025-04-20T01:51:49.826324Z",
     "iopub.status.busy": "2025-04-20T01:51:49.825727Z",
     "iopub.status.idle": "2025-04-20T01:51:49.984829Z",
     "shell.execute_reply": "2025-04-20T01:51:49.983934Z"
    },
    "papermill": {
     "duration": 0.168593,
     "end_time": "2025-04-20T01:51:49.986645",
     "exception": false,
     "start_time": "2025-04-20T01:51:49.818052",
     "status": "completed"
    },
    "tags": []
   },
   "outputs": [],
   "source": [
    "from kaggle_secrets import UserSecretsClient\n",
    "\n",
    "GOOGLE_API_KEY = UserSecretsClient().get_secret(\"GOOGLE_API_KEY\")"
   ]
  },
  {
   "cell_type": "code",
   "execution_count": 6,
   "id": "a3d6d883",
   "metadata": {
    "execution": {
     "iopub.execute_input": "2025-04-20T01:51:50.002463Z",
     "iopub.status.busy": "2025-04-20T01:51:50.002048Z",
     "iopub.status.idle": "2025-04-20T01:51:50.358985Z",
     "shell.execute_reply": "2025-04-20T01:51:50.358126Z"
    },
    "papermill": {
     "duration": 0.366963,
     "end_time": "2025-04-20T01:51:50.360715",
     "exception": false,
     "start_time": "2025-04-20T01:51:49.993752",
     "status": "completed"
    },
    "tags": []
   },
   "outputs": [],
   "source": [
    "client = genai.Client(api_key=GOOGLE_API_KEY)"
   ]
  },
  {
   "cell_type": "markdown",
   "id": "067d5028",
   "metadata": {
    "papermill": {
     "duration": 0.006629,
     "end_time": "2025-04-20T01:51:50.374427",
     "exception": false,
     "start_time": "2025-04-20T01:51:50.367798",
     "status": "completed"
    },
    "tags": []
   },
   "source": [
    "## Generative AI Capabilities Used and Reasoning \n",
    "\n",
    "These are the 3 Generative AI Capabilities Used in this AI and why they are used in this AI: \n",
    "* **Structured Output/JSON Mode/Controlled Generation**: For JSON Mode, I want to somewhat mimic the forms that patients fill out when they are requesting care from a medical facility, but simplier and more abstract. For Structured Output and Controlled Generation, I want my responses to be as accurate and precise as possible where creativity may not be required but accuracy is definitely required to get the best responses as possible.\n",
    "* **Few-Shot Prompting**: First of all, I want to create requests for the AI to know who it is providing information for, but I want the formatting of the requests to be as consistent as possible so that the information does not get muddled up which would make things more difficult for the AI to process and provide information for. Then, I also want to extract the zipcode from the JSON form, but sometimes the AI can hallucinate and return irrelevant or incorrect information, so I want the let the AI know how to return the zipcode correctly.\n",
    "* **Grounding**: This is the central capability of the AI since the AI is responsible for finding all the relevant possible nearest locations to the patient based on postal code/zipcode. Since we are exploring so many zipcodes and it is possible that the AI does not know every zipcode or medical facilities per zipcode, we need to rely on external sources to get the best answers possible. However, since we don't have a document listing out every medical facility per zipcode or all zipcodes, we would need to rely on the internet to give us answers. "
   ]
  },
  {
   "cell_type": "markdown",
   "id": "67807d3d",
   "metadata": {
    "papermill": {
     "duration": 0.006542,
     "end_time": "2025-04-20T01:51:50.388023",
     "exception": false,
     "start_time": "2025-04-20T01:51:50.381481",
     "status": "completed"
    },
    "tags": []
   },
   "source": [
    "### Generative AI Capability #1: Structured Output/JSON Mode/Controlled Generation"
   ]
  },
  {
   "cell_type": "markdown",
   "id": "349c02ce",
   "metadata": {
    "papermill": {
     "duration": 0.006517,
     "end_time": "2025-04-20T01:51:50.401243",
     "exception": false,
     "start_time": "2025-04-20T01:51:50.394726",
     "status": "completed"
    },
    "tags": []
   },
   "source": [
    "#### JSON Mode\n",
    "\n",
    "I created a Python class MedicalPatients to format the JSON form as a simple and abstract patient form, and then I created a get_json_form function that takes in an entry (in this test case, it's a Pandas dataframe entry/row) and structure it to a JSON form as structured in the MedicalPatient class. \n",
    "\n",
    "##### get_json_form function: \n",
    "\n",
    "**Description**: Function takes in an entry (in this case, a Pandas dataframe row) and structures the information provided into a formalized JSON form as structured in the MedicalPatients class. \n",
    "\n",
    "**Input**: ***patient_symptom_entry***: Dataframe Pandas row (for now) of all information needed to be processed as JSON form \n",
    "\n",
    "**Output**: ***json_form***: String of formalized JSON form"
   ]
  },
  {
   "cell_type": "code",
   "execution_count": 7,
   "id": "adbf0fb9",
   "metadata": {
    "execution": {
     "iopub.execute_input": "2025-04-20T01:51:50.415805Z",
     "iopub.status.busy": "2025-04-20T01:51:50.415482Z",
     "iopub.status.idle": "2025-04-20T01:51:50.421044Z",
     "shell.execute_reply": "2025-04-20T01:51:50.420256Z"
    },
    "papermill": {
     "duration": 0.014585,
     "end_time": "2025-04-20T01:51:50.422441",
     "exception": false,
     "start_time": "2025-04-20T01:51:50.407856",
     "status": "completed"
    },
    "tags": []
   },
   "outputs": [],
   "source": [
    "import typing_extensions as typing\n",
    "\n",
    "class MedicalPatient(typing.TypedDict): \n",
    "    zipcode: int\n",
    "    age: int\n",
    "    gender: str\n",
    "    race: str\n",
    "    ethnicity: str\n",
    "    height: float\n",
    "    weight: float\n",
    "    symptoms: list[str]\n",
    "\n",
    "def get_json_form(patient_symptom_entry): \n",
    "    entry_str = patient_symptom_entry.to_string()\n",
    "    json_response = client.models.generate_content(\n",
    "        model='gemini-2.0-flash', \n",
    "        config=types.GenerateContentConfig(\n",
    "            temperature=0.1, \n",
    "            response_mime_type=\"application/json\", \n",
    "            response_schema=MedicalPatient\n",
    "        ), \n",
    "        contents=entry_str\n",
    "    )\n",
    "    json_form = json_response.text\n",
    "    return json_form"
   ]
  },
  {
   "cell_type": "markdown",
   "id": "9ff358ae",
   "metadata": {
    "papermill": {
     "duration": 0.006347,
     "end_time": "2025-04-20T01:51:50.435771",
     "exception": false,
     "start_time": "2025-04-20T01:51:50.429424",
     "status": "completed"
    },
    "tags": []
   },
   "source": [
    "#### Structured Output/Controlled Generation\n",
    "\n",
    "**Description**: I created the get_general_model_config function to return a Gemini-generated output based on the temperature, top_p, and maximum number of tokens to return inputs.\n",
    "\n",
    "**Input**: \n",
    "* ***temperature***: double that reflects the degree of randomness in selecting tokens for output\n",
    "* ***top_p***: double that is the maximum culmulative probability that the model can reach to select tokens as candidates\n",
    "* ***max_output_tokens***: int that indicates the maximum number of tokens that should be provided and included in the input\n",
    "\n",
    "**Output**: ***str_output***: String of Gemini-generated output based on input parameters provided"
   ]
  },
  {
   "cell_type": "code",
   "execution_count": 8,
   "id": "85de52aa",
   "metadata": {
    "execution": {
     "iopub.execute_input": "2025-04-20T01:51:50.450424Z",
     "iopub.status.busy": "2025-04-20T01:51:50.450058Z",
     "iopub.status.idle": "2025-04-20T01:51:50.454226Z",
     "shell.execute_reply": "2025-04-20T01:51:50.453386Z"
    },
    "papermill": {
     "duration": 0.013285,
     "end_time": "2025-04-20T01:51:50.455682",
     "exception": false,
     "start_time": "2025-04-20T01:51:50.442397",
     "status": "completed"
    },
    "tags": []
   },
   "outputs": [],
   "source": [
    "def get_general_model_config(temperature, top_p, max_output_tokens): \n",
    "    str_output = types.GenerateContentConfig(\n",
    "        temperature=temperature, \n",
    "        top_p=top_p, \n",
    "        max_output_tokens=max_output_tokens\n",
    "    )\n",
    "    return str_output"
   ]
  },
  {
   "cell_type": "markdown",
   "id": "91c36fd1",
   "metadata": {
    "papermill": {
     "duration": 0.006316,
     "end_time": "2025-04-20T01:51:50.468685",
     "exception": false,
     "start_time": "2025-04-20T01:51:50.462369",
     "status": "completed"
    },
    "tags": []
   },
   "source": [
    "### Generative AI Capability #2: Few-Shot Prompting\n",
    "\n",
    "**Description**: I created the few_shot_func function to implement the few-shot prompting AI capability as code\n",
    "\n",
    "**Input**: \n",
    "* ***model_input***: String that is the input (e.g. a JSON form) that the model takes in consideration of to provide an output response\n",
    "* ***prompt***: String that is the input prompt to provide to the Gemini model to provide a response for; in few-shot prompting, the input prompt provides a few examples with their expected responses to the Gemini model so that the Gemini models knows what to produce for their output format-wise and what their output should look like\n",
    "* ***config***: Python method that is configuration to be used for the Gemini model to produce output (*refer to get_general_model_config as example of Python method to use as possible parameter value*)\n",
    "\n",
    "**Output**: ***str_output***: String of Gemini-generated output based on input parameters provided"
   ]
  },
  {
   "cell_type": "code",
   "execution_count": 9,
   "id": "743f9fe6",
   "metadata": {
    "execution": {
     "iopub.execute_input": "2025-04-20T01:51:50.486634Z",
     "iopub.status.busy": "2025-04-20T01:51:50.486245Z",
     "iopub.status.idle": "2025-04-20T01:51:50.492278Z",
     "shell.execute_reply": "2025-04-20T01:51:50.491094Z"
    },
    "papermill": {
     "duration": 0.018035,
     "end_time": "2025-04-20T01:51:50.493850",
     "exception": false,
     "start_time": "2025-04-20T01:51:50.475815",
     "status": "completed"
    },
    "tags": []
   },
   "outputs": [],
   "source": [
    "def few_shot_func(model_input, prompt, config): \n",
    "    few_shot_response = client.models.generate_content(\n",
    "        model='gemini-2.0-flash', \n",
    "        config=config,\n",
    "        contents=[prompt, model_input]\n",
    "    )\n",
    "    str_response = few_shot_response.text\n",
    "    return str_response"
   ]
  },
  {
   "cell_type": "markdown",
   "id": "a92c7496",
   "metadata": {
    "papermill": {
     "duration": 0.006845,
     "end_time": "2025-04-20T01:51:50.507858",
     "exception": false,
     "start_time": "2025-04-20T01:51:50.501013",
     "status": "completed"
    },
    "tags": []
   },
   "source": [
    "### Generative AI Capability #3: Grounding\n",
    "\n",
    "**Description**: I created the grounding_func function to implement the grounding AI capability as code\n",
    "\n",
    "**Input**: ***input_prompt***: String that is the input prompt to provide to the Gemini model to provide a response for\n",
    "\n",
    "**Output**: ***str_response***: String that is the output provided by the Gemini model as response to the input prompt"
   ]
  },
  {
   "cell_type": "code",
   "execution_count": 10,
   "id": "12f0f520",
   "metadata": {
    "execution": {
     "iopub.execute_input": "2025-04-20T01:51:50.522722Z",
     "iopub.status.busy": "2025-04-20T01:51:50.522397Z",
     "iopub.status.idle": "2025-04-20T01:51:50.527008Z",
     "shell.execute_reply": "2025-04-20T01:51:50.526228Z"
    },
    "papermill": {
     "duration": 0.013734,
     "end_time": "2025-04-20T01:51:50.528500",
     "exception": false,
     "start_time": "2025-04-20T01:51:50.514766",
     "status": "completed"
    },
    "tags": []
   },
   "outputs": [],
   "source": [
    "def grounding_func(input_prompt): \n",
    "    config_with_search = types.GenerateContentConfig(\n",
    "        tools=[types.Tool(google_search=types.GoogleSearch())],\n",
    "    )\n",
    "    response = client.models.generate_content(\n",
    "        model='gemini-2.0-flash', \n",
    "        contents=input_prompt, \n",
    "        config=config_with_search,\n",
    "    )\n",
    "    rc = response.candidates[0]\n",
    "    str_response = rc.content.parts[0].text\n",
    "    return str_response"
   ]
  },
  {
   "cell_type": "markdown",
   "id": "f1461cb4",
   "metadata": {
    "papermill": {
     "duration": 0.006588,
     "end_time": "2025-04-20T01:51:50.543367",
     "exception": false,
     "start_time": "2025-04-20T01:51:50.536779",
     "status": "completed"
    },
    "tags": []
   },
   "source": [
    "## EmergencyZIP AI Test Run\n",
    "\n",
    "Kaggle Notebooks seem to not work or do well with Python input, so instead, we generated a dataset of patients with relevant demographic information and their symptoms through ChatGPT (so the dataset below is ChatGPT-generated), and then the code picks a random patient to test run the AI to make sure it actually works as intended. "
   ]
  },
  {
   "cell_type": "code",
   "execution_count": 11,
   "id": "fe1f1f83",
   "metadata": {
    "execution": {
     "iopub.execute_input": "2025-04-20T01:51:50.558180Z",
     "iopub.status.busy": "2025-04-20T01:51:50.557833Z",
     "iopub.status.idle": "2025-04-20T01:51:50.605219Z",
     "shell.execute_reply": "2025-04-20T01:51:50.604154Z"
    },
    "papermill": {
     "duration": 0.056609,
     "end_time": "2025-04-20T01:51:50.606804",
     "exception": false,
     "start_time": "2025-04-20T01:51:50.550195",
     "status": "completed"
    },
    "tags": []
   },
   "outputs": [
    {
     "data": {
      "text/html": [
       "<div>\n",
       "<style scoped>\n",
       "    .dataframe tbody tr th:only-of-type {\n",
       "        vertical-align: middle;\n",
       "    }\n",
       "\n",
       "    .dataframe tbody tr th {\n",
       "        vertical-align: top;\n",
       "    }\n",
       "\n",
       "    .dataframe thead th {\n",
       "        text-align: right;\n",
       "    }\n",
       "</style>\n",
       "<table border=\"1\" class=\"dataframe\">\n",
       "  <thead>\n",
       "    <tr style=\"text-align: right;\">\n",
       "      <th></th>\n",
       "      <th>PatientID</th>\n",
       "      <th>ZipCode</th>\n",
       "      <th>Age</th>\n",
       "      <th>Gender</th>\n",
       "      <th>Symptoms</th>\n",
       "      <th>Race</th>\n",
       "      <th>Ethnicity</th>\n",
       "      <th>Height_in</th>\n",
       "      <th>Weight_lb</th>\n",
       "    </tr>\n",
       "  </thead>\n",
       "  <tbody>\n",
       "    <tr>\n",
       "      <th>0</th>\n",
       "      <td>P001</td>\n",
       "      <td>70112</td>\n",
       "      <td>32</td>\n",
       "      <td>Female</td>\n",
       "      <td>Joint pain;Runny nose;Loss of taste;Sore throat</td>\n",
       "      <td>Other</td>\n",
       "      <td>Hispanic or Latino</td>\n",
       "      <td>73.6</td>\n",
       "      <td>229.3</td>\n",
       "    </tr>\n",
       "    <tr>\n",
       "      <th>1</th>\n",
       "      <td>P002</td>\n",
       "      <td>90002</td>\n",
       "      <td>21</td>\n",
       "      <td>Female</td>\n",
       "      <td>Joint pain;Muscle ache;Dry cough</td>\n",
       "      <td>White</td>\n",
       "      <td>Hispanic or Latino</td>\n",
       "      <td>76.8</td>\n",
       "      <td>262.3</td>\n",
       "    </tr>\n",
       "    <tr>\n",
       "      <th>2</th>\n",
       "      <td>P003</td>\n",
       "      <td>20001</td>\n",
       "      <td>46</td>\n",
       "      <td>Male</td>\n",
       "      <td>Chest tightness;Sneezing;Fever;Breathing diffi...</td>\n",
       "      <td>Black or African American</td>\n",
       "      <td>Not Hispanic or Latino</td>\n",
       "      <td>67.3</td>\n",
       "      <td>187.4</td>\n",
       "    </tr>\n",
       "    <tr>\n",
       "      <th>3</th>\n",
       "      <td>P004</td>\n",
       "      <td>73301</td>\n",
       "      <td>45</td>\n",
       "      <td>Male</td>\n",
       "      <td>Fatigue;Abdominal pain</td>\n",
       "      <td>White</td>\n",
       "      <td>Not Hispanic or Latino</td>\n",
       "      <td>67.7</td>\n",
       "      <td>183.0</td>\n",
       "    </tr>\n",
       "    <tr>\n",
       "      <th>4</th>\n",
       "      <td>P005</td>\n",
       "      <td>96813</td>\n",
       "      <td>23</td>\n",
       "      <td>Non-binary</td>\n",
       "      <td>Rash;Sore throat;Loss of smell;Abdominal pain;...</td>\n",
       "      <td>Pacific Islander</td>\n",
       "      <td>Not Hispanic or Latino</td>\n",
       "      <td>74.8</td>\n",
       "      <td>211.6</td>\n",
       "    </tr>\n",
       "    <tr>\n",
       "      <th>...</th>\n",
       "      <td>...</td>\n",
       "      <td>...</td>\n",
       "      <td>...</td>\n",
       "      <td>...</td>\n",
       "      <td>...</td>\n",
       "      <td>...</td>\n",
       "      <td>...</td>\n",
       "      <td>...</td>\n",
       "      <td>...</td>\n",
       "    </tr>\n",
       "    <tr>\n",
       "      <th>95</th>\n",
       "      <td>P096</td>\n",
       "      <td>55414</td>\n",
       "      <td>80</td>\n",
       "      <td>Female</td>\n",
       "      <td>Blurred vision;Dry cough</td>\n",
       "      <td>Black or African American</td>\n",
       "      <td>Hispanic or Latino</td>\n",
       "      <td>66.5</td>\n",
       "      <td>264.6</td>\n",
       "    </tr>\n",
       "    <tr>\n",
       "      <th>96</th>\n",
       "      <td>P097</td>\n",
       "      <td>10001</td>\n",
       "      <td>88</td>\n",
       "      <td>Male</td>\n",
       "      <td>Joint pain;Palpitations</td>\n",
       "      <td>White</td>\n",
       "      <td>Not Hispanic or Latino</td>\n",
       "      <td>61.8</td>\n",
       "      <td>152.1</td>\n",
       "    </tr>\n",
       "    <tr>\n",
       "      <th>97</th>\n",
       "      <td>P098</td>\n",
       "      <td>55401</td>\n",
       "      <td>55</td>\n",
       "      <td>Non-binary</td>\n",
       "      <td>Diarrhea;Palpitations;Low-grade fever;Joint pain</td>\n",
       "      <td>Native American</td>\n",
       "      <td>Hispanic or Latino</td>\n",
       "      <td>68.5</td>\n",
       "      <td>163.1</td>\n",
       "    </tr>\n",
       "    <tr>\n",
       "      <th>98</th>\n",
       "      <td>P099</td>\n",
       "      <td>68102</td>\n",
       "      <td>83</td>\n",
       "      <td>Non-binary</td>\n",
       "      <td>Sneezing;Fatigue;Headache</td>\n",
       "      <td>Native American</td>\n",
       "      <td>Not Hispanic or Latino</td>\n",
       "      <td>78.7</td>\n",
       "      <td>251.3</td>\n",
       "    </tr>\n",
       "    <tr>\n",
       "      <th>99</th>\n",
       "      <td>P100</td>\n",
       "      <td>10011</td>\n",
       "      <td>18</td>\n",
       "      <td>Male</td>\n",
       "      <td>Palpitations;Itching;Abdominal cramps;Low-grad...</td>\n",
       "      <td>Black or African American</td>\n",
       "      <td>Not Hispanic or Latino</td>\n",
       "      <td>72.4</td>\n",
       "      <td>244.7</td>\n",
       "    </tr>\n",
       "  </tbody>\n",
       "</table>\n",
       "<p>100 rows × 9 columns</p>\n",
       "</div>"
      ],
      "text/plain": [
       "   PatientID  ZipCode  Age      Gender  \\\n",
       "0       P001    70112   32      Female   \n",
       "1       P002    90002   21      Female   \n",
       "2       P003    20001   46        Male   \n",
       "3       P004    73301   45        Male   \n",
       "4       P005    96813   23  Non-binary   \n",
       "..       ...      ...  ...         ...   \n",
       "95      P096    55414   80      Female   \n",
       "96      P097    10001   88        Male   \n",
       "97      P098    55401   55  Non-binary   \n",
       "98      P099    68102   83  Non-binary   \n",
       "99      P100    10011   18        Male   \n",
       "\n",
       "                                             Symptoms  \\\n",
       "0     Joint pain;Runny nose;Loss of taste;Sore throat   \n",
       "1                    Joint pain;Muscle ache;Dry cough   \n",
       "2   Chest tightness;Sneezing;Fever;Breathing diffi...   \n",
       "3                              Fatigue;Abdominal pain   \n",
       "4   Rash;Sore throat;Loss of smell;Abdominal pain;...   \n",
       "..                                                ...   \n",
       "95                           Blurred vision;Dry cough   \n",
       "96                            Joint pain;Palpitations   \n",
       "97   Diarrhea;Palpitations;Low-grade fever;Joint pain   \n",
       "98                          Sneezing;Fatigue;Headache   \n",
       "99  Palpitations;Itching;Abdominal cramps;Low-grad...   \n",
       "\n",
       "                         Race               Ethnicity  Height_in  Weight_lb  \n",
       "0                       Other      Hispanic or Latino       73.6      229.3  \n",
       "1                       White      Hispanic or Latino       76.8      262.3  \n",
       "2   Black or African American  Not Hispanic or Latino       67.3      187.4  \n",
       "3                       White  Not Hispanic or Latino       67.7      183.0  \n",
       "4            Pacific Islander  Not Hispanic or Latino       74.8      211.6  \n",
       "..                        ...                     ...        ...        ...  \n",
       "95  Black or African American      Hispanic or Latino       66.5      264.6  \n",
       "96                      White  Not Hispanic or Latino       61.8      152.1  \n",
       "97            Native American      Hispanic or Latino       68.5      163.1  \n",
       "98            Native American  Not Hispanic or Latino       78.7      251.3  \n",
       "99  Black or African American  Not Hispanic or Latino       72.4      244.7  \n",
       "\n",
       "[100 rows x 9 columns]"
      ]
     },
     "execution_count": 11,
     "metadata": {},
     "output_type": "execute_result"
    }
   ],
   "source": [
    "patient_symptom_df = pd.read_csv('/kaggle/input/patient-symptom-dataset/patient_symptom_data_with_demographics_imperial.csv')\n",
    "patient_symptom_df"
   ]
  },
  {
   "cell_type": "markdown",
   "id": "ae3e36db",
   "metadata": {
    "papermill": {
     "duration": 0.007069,
     "end_time": "2025-04-20T01:51:50.621124",
     "exception": false,
     "start_time": "2025-04-20T01:51:50.614055",
     "status": "completed"
    },
    "tags": []
   },
   "source": [
    "### Patient Input and JSON Patient Form\n",
    "\n",
    "I utilized the randint function from the Random library to select a random patient to process information and provide responses for. Then, I utilized JSON Mode through calling the get_json_form method to have the AI mimic filling out a patient form in a simple and abstract way, and to also have the patient/individual demographic information structured in a formalized way. "
   ]
  },
  {
   "cell_type": "code",
   "execution_count": 12,
   "id": "2d7f29da",
   "metadata": {
    "execution": {
     "iopub.execute_input": "2025-04-20T01:51:50.639288Z",
     "iopub.status.busy": "2025-04-20T01:51:50.638790Z",
     "iopub.status.idle": "2025-04-20T01:51:51.820495Z",
     "shell.execute_reply": "2025-04-20T01:51:51.819196Z"
    },
    "papermill": {
     "duration": 1.193761,
     "end_time": "2025-04-20T01:51:51.822182",
     "exception": false,
     "start_time": "2025-04-20T01:51:50.628421",
     "status": "completed"
    },
    "tags": []
   },
   "outputs": [
    {
     "name": "stdout",
     "output_type": "stream",
     "text": [
      "{\n",
      "  \"zipcode\": 92101,\n",
      "  \"age\": 52,\n",
      "  \"gender\": \"Non-binary\",\n",
      "  \"race\": \"White\",\n",
      "  \"ethnicity\": \"Hispanic or Latino\",\n",
      "  \"height\": 59.8,\n",
      "  \"weight\": 198.4,\n",
      "  \"symptoms\": [\n",
      "    \"Abdominal cramps\",\n",
      "    \"Vomiting\",\n",
      "    \"Palpitations\"\n",
      "  ]\n",
      "}\n"
     ]
    }
   ],
   "source": [
    "patient_index = random.randint(0, 99)\n",
    "patient_json_form = get_json_form(patient_symptom_df.iloc[patient_index])\n",
    "print(patient_json_form)"
   ]
  },
  {
   "cell_type": "markdown",
   "id": "daea17da",
   "metadata": {
    "papermill": {
     "duration": 0.006984,
     "end_time": "2025-04-20T01:51:51.836959",
     "exception": false,
     "start_time": "2025-04-20T01:51:51.829975",
     "status": "completed"
    },
    "tags": []
   },
   "source": [
    "### AI Request\n",
    "\n",
    "In this first round of few-shot prompting, I utilized few-shot prompting to create a formalized request for the AI model to know what type of patient or individual that the model will be retrieving information for. Few-shot prompting is also used to ensure accuracy and consistency of the format of the request (the model is always clear on what information to extract from the patient and how to process that information into a formalized request). We also used structured output/controlled generation to ensure that the model is consistent in generating the output response as possible. "
   ]
  },
  {
   "cell_type": "code",
   "execution_count": 13,
   "id": "ec206b3c",
   "metadata": {
    "execution": {
     "iopub.execute_input": "2025-04-20T01:51:51.852664Z",
     "iopub.status.busy": "2025-04-20T01:51:51.852357Z",
     "iopub.status.idle": "2025-04-20T01:51:52.476083Z",
     "shell.execute_reply": "2025-04-20T01:51:52.475042Z"
    },
    "papermill": {
     "duration": 0.633511,
     "end_time": "2025-04-20T01:51:52.477677",
     "exception": false,
     "start_time": "2025-04-20T01:51:51.844166",
     "status": "completed"
    },
    "tags": []
   },
   "outputs": [
    {
     "name": "stdout",
     "output_type": "stream",
     "text": [
      "\"52-year old Hispanic or Latino White non-binary patient with height of 59.8 inches and weight of 198.4 pounds from zipcode 92101 currently experiencing symptoms of abdominal cramps, vomiting, and palpitations.\"\n",
      "\n"
     ]
    }
   ],
   "source": [
    "model_config = get_general_model_config(0.1, 1, 500)\n",
    "\n",
    "few_shot_prompt = \"\"\"Parse JSON into a string request and only return output: \n",
    "\n",
    "EXAMPLE: \n",
    "{\n",
    "\"zipcode\": 78664, \n",
    "\"age\": 30, \n",
    "\"gender\": \"Female\", \n",
    "\"race\": \"White\", \n",
    "\"ethnicity\": \"Not Hispanic or Latino\", \n",
    "\"height\": 64.6, \n",
    "\"weight\": 130.5, \n",
    "\"symptoms\": [\"Cough\", \"Fever\", \"Sore throat\"]\n",
    "}\n",
    "\"30-year old Not Hispanic or Latino White female patient with height of 64.6 inches and weight of 130.5 pounds from zipcode 78664 currently experiencing symptoms of cough, fever, and sore throat.\"\n",
    "\n",
    "EXAMPLE: \n",
    "{\n",
    "\"zipcode\": 77055, \n",
    "\"age\": 25, \n",
    "\"gender\": \"Non-binary\", \n",
    "\"race\": \"Asian\", \n",
    "\"ethnicity\": \"Not Hispanic or Latino\", \n",
    "\"height\": 60.5, \n",
    "\"weight\": 100.2, \n",
    "\"symptoms\": [\"Joint pain\", \"Loss of smell\"]\n",
    "}\n",
    "\"25-year old Not Hispanic or Latino Asian non-binary patient with height of 60.5 inches and weight of 100.2 pounds from zipcode 77055 currently experiencing symptoms of joint pain and loss of smell.\"\n",
    "\n",
    "EXAMPLE: \n",
    "{\n",
    "\"zipcode\": 78681, \n",
    "\"age\": 15, \n",
    "\"gender\" \"Male\", \n",
    "\"race\": \"Black\", \n",
    "\"ethnicity\": \"Hispanic or Latino\", \n",
    "\"height\": 74.6, \n",
    "\"weight\": 180.5, \n",
    "\"symptoms\": [\"Fatigue\", \"Loss of Vision\", \"Headache\", \"Joint pain\"]\n",
    "}\n",
    "\"15-year old Hispanic or Latino Black male patient with height of 74.6 inches and weight of 180.5 pounds from zipcode 78681 currently experiencing symptoms of fatigue, loss of vision, headache, and joint pain.\"\n",
    "\"\"\"\n",
    "\n",
    "patient_medical_request = few_shot_func(patient_json_form, few_shot_prompt, model_config)\n",
    "print(patient_medical_request)"
   ]
  },
  {
   "cell_type": "markdown",
   "id": "39125bc4",
   "metadata": {
    "papermill": {
     "duration": 0.007127,
     "end_time": "2025-04-20T01:51:52.492494",
     "exception": false,
     "start_time": "2025-04-20T01:51:52.485367",
     "status": "completed"
    },
    "tags": []
   },
   "source": [
    "### Potential Diagnosis\n",
    "\n",
    "In this first round of grounding, I utilized grounding to provide a potential but precise diagnosis based on the symptoms and other relevant demographic information, especially zipcode, provided. I am not only utilizing the data that the AI has already been provided to conduct the diagnosis, but also other sources, like the internet as well. "
   ]
  },
  {
   "cell_type": "code",
   "execution_count": 14,
   "id": "61117e12",
   "metadata": {
    "execution": {
     "iopub.execute_input": "2025-04-20T01:51:52.508437Z",
     "iopub.status.busy": "2025-04-20T01:51:52.508094Z",
     "iopub.status.idle": "2025-04-20T01:51:54.619446Z",
     "shell.execute_reply": "2025-04-20T01:51:54.618343Z"
    },
    "papermill": {
     "duration": 2.121414,
     "end_time": "2025-04-20T01:51:54.621345",
     "exception": false,
     "start_time": "2025-04-20T01:51:52.499931",
     "status": "completed"
    },
    "tags": []
   },
   "outputs": [
    {
     "data": {
      "text/markdown": [
       "Based on the symptoms provided (abdominal cramps, vomiting, palpitations), along with the patient's age, ethnicity, and weight, several possibilities arise, but without more information, it's difficult to pinpoint one with certainty. Considering the prevalence of certain conditions:\n",
       "\n",
       "**Diabetes** and **Heart Failure** are possibilities.\n"
      ],
      "text/plain": [
       "<IPython.core.display.Markdown object>"
      ]
     },
     "execution_count": 14,
     "metadata": {},
     "output_type": "execute_result"
    }
   ],
   "source": [
    "diagnosis_prompt = patient_medical_request + \"What disease are they most likely to experience now? Only return the singular most likely disease, please.\"\n",
    "diagnosis = grounding_func(diagnosis_prompt)\n",
    "Markdown(diagnosis)"
   ]
  },
  {
   "cell_type": "markdown",
   "id": "b5722894",
   "metadata": {
    "papermill": {
     "duration": 0.007119,
     "end_time": "2025-04-20T01:51:54.636223",
     "exception": false,
     "start_time": "2025-04-20T01:51:54.629104",
     "status": "completed"
    },
    "tags": []
   },
   "source": [
    "*I had to run the grounding process again since after the notebook restarts, the response can be hit-or-miss in terms of accuracy or helpfulness*"
   ]
  },
  {
   "cell_type": "code",
   "execution_count": 15,
   "id": "fcd45d34",
   "metadata": {
    "execution": {
     "iopub.execute_input": "2025-04-20T01:51:54.652044Z",
     "iopub.status.busy": "2025-04-20T01:51:54.651703Z",
     "iopub.status.idle": "2025-04-20T01:51:57.529219Z",
     "shell.execute_reply": "2025-04-20T01:51:57.528057Z"
    },
    "papermill": {
     "duration": 2.887131,
     "end_time": "2025-04-20T01:51:57.530647",
     "exception": false,
     "start_time": "2025-04-20T01:51:54.643516",
     "status": "completed"
    },
    "tags": []
   },
   "outputs": [
    {
     "data": {
      "text/markdown": [
       "Based on the patient's symptoms and characteristics, the most likely disease they are experiencing is **Dumping Syndrome**.\n",
       "\n",
       "Here's why:\n",
       "\n",
       "*   **Symptoms:** The patient is experiencing abdominal cramps, vomiting, and palpitations, which are all common symptoms of dumping syndrome.\n",
       "*   **Weight and Height:** The patient's height is 59.8 inches (4 ft 11.8 in) and their weight is 198.4 pounds, resulting in a BMI of 39.2 which indicates obesity.\n",
       "*   **Dumping syndrome** is a condition that can occur after gastric surgery, which is sometimes performed as a weight loss intervention for obese patients.\n",
       "*   **Dumping syndrome symptoms** include abdominal pain, nausea/vomiting, and palpitations.\n"
      ],
      "text/plain": [
       "<IPython.core.display.Markdown object>"
      ]
     },
     "execution_count": 15,
     "metadata": {},
     "output_type": "execute_result"
    }
   ],
   "source": [
    "diagnosis_prompt = patient_medical_request + \"What disease are they most likely to experience now? Only return the singular most likely disease, please.\"\n",
    "diagnosis = grounding_func(diagnosis_prompt)\n",
    "Markdown(diagnosis)"
   ]
  },
  {
   "cell_type": "markdown",
   "id": "8da91f8e",
   "metadata": {
    "papermill": {
     "duration": 0.007096,
     "end_time": "2025-04-20T01:51:57.545404",
     "exception": false,
     "start_time": "2025-04-20T01:51:57.538308",
     "status": "completed"
    },
    "tags": []
   },
   "source": [
    "### Patient Zipcode \n",
    "\n",
    "In this second round of few-shot prompting, I utilized few-shot prompting to extract the zipcode of the patient from the JSON form (since at this point, we are using the JSON form to get our data information). Few-shot prompting is utilized to ensure accuracy of the output based on the current format of the JSON form (in this case, a simplified and abstract version of a patient form). "
   ]
  },
  {
   "cell_type": "code",
   "execution_count": 16,
   "id": "b9b2552f",
   "metadata": {
    "execution": {
     "iopub.execute_input": "2025-04-20T01:51:57.562817Z",
     "iopub.status.busy": "2025-04-20T01:51:57.562462Z",
     "iopub.status.idle": "2025-04-20T01:51:58.033401Z",
     "shell.execute_reply": "2025-04-20T01:51:58.031812Z"
    },
    "papermill": {
     "duration": 0.481906,
     "end_time": "2025-04-20T01:51:58.035004",
     "exception": false,
     "start_time": "2025-04-20T01:51:57.553098",
     "status": "completed"
    },
    "tags": []
   },
   "outputs": [
    {
     "name": "stdout",
     "output_type": "stream",
     "text": [
      "92101\n",
      "\n"
     ]
    }
   ],
   "source": [
    "model_config_two = get_general_model_config(0, 1, 50)\n",
    "\n",
    "few_shot_prompt_two = \"\"\"Parse JSON to return only the Zipcode: \n",
    "\n",
    "EXAMPLE: \n",
    "{\n",
    "\"zipcode\": 78664, \n",
    "\"age\": 30, \n",
    "\"gender\": \"Female\", \n",
    "\"race\": \"White\", \n",
    "\"ethnicity\": \"Not Hispanic or Latino\", \n",
    "\"height\": 64.6, \n",
    "\"weight\": 130.5, \n",
    "\"symptoms\": [\"Cough\", \"Fever\", \"Sore throat\"]\n",
    "}\n",
    "78664\n",
    "\n",
    "EXAMPLE: \n",
    "{\n",
    "\"zipcode\": 77055, \n",
    "\"age\": 25, \n",
    "\"gender\": \"Non-binary\", \n",
    "\"race\": \"Asian\", \n",
    "\"ethnicity\": \"Not Hispanic or Latino\", \n",
    "\"height\": 60.5, \n",
    "\"weight\": 100.2, \n",
    "\"symptoms\": [\"Joint pain\", \"Loss of smell\"]\n",
    "}\n",
    "77055\n",
    "\n",
    "EXAMPLE: \n",
    "{\n",
    "\"zipcode\": 78681, \n",
    "\"age\": 15, \n",
    "\"gender\" \"Male\", \n",
    "\"race\": \"Black\", \n",
    "\"ethnicity\": \"Hispanic or Latino\", \n",
    "\"height\": 74.6, \n",
    "\"weight\": 180.5, \n",
    "\"symptoms\": [\"Fatigue\", \"Loss of Vision\", \"Headache\", \"Joint pain\"]\n",
    "}\n",
    "78681\n",
    "\"\"\"\n",
    "\n",
    "patient_zipcode = few_shot_func(patient_json_form, few_shot_prompt_two, model_config_two)\n",
    "print(patient_zipcode)"
   ]
  },
  {
   "cell_type": "markdown",
   "id": "813eedcd",
   "metadata": {
    "papermill": {
     "duration": 0.007282,
     "end_time": "2025-04-20T01:51:58.050194",
     "exception": false,
     "start_time": "2025-04-20T01:51:58.042912",
     "status": "completed"
    },
    "tags": []
   },
   "source": [
    "### Nearest Medical Facilities\n",
    "\n",
    "In this second round of grounding, I utilized grounding to provide the nearest appropriate medical facilities for the individual to go to for treatment based on zipcode. We are not only utilizing the data that the AI has already been provided to find the nearest location, but also other sources, like the internet as well. \n",
    "\n",
    "*Note: Would not recommend to run the cell below more than once to get helpful and accurate information*"
   ]
  },
  {
   "cell_type": "code",
   "execution_count": 17,
   "id": "a061dc93",
   "metadata": {
    "execution": {
     "iopub.execute_input": "2025-04-20T01:51:58.066795Z",
     "iopub.status.busy": "2025-04-20T01:51:58.066434Z",
     "iopub.status.idle": "2025-04-20T01:52:02.096113Z",
     "shell.execute_reply": "2025-04-20T01:52:02.095034Z"
    },
    "papermill": {
     "duration": 4.040269,
     "end_time": "2025-04-20T01:52:02.097971",
     "exception": false,
     "start_time": "2025-04-20T01:51:58.057702",
     "status": "completed"
    },
    "tags": []
   },
   "outputs": [
    {
     "data": {
      "text/markdown": [
       "Based on your request, here are some of the nearest and best-rated medical facilities around the 92101 zip code that may be able to assist with Dumping Syndrome. Given that dumping syndrome often requires a gastroenterologist, I have focused on facilities with gastroenterology departments or specialists.\n",
       "\n",
       "*   **UC San Diego Health**\n",
       "\n",
       "    *   They are ranked among the top 50 in the nation for gastroenterology care & GI surgery by U.S. News & World Report.\n",
       "    *   They have multiple locations:\n",
       "        *   UC San Diego Health Medical Offices North at 200 W. Arbor Drive, San Diego, CA 92103\n",
       "        *   Perlman Medical Offices at 9350 Campus Point Drive, San Diego, CA 92037\n",
       "        *   UC San Diego Health – UTC at 4303 La Jolla Village Drive, Suite 2110, L1, San Diego, CA 92122\n",
       "    *   Their clinic line is 619-543-2347\n",
       "*   **San Diego Gastroenterology Medical Associates**\n",
       "\n",
       "    *   Multiple doctors specializing in Gastroenterology (see search result [3] for names).\n",
       "    *   Contact them for assistance at (619) 291-6064\n",
       "*   **San Diego Digestive Disease Consultants Inc.**\n",
       "\n",
       "    *   Located next to Sharp Memorial Hospital at 8008 Frost St. Ste. 200 San Diego, CA 92123.\n",
       "    *   Phone: 858-292-7527\n",
       "*   **La Jolla Gastroenterology**\n",
       "\n",
       "    *   A single specialty gastroenterology practice located in the greater San Diego area.\n",
       "    *   Affiliated with Scripps and UCSD.\n",
       "\n",
       "It's important to note:\n",
       "\n",
       "*   **Dumping Syndrome Diagnosis:** A physician typically diagnoses dumping syndrome based on your symptoms and the results of diagnostic procedures such as an oral glucose tolerance test or a gastric emptying test\n",
       "*   **Dumping Syndrome Symptoms:** Common symptoms include nausea and vomiting; Abdominal pain, cramping, or feelings of bloat; Diarrhea; Sweating, dizziness, or weakness; Flushing and rapid or irregular heartbeat.\n"
      ],
      "text/plain": [
       "<IPython.core.display.Markdown object>"
      ]
     },
     "execution_count": 17,
     "metadata": {},
     "output_type": "execute_result"
    }
   ],
   "source": [
    "recommendations_prompt = diagnosis + 'Can you get me the nearest best-rated medical facilities with their addresses that can treat the disease for zip code ' + str(patient_zipcode) + '?'\n",
    "recommendations = grounding_func(recommendations_prompt)\n",
    "Markdown(recommendations)"
   ]
  },
  {
   "cell_type": "markdown",
   "id": "6666abbc",
   "metadata": {
    "papermill": {
     "duration": 0.00797,
     "end_time": "2025-04-20T01:52:02.114160",
     "exception": false,
     "start_time": "2025-04-20T01:52:02.106190",
     "status": "completed"
    },
    "tags": []
   },
   "source": [
    "### Payment and Insurance Plan Information\n",
    "\n",
    "In this third round of grounding, I utilized grounding to provide payment and insurance plan information for each of the location recommended for treatment. We are not only utilizing the data that the AI has already been provided to retrieve the information, but also other sources, like the internet as well. \n",
    "\n",
    "*Note: Would not recommend to run the cell below more than once to get helpful and accurate information*"
   ]
  },
  {
   "cell_type": "code",
   "execution_count": 18,
   "id": "d6e1615c",
   "metadata": {
    "execution": {
     "iopub.execute_input": "2025-04-20T01:52:02.131345Z",
     "iopub.status.busy": "2025-04-20T01:52:02.130960Z",
     "iopub.status.idle": "2025-04-20T01:52:10.232764Z",
     "shell.execute_reply": "2025-04-20T01:52:10.231740Z"
    },
    "papermill": {
     "duration": 8.112363,
     "end_time": "2025-04-20T01:52:10.234475",
     "exception": false,
     "start_time": "2025-04-20T01:52:02.122112",
     "status": "completed"
    },
    "tags": []
   },
   "outputs": [
    {
     "data": {
      "text/markdown": [
       "Okay, I will gather information about the types of payments and insurance plans accepted at the medical facilities listed for dumping syndrome treatment. I will focus on UC San Diego Health, San Diego Gastroenterology Medical Associates, San Diego Digestive Disease Consultants Inc., and La Jolla Gastroenterology.\n",
       "\n"
      ],
      "text/plain": [
       "<IPython.core.display.Markdown object>"
      ]
     },
     "execution_count": 18,
     "metadata": {},
     "output_type": "execute_result"
    }
   ],
   "source": [
    "payments_prompt = \"For each of the locations recommended to me: \" + recommendations + \" what types of payments and insurance plans are accepted for patients coming in for treatment?\"\n",
    "payments = grounding_func(payments_prompt)\n",
    "Markdown(payments)"
   ]
  },
  {
   "cell_type": "markdown",
   "id": "c7a49bef",
   "metadata": {
    "papermill": {
     "duration": 0.007769,
     "end_time": "2025-04-20T01:52:10.250380",
     "exception": false,
     "start_time": "2025-04-20T01:52:10.242611",
     "status": "completed"
    },
    "tags": []
   },
   "source": [
    "## Limitations and Possible Next Steps\n",
    "\n",
    "While the AI works as intended, this is a very basic setup/implementation of the AI (to be honest, I was short on time to implement the more advanced features/capabilities to make the AI run more efficiently and impressively; also for some reason, Python input does not work well or throws an error when implemented), and for the features that implement the grounding capabilities, the responses can be a hit-or-miss in terms of accuracy. Also, keep in mind that the AI is not a human doctor, and while humans can have personal biases or prone to error, at least a human doctor can also recognize the nuances that AI may not be able to recognize yet, and the diagnoses should not be taken as word of authority and more like potential warning or idea. \n",
    "\n",
    "Thus, possible next steps/future directions are as follows: \n",
    "* Convert AI to AI Agent using LangGraph\n",
    "* Implement interactive feature to AI where user can just input their information into the AI for the AI to process and then provide information as response\n",
    "* Implement UX/UI interface for AI\n",
    "* Upgrade JSON form to also include location information (such as address) and more demographic and health information (such as health history and income)\n",
    "\n",
    "## Conclusion and Potential Impact \n",
    "I created EmergencyZip AI as a more individualized and accessible and less overwhelming way for individuals to know what illness or medical condition they may be experiencing at the moment based on current symptoms and research the nearest appropriate medical facilities to get treatment based on zipcode/postal code as zipcode/postal code is indeed one of the most, if not the most, important factors in determining an individual's health status. Due to a time crunch, we implemented a basic implementation of the AI, but it works as well as we intended. \n",
    "\n",
    "I intended for the AI to empower individuals to make informed decisions that is best for their health and to know more and better of the variety of medical options provided for them to take care of their health, especially in illness and bad health (thus, we hope that with this AI, individuals take the initiative to become healthier and more health-conscious individuals). We also hope that the AI can help improve health outcomes for every zipcode/postal code as possible. "
   ]
  }
 ],
 "metadata": {
  "kaggle": {
   "accelerator": "none",
   "dataSources": [
    {
     "datasetId": 7088011,
     "sourceId": 11479823,
     "sourceType": "datasetVersion"
    }
   ],
   "dockerImageVersionId": 30918,
   "isGpuEnabled": false,
   "isInternetEnabled": true,
   "language": "python",
   "sourceType": "notebook"
  },
  "kernelspec": {
   "display_name": "Python 3",
   "language": "python",
   "name": "python3"
  },
  "language_info": {
   "codemirror_mode": {
    "name": "ipython",
    "version": 3
   },
   "file_extension": ".py",
   "mimetype": "text/x-python",
   "name": "python",
   "nbconvert_exporter": "python",
   "pygments_lexer": "ipython3",
   "version": "3.10.12"
  },
  "papermill": {
   "default_parameters": {},
   "duration": 35.209425,
   "end_time": "2025-04-20T01:52:11.079323",
   "environment_variables": {},
   "exception": null,
   "input_path": "__notebook__.ipynb",
   "output_path": "__notebook__.ipynb",
   "parameters": {},
   "start_time": "2025-04-20T01:51:35.869898",
   "version": "2.6.0"
  }
 },
 "nbformat": 4,
 "nbformat_minor": 5
}
