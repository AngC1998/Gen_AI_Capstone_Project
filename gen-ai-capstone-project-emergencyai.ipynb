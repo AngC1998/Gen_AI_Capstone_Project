{
 "cells": [
  {
   "cell_type": "markdown",
   "id": "fc872a3c",
   "metadata": {
    "papermill": {
     "duration": 0.004946,
     "end_time": "2025-04-19T21:30:07.906861",
     "exception": false,
     "start_time": "2025-04-19T21:30:07.901915",
     "status": "completed"
    },
    "tags": []
   },
   "source": [
    "# EmergencyZIP AI"
   ]
  },
  {
   "cell_type": "code",
   "execution_count": 1,
   "id": "6a70e647",
   "metadata": {
    "_cell_guid": "b1076dfc-b9ad-4769-8c92-a6c4dae69d19",
    "_uuid": "8f2839f25d086af736a60e9eeb907d3b93b6e0e5",
    "execution": {
     "iopub.execute_input": "2025-04-19T21:30:07.917894Z",
     "iopub.status.busy": "2025-04-19T21:30:07.917518Z",
     "iopub.status.idle": "2025-04-19T21:30:08.975659Z",
     "shell.execute_reply": "2025-04-19T21:30:08.974486Z"
    },
    "papermill": {
     "duration": 1.065588,
     "end_time": "2025-04-19T21:30:08.977453",
     "exception": false,
     "start_time": "2025-04-19T21:30:07.911865",
     "status": "completed"
    },
    "tags": []
   },
   "outputs": [
    {
     "name": "stdout",
     "output_type": "stream",
     "text": [
      "/kaggle/input/patient-symptom-dataset/patient_symptom_data.csv\n"
     ]
    }
   ],
   "source": [
    "# This Python 3 environment comes with many helpful analytics libraries installed\n",
    "# It is defined by the kaggle/python Docker image: https://github.com/kaggle/docker-python\n",
    "# For example, here's several helpful packages to load\n",
    "\n",
    "import numpy as np # linear algebra\n",
    "import pandas as pd # data processing, CSV file I/O (e.g. pd.read_csv)\n",
    "import random\n",
    "\n",
    "# Input data files are available in the read-only \"../input/\" directory\n",
    "# For example, running this (by clicking run or pressing Shift+Enter) will list all files under the input directory\n",
    "\n",
    "import os\n",
    "for dirname, _, filenames in os.walk('/kaggle/input'):\n",
    "    for filename in filenames:\n",
    "        print(os.path.join(dirname, filename))\n",
    "\n",
    "# You can write up to 20GB to the current directory (/kaggle/working/) that gets preserved as output when you create a version using \"Save & Run All\" \n",
    "# You can also write temporary files to /kaggle/temp/, but they won't be saved outside of the current session"
   ]
  },
  {
   "cell_type": "code",
   "execution_count": 2,
   "id": "4b9a95aa",
   "metadata": {
    "execution": {
     "iopub.execute_input": "2025-04-19T21:30:08.987619Z",
     "iopub.status.busy": "2025-04-19T21:30:08.987082Z",
     "iopub.status.idle": "2025-04-19T21:30:18.066917Z",
     "shell.execute_reply": "2025-04-19T21:30:18.065706Z"
    },
    "papermill": {
     "duration": 9.087035,
     "end_time": "2025-04-19T21:30:18.069042",
     "exception": false,
     "start_time": "2025-04-19T21:30:08.982007",
     "status": "completed"
    },
    "tags": []
   },
   "outputs": [
    {
     "name": "stdout",
     "output_type": "stream",
     "text": [
      "\u001b[2K   \u001b[90m━━━━━━━━━━━━━━━━━━━━━━━━━━━━━━━━━━━━━━━━\u001b[0m \u001b[32m144.7/144.7 kB\u001b[0m \u001b[31m6.1 MB/s\u001b[0m eta \u001b[36m0:00:00\u001b[0m\r\n",
      "\u001b[2K   \u001b[90m━━━━━━━━━━━━━━━━━━━━━━━━━━━━━━━━━━━━━━━━\u001b[0m \u001b[32m100.9/100.9 kB\u001b[0m \u001b[31m5.0 MB/s\u001b[0m eta \u001b[36m0:00:00\u001b[0m\r\n",
      "\u001b[?25h"
     ]
    }
   ],
   "source": [
    "!pip uninstall -qqy jupyterlab  # Remove unused packages from Kaggle's base image that conflict\n",
    "!pip install -U -q \"google-genai==1.7.0\""
   ]
  },
  {
   "cell_type": "code",
   "execution_count": 3,
   "id": "cb05e2b9",
   "metadata": {
    "execution": {
     "iopub.execute_input": "2025-04-19T21:30:18.079593Z",
     "iopub.status.busy": "2025-04-19T21:30:18.079119Z",
     "iopub.status.idle": "2025-04-19T21:30:19.536312Z",
     "shell.execute_reply": "2025-04-19T21:30:19.534617Z"
    },
    "papermill": {
     "duration": 1.464901,
     "end_time": "2025-04-19T21:30:19.538573",
     "exception": false,
     "start_time": "2025-04-19T21:30:18.073672",
     "status": "completed"
    },
    "tags": []
   },
   "outputs": [],
   "source": [
    "from google import genai\n",
    "from google.genai import types\n",
    "\n",
    "from IPython.display import HTML, Markdown, display"
   ]
  },
  {
   "cell_type": "code",
   "execution_count": 4,
   "id": "af037470",
   "metadata": {
    "execution": {
     "iopub.execute_input": "2025-04-19T21:30:19.549471Z",
     "iopub.status.busy": "2025-04-19T21:30:19.548832Z",
     "iopub.status.idle": "2025-04-19T21:30:19.803095Z",
     "shell.execute_reply": "2025-04-19T21:30:19.801989Z"
    },
    "papermill": {
     "duration": 0.261677,
     "end_time": "2025-04-19T21:30:19.805063",
     "exception": false,
     "start_time": "2025-04-19T21:30:19.543386",
     "status": "completed"
    },
    "tags": []
   },
   "outputs": [],
   "source": [
    "from google.api_core import retry\n",
    "\n",
    "\n",
    "is_retriable = lambda e: (isinstance(e, genai.errors.APIError) and e.code in {429, 503})\n",
    "\n",
    "genai.models.Models.generate_content = retry.Retry(\n",
    "    predicate=is_retriable)(genai.models.Models.generate_content)"
   ]
  },
  {
   "cell_type": "code",
   "execution_count": 5,
   "id": "a7b053f2",
   "metadata": {
    "execution": {
     "iopub.execute_input": "2025-04-19T21:30:19.815506Z",
     "iopub.status.busy": "2025-04-19T21:30:19.814914Z",
     "iopub.status.idle": "2025-04-19T21:30:19.984045Z",
     "shell.execute_reply": "2025-04-19T21:30:19.983120Z"
    },
    "papermill": {
     "duration": 0.176354,
     "end_time": "2025-04-19T21:30:19.985976",
     "exception": false,
     "start_time": "2025-04-19T21:30:19.809622",
     "status": "completed"
    },
    "tags": []
   },
   "outputs": [],
   "source": [
    "from kaggle_secrets import UserSecretsClient\n",
    "\n",
    "GOOGLE_API_KEY = UserSecretsClient().get_secret(\"GOOGLE_API_KEY\")"
   ]
  },
  {
   "cell_type": "code",
   "execution_count": 6,
   "id": "51927fb6",
   "metadata": {
    "execution": {
     "iopub.execute_input": "2025-04-19T21:30:19.996255Z",
     "iopub.status.busy": "2025-04-19T21:30:19.995874Z",
     "iopub.status.idle": "2025-04-19T21:30:20.391925Z",
     "shell.execute_reply": "2025-04-19T21:30:20.390735Z"
    },
    "papermill": {
     "duration": 0.403338,
     "end_time": "2025-04-19T21:30:20.393923",
     "exception": false,
     "start_time": "2025-04-19T21:30:19.990585",
     "status": "completed"
    },
    "tags": []
   },
   "outputs": [],
   "source": [
    "client = genai.Client(api_key=GOOGLE_API_KEY)"
   ]
  },
  {
   "cell_type": "code",
   "execution_count": 7,
   "id": "ebeeff77",
   "metadata": {
    "execution": {
     "iopub.execute_input": "2025-04-19T21:30:20.404932Z",
     "iopub.status.busy": "2025-04-19T21:30:20.404543Z",
     "iopub.status.idle": "2025-04-19T21:30:20.410441Z",
     "shell.execute_reply": "2025-04-19T21:30:20.409121Z"
    },
    "papermill": {
     "duration": 0.013153,
     "end_time": "2025-04-19T21:30:20.412139",
     "exception": false,
     "start_time": "2025-04-19T21:30:20.398986",
     "status": "completed"
    },
    "tags": []
   },
   "outputs": [],
   "source": [
    "import typing_extensions as typing\n",
    "\n",
    "class MedicalPatient(typing.TypedDict): \n",
    "    zipcode: int\n",
    "    age: int\n",
    "    gender: str\n",
    "    symptoms: list[str]\n",
    "\n",
    "def get_json_form(patient_symptom_entry): \n",
    "    entry_str = patient_symptom_entry.to_string()\n",
    "    json_response = client.models.generate_content(\n",
    "        model='gemini-2.0-flash', \n",
    "        config=types.GenerateContentConfig(\n",
    "            temperature=0.1, \n",
    "            response_mime_type=\"application/json\", \n",
    "            response_schema=MedicalPatient\n",
    "        ), \n",
    "        contents=entry_str\n",
    "    )\n",
    "    json_form = json_response.text\n",
    "    return json_form"
   ]
  },
  {
   "cell_type": "code",
   "execution_count": 8,
   "id": "4e6829b8",
   "metadata": {
    "execution": {
     "iopub.execute_input": "2025-04-19T21:30:20.422428Z",
     "iopub.status.busy": "2025-04-19T21:30:20.421969Z",
     "iopub.status.idle": "2025-04-19T21:30:20.426704Z",
     "shell.execute_reply": "2025-04-19T21:30:20.425572Z"
    },
    "papermill": {
     "duration": 0.011938,
     "end_time": "2025-04-19T21:30:20.428636",
     "exception": false,
     "start_time": "2025-04-19T21:30:20.416698",
     "status": "completed"
    },
    "tags": []
   },
   "outputs": [],
   "source": [
    "def get_general_model_config(temperature, top_p, max_output_tokens): \n",
    "    return types.GenerateContentConfig(\n",
    "        temperature=temperature, \n",
    "        top_p=top_p, \n",
    "        max_output_tokens=max_output_tokens\n",
    "    )"
   ]
  },
  {
   "cell_type": "code",
   "execution_count": 9,
   "id": "0e3840b9",
   "metadata": {
    "execution": {
     "iopub.execute_input": "2025-04-19T21:30:20.438708Z",
     "iopub.status.busy": "2025-04-19T21:30:20.438257Z",
     "iopub.status.idle": "2025-04-19T21:30:20.443362Z",
     "shell.execute_reply": "2025-04-19T21:30:20.442184Z"
    },
    "papermill": {
     "duration": 0.012499,
     "end_time": "2025-04-19T21:30:20.445537",
     "exception": false,
     "start_time": "2025-04-19T21:30:20.433038",
     "status": "completed"
    },
    "tags": []
   },
   "outputs": [],
   "source": [
    "def few_shot_func(model_input, prompt, config): \n",
    "    few_shot_response = client.models.generate_content(\n",
    "        model='gemini-2.0-flash', \n",
    "        config=config,\n",
    "        contents=[prompt, model_input]\n",
    "    )\n",
    "    str_response = few_shot_response.text\n",
    "    return str_response"
   ]
  },
  {
   "cell_type": "code",
   "execution_count": 10,
   "id": "4ee27513",
   "metadata": {
    "execution": {
     "iopub.execute_input": "2025-04-19T21:30:20.456112Z",
     "iopub.status.busy": "2025-04-19T21:30:20.455734Z",
     "iopub.status.idle": "2025-04-19T21:30:20.460916Z",
     "shell.execute_reply": "2025-04-19T21:30:20.459749Z"
    },
    "papermill": {
     "duration": 0.012561,
     "end_time": "2025-04-19T21:30:20.462615",
     "exception": false,
     "start_time": "2025-04-19T21:30:20.450054",
     "status": "completed"
    },
    "tags": []
   },
   "outputs": [],
   "source": [
    "def grounding_func(input_prompt): \n",
    "    config_with_search = types.GenerateContentConfig(\n",
    "        tools=[types.Tool(google_search=types.GoogleSearch())],\n",
    "    )\n",
    "    response = client.models.generate_content(\n",
    "        model='gemini-2.0-flash', \n",
    "        contents=input_prompt, \n",
    "        config=config_with_search,\n",
    "    )\n",
    "    rc = response.candidates[0]\n",
    "    return rc.content.parts[0].text"
   ]
  },
  {
   "cell_type": "code",
   "execution_count": 11,
   "id": "93d5b778",
   "metadata": {
    "execution": {
     "iopub.execute_input": "2025-04-19T21:30:20.472846Z",
     "iopub.status.busy": "2025-04-19T21:30:20.472459Z",
     "iopub.status.idle": "2025-04-19T21:30:20.515687Z",
     "shell.execute_reply": "2025-04-19T21:30:20.514466Z"
    },
    "papermill": {
     "duration": 0.050356,
     "end_time": "2025-04-19T21:30:20.517514",
     "exception": false,
     "start_time": "2025-04-19T21:30:20.467158",
     "status": "completed"
    },
    "tags": []
   },
   "outputs": [
    {
     "data": {
      "text/html": [
       "<div>\n",
       "<style scoped>\n",
       "    .dataframe tbody tr th:only-of-type {\n",
       "        vertical-align: middle;\n",
       "    }\n",
       "\n",
       "    .dataframe tbody tr th {\n",
       "        vertical-align: top;\n",
       "    }\n",
       "\n",
       "    .dataframe thead th {\n",
       "        text-align: right;\n",
       "    }\n",
       "</style>\n",
       "<table border=\"1\" class=\"dataframe\">\n",
       "  <thead>\n",
       "    <tr style=\"text-align: right;\">\n",
       "      <th></th>\n",
       "      <th>PatientID</th>\n",
       "      <th>ZipCode</th>\n",
       "      <th>Age</th>\n",
       "      <th>Gender</th>\n",
       "      <th>Symptoms</th>\n",
       "    </tr>\n",
       "  </thead>\n",
       "  <tbody>\n",
       "    <tr>\n",
       "      <th>0</th>\n",
       "      <td>P001</td>\n",
       "      <td>70112</td>\n",
       "      <td>32</td>\n",
       "      <td>Female</td>\n",
       "      <td>Joint pain;Runny nose;Loss of taste;Sore throat</td>\n",
       "    </tr>\n",
       "    <tr>\n",
       "      <th>1</th>\n",
       "      <td>P002</td>\n",
       "      <td>15213</td>\n",
       "      <td>87</td>\n",
       "      <td>Female</td>\n",
       "      <td>Cough;Fever;Fatigue;Chest pain;Joint pain</td>\n",
       "    </tr>\n",
       "    <tr>\n",
       "      <th>2</th>\n",
       "      <td>P003</td>\n",
       "      <td>46201</td>\n",
       "      <td>21</td>\n",
       "      <td>Non-binary</td>\n",
       "      <td>Swelling;Blurred vision;Rash</td>\n",
       "    </tr>\n",
       "    <tr>\n",
       "      <th>3</th>\n",
       "      <td>P004</td>\n",
       "      <td>20001</td>\n",
       "      <td>46</td>\n",
       "      <td>Male</td>\n",
       "      <td>Chest tightness;Sneezing;Fever;Breathing diffi...</td>\n",
       "    </tr>\n",
       "    <tr>\n",
       "      <th>4</th>\n",
       "      <td>P005</td>\n",
       "      <td>96813</td>\n",
       "      <td>38</td>\n",
       "      <td>Non-binary</td>\n",
       "      <td>Vomiting;Headache;Runny nose;Chest pain;Breath...</td>\n",
       "    </tr>\n",
       "    <tr>\n",
       "      <th>...</th>\n",
       "      <td>...</td>\n",
       "      <td>...</td>\n",
       "      <td>...</td>\n",
       "      <td>...</td>\n",
       "      <td>...</td>\n",
       "    </tr>\n",
       "    <tr>\n",
       "      <th>95</th>\n",
       "      <td>P096</td>\n",
       "      <td>92101</td>\n",
       "      <td>71</td>\n",
       "      <td>Non-binary</td>\n",
       "      <td>Low-grade fever;Joint pain;Headache</td>\n",
       "    </tr>\n",
       "    <tr>\n",
       "      <th>96</th>\n",
       "      <td>P097</td>\n",
       "      <td>20001</td>\n",
       "      <td>80</td>\n",
       "      <td>Female</td>\n",
       "      <td>Vomiting;Abdominal cramps;Chest tightness;Abdo...</td>\n",
       "    </tr>\n",
       "    <tr>\n",
       "      <th>97</th>\n",
       "      <td>P098</td>\n",
       "      <td>85001</td>\n",
       "      <td>77</td>\n",
       "      <td>Female</td>\n",
       "      <td>Loss of smell;Abdominal pain</td>\n",
       "    </tr>\n",
       "    <tr>\n",
       "      <th>98</th>\n",
       "      <td>P099</td>\n",
       "      <td>84101</td>\n",
       "      <td>90</td>\n",
       "      <td>Non-binary</td>\n",
       "      <td>Fatigue;Blurred vision</td>\n",
       "    </tr>\n",
       "    <tr>\n",
       "      <th>99</th>\n",
       "      <td>P100</td>\n",
       "      <td>20001</td>\n",
       "      <td>35</td>\n",
       "      <td>Male</td>\n",
       "      <td>Cough;Headache;Abdominal pain</td>\n",
       "    </tr>\n",
       "  </tbody>\n",
       "</table>\n",
       "<p>100 rows × 5 columns</p>\n",
       "</div>"
      ],
      "text/plain": [
       "   PatientID  ZipCode  Age      Gender  \\\n",
       "0       P001    70112   32      Female   \n",
       "1       P002    15213   87      Female   \n",
       "2       P003    46201   21  Non-binary   \n",
       "3       P004    20001   46        Male   \n",
       "4       P005    96813   38  Non-binary   \n",
       "..       ...      ...  ...         ...   \n",
       "95      P096    92101   71  Non-binary   \n",
       "96      P097    20001   80      Female   \n",
       "97      P098    85001   77      Female   \n",
       "98      P099    84101   90  Non-binary   \n",
       "99      P100    20001   35        Male   \n",
       "\n",
       "                                             Symptoms  \n",
       "0     Joint pain;Runny nose;Loss of taste;Sore throat  \n",
       "1           Cough;Fever;Fatigue;Chest pain;Joint pain  \n",
       "2                        Swelling;Blurred vision;Rash  \n",
       "3   Chest tightness;Sneezing;Fever;Breathing diffi...  \n",
       "4   Vomiting;Headache;Runny nose;Chest pain;Breath...  \n",
       "..                                                ...  \n",
       "95                Low-grade fever;Joint pain;Headache  \n",
       "96  Vomiting;Abdominal cramps;Chest tightness;Abdo...  \n",
       "97                       Loss of smell;Abdominal pain  \n",
       "98                             Fatigue;Blurred vision  \n",
       "99                      Cough;Headache;Abdominal pain  \n",
       "\n",
       "[100 rows x 5 columns]"
      ]
     },
     "execution_count": 11,
     "metadata": {},
     "output_type": "execute_result"
    }
   ],
   "source": [
    "patient_symptom_df = pd.read_csv('/kaggle/input/patient-symptom-dataset/patient_symptom_data.csv')\n",
    "patient_symptom_df"
   ]
  },
  {
   "cell_type": "code",
   "execution_count": 12,
   "id": "0821ea76",
   "metadata": {
    "execution": {
     "iopub.execute_input": "2025-04-19T21:30:20.528268Z",
     "iopub.status.busy": "2025-04-19T21:30:20.527915Z",
     "iopub.status.idle": "2025-04-19T21:30:21.362369Z",
     "shell.execute_reply": "2025-04-19T21:30:21.360630Z"
    },
    "papermill": {
     "duration": 0.842312,
     "end_time": "2025-04-19T21:30:21.364698",
     "exception": false,
     "start_time": "2025-04-19T21:30:20.522386",
     "status": "completed"
    },
    "tags": []
   },
   "outputs": [
    {
     "name": "stdout",
     "output_type": "stream",
     "text": [
      "{\n",
      "\"zipcode\": 68102,\n",
      "\"age\": 27,\n",
      "\"gender\": \"Non-binary\",\n",
      "\"symptoms\": [\"Rash\", \"Loss of taste\", \"Joint pain\"]\n",
      "}\n"
     ]
    }
   ],
   "source": [
    "patient_index = random.randint(0, 99)\n",
    "patient_json_form = get_json_form(patient_symptom_df.iloc[patient_index])\n",
    "print(patient_json_form)"
   ]
  },
  {
   "cell_type": "code",
   "execution_count": 13,
   "id": "674b8557",
   "metadata": {
    "execution": {
     "iopub.execute_input": "2025-04-19T21:30:21.376118Z",
     "iopub.status.busy": "2025-04-19T21:30:21.375739Z",
     "iopub.status.idle": "2025-04-19T21:30:21.995933Z",
     "shell.execute_reply": "2025-04-19T21:30:21.994727Z"
    },
    "papermill": {
     "duration": 0.627895,
     "end_time": "2025-04-19T21:30:21.997672",
     "exception": false,
     "start_time": "2025-04-19T21:30:21.369777",
     "status": "completed"
    },
    "tags": []
   },
   "outputs": [
    {
     "name": "stdout",
     "output_type": "stream",
     "text": [
      "\"27-year old non-binary patient from zipcode 68102 currently experiencing symptoms of rash, loss of taste, and joint pain.\"\n",
      "\n"
     ]
    }
   ],
   "source": [
    "model_config = get_general_model_config(0.1, 1, 500)\n",
    "\n",
    "few_shot_prompt = \"\"\"Parse JSON into a string request and only return output: \n",
    "\n",
    "EXAMPLE: \n",
    "{\n",
    "\"zipcode\": 78664, \n",
    "\"age\": 30, \n",
    "\"gender\": \"Female\", \n",
    "\"symptoms\": [\"Cough\", \"Fever\", \"Sore throat\"]\n",
    "}\n",
    "\"30-year old female patient from zipcode 78664 currently experiencing symptoms of cough, fever, and sore throat.\"\n",
    "\n",
    "EXAMPLE: \n",
    "{\n",
    "\"zipcode\": 77055, \n",
    "\"age\": 25, \n",
    "\"gender\": \"Non-binary\", \n",
    "\"symptoms\": [\"Joint pain\", \"Loss of smell\"]\n",
    "}\n",
    "\"25-year old non-binary patient from zipcode 77055 currently experiencing symptoms of joint pain and loss of smell.\"\n",
    "\n",
    "EXAMPLE: \n",
    "{\n",
    "\"zipcode\": 78681, \n",
    "\"age\": 15, \n",
    "\"gender\" \"Male\", \n",
    "\"symptoms\": [\"Fatigue\", \"Loss of Vision\", \"Headache\", \"Joint pain\"]\n",
    "}\n",
    "\"15-year old male patient from zipcode 78681 currently experiencing symptoms of fatigue, loss of vision, headache, and joint pain.\"\n",
    "\"\"\"\n",
    "\n",
    "patient_medical_request = few_shot_func(patient_json_form, few_shot_prompt, model_config)\n",
    "print(patient_medical_request)"
   ]
  },
  {
   "cell_type": "code",
   "execution_count": 14,
   "id": "a80558a0",
   "metadata": {
    "execution": {
     "iopub.execute_input": "2025-04-19T21:30:22.009549Z",
     "iopub.status.busy": "2025-04-19T21:30:22.009083Z",
     "iopub.status.idle": "2025-04-19T21:30:24.445819Z",
     "shell.execute_reply": "2025-04-19T21:30:24.444584Z"
    },
    "papermill": {
     "duration": 2.444882,
     "end_time": "2025-04-19T21:30:24.447805",
     "exception": false,
     "start_time": "2025-04-19T21:30:22.002923",
     "status": "completed"
    },
    "tags": []
   },
   "outputs": [
    {
     "data": {
      "text/markdown": [
       "Based on the symptoms of rash, loss of taste, and joint pain, a few possibilities should be considered. However, given the available information, the most likely singular disease is:\n",
       "\n",
       "*   **COVID-19:** Loss of taste and rash are symptoms of COVID-19.\n",
       "*   **Adult Still's Disease:** This is a rare inflammatory condition that presents with fever, rash, and joint pain.\n",
       "*   **Fifth Disease:** This viral illness can cause a rash and joint pain, especially in adults.\n",
       "*   **Long COVID:** Joint pain, rash, and loss of taste may be symptoms of Long COVID.\n",
       "\n",
       "Without more information, it is difficult to determine the most likely diagnosis. Consulting a healthcare professional is essential for accurate diagnosis and treatment.\n"
      ],
      "text/plain": [
       "<IPython.core.display.Markdown object>"
      ]
     },
     "execution_count": 14,
     "metadata": {},
     "output_type": "execute_result"
    }
   ],
   "source": [
    "diagnosis_prompt = patient_medical_request + \"What disease are they most likely to experience now? Only return the singular most likely disease, please.\"\n",
    "diagnosis = grounding_func(diagnosis_prompt)\n",
    "Markdown(diagnosis)"
   ]
  },
  {
   "cell_type": "code",
   "execution_count": 15,
   "id": "e11604b7",
   "metadata": {
    "execution": {
     "iopub.execute_input": "2025-04-19T21:30:24.460186Z",
     "iopub.status.busy": "2025-04-19T21:30:24.459796Z",
     "iopub.status.idle": "2025-04-19T21:30:24.862367Z",
     "shell.execute_reply": "2025-04-19T21:30:24.861064Z"
    },
    "papermill": {
     "duration": 0.410886,
     "end_time": "2025-04-19T21:30:24.864054",
     "exception": false,
     "start_time": "2025-04-19T21:30:24.453168",
     "status": "completed"
    },
    "tags": []
   },
   "outputs": [
    {
     "name": "stdout",
     "output_type": "stream",
     "text": [
      "68102\n",
      "\n"
     ]
    }
   ],
   "source": [
    "model_config_two = get_general_model_config(0, 1, 50)\n",
    "\n",
    "few_shot_prompt_two = \"\"\"Parse JSON to return only the Zipcode: \n",
    "\n",
    "EXAMPLE: \n",
    "{\n",
    "\"zipcode\": 78664, \n",
    "\"age\": 30, \n",
    "\"gender\": \"Female\", \n",
    "\"symptoms\": [\"Cough\", \"Fever\", \"Sore throat\"]\n",
    "}\n",
    "78664\n",
    "\n",
    "EXAMPLE: \n",
    "{\n",
    "\"zipcode\": 77055, \n",
    "\"age\": 25, \n",
    "\"gender\": \"Non-binary\", \n",
    "\"symptoms\": [\"Joint pain\", \"Loss of smell\"]\n",
    "}\n",
    "77055\n",
    "\n",
    "EXAMPLE: \n",
    "{\n",
    "\"zipcode\": 78681, \n",
    "\"age\": 15, \n",
    "\"gender\" \"Male\", \n",
    "\"symptoms\": [\"Fatigue\", \"Loss of Vision\", \"Headache\", \"Joint pain\"]\n",
    "}\n",
    "78681\n",
    "\"\"\"\n",
    "\n",
    "patient_zipcode = few_shot_func(patient_json_form, few_shot_prompt_two, model_config_two)\n",
    "print(patient_zipcode)"
   ]
  },
  {
   "cell_type": "code",
   "execution_count": 16,
   "id": "684ecc7f",
   "metadata": {
    "execution": {
     "iopub.execute_input": "2025-04-19T21:30:24.875967Z",
     "iopub.status.busy": "2025-04-19T21:30:24.875620Z",
     "iopub.status.idle": "2025-04-19T21:30:32.578088Z",
     "shell.execute_reply": "2025-04-19T21:30:32.577070Z"
    },
    "papermill": {
     "duration": 7.710911,
     "end_time": "2025-04-19T21:30:32.580179",
     "exception": false,
     "start_time": "2025-04-19T21:30:24.869268",
     "status": "completed"
    },
    "tags": []
   },
   "outputs": [
    {
     "data": {
      "text/markdown": [
       "I understand you're looking for the best-rated medical facilities near the 68102 zip code that can address the symptoms you described: rash, loss of taste, and joint pain. Based on your listed possible conditions (COVID-19, Adult Still's Disease, Fifth Disease, and Long COVID), here's a breakdown of facilities that may be helpful:\n",
       "\n",
       "**Please note:** It's essential to confirm with any facility that they are currently accepting new patients and that they have expertise in treating your specific symptoms or suspected condition. Contacting them directly is always a good first step.\n",
       "\n",
       "**General Medical Facilities in/near 68102**\n",
       "\n",
       "*   **Nebraska Medicine:** Nebraska Medicine has multiple primary care locations, including one at 1319 Leavenworth St, Omaha, NE 68102. They offer a team-based approach to primary care.\n",
       "*   **Methodist Urgent Care Downtown Omaha:** Located at 312 S. 15th St. Omaha, NE 68102, this urgent care center can treat a range of minor medical issues, including rashes and cold/flu symptoms. It's an option for immediate care without an appointment.\n",
       "*   **CHI Health Center Omaha:** While primarily a convention center, it's worth noting that many hospitals and medical facilities in the area are part of the CHI Health network. Consider exploring CHI Health providers in the area. The address is 455 N 10th St Omaha, NE 68102.\n",
       "*   **Magis Clinic:** This free clinic, run by Creighton University medical students, is located at Siena Francis House, 1401 North 18th Street, Omaha, NE 68102. It provides basic acute primary care consultations for the homeless and uninsured on Saturdays.\n",
       "\n",
       "**COVID-19 and Long COVID Care**\n",
       "\n",
       "*   **Nebraska Medicine:** As an academic medical center, Nebraska Medicine is likely equipped to diagnose and manage COVID-19 and Long COVID. Contact their primary care or internal medicine departments.\n",
       "*   **Methodist Health System:** Methodist has multiple locations and may offer services for COVID-19 and related complications.\n",
       "*   **Post-COVID Clinics (out of state):** While not in your immediate area, it's useful to know that specialized Post-COVID clinics exist. For example, MetroHealth in Cleveland, OH, offers virtual appointments for those experiencing long-term effects of COVID-19. Also, The University of Utah Health has a COVID-19 clinic.\n",
       "\n",
       "**Adult Still's Disease**\n",
       "\n",
       "*   **Rheumatology Specialists:** Adult Still's Disease is a rare inflammatory condition, so seeing a rheumatologist is crucial. Look for rheumatology specialists at Nebraska Medicine, CHI Health, or Methodist Health System.\n",
       "*   **Cleveland Clinic (out of state):** The Cleveland Clinic has a dedicated team for Adult-Onset Still's Disease. While it would require travel, their expertise may be valuable, especially for diagnosis and complex cases.\n",
       "\n",
       "**Fifth Disease**\n",
       "\n",
       "*   **Primary Care Physician/Pediatrician:** Fifth disease is usually a mild viral illness. Your primary care physician can typically diagnose and manage it. For children, a pediatrician is the appropriate choice. Health Care for Children in Kansas City, MO, also provide treatment for Fifth Disease.\n",
       "\n",
       "**Important Considerations:**\n",
       "\n",
       "*   **COVID-19 Testing:** If you suspect COVID-19, prioritize getting tested and following public health guidelines.\n",
       "*   **Referrals:** Some specialists or Post-COVID clinics may require a referral from your primary care physician.\n",
       "*   **Insurance:** Verify that the facility accepts your insurance plan.\n",
       "\n",
       "I strongly recommend consulting your primary care physician or using your insurance provider's website to find in-network medical facilities and specialists in the 68102 area. They can guide you toward the most appropriate care based on your specific symptoms and medical history.\n"
      ],
      "text/plain": [
       "<IPython.core.display.Markdown object>"
      ]
     },
     "execution_count": 16,
     "metadata": {},
     "output_type": "execute_result"
    }
   ],
   "source": [
    "recommendations_prompt = diagnosis + 'Can you get me the nearest best-rated medical facilities with their addresses that can treat the disease for zip code ' + str(patient_zipcode) + '?'\n",
    "recommendations = grounding_func(recommendations_prompt)\n",
    "Markdown(recommendations)"
   ]
  }
 ],
 "metadata": {
  "kaggle": {
   "accelerator": "none",
   "dataSources": [
    {
     "sourceId": 97258,
     "sourceType": "competition"
    },
    {
     "datasetId": 7088011,
     "sourceId": 11330888,
     "sourceType": "datasetVersion"
    }
   ],
   "dockerImageVersionId": 30918,
   "isGpuEnabled": false,
   "isInternetEnabled": true,
   "language": "python",
   "sourceType": "notebook"
  },
  "kernelspec": {
   "display_name": "Python 3",
   "language": "python",
   "name": "python3"
  },
  "language_info": {
   "codemirror_mode": {
    "name": "ipython",
    "version": 3
   },
   "file_extension": ".py",
   "mimetype": "text/x-python",
   "name": "python",
   "nbconvert_exporter": "python",
   "pygments_lexer": "ipython3",
   "version": "3.10.12"
  },
  "papermill": {
   "default_parameters": {},
   "duration": 29.356804,
   "end_time": "2025-04-19T21:30:33.407620",
   "environment_variables": {},
   "exception": null,
   "input_path": "__notebook__.ipynb",
   "output_path": "__notebook__.ipynb",
   "parameters": {},
   "start_time": "2025-04-19T21:30:04.050816",
   "version": "2.6.0"
  }
 },
 "nbformat": 4,
 "nbformat_minor": 5
}
