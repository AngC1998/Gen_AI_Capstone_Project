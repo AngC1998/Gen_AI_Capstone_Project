{
 "cells": [
  {
   "cell_type": "markdown",
   "id": "188be571",
   "metadata": {
    "papermill": {
     "duration": 0.004201,
     "end_time": "2025-04-09T00:34:42.944789",
     "exception": false,
     "start_time": "2025-04-09T00:34:42.940588",
     "status": "completed"
    },
    "tags": []
   },
   "source": [
    "# EmergencyZIP AI"
   ]
  },
  {
   "cell_type": "code",
   "execution_count": 1,
   "id": "02b8bd15",
   "metadata": {
    "_cell_guid": "b1076dfc-b9ad-4769-8c92-a6c4dae69d19",
    "_uuid": "8f2839f25d086af736a60e9eeb907d3b93b6e0e5",
    "execution": {
     "iopub.execute_input": "2025-04-09T00:34:42.953075Z",
     "iopub.status.busy": "2025-04-09T00:34:42.952735Z",
     "iopub.status.idle": "2025-04-09T00:34:43.829944Z",
     "shell.execute_reply": "2025-04-09T00:34:43.828775Z"
    },
    "papermill": {
     "duration": 0.883355,
     "end_time": "2025-04-09T00:34:43.831804",
     "exception": false,
     "start_time": "2025-04-09T00:34:42.948449",
     "status": "completed"
    },
    "tags": []
   },
   "outputs": [
    {
     "name": "stdout",
     "output_type": "stream",
     "text": [
      "/kaggle/input/patient-symptom-dataset/patient_symptom_data.csv\n"
     ]
    }
   ],
   "source": [
    "# This Python 3 environment comes with many helpful analytics libraries installed\n",
    "# It is defined by the kaggle/python Docker image: https://github.com/kaggle/docker-python\n",
    "# For example, here's several helpful packages to load\n",
    "\n",
    "import numpy as np # linear algebra\n",
    "import pandas as pd # data processing, CSV file I/O (e.g. pd.read_csv)\n",
    "\n",
    "# Input data files are available in the read-only \"../input/\" directory\n",
    "# For example, running this (by clicking run or pressing Shift+Enter) will list all files under the input directory\n",
    "\n",
    "import os\n",
    "for dirname, _, filenames in os.walk('/kaggle/input'):\n",
    "    for filename in filenames:\n",
    "        print(os.path.join(dirname, filename))\n",
    "\n",
    "# You can write up to 20GB to the current directory (/kaggle/working/) that gets preserved as output when you create a version using \"Save & Run All\" \n",
    "# You can also write temporary files to /kaggle/temp/, but they won't be saved outside of the current session"
   ]
  },
  {
   "cell_type": "code",
   "execution_count": 2,
   "id": "594e936d",
   "metadata": {
    "execution": {
     "iopub.execute_input": "2025-04-09T00:34:43.840842Z",
     "iopub.status.busy": "2025-04-09T00:34:43.840372Z",
     "iopub.status.idle": "2025-04-09T00:34:51.734265Z",
     "shell.execute_reply": "2025-04-09T00:34:51.733185Z"
    },
    "papermill": {
     "duration": 7.900442,
     "end_time": "2025-04-09T00:34:51.736214",
     "exception": false,
     "start_time": "2025-04-09T00:34:43.835772",
     "status": "completed"
    },
    "tags": []
   },
   "outputs": [
    {
     "name": "stdout",
     "output_type": "stream",
     "text": [
      "\u001b[2K   \u001b[90m━━━━━━━━━━━━━━━━━━━━━━━━━━━━━━━━━━━━━━━━\u001b[0m \u001b[32m144.7/144.7 kB\u001b[0m \u001b[31m4.2 MB/s\u001b[0m eta \u001b[36m0:00:00\u001b[0m\r\n",
      "\u001b[2K   \u001b[90m━━━━━━━━━━━━━━━━━━━━━━━━━━━━━━━━━━━━━━━━\u001b[0m \u001b[32m100.9/100.9 kB\u001b[0m \u001b[31m6.1 MB/s\u001b[0m eta \u001b[36m0:00:00\u001b[0m\r\n",
      "\u001b[?25h"
     ]
    }
   ],
   "source": [
    "!pip uninstall -qqy jupyterlab  # Remove unused packages from Kaggle's base image that conflict\n",
    "!pip install -U -q \"google-genai==1.7.0\""
   ]
  },
  {
   "cell_type": "code",
   "execution_count": 3,
   "id": "0fabe7eb",
   "metadata": {
    "execution": {
     "iopub.execute_input": "2025-04-09T00:34:51.745610Z",
     "iopub.status.busy": "2025-04-09T00:34:51.745225Z",
     "iopub.status.idle": "2025-04-09T00:34:51.796394Z",
     "shell.execute_reply": "2025-04-09T00:34:51.795440Z"
    },
    "papermill": {
     "duration": 0.057688,
     "end_time": "2025-04-09T00:34:51.798084",
     "exception": false,
     "start_time": "2025-04-09T00:34:51.740396",
     "status": "completed"
    },
    "tags": []
   },
   "outputs": [
    {
     "data": {
      "text/html": [
       "<div>\n",
       "<style scoped>\n",
       "    .dataframe tbody tr th:only-of-type {\n",
       "        vertical-align: middle;\n",
       "    }\n",
       "\n",
       "    .dataframe tbody tr th {\n",
       "        vertical-align: top;\n",
       "    }\n",
       "\n",
       "    .dataframe thead th {\n",
       "        text-align: right;\n",
       "    }\n",
       "</style>\n",
       "<table border=\"1\" class=\"dataframe\">\n",
       "  <thead>\n",
       "    <tr style=\"text-align: right;\">\n",
       "      <th></th>\n",
       "      <th>PatientID</th>\n",
       "      <th>ZipCode</th>\n",
       "      <th>Age</th>\n",
       "      <th>Gender</th>\n",
       "      <th>Symptoms</th>\n",
       "    </tr>\n",
       "  </thead>\n",
       "  <tbody>\n",
       "    <tr>\n",
       "      <th>0</th>\n",
       "      <td>P001</td>\n",
       "      <td>70112</td>\n",
       "      <td>32</td>\n",
       "      <td>Female</td>\n",
       "      <td>Joint pain;Runny nose;Loss of taste;Sore throat</td>\n",
       "    </tr>\n",
       "    <tr>\n",
       "      <th>1</th>\n",
       "      <td>P002</td>\n",
       "      <td>15213</td>\n",
       "      <td>87</td>\n",
       "      <td>Female</td>\n",
       "      <td>Cough;Fever;Fatigue;Chest pain;Joint pain</td>\n",
       "    </tr>\n",
       "    <tr>\n",
       "      <th>2</th>\n",
       "      <td>P003</td>\n",
       "      <td>46201</td>\n",
       "      <td>21</td>\n",
       "      <td>Non-binary</td>\n",
       "      <td>Swelling;Blurred vision;Rash</td>\n",
       "    </tr>\n",
       "    <tr>\n",
       "      <th>3</th>\n",
       "      <td>P004</td>\n",
       "      <td>20001</td>\n",
       "      <td>46</td>\n",
       "      <td>Male</td>\n",
       "      <td>Chest tightness;Sneezing;Fever;Breathing diffi...</td>\n",
       "    </tr>\n",
       "    <tr>\n",
       "      <th>4</th>\n",
       "      <td>P005</td>\n",
       "      <td>96813</td>\n",
       "      <td>38</td>\n",
       "      <td>Non-binary</td>\n",
       "      <td>Vomiting;Headache;Runny nose;Chest pain;Breath...</td>\n",
       "    </tr>\n",
       "    <tr>\n",
       "      <th>...</th>\n",
       "      <td>...</td>\n",
       "      <td>...</td>\n",
       "      <td>...</td>\n",
       "      <td>...</td>\n",
       "      <td>...</td>\n",
       "    </tr>\n",
       "    <tr>\n",
       "      <th>95</th>\n",
       "      <td>P096</td>\n",
       "      <td>92101</td>\n",
       "      <td>71</td>\n",
       "      <td>Non-binary</td>\n",
       "      <td>Low-grade fever;Joint pain;Headache</td>\n",
       "    </tr>\n",
       "    <tr>\n",
       "      <th>96</th>\n",
       "      <td>P097</td>\n",
       "      <td>20001</td>\n",
       "      <td>80</td>\n",
       "      <td>Female</td>\n",
       "      <td>Vomiting;Abdominal cramps;Chest tightness;Abdo...</td>\n",
       "    </tr>\n",
       "    <tr>\n",
       "      <th>97</th>\n",
       "      <td>P098</td>\n",
       "      <td>85001</td>\n",
       "      <td>77</td>\n",
       "      <td>Female</td>\n",
       "      <td>Loss of smell;Abdominal pain</td>\n",
       "    </tr>\n",
       "    <tr>\n",
       "      <th>98</th>\n",
       "      <td>P099</td>\n",
       "      <td>84101</td>\n",
       "      <td>90</td>\n",
       "      <td>Non-binary</td>\n",
       "      <td>Fatigue;Blurred vision</td>\n",
       "    </tr>\n",
       "    <tr>\n",
       "      <th>99</th>\n",
       "      <td>P100</td>\n",
       "      <td>20001</td>\n",
       "      <td>35</td>\n",
       "      <td>Male</td>\n",
       "      <td>Cough;Headache;Abdominal pain</td>\n",
       "    </tr>\n",
       "  </tbody>\n",
       "</table>\n",
       "<p>100 rows × 5 columns</p>\n",
       "</div>"
      ],
      "text/plain": [
       "   PatientID  ZipCode  Age      Gender  \\\n",
       "0       P001    70112   32      Female   \n",
       "1       P002    15213   87      Female   \n",
       "2       P003    46201   21  Non-binary   \n",
       "3       P004    20001   46        Male   \n",
       "4       P005    96813   38  Non-binary   \n",
       "..       ...      ...  ...         ...   \n",
       "95      P096    92101   71  Non-binary   \n",
       "96      P097    20001   80      Female   \n",
       "97      P098    85001   77      Female   \n",
       "98      P099    84101   90  Non-binary   \n",
       "99      P100    20001   35        Male   \n",
       "\n",
       "                                             Symptoms  \n",
       "0     Joint pain;Runny nose;Loss of taste;Sore throat  \n",
       "1           Cough;Fever;Fatigue;Chest pain;Joint pain  \n",
       "2                        Swelling;Blurred vision;Rash  \n",
       "3   Chest tightness;Sneezing;Fever;Breathing diffi...  \n",
       "4   Vomiting;Headache;Runny nose;Chest pain;Breath...  \n",
       "..                                                ...  \n",
       "95                Low-grade fever;Joint pain;Headache  \n",
       "96  Vomiting;Abdominal cramps;Chest tightness;Abdo...  \n",
       "97                       Loss of smell;Abdominal pain  \n",
       "98                             Fatigue;Blurred vision  \n",
       "99                      Cough;Headache;Abdominal pain  \n",
       "\n",
       "[100 rows x 5 columns]"
      ]
     },
     "execution_count": 3,
     "metadata": {},
     "output_type": "execute_result"
    }
   ],
   "source": [
    "patient_symptom_df = pd.read_csv('/kaggle/input/patient-symptom-dataset/patient_symptom_data.csv')\n",
    "patient_symptom_df"
   ]
  },
  {
   "cell_type": "code",
   "execution_count": 4,
   "id": "69300597",
   "metadata": {
    "execution": {
     "iopub.execute_input": "2025-04-09T00:34:51.807679Z",
     "iopub.status.busy": "2025-04-09T00:34:51.807324Z",
     "iopub.status.idle": "2025-04-09T00:34:53.033180Z",
     "shell.execute_reply": "2025-04-09T00:34:53.032287Z"
    },
    "papermill": {
     "duration": 1.232537,
     "end_time": "2025-04-09T00:34:53.035007",
     "exception": false,
     "start_time": "2025-04-09T00:34:51.802470",
     "status": "completed"
    },
    "tags": []
   },
   "outputs": [],
   "source": [
    "from google import genai\n",
    "from google.genai import types\n",
    "\n",
    "from IPython.display import HTML, Markdown, display"
   ]
  },
  {
   "cell_type": "code",
   "execution_count": 5,
   "id": "e6559fad",
   "metadata": {
    "execution": {
     "iopub.execute_input": "2025-04-09T00:34:53.044734Z",
     "iopub.status.busy": "2025-04-09T00:34:53.044172Z",
     "iopub.status.idle": "2025-04-09T00:34:53.270731Z",
     "shell.execute_reply": "2025-04-09T00:34:53.269939Z"
    },
    "papermill": {
     "duration": 0.233314,
     "end_time": "2025-04-09T00:34:53.272550",
     "exception": false,
     "start_time": "2025-04-09T00:34:53.039236",
     "status": "completed"
    },
    "tags": []
   },
   "outputs": [],
   "source": [
    "from google.api_core import retry\n",
    "\n",
    "\n",
    "is_retriable = lambda e: (isinstance(e, genai.errors.APIError) and e.code in {429, 503})\n",
    "\n",
    "genai.models.Models.generate_content = retry.Retry(\n",
    "    predicate=is_retriable)(genai.models.Models.generate_content)"
   ]
  },
  {
   "cell_type": "code",
   "execution_count": 6,
   "id": "afe9b3e9",
   "metadata": {
    "execution": {
     "iopub.execute_input": "2025-04-09T00:34:53.282446Z",
     "iopub.status.busy": "2025-04-09T00:34:53.281905Z",
     "iopub.status.idle": "2025-04-09T00:34:53.358744Z",
     "shell.execute_reply": "2025-04-09T00:34:53.357935Z"
    },
    "papermill": {
     "duration": 0.083478,
     "end_time": "2025-04-09T00:34:53.360431",
     "exception": false,
     "start_time": "2025-04-09T00:34:53.276953",
     "status": "completed"
    },
    "tags": []
   },
   "outputs": [],
   "source": [
    "from kaggle_secrets import UserSecretsClient\n",
    "\n",
    "GOOGLE_API_KEY = UserSecretsClient().get_secret(\"GOOGLE_API_KEY\")"
   ]
  },
  {
   "cell_type": "code",
   "execution_count": 7,
   "id": "9021a62e",
   "metadata": {
    "execution": {
     "iopub.execute_input": "2025-04-09T00:34:53.370014Z",
     "iopub.status.busy": "2025-04-09T00:34:53.369699Z",
     "iopub.status.idle": "2025-04-09T00:34:53.717747Z",
     "shell.execute_reply": "2025-04-09T00:34:53.716871Z"
    },
    "papermill": {
     "duration": 0.354819,
     "end_time": "2025-04-09T00:34:53.719603",
     "exception": false,
     "start_time": "2025-04-09T00:34:53.364784",
     "status": "completed"
    },
    "tags": []
   },
   "outputs": [],
   "source": [
    "client = genai.Client(api_key=GOOGLE_API_KEY)"
   ]
  },
  {
   "cell_type": "code",
   "execution_count": 8,
   "id": "07e729a6",
   "metadata": {
    "execution": {
     "iopub.execute_input": "2025-04-09T00:34:53.729289Z",
     "iopub.status.busy": "2025-04-09T00:34:53.728982Z",
     "iopub.status.idle": "2025-04-09T00:34:53.735095Z",
     "shell.execute_reply": "2025-04-09T00:34:53.734290Z"
    },
    "papermill": {
     "duration": 0.012652,
     "end_time": "2025-04-09T00:34:53.736665",
     "exception": false,
     "start_time": "2025-04-09T00:34:53.724013",
     "status": "completed"
    },
    "tags": []
   },
   "outputs": [
    {
     "data": {
      "text/plain": [
       "'PatientID                                               P001\\nZipCode                                                70112\\nAge                                                       32\\nGender                                                Female\\nSymptoms     Joint pain;Runny nose;Loss of taste;Sore throat'"
      ]
     },
     "execution_count": 8,
     "metadata": {},
     "output_type": "execute_result"
    }
   ],
   "source": [
    "patient_symptom_df.iloc[0].to_string()"
   ]
  },
  {
   "cell_type": "code",
   "execution_count": 9,
   "id": "ead0b2f4",
   "metadata": {
    "execution": {
     "iopub.execute_input": "2025-04-09T00:34:53.746299Z",
     "iopub.status.busy": "2025-04-09T00:34:53.745988Z",
     "iopub.status.idle": "2025-04-09T00:34:54.560178Z",
     "shell.execute_reply": "2025-04-09T00:34:54.559112Z"
    },
    "papermill": {
     "duration": 0.820743,
     "end_time": "2025-04-09T00:34:54.561713",
     "exception": false,
     "start_time": "2025-04-09T00:34:53.740970",
     "status": "completed"
    },
    "tags": []
   },
   "outputs": [
    {
     "name": "stdout",
     "output_type": "stream",
     "text": [
      "{\n",
      "  \"zipcode\": 70112,\n",
      "  \"age\": 32,\n",
      "  \"gender\": \"Female\",\n",
      "  \"symptoms\": [\n",
      "    \"Joint pain\",\n",
      "    \"Runny nose\",\n",
      "    \"Loss of taste\",\n",
      "    \"Sore throat\"\n",
      "  ]\n",
      "}\n"
     ]
    }
   ],
   "source": [
    "import typing_extensions as typing\n",
    "\n",
    "class MedicalPatient(typing.TypedDict): \n",
    "    zipcode: int\n",
    "    age: int\n",
    "    gender: str\n",
    "    symptoms: list[str]\n",
    "\n",
    "def get_json_form(patient_symptom_entry): \n",
    "    entry_str = patient_symptom_entry.to_string()\n",
    "    json_response = client.models.generate_content(\n",
    "        model='gemini-2.0-flash', \n",
    "        config=types.GenerateContentConfig(\n",
    "            temperature=0.1, \n",
    "            response_mime_type=\"application/json\", \n",
    "            response_schema=MedicalPatient\n",
    "        ), \n",
    "        contents=entry_str\n",
    "    )\n",
    "    json_form = json_response.text\n",
    "    return json_form\n",
    "\n",
    "print(get_json_form(patient_symptom_df.iloc[0]))"
   ]
  },
  {
   "cell_type": "code",
   "execution_count": 10,
   "id": "7c3c214a",
   "metadata": {
    "execution": {
     "iopub.execute_input": "2025-04-09T00:34:54.571580Z",
     "iopub.status.busy": "2025-04-09T00:34:54.571221Z",
     "iopub.status.idle": "2025-04-09T00:34:55.862940Z",
     "shell.execute_reply": "2025-04-09T00:34:55.861852Z"
    },
    "papermill": {
     "duration": 1.298366,
     "end_time": "2025-04-09T00:34:55.864577",
     "exception": false,
     "start_time": "2025-04-09T00:34:54.566211",
     "status": "completed"
    },
    "tags": []
   },
   "outputs": [
    {
     "name": "stdout",
     "output_type": "stream",
     "text": [
      "\"32-year old female patient from zipcode 70112 currently experiencing symptoms of joint pain, runny nose, loss of taste, and sore throat.\"\n",
      "\n"
     ]
    }
   ],
   "source": [
    "def get_general_model_config(temperature, top_p, max_output_tokens): \n",
    "    return types.GenerateContentConfig(\n",
    "        temperature=temperature, \n",
    "        top_p=top_p, \n",
    "        max_output_tokens=max_output_tokens\n",
    "    )\n",
    "\n",
    "def few_shot_func(model_input, prompt, config): \n",
    "    few_shot_response = client.models.generate_content(\n",
    "        model='gemini-2.0-flash', \n",
    "        config=config,\n",
    "        contents=[prompt, model_input]\n",
    "    )\n",
    "    str_response = few_shot_response.text\n",
    "    return str_response\n",
    "\n",
    "model_config = get_general_model_config(0.1, 1, 500)\n",
    "\n",
    "few_shot_prompt = \"\"\"Parse JSON into a string request and only return output: \n",
    "\n",
    "EXAMPLE: \n",
    "{\n",
    "\"zipcode\": 78664, \n",
    "\"age\": 30, \n",
    "\"gender\": \"Female\", \n",
    "\"symptoms\": [\"Cough\", \"Fever\", \"Sore throat\"]\n",
    "}\n",
    "\"30-year old female patient from zipcode 78664 currently experiencing symptoms of cough, fever, and sore throat.\"\n",
    "\n",
    "EXAMPLE: \n",
    "{\n",
    "\"zipcode\": 77055, \n",
    "\"age\": 25, \n",
    "\"gender\": \"Non-binary\", \n",
    "\"symptoms\": [\"Joint pain\", \"Loss of smell\"]\n",
    "}\n",
    "\"25-year old non-binary patient from zipcode 77055 currently experiencing symptoms of joint pain and loss of smell.\"\n",
    "\n",
    "EXAMPLE: \n",
    "{\n",
    "\"zipcode\": 78681, \n",
    "\"age\": 15, \n",
    "\"gender\" \"Male\", \n",
    "\"symptoms\": [\"Fatigue\", \"Loss of Vision\", \"Headache\", \"Joint pain\"]\n",
    "}\n",
    "\"15-year old male patient from zipcode 78681 currently experiencing symptoms of fatigue, loss of vision, headache, and joint pain.\"\n",
    "\"\"\"\n",
    "\n",
    "print(few_shot_func(get_json_form(patient_symptom_df.iloc[0]), few_shot_prompt, model_config))"
   ]
  },
  {
   "cell_type": "code",
   "execution_count": 11,
   "id": "9a3b531f",
   "metadata": {
    "execution": {
     "iopub.execute_input": "2025-04-09T00:34:55.874733Z",
     "iopub.status.busy": "2025-04-09T00:34:55.874380Z",
     "iopub.status.idle": "2025-04-09T00:34:59.300688Z",
     "shell.execute_reply": "2025-04-09T00:34:59.299430Z"
    },
    "papermill": {
     "duration": 3.433228,
     "end_time": "2025-04-09T00:34:59.302231",
     "exception": false,
     "start_time": "2025-04-09T00:34:55.869003",
     "status": "completed"
    },
    "tags": []
   },
   "outputs": [
    {
     "name": "stdout",
     "output_type": "stream",
     "text": [
      "Here's an enhanced prompt designed to elicit a more accurate and relevant response regarding the potential diagnosis:\n",
      "\n",
      "**Enhanced Prompt:**\n",
      "\n",
      "\"Given a 32-year-old female patient residing in the 70112 zip code (New Orleans, Louisiana), presenting with the following acute symptoms: joint pain (arthralgia), rhinorrhea (runny nose), ageusia (loss of taste), and pharyngitis (sore throat), what are the most likely differential diagnoses, ranked by probability, considering the following factors:\n",
      "\n",
      "*   **Current prevalent illnesses in the New Orleans, Louisiana area (including but not limited to respiratory viruses, bacterial infections, and mosquito-borne illnesses).**\n",
      "*   **Seasonal considerations (e.g., time of year, typical viral circulation patterns).**\n",
      "*   **The patient's age and sex as risk factors for specific conditions.**\n",
      "*   **The relative likelihood of each diagnosis given the specific combination of symptoms.**\n",
      "*   **Include considerations for both common and less common, but potentially serious, conditions.**\n",
      "\n",
      "For each potential diagnosis, provide a brief explanation of why it is being considered and what further diagnostic steps (e.g., specific tests, questions to ask the patient) would be necessary to confirm or rule it out.  Prioritize diagnoses that are most likely to present with this specific symptom combination.  Exclude diagnoses that are highly unlikely given the patient's age and symptom presentation.  Present the information in a clear, concise, and organized manner.\"\n",
      "\n"
     ]
    }
   ],
   "source": [
    "def enhance_prompt(prompt_config, orig_prompt): \n",
    "    generate_prompt = 'Enhance this prompt to be as precise and return most accurate results as possible: ' + orig_prompt + \" and return enhanced prompt only\"\n",
    "    prompt_response = client.models.generate_content(\n",
    "        model='gemini-2.0-flash', \n",
    "        config=prompt_config, \n",
    "        contents=generate_prompt\n",
    "    )\n",
    "    prompt = prompt_response.text\n",
    "    return prompt\n",
    "\n",
    "prompt_config = get_general_model_config(0.1, 1, 1000)\n",
    "\n",
    "generate_prompt_prompt = few_shot_func(get_json_form(patient_symptom_df.iloc[0]), few_shot_prompt, model_config) + \"What disease are they most likely to experience now?\"\n",
    "\n",
    "print(enhance_prompt(prompt_config, generate_prompt_prompt))"
   ]
  },
  {
   "cell_type": "code",
   "execution_count": 12,
   "id": "d803fa22",
   "metadata": {
    "execution": {
     "iopub.execute_input": "2025-04-09T00:34:59.312423Z",
     "iopub.status.busy": "2025-04-09T00:34:59.312045Z",
     "iopub.status.idle": "2025-04-09T00:35:09.568971Z",
     "shell.execute_reply": "2025-04-09T00:35:09.567842Z"
    },
    "papermill": {
     "duration": 10.264097,
     "end_time": "2025-04-09T00:35:09.570916",
     "exception": false,
     "start_time": "2025-04-09T00:34:59.306819",
     "status": "completed"
    },
    "tags": []
   },
   "outputs": [
    {
     "data": {
      "text/markdown": [
       "Okay, I can help you with a differential diagnosis for this patient. I'll generate some search queries to get the most up-to-date information about prevalent illnesses and outbreaks in the 70112 zip code, as well as common conditions presenting with those symptoms.\n",
       "\n"
      ],
      "text/plain": [
       "<IPython.core.display.Markdown object>"
      ]
     },
     "execution_count": 12,
     "metadata": {},
     "output_type": "execute_result"
    }
   ],
   "source": [
    "def grounding_func(input_prompt): \n",
    "    config_with_search = types.GenerateContentConfig(\n",
    "        tools=[types.Tool(google_search=types.GoogleSearch())],\n",
    "    )\n",
    "    response = client.models.generate_content(\n",
    "        model='gemini-2.0-flash', \n",
    "        contents=input_prompt, \n",
    "        config=config_with_search,\n",
    "    )\n",
    "    rc = response.candidates[0]\n",
    "    return rc.content.parts[0].text\n",
    "\n",
    "prompt_config = get_general_model_config(0.1, 1, 1000)\n",
    "\n",
    "few_shot_result = few_shot_func(get_json_form(patient_symptom_df.iloc[0]), few_shot_prompt, model_config)\n",
    "\n",
    "generate_prompt_prompt = few_shot_result + \"What disease are they most likely to experience now?\"\n",
    "\n",
    "enhanced_prompt = enhance_prompt(prompt_config, generate_prompt_prompt)\n",
    "\n",
    "Markdown(grounding_func(enhanced_prompt))"
   ]
  },
  {
   "cell_type": "code",
   "execution_count": 13,
   "id": "7629da29",
   "metadata": {
    "execution": {
     "iopub.execute_input": "2025-04-09T00:35:09.586958Z",
     "iopub.status.busy": "2025-04-09T00:35:09.586505Z",
     "iopub.status.idle": "2025-04-09T00:35:09.592888Z",
     "shell.execute_reply": "2025-04-09T00:35:09.591922Z"
    },
    "papermill": {
     "duration": 0.015454,
     "end_time": "2025-04-09T00:35:09.594588",
     "exception": false,
     "start_time": "2025-04-09T00:35:09.579134",
     "status": "completed"
    },
    "tags": []
   },
   "outputs": [
    {
     "data": {
      "text/plain": [
       "\"\\nconfig_with_search = types.GenerateContentConfig(\\n    tools=[types.Tool(google_search=types.GoogleSearch())],\\n)\\n\\nresponse = client.models.generate_content(\\n    model='gemini-2.0-flash', \\n    contents=prompt, \\n    config=config_with_search,\\n)\\n\\nrc = response.candidates[0]\\n\\nMarkdown(rc.content.parts[0].text)\\n\""
      ]
     },
     "execution_count": 13,
     "metadata": {},
     "output_type": "execute_result"
    }
   ],
   "source": [
    "\"\"\"\n",
    "config_with_search = types.GenerateContentConfig(\n",
    "    tools=[types.Tool(google_search=types.GoogleSearch())],\n",
    ")\n",
    "\n",
    "response = client.models.generate_content(\n",
    "    model='gemini-2.0-flash', \n",
    "    contents=prompt, \n",
    "    config=config_with_search,\n",
    ")\n",
    "\n",
    "rc = response.candidates[0]\n",
    "\n",
    "Markdown(rc.content.parts[0].text)\n",
    "\"\"\""
   ]
  },
  {
   "cell_type": "code",
   "execution_count": null,
   "id": "ad16d3a2",
   "metadata": {
    "papermill": {
     "duration": 0.004278,
     "end_time": "2025-04-09T00:35:09.603787",
     "exception": false,
     "start_time": "2025-04-09T00:35:09.599509",
     "status": "completed"
    },
    "tags": []
   },
   "outputs": [],
   "source": []
  }
 ],
 "metadata": {
  "kaggle": {
   "accelerator": "none",
   "dataSources": [
    {
     "sourceId": 97258,
     "sourceType": "competition"
    },
    {
     "datasetId": 7088011,
     "sourceId": 11330888,
     "sourceType": "datasetVersion"
    }
   ],
   "dockerImageVersionId": 30918,
   "isGpuEnabled": false,
   "isInternetEnabled": true,
   "language": "python",
   "sourceType": "notebook"
  },
  "kernelspec": {
   "display_name": "Python 3",
   "language": "python",
   "name": "python3"
  },
  "language_info": {
   "codemirror_mode": {
    "name": "ipython",
    "version": 3
   },
   "file_extension": ".py",
   "mimetype": "text/x-python",
   "name": "python",
   "nbconvert_exporter": "python",
   "pygments_lexer": "ipython3",
   "version": "3.10.12"
  },
  "papermill": {
   "default_parameters": {},
   "duration": 29.997005,
   "end_time": "2025-04-09T00:35:10.328439",
   "environment_variables": {},
   "exception": null,
   "input_path": "__notebook__.ipynb",
   "output_path": "__notebook__.ipynb",
   "parameters": {},
   "start_time": "2025-04-09T00:34:40.331434",
   "version": "2.6.0"
  }
 },
 "nbformat": 4,
 "nbformat_minor": 5
}
