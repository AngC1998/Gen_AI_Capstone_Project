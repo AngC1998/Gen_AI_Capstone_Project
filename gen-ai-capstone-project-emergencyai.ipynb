{
 "cells": [
  {
   "cell_type": "markdown",
   "id": "bfd3a36e",
   "metadata": {
    "papermill": {
     "duration": 0.005787,
     "end_time": "2025-04-11T03:11:41.532147",
     "exception": false,
     "start_time": "2025-04-11T03:11:41.526360",
     "status": "completed"
    },
    "tags": []
   },
   "source": [
    "# EmergencyZIP AI"
   ]
  },
  {
   "cell_type": "code",
   "execution_count": 1,
   "id": "a796ac26",
   "metadata": {
    "_cell_guid": "b1076dfc-b9ad-4769-8c92-a6c4dae69d19",
    "_uuid": "8f2839f25d086af736a60e9eeb907d3b93b6e0e5",
    "execution": {
     "iopub.execute_input": "2025-04-11T03:11:41.542025Z",
     "iopub.status.busy": "2025-04-11T03:11:41.541482Z",
     "iopub.status.idle": "2025-04-11T03:11:42.630649Z",
     "shell.execute_reply": "2025-04-11T03:11:42.629059Z"
    },
    "papermill": {
     "duration": 1.09661,
     "end_time": "2025-04-11T03:11:42.633037",
     "exception": false,
     "start_time": "2025-04-11T03:11:41.536427",
     "status": "completed"
    },
    "tags": []
   },
   "outputs": [
    {
     "name": "stdout",
     "output_type": "stream",
     "text": [
      "/kaggle/input/patient-symptom-dataset/patient_symptom_data.csv\n"
     ]
    }
   ],
   "source": [
    "# This Python 3 environment comes with many helpful analytics libraries installed\n",
    "# It is defined by the kaggle/python Docker image: https://github.com/kaggle/docker-python\n",
    "# For example, here's several helpful packages to load\n",
    "\n",
    "import numpy as np # linear algebra\n",
    "import pandas as pd # data processing, CSV file I/O (e.g. pd.read_csv)\n",
    "\n",
    "# Input data files are available in the read-only \"../input/\" directory\n",
    "# For example, running this (by clicking run or pressing Shift+Enter) will list all files under the input directory\n",
    "\n",
    "import os\n",
    "for dirname, _, filenames in os.walk('/kaggle/input'):\n",
    "    for filename in filenames:\n",
    "        print(os.path.join(dirname, filename))\n",
    "\n",
    "# You can write up to 20GB to the current directory (/kaggle/working/) that gets preserved as output when you create a version using \"Save & Run All\" \n",
    "# You can also write temporary files to /kaggle/temp/, but they won't be saved outside of the current session"
   ]
  },
  {
   "cell_type": "code",
   "execution_count": 2,
   "id": "70103cf1",
   "metadata": {
    "execution": {
     "iopub.execute_input": "2025-04-11T03:11:42.642008Z",
     "iopub.status.busy": "2025-04-11T03:11:42.641455Z",
     "iopub.status.idle": "2025-04-11T03:11:52.159120Z",
     "shell.execute_reply": "2025-04-11T03:11:52.157650Z"
    },
    "papermill": {
     "duration": 9.524661,
     "end_time": "2025-04-11T03:11:52.161446",
     "exception": false,
     "start_time": "2025-04-11T03:11:42.636785",
     "status": "completed"
    },
    "tags": []
   },
   "outputs": [
    {
     "name": "stdout",
     "output_type": "stream",
     "text": [
      "\u001b[2K   \u001b[90m━━━━━━━━━━━━━━━━━━━━━━━━━━━━━━━━━━━━━━━━\u001b[0m \u001b[32m144.7/144.7 kB\u001b[0m \u001b[31m4.1 MB/s\u001b[0m eta \u001b[36m0:00:00\u001b[0m\r\n",
      "\u001b[2K   \u001b[90m━━━━━━━━━━━━━━━━━━━━━━━━━━━━━━━━━━━━━━━━\u001b[0m \u001b[32m100.9/100.9 kB\u001b[0m \u001b[31m4.8 MB/s\u001b[0m eta \u001b[36m0:00:00\u001b[0m\r\n",
      "\u001b[?25h"
     ]
    }
   ],
   "source": [
    "!pip uninstall -qqy jupyterlab  # Remove unused packages from Kaggle's base image that conflict\n",
    "!pip install -U -q \"google-genai==1.7.0\""
   ]
  },
  {
   "cell_type": "code",
   "execution_count": 3,
   "id": "db5a9a7c",
   "metadata": {
    "execution": {
     "iopub.execute_input": "2025-04-11T03:11:52.171366Z",
     "iopub.status.busy": "2025-04-11T03:11:52.170924Z",
     "iopub.status.idle": "2025-04-11T03:11:52.258990Z",
     "shell.execute_reply": "2025-04-11T03:11:52.257421Z"
    },
    "papermill": {
     "duration": 0.09563,
     "end_time": "2025-04-11T03:11:52.261104",
     "exception": false,
     "start_time": "2025-04-11T03:11:52.165474",
     "status": "completed"
    },
    "tags": []
   },
   "outputs": [
    {
     "data": {
      "text/html": [
       "<div>\n",
       "<style scoped>\n",
       "    .dataframe tbody tr th:only-of-type {\n",
       "        vertical-align: middle;\n",
       "    }\n",
       "\n",
       "    .dataframe tbody tr th {\n",
       "        vertical-align: top;\n",
       "    }\n",
       "\n",
       "    .dataframe thead th {\n",
       "        text-align: right;\n",
       "    }\n",
       "</style>\n",
       "<table border=\"1\" class=\"dataframe\">\n",
       "  <thead>\n",
       "    <tr style=\"text-align: right;\">\n",
       "      <th></th>\n",
       "      <th>PatientID</th>\n",
       "      <th>ZipCode</th>\n",
       "      <th>Age</th>\n",
       "      <th>Gender</th>\n",
       "      <th>Symptoms</th>\n",
       "    </tr>\n",
       "  </thead>\n",
       "  <tbody>\n",
       "    <tr>\n",
       "      <th>0</th>\n",
       "      <td>P001</td>\n",
       "      <td>70112</td>\n",
       "      <td>32</td>\n",
       "      <td>Female</td>\n",
       "      <td>Joint pain;Runny nose;Loss of taste;Sore throat</td>\n",
       "    </tr>\n",
       "    <tr>\n",
       "      <th>1</th>\n",
       "      <td>P002</td>\n",
       "      <td>15213</td>\n",
       "      <td>87</td>\n",
       "      <td>Female</td>\n",
       "      <td>Cough;Fever;Fatigue;Chest pain;Joint pain</td>\n",
       "    </tr>\n",
       "    <tr>\n",
       "      <th>2</th>\n",
       "      <td>P003</td>\n",
       "      <td>46201</td>\n",
       "      <td>21</td>\n",
       "      <td>Non-binary</td>\n",
       "      <td>Swelling;Blurred vision;Rash</td>\n",
       "    </tr>\n",
       "    <tr>\n",
       "      <th>3</th>\n",
       "      <td>P004</td>\n",
       "      <td>20001</td>\n",
       "      <td>46</td>\n",
       "      <td>Male</td>\n",
       "      <td>Chest tightness;Sneezing;Fever;Breathing diffi...</td>\n",
       "    </tr>\n",
       "    <tr>\n",
       "      <th>4</th>\n",
       "      <td>P005</td>\n",
       "      <td>96813</td>\n",
       "      <td>38</td>\n",
       "      <td>Non-binary</td>\n",
       "      <td>Vomiting;Headache;Runny nose;Chest pain;Breath...</td>\n",
       "    </tr>\n",
       "    <tr>\n",
       "      <th>...</th>\n",
       "      <td>...</td>\n",
       "      <td>...</td>\n",
       "      <td>...</td>\n",
       "      <td>...</td>\n",
       "      <td>...</td>\n",
       "    </tr>\n",
       "    <tr>\n",
       "      <th>95</th>\n",
       "      <td>P096</td>\n",
       "      <td>92101</td>\n",
       "      <td>71</td>\n",
       "      <td>Non-binary</td>\n",
       "      <td>Low-grade fever;Joint pain;Headache</td>\n",
       "    </tr>\n",
       "    <tr>\n",
       "      <th>96</th>\n",
       "      <td>P097</td>\n",
       "      <td>20001</td>\n",
       "      <td>80</td>\n",
       "      <td>Female</td>\n",
       "      <td>Vomiting;Abdominal cramps;Chest tightness;Abdo...</td>\n",
       "    </tr>\n",
       "    <tr>\n",
       "      <th>97</th>\n",
       "      <td>P098</td>\n",
       "      <td>85001</td>\n",
       "      <td>77</td>\n",
       "      <td>Female</td>\n",
       "      <td>Loss of smell;Abdominal pain</td>\n",
       "    </tr>\n",
       "    <tr>\n",
       "      <th>98</th>\n",
       "      <td>P099</td>\n",
       "      <td>84101</td>\n",
       "      <td>90</td>\n",
       "      <td>Non-binary</td>\n",
       "      <td>Fatigue;Blurred vision</td>\n",
       "    </tr>\n",
       "    <tr>\n",
       "      <th>99</th>\n",
       "      <td>P100</td>\n",
       "      <td>20001</td>\n",
       "      <td>35</td>\n",
       "      <td>Male</td>\n",
       "      <td>Cough;Headache;Abdominal pain</td>\n",
       "    </tr>\n",
       "  </tbody>\n",
       "</table>\n",
       "<p>100 rows × 5 columns</p>\n",
       "</div>"
      ],
      "text/plain": [
       "   PatientID  ZipCode  Age      Gender  \\\n",
       "0       P001    70112   32      Female   \n",
       "1       P002    15213   87      Female   \n",
       "2       P003    46201   21  Non-binary   \n",
       "3       P004    20001   46        Male   \n",
       "4       P005    96813   38  Non-binary   \n",
       "..       ...      ...  ...         ...   \n",
       "95      P096    92101   71  Non-binary   \n",
       "96      P097    20001   80      Female   \n",
       "97      P098    85001   77      Female   \n",
       "98      P099    84101   90  Non-binary   \n",
       "99      P100    20001   35        Male   \n",
       "\n",
       "                                             Symptoms  \n",
       "0     Joint pain;Runny nose;Loss of taste;Sore throat  \n",
       "1           Cough;Fever;Fatigue;Chest pain;Joint pain  \n",
       "2                        Swelling;Blurred vision;Rash  \n",
       "3   Chest tightness;Sneezing;Fever;Breathing diffi...  \n",
       "4   Vomiting;Headache;Runny nose;Chest pain;Breath...  \n",
       "..                                                ...  \n",
       "95                Low-grade fever;Joint pain;Headache  \n",
       "96  Vomiting;Abdominal cramps;Chest tightness;Abdo...  \n",
       "97                       Loss of smell;Abdominal pain  \n",
       "98                             Fatigue;Blurred vision  \n",
       "99                      Cough;Headache;Abdominal pain  \n",
       "\n",
       "[100 rows x 5 columns]"
      ]
     },
     "execution_count": 3,
     "metadata": {},
     "output_type": "execute_result"
    }
   ],
   "source": [
    "patient_symptom_df = pd.read_csv('/kaggle/input/patient-symptom-dataset/patient_symptom_data.csv')\n",
    "patient_symptom_df"
   ]
  },
  {
   "cell_type": "code",
   "execution_count": 4,
   "id": "ec355ed8",
   "metadata": {
    "execution": {
     "iopub.execute_input": "2025-04-11T03:11:52.271471Z",
     "iopub.status.busy": "2025-04-11T03:11:52.271078Z",
     "iopub.status.idle": "2025-04-11T03:11:53.695380Z",
     "shell.execute_reply": "2025-04-11T03:11:53.694165Z"
    },
    "papermill": {
     "duration": 1.432251,
     "end_time": "2025-04-11T03:11:53.697587",
     "exception": false,
     "start_time": "2025-04-11T03:11:52.265336",
     "status": "completed"
    },
    "tags": []
   },
   "outputs": [],
   "source": [
    "from google import genai\n",
    "from google.genai import types\n",
    "\n",
    "from IPython.display import HTML, Markdown, display"
   ]
  },
  {
   "cell_type": "code",
   "execution_count": 5,
   "id": "4f567f2c",
   "metadata": {
    "execution": {
     "iopub.execute_input": "2025-04-11T03:11:53.707824Z",
     "iopub.status.busy": "2025-04-11T03:11:53.707241Z",
     "iopub.status.idle": "2025-04-11T03:11:53.972185Z",
     "shell.execute_reply": "2025-04-11T03:11:53.971241Z"
    },
    "papermill": {
     "duration": 0.272549,
     "end_time": "2025-04-11T03:11:53.974250",
     "exception": false,
     "start_time": "2025-04-11T03:11:53.701701",
     "status": "completed"
    },
    "tags": []
   },
   "outputs": [],
   "source": [
    "from google.api_core import retry\n",
    "\n",
    "\n",
    "is_retriable = lambda e: (isinstance(e, genai.errors.APIError) and e.code in {429, 503})\n",
    "\n",
    "genai.models.Models.generate_content = retry.Retry(\n",
    "    predicate=is_retriable)(genai.models.Models.generate_content)"
   ]
  },
  {
   "cell_type": "code",
   "execution_count": 6,
   "id": "58ec3e75",
   "metadata": {
    "execution": {
     "iopub.execute_input": "2025-04-11T03:11:53.984116Z",
     "iopub.status.busy": "2025-04-11T03:11:53.983503Z",
     "iopub.status.idle": "2025-04-11T03:11:54.270510Z",
     "shell.execute_reply": "2025-04-11T03:11:54.269251Z"
    },
    "papermill": {
     "duration": 0.294216,
     "end_time": "2025-04-11T03:11:54.272680",
     "exception": false,
     "start_time": "2025-04-11T03:11:53.978464",
     "status": "completed"
    },
    "tags": []
   },
   "outputs": [],
   "source": [
    "from kaggle_secrets import UserSecretsClient\n",
    "\n",
    "GOOGLE_API_KEY = UserSecretsClient().get_secret(\"GOOGLE_API_KEY\")"
   ]
  },
  {
   "cell_type": "code",
   "execution_count": 7,
   "id": "ea79c0a7",
   "metadata": {
    "execution": {
     "iopub.execute_input": "2025-04-11T03:11:54.282600Z",
     "iopub.status.busy": "2025-04-11T03:11:54.282231Z",
     "iopub.status.idle": "2025-04-11T03:11:54.681579Z",
     "shell.execute_reply": "2025-04-11T03:11:54.680367Z"
    },
    "papermill": {
     "duration": 0.406502,
     "end_time": "2025-04-11T03:11:54.683635",
     "exception": false,
     "start_time": "2025-04-11T03:11:54.277133",
     "status": "completed"
    },
    "tags": []
   },
   "outputs": [],
   "source": [
    "client = genai.Client(api_key=GOOGLE_API_KEY)"
   ]
  },
  {
   "cell_type": "code",
   "execution_count": 8,
   "id": "ac72b1e7",
   "metadata": {
    "execution": {
     "iopub.execute_input": "2025-04-11T03:11:54.693350Z",
     "iopub.status.busy": "2025-04-11T03:11:54.692916Z",
     "iopub.status.idle": "2025-04-11T03:11:54.700148Z",
     "shell.execute_reply": "2025-04-11T03:11:54.698935Z"
    },
    "papermill": {
     "duration": 0.01417,
     "end_time": "2025-04-11T03:11:54.701958",
     "exception": false,
     "start_time": "2025-04-11T03:11:54.687788",
     "status": "completed"
    },
    "tags": []
   },
   "outputs": [
    {
     "data": {
      "text/plain": [
       "'PatientID                                               P001\\nZipCode                                                70112\\nAge                                                       32\\nGender                                                Female\\nSymptoms     Joint pain;Runny nose;Loss of taste;Sore throat'"
      ]
     },
     "execution_count": 8,
     "metadata": {},
     "output_type": "execute_result"
    }
   ],
   "source": [
    "patient_symptom_df.iloc[0].to_string()"
   ]
  },
  {
   "cell_type": "code",
   "execution_count": 9,
   "id": "5eb4bc17",
   "metadata": {
    "execution": {
     "iopub.execute_input": "2025-04-11T03:11:54.711804Z",
     "iopub.status.busy": "2025-04-11T03:11:54.711418Z",
     "iopub.status.idle": "2025-04-11T03:11:55.794909Z",
     "shell.execute_reply": "2025-04-11T03:11:55.793256Z"
    },
    "papermill": {
     "duration": 1.09103,
     "end_time": "2025-04-11T03:11:55.797284",
     "exception": false,
     "start_time": "2025-04-11T03:11:54.706254",
     "status": "completed"
    },
    "tags": []
   },
   "outputs": [
    {
     "name": "stdout",
     "output_type": "stream",
     "text": [
      "{\n",
      "  \"zipcode\": 70112,\n",
      "  \"age\": 32,\n",
      "  \"gender\": \"Female\",\n",
      "  \"symptoms\": [\n",
      "    \"Joint pain\",\n",
      "    \"Runny nose\",\n",
      "    \"Loss of taste\",\n",
      "    \"Sore throat\"\n",
      "  ]\n",
      "}\n"
     ]
    }
   ],
   "source": [
    "import typing_extensions as typing\n",
    "\n",
    "class MedicalPatient(typing.TypedDict): \n",
    "    zipcode: int\n",
    "    age: int\n",
    "    gender: str\n",
    "    symptoms: list[str]\n",
    "\n",
    "def get_json_form(patient_symptom_entry): \n",
    "    entry_str = patient_symptom_entry.to_string()\n",
    "    json_response = client.models.generate_content(\n",
    "        model='gemini-2.0-flash', \n",
    "        config=types.GenerateContentConfig(\n",
    "            temperature=0.1, \n",
    "            response_mime_type=\"application/json\", \n",
    "            response_schema=MedicalPatient\n",
    "        ), \n",
    "        contents=entry_str\n",
    "    )\n",
    "    json_form = json_response.text\n",
    "    return json_form\n",
    "\n",
    "patient_json_form = get_json_form(patient_symptom_df.iloc[0])\n",
    "print(patient_json_form)"
   ]
  },
  {
   "cell_type": "code",
   "execution_count": 10,
   "id": "52e71268",
   "metadata": {
    "execution": {
     "iopub.execute_input": "2025-04-11T03:11:55.807570Z",
     "iopub.status.busy": "2025-04-11T03:11:55.807176Z",
     "iopub.status.idle": "2025-04-11T03:11:56.556922Z",
     "shell.execute_reply": "2025-04-11T03:11:56.555483Z"
    },
    "papermill": {
     "duration": 0.757878,
     "end_time": "2025-04-11T03:11:56.559680",
     "exception": false,
     "start_time": "2025-04-11T03:11:55.801802",
     "status": "completed"
    },
    "tags": []
   },
   "outputs": [
    {
     "name": "stdout",
     "output_type": "stream",
     "text": [
      "\"32-year old female patient from zipcode 70112 currently experiencing symptoms of joint pain, runny nose, loss of taste, and sore throat.\"\n",
      "\n"
     ]
    }
   ],
   "source": [
    "def get_general_model_config(temperature, top_p, max_output_tokens): \n",
    "    return types.GenerateContentConfig(\n",
    "        temperature=temperature, \n",
    "        top_p=top_p, \n",
    "        max_output_tokens=max_output_tokens\n",
    "    )\n",
    "\n",
    "def few_shot_func(model_input, prompt, config): \n",
    "    few_shot_response = client.models.generate_content(\n",
    "        model='gemini-2.0-flash', \n",
    "        config=config,\n",
    "        contents=[prompt, model_input]\n",
    "    )\n",
    "    str_response = few_shot_response.text\n",
    "    return str_response\n",
    "\n",
    "model_config = get_general_model_config(0.1, 1, 500)\n",
    "\n",
    "few_shot_prompt = \"\"\"Parse JSON into a string request and only return output: \n",
    "\n",
    "EXAMPLE: \n",
    "{\n",
    "\"zipcode\": 78664, \n",
    "\"age\": 30, \n",
    "\"gender\": \"Female\", \n",
    "\"symptoms\": [\"Cough\", \"Fever\", \"Sore throat\"]\n",
    "}\n",
    "\"30-year old female patient from zipcode 78664 currently experiencing symptoms of cough, fever, and sore throat.\"\n",
    "\n",
    "EXAMPLE: \n",
    "{\n",
    "\"zipcode\": 77055, \n",
    "\"age\": 25, \n",
    "\"gender\": \"Non-binary\", \n",
    "\"symptoms\": [\"Joint pain\", \"Loss of smell\"]\n",
    "}\n",
    "\"25-year old non-binary patient from zipcode 77055 currently experiencing symptoms of joint pain and loss of smell.\"\n",
    "\n",
    "EXAMPLE: \n",
    "{\n",
    "\"zipcode\": 78681, \n",
    "\"age\": 15, \n",
    "\"gender\" \"Male\", \n",
    "\"symptoms\": [\"Fatigue\", \"Loss of Vision\", \"Headache\", \"Joint pain\"]\n",
    "}\n",
    "\"15-year old male patient from zipcode 78681 currently experiencing symptoms of fatigue, loss of vision, headache, and joint pain.\"\n",
    "\"\"\"\n",
    "\n",
    "patient_medical_request = few_shot_func(patient_json_form, few_shot_prompt, model_config)\n",
    "print(patient_medical_request)"
   ]
  },
  {
   "cell_type": "code",
   "execution_count": 11,
   "id": "9edefa03",
   "metadata": {
    "execution": {
     "iopub.execute_input": "2025-04-11T03:11:56.570298Z",
     "iopub.status.busy": "2025-04-11T03:11:56.569882Z",
     "iopub.status.idle": "2025-04-11T03:11:59.369055Z",
     "shell.execute_reply": "2025-04-11T03:11:59.367715Z"
    },
    "papermill": {
     "duration": 2.806485,
     "end_time": "2025-04-11T03:11:59.371006",
     "exception": false,
     "start_time": "2025-04-11T03:11:56.564521",
     "status": "completed"
    },
    "tags": []
   },
   "outputs": [
    {
     "data": {
      "text/markdown": [
       "Given the patient's symptoms (joint pain, runny nose, loss of taste, and sore throat), the most likely disease they are currently experiencing is a **COVID-19** infection.\n",
       "\n",
       "While other conditions like the flu or a common cold could present with some of these symptoms, the combination of loss of taste with the other symptoms makes COVID-19 the most probable diagnosis.\n"
      ],
      "text/plain": [
       "<IPython.core.display.Markdown object>"
      ]
     },
     "execution_count": 11,
     "metadata": {},
     "output_type": "execute_result"
    }
   ],
   "source": [
    "def grounding_func(input_prompt): \n",
    "    config_with_search = types.GenerateContentConfig(\n",
    "        tools=[types.Tool(google_search=types.GoogleSearch())],\n",
    "    )\n",
    "    response = client.models.generate_content(\n",
    "        model='gemini-2.0-flash', \n",
    "        contents=input_prompt, \n",
    "        config=config_with_search,\n",
    "    )\n",
    "    rc = response.candidates[0]\n",
    "    return rc.content.parts[0].text\n",
    "\n",
    "prompt = patient_medical_request + \"What disease are they most likely to experience now? Only return the singular most likely disease, please.\"\n",
    "\n",
    "prompt_result = grounding_func(prompt)\n",
    "\n",
    "Markdown(prompt_result)"
   ]
  },
  {
   "cell_type": "code",
   "execution_count": 12,
   "id": "1cfc41fb",
   "metadata": {
    "execution": {
     "iopub.execute_input": "2025-04-11T03:11:59.381760Z",
     "iopub.status.busy": "2025-04-11T03:11:59.381411Z",
     "iopub.status.idle": "2025-04-11T03:12:03.783152Z",
     "shell.execute_reply": "2025-04-11T03:12:03.781686Z"
    },
    "papermill": {
     "duration": 4.409677,
     "end_time": "2025-04-11T03:12:03.785280",
     "exception": false,
     "start_time": "2025-04-11T03:11:59.375603",
     "status": "completed"
    },
    "tags": []
   },
   "outputs": [
    {
     "data": {
      "text/markdown": [
       "Based on the search results, here are some of the nearest and well-regarded medical facilities that may be able to assist with COVID-19 treatment in the 70112 zip code area:\n",
       "\n",
       "*   **Concentra Downtown New Orleans:** Located at 318 Baronne Street, New Orleans, LA 70112. Concentra offers urgent care services, including treatment for illnesses like coughs, colds, and the flu, which can be relevant in addressing COVID-19 symptoms.\n",
       "*   **University Medical Center New Orleans:** Situated at 2000 Canal Street, New Orleans, LA 70112. As a comprehensive medical center, it provides a wide range of services, including emergency services and affiliated clinicians who can address various health concerns.\n",
       "*   **nolaHYPE:** Located at 1440 Canal St, New Orleans, LA 70112, 9th Floor (Suite 965), Tulane Tidewater Building. They offer primary care and research services.\n",
       "*   **New Orleans Health Department:** Located at 1300 Perdido St. Suite 8E18 New Orleans, LA 70112. They can provide comprehensive care through healthcare facilities, nutrition programs, and preventive services.\n",
       "\n",
       "While these facilities are in or near the specified zip code, it's advisable to check with your insurance provider and contact the facilities directly to confirm their current COVID-19 treatment protocols, availability, and specific services offered.\n"
      ],
      "text/plain": [
       "<IPython.core.display.Markdown object>"
      ]
     },
     "execution_count": 12,
     "metadata": {},
     "output_type": "execute_result"
    }
   ],
   "source": [
    "prompt = prompt_result + 'Can you get me the nearest best-rated medical facilities with their addresses that can treat the disease for zip code 70112?'\n",
    "\n",
    "Markdown(grounding_func(prompt))"
   ]
  }
 ],
 "metadata": {
  "kaggle": {
   "accelerator": "none",
   "dataSources": [
    {
     "sourceId": 97258,
     "sourceType": "competition"
    },
    {
     "datasetId": 7088011,
     "sourceId": 11330888,
     "sourceType": "datasetVersion"
    }
   ],
   "dockerImageVersionId": 30918,
   "isGpuEnabled": false,
   "isInternetEnabled": true,
   "language": "python",
   "sourceType": "notebook"
  },
  "kernelspec": {
   "display_name": "Python 3",
   "language": "python",
   "name": "python3"
  },
  "language_info": {
   "codemirror_mode": {
    "name": "ipython",
    "version": 3
   },
   "file_extension": ".py",
   "mimetype": "text/x-python",
   "name": "python",
   "nbconvert_exporter": "python",
   "pygments_lexer": "ipython3",
   "version": "3.10.12"
  },
  "papermill": {
   "default_parameters": {},
   "duration": 26.717707,
   "end_time": "2025-04-11T03:12:04.613138",
   "environment_variables": {},
   "exception": null,
   "input_path": "__notebook__.ipynb",
   "output_path": "__notebook__.ipynb",
   "parameters": {},
   "start_time": "2025-04-11T03:11:37.895431",
   "version": "2.6.0"
  }
 },
 "nbformat": 4,
 "nbformat_minor": 5
}
